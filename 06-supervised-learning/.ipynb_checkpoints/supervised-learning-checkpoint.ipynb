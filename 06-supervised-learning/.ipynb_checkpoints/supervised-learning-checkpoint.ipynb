{
 "cells": [
  {
   "cell_type": "markdown",
   "metadata": {
    "toc": true
   },
   "source": [
    "<h1>Содержание<span class=\"tocSkip\"></span></h1>\n",
    "<div class=\"toc\"><ul class=\"toc-item\"><li><span><a href=\"#Подготовка-данных\" data-toc-modified-id=\"Подготовка-данных-1\"><span class=\"toc-item-num\">1&nbsp;&nbsp;</span>Подготовка данных</a></span></li><li><span><a href=\"#Исследование-задачи\" data-toc-modified-id=\"Исследование-задачи-2\"><span class=\"toc-item-num\">2&nbsp;&nbsp;</span>Исследование задачи</a></span></li><li><span><a href=\"#Борьба-с-дисбалансом\" data-toc-modified-id=\"Борьба-с-дисбалансом-3\"><span class=\"toc-item-num\">3&nbsp;&nbsp;</span>Борьба с дисбалансом</a></span><ul class=\"toc-item\"><li><span><a href=\"#Техника-взвешивания-классов\" data-toc-modified-id=\"Техника-взвешивания-классов-3.1\"><span class=\"toc-item-num\">3.1&nbsp;&nbsp;</span>Техника взвешивания классов</a></span></li><li><span><a href=\"#Техника-увеличения-выборки-(upsampling)\" data-toc-modified-id=\"Техника-увеличения-выборки-(upsampling)-3.2\"><span class=\"toc-item-num\">3.2&nbsp;&nbsp;</span>Техника увеличения выборки (upsampling)</a></span></li></ul></li><li><span><a href=\"#Тестирование-модели\" data-toc-modified-id=\"Тестирование-модели-4\"><span class=\"toc-item-num\">4&nbsp;&nbsp;</span>Тестирование модели</a></span></li><li><span><a href=\"#Чек-лист-готовности-проекта\" data-toc-modified-id=\"Чек-лист-готовности-проекта-5\"><span class=\"toc-item-num\">5&nbsp;&nbsp;</span>Чек-лист готовности проекта</a></span></li></ul></div>"
   ]
  },
  {
   "cell_type": "markdown",
   "metadata": {},
   "source": [
    "# Отток клиентов"
   ]
  },
  {
   "cell_type": "markdown",
   "metadata": {},
   "source": [
    "Из «Бета-Банка» стали уходить клиенты. Каждый месяц. Немного, но заметно. Банковские маркетологи посчитали: сохранять текущих клиентов дешевле, чем привлекать новых.\n",
    "\n",
    "Нужно спрогнозировать, уйдёт клиент из банка в ближайшее время или нет. Вам предоставлены исторические данные о поведении клиентов и расторжении договоров с банком. \n",
    "\n",
    "Постройте модель с предельно большим значением *F1*-меры. Чтобы сдать проект успешно, нужно довести метрику до 0.59. Проверьте *F1*-меру на тестовой выборке самостоятельно.\n",
    "\n",
    "Дополнительно измеряйте *AUC-ROC*, сравнивайте её значение с *F1*-мерой.\n",
    "\n",
    "Источник данных: [https://www.kaggle.com/barelydedicated/bank-customer-churn-modeling](https://www.kaggle.com/barelydedicated/bank-customer-churn-modeling)"
   ]
  },
  {
   "cell_type": "markdown",
   "metadata": {},
   "source": [
    "# Описание данных"
   ]
  },
  {
   "cell_type": "markdown",
   "metadata": {},
   "source": [
    "**Признаки**\n",
    "- RowNumber — индекс строки в данных\n",
    "- CustomerId — уникальный идентификатор клиента\n",
    "- Surname — фамилия\n",
    "- CreditScore — кредитный рейтинг\n",
    "- Geography — страна проживания\n",
    "- Gender — пол\n",
    "- Age — возраст\n",
    "- Tenure — сколько лет человек является клиентом банка\n",
    "- Balance — баланс на счёте\n",
    "- NumOfProducts — количество продуктов банка, используемых клиентом\n",
    "- HasCrCard — наличие кредитной карты\n",
    "- IsActiveMember — активность клиента\n",
    "- EstimatedSalary — предполагаемая зарплата\n",
    "\n",
    "**Целевой признак**\n",
    "- Exited — факт ухода клиента\n"
   ]
  },
  {
   "cell_type": "markdown",
   "metadata": {},
   "source": [
    "## Подготовка данных"
   ]
  },
  {
   "cell_type": "markdown",
   "metadata": {},
   "source": [
    "Импортируем библиотеки, которые будем использовать в проекте. "
   ]
  },
  {
   "cell_type": "code",
   "execution_count": 1,
   "metadata": {},
   "outputs": [],
   "source": [
    "import pandas as pd\n",
    "import matplotlib.pyplot as plt\n",
    "from sklearn.model_selection import train_test_split\n",
    "from sklearn.preprocessing import StandardScaler\n",
    "from sklearn.linear_model import LogisticRegression\n",
    "from sklearn.metrics import f1_score, roc_auc_score   \n",
    "from sklearn.tree import DecisionTreeClassifier\n",
    "from sklearn.ensemble import RandomForestClassifier\n",
    "from sklearn.utils import shuffle"
   ]
  },
  {
   "cell_type": "markdown",
   "metadata": {},
   "source": [
    "Прочитаем файл с данными и посмотрим, что датафрейм корректно прочитался с параметрами по умолчанию. Затем посмотрим общую информацию по данным в датасете и предпросмотрим датасет. "
   ]
  },
  {
   "cell_type": "code",
   "execution_count": 2,
   "metadata": {},
   "outputs": [
    {
     "data": {
      "text/html": [
       "<div>\n",
       "<style scoped>\n",
       "    .dataframe tbody tr th:only-of-type {\n",
       "        vertical-align: middle;\n",
       "    }\n",
       "\n",
       "    .dataframe tbody tr th {\n",
       "        vertical-align: top;\n",
       "    }\n",
       "\n",
       "    .dataframe thead th {\n",
       "        text-align: right;\n",
       "    }\n",
       "</style>\n",
       "<table border=\"1\" class=\"dataframe\">\n",
       "  <thead>\n",
       "    <tr style=\"text-align: right;\">\n",
       "      <th></th>\n",
       "      <th>Unnamed: 0</th>\n",
       "      <th>RowNumber</th>\n",
       "      <th>CustomerId</th>\n",
       "      <th>Surname</th>\n",
       "      <th>CreditScore</th>\n",
       "      <th>Geography</th>\n",
       "      <th>Gender</th>\n",
       "      <th>Age</th>\n",
       "      <th>Tenure</th>\n",
       "      <th>Balance</th>\n",
       "      <th>NumOfProducts</th>\n",
       "      <th>HasCrCard</th>\n",
       "      <th>IsActiveMember</th>\n",
       "      <th>EstimatedSalary</th>\n",
       "      <th>Exited</th>\n",
       "    </tr>\n",
       "  </thead>\n",
       "  <tbody>\n",
       "    <tr>\n",
       "      <th>0</th>\n",
       "      <td>0</td>\n",
       "      <td>1</td>\n",
       "      <td>15634602</td>\n",
       "      <td>Hargrave</td>\n",
       "      <td>619</td>\n",
       "      <td>France</td>\n",
       "      <td>Female</td>\n",
       "      <td>42</td>\n",
       "      <td>2.0</td>\n",
       "      <td>0.00</td>\n",
       "      <td>1</td>\n",
       "      <td>1</td>\n",
       "      <td>1</td>\n",
       "      <td>101348.88</td>\n",
       "      <td>1</td>\n",
       "    </tr>\n",
       "    <tr>\n",
       "      <th>1</th>\n",
       "      <td>1</td>\n",
       "      <td>2</td>\n",
       "      <td>15647311</td>\n",
       "      <td>Hill</td>\n",
       "      <td>608</td>\n",
       "      <td>Spain</td>\n",
       "      <td>Female</td>\n",
       "      <td>41</td>\n",
       "      <td>1.0</td>\n",
       "      <td>83807.86</td>\n",
       "      <td>1</td>\n",
       "      <td>0</td>\n",
       "      <td>1</td>\n",
       "      <td>112542.58</td>\n",
       "      <td>0</td>\n",
       "    </tr>\n",
       "    <tr>\n",
       "      <th>2</th>\n",
       "      <td>2</td>\n",
       "      <td>3</td>\n",
       "      <td>15619304</td>\n",
       "      <td>Onio</td>\n",
       "      <td>502</td>\n",
       "      <td>France</td>\n",
       "      <td>Female</td>\n",
       "      <td>42</td>\n",
       "      <td>8.0</td>\n",
       "      <td>159660.80</td>\n",
       "      <td>3</td>\n",
       "      <td>1</td>\n",
       "      <td>0</td>\n",
       "      <td>113931.57</td>\n",
       "      <td>1</td>\n",
       "    </tr>\n",
       "    <tr>\n",
       "      <th>3</th>\n",
       "      <td>3</td>\n",
       "      <td>4</td>\n",
       "      <td>15701354</td>\n",
       "      <td>Boni</td>\n",
       "      <td>699</td>\n",
       "      <td>France</td>\n",
       "      <td>Female</td>\n",
       "      <td>39</td>\n",
       "      <td>1.0</td>\n",
       "      <td>0.00</td>\n",
       "      <td>2</td>\n",
       "      <td>0</td>\n",
       "      <td>0</td>\n",
       "      <td>93826.63</td>\n",
       "      <td>0</td>\n",
       "    </tr>\n",
       "    <tr>\n",
       "      <th>4</th>\n",
       "      <td>4</td>\n",
       "      <td>5</td>\n",
       "      <td>15737888</td>\n",
       "      <td>Mitchell</td>\n",
       "      <td>850</td>\n",
       "      <td>Spain</td>\n",
       "      <td>Female</td>\n",
       "      <td>43</td>\n",
       "      <td>2.0</td>\n",
       "      <td>125510.82</td>\n",
       "      <td>1</td>\n",
       "      <td>1</td>\n",
       "      <td>1</td>\n",
       "      <td>79084.10</td>\n",
       "      <td>0</td>\n",
       "    </tr>\n",
       "  </tbody>\n",
       "</table>\n",
       "</div>"
      ],
      "text/plain": [
       "   Unnamed: 0  RowNumber  CustomerId   Surname  CreditScore Geography  Gender  \\\n",
       "0           0          1    15634602  Hargrave          619    France  Female   \n",
       "1           1          2    15647311      Hill          608     Spain  Female   \n",
       "2           2          3    15619304      Onio          502    France  Female   \n",
       "3           3          4    15701354      Boni          699    France  Female   \n",
       "4           4          5    15737888  Mitchell          850     Spain  Female   \n",
       "\n",
       "   Age  Tenure    Balance  NumOfProducts  HasCrCard  IsActiveMember  \\\n",
       "0   42     2.0       0.00              1          1               1   \n",
       "1   41     1.0   83807.86              1          0               1   \n",
       "2   42     8.0  159660.80              3          1               0   \n",
       "3   39     1.0       0.00              2          0               0   \n",
       "4   43     2.0  125510.82              1          1               1   \n",
       "\n",
       "   EstimatedSalary  Exited  \n",
       "0        101348.88       1  \n",
       "1        112542.58       0  \n",
       "2        113931.57       1  \n",
       "3         93826.63       0  \n",
       "4         79084.10       0  "
      ]
     },
     "execution_count": 2,
     "metadata": {},
     "output_type": "execute_result"
    }
   ],
   "source": [
    "try:\n",
    "    df = pd.read_csv('Churn.csv')\n",
    "except:\n",
    "    df = pd.read_csv('datasets/Churn.csv')\n",
    "df.head()"
   ]
  },
  {
   "cell_type": "code",
   "execution_count": 3,
   "metadata": {},
   "outputs": [
    {
     "name": "stdout",
     "output_type": "stream",
     "text": [
      "<class 'pandas.core.frame.DataFrame'>\n",
      "RangeIndex: 10000 entries, 0 to 9999\n",
      "Data columns (total 15 columns):\n",
      " #   Column           Non-Null Count  Dtype  \n",
      "---  ------           --------------  -----  \n",
      " 0   Unnamed: 0       10000 non-null  int64  \n",
      " 1   RowNumber        10000 non-null  int64  \n",
      " 2   CustomerId       10000 non-null  int64  \n",
      " 3   Surname          10000 non-null  object \n",
      " 4   CreditScore      10000 non-null  int64  \n",
      " 5   Geography        10000 non-null  object \n",
      " 6   Gender           10000 non-null  object \n",
      " 7   Age              10000 non-null  int64  \n",
      " 8   Tenure           9091 non-null   float64\n",
      " 9   Balance          10000 non-null  float64\n",
      " 10  NumOfProducts    10000 non-null  int64  \n",
      " 11  HasCrCard        10000 non-null  int64  \n",
      " 12  IsActiveMember   10000 non-null  int64  \n",
      " 13  EstimatedSalary  10000 non-null  float64\n",
      " 14  Exited           10000 non-null  int64  \n",
      "dtypes: float64(3), int64(9), object(3)\n",
      "memory usage: 1.1+ MB\n"
     ]
    }
   ],
   "source": [
    "df.info()"
   ]
  },
  {
   "cell_type": "code",
   "execution_count": 4,
   "metadata": {},
   "outputs": [
    {
     "data": {
      "text/html": [
       "<div>\n",
       "<style scoped>\n",
       "    .dataframe tbody tr th:only-of-type {\n",
       "        vertical-align: middle;\n",
       "    }\n",
       "\n",
       "    .dataframe tbody tr th {\n",
       "        vertical-align: top;\n",
       "    }\n",
       "\n",
       "    .dataframe thead th {\n",
       "        text-align: right;\n",
       "    }\n",
       "</style>\n",
       "<table border=\"1\" class=\"dataframe\">\n",
       "  <thead>\n",
       "    <tr style=\"text-align: right;\">\n",
       "      <th></th>\n",
       "      <th>count</th>\n",
       "      <th>mean</th>\n",
       "      <th>std</th>\n",
       "      <th>min</th>\n",
       "      <th>25%</th>\n",
       "      <th>50%</th>\n",
       "      <th>75%</th>\n",
       "      <th>max</th>\n",
       "    </tr>\n",
       "  </thead>\n",
       "  <tbody>\n",
       "    <tr>\n",
       "      <th>Unnamed: 0</th>\n",
       "      <td>10000.0</td>\n",
       "      <td>4.999500e+03</td>\n",
       "      <td>2886.895680</td>\n",
       "      <td>0.00</td>\n",
       "      <td>2499.75</td>\n",
       "      <td>4.999500e+03</td>\n",
       "      <td>7.499250e+03</td>\n",
       "      <td>9999.00</td>\n",
       "    </tr>\n",
       "    <tr>\n",
       "      <th>RowNumber</th>\n",
       "      <td>10000.0</td>\n",
       "      <td>5.000500e+03</td>\n",
       "      <td>2886.895680</td>\n",
       "      <td>1.00</td>\n",
       "      <td>2500.75</td>\n",
       "      <td>5.000500e+03</td>\n",
       "      <td>7.500250e+03</td>\n",
       "      <td>10000.00</td>\n",
       "    </tr>\n",
       "    <tr>\n",
       "      <th>CustomerId</th>\n",
       "      <td>10000.0</td>\n",
       "      <td>1.569094e+07</td>\n",
       "      <td>71936.186123</td>\n",
       "      <td>15565701.00</td>\n",
       "      <td>15628528.25</td>\n",
       "      <td>1.569074e+07</td>\n",
       "      <td>1.575323e+07</td>\n",
       "      <td>15815690.00</td>\n",
       "    </tr>\n",
       "    <tr>\n",
       "      <th>CreditScore</th>\n",
       "      <td>10000.0</td>\n",
       "      <td>6.505288e+02</td>\n",
       "      <td>96.653299</td>\n",
       "      <td>350.00</td>\n",
       "      <td>584.00</td>\n",
       "      <td>6.520000e+02</td>\n",
       "      <td>7.180000e+02</td>\n",
       "      <td>850.00</td>\n",
       "    </tr>\n",
       "    <tr>\n",
       "      <th>Age</th>\n",
       "      <td>10000.0</td>\n",
       "      <td>3.892180e+01</td>\n",
       "      <td>10.487806</td>\n",
       "      <td>18.00</td>\n",
       "      <td>32.00</td>\n",
       "      <td>3.700000e+01</td>\n",
       "      <td>4.400000e+01</td>\n",
       "      <td>92.00</td>\n",
       "    </tr>\n",
       "    <tr>\n",
       "      <th>Tenure</th>\n",
       "      <td>9091.0</td>\n",
       "      <td>4.997690e+00</td>\n",
       "      <td>2.894723</td>\n",
       "      <td>0.00</td>\n",
       "      <td>2.00</td>\n",
       "      <td>5.000000e+00</td>\n",
       "      <td>7.000000e+00</td>\n",
       "      <td>10.00</td>\n",
       "    </tr>\n",
       "    <tr>\n",
       "      <th>Balance</th>\n",
       "      <td>10000.0</td>\n",
       "      <td>7.648589e+04</td>\n",
       "      <td>62397.405202</td>\n",
       "      <td>0.00</td>\n",
       "      <td>0.00</td>\n",
       "      <td>9.719854e+04</td>\n",
       "      <td>1.276442e+05</td>\n",
       "      <td>250898.09</td>\n",
       "    </tr>\n",
       "    <tr>\n",
       "      <th>NumOfProducts</th>\n",
       "      <td>10000.0</td>\n",
       "      <td>1.530200e+00</td>\n",
       "      <td>0.581654</td>\n",
       "      <td>1.00</td>\n",
       "      <td>1.00</td>\n",
       "      <td>1.000000e+00</td>\n",
       "      <td>2.000000e+00</td>\n",
       "      <td>4.00</td>\n",
       "    </tr>\n",
       "    <tr>\n",
       "      <th>HasCrCard</th>\n",
       "      <td>10000.0</td>\n",
       "      <td>7.055000e-01</td>\n",
       "      <td>0.455840</td>\n",
       "      <td>0.00</td>\n",
       "      <td>0.00</td>\n",
       "      <td>1.000000e+00</td>\n",
       "      <td>1.000000e+00</td>\n",
       "      <td>1.00</td>\n",
       "    </tr>\n",
       "    <tr>\n",
       "      <th>IsActiveMember</th>\n",
       "      <td>10000.0</td>\n",
       "      <td>5.151000e-01</td>\n",
       "      <td>0.499797</td>\n",
       "      <td>0.00</td>\n",
       "      <td>0.00</td>\n",
       "      <td>1.000000e+00</td>\n",
       "      <td>1.000000e+00</td>\n",
       "      <td>1.00</td>\n",
       "    </tr>\n",
       "    <tr>\n",
       "      <th>EstimatedSalary</th>\n",
       "      <td>10000.0</td>\n",
       "      <td>1.000902e+05</td>\n",
       "      <td>57510.492818</td>\n",
       "      <td>11.58</td>\n",
       "      <td>51002.11</td>\n",
       "      <td>1.001939e+05</td>\n",
       "      <td>1.493882e+05</td>\n",
       "      <td>199992.48</td>\n",
       "    </tr>\n",
       "    <tr>\n",
       "      <th>Exited</th>\n",
       "      <td>10000.0</td>\n",
       "      <td>2.037000e-01</td>\n",
       "      <td>0.402769</td>\n",
       "      <td>0.00</td>\n",
       "      <td>0.00</td>\n",
       "      <td>0.000000e+00</td>\n",
       "      <td>0.000000e+00</td>\n",
       "      <td>1.00</td>\n",
       "    </tr>\n",
       "  </tbody>\n",
       "</table>\n",
       "</div>"
      ],
      "text/plain": [
       "                   count          mean           std          min  \\\n",
       "Unnamed: 0       10000.0  4.999500e+03   2886.895680         0.00   \n",
       "RowNumber        10000.0  5.000500e+03   2886.895680         1.00   \n",
       "CustomerId       10000.0  1.569094e+07  71936.186123  15565701.00   \n",
       "CreditScore      10000.0  6.505288e+02     96.653299       350.00   \n",
       "Age              10000.0  3.892180e+01     10.487806        18.00   \n",
       "Tenure            9091.0  4.997690e+00      2.894723         0.00   \n",
       "Balance          10000.0  7.648589e+04  62397.405202         0.00   \n",
       "NumOfProducts    10000.0  1.530200e+00      0.581654         1.00   \n",
       "HasCrCard        10000.0  7.055000e-01      0.455840         0.00   \n",
       "IsActiveMember   10000.0  5.151000e-01      0.499797         0.00   \n",
       "EstimatedSalary  10000.0  1.000902e+05  57510.492818        11.58   \n",
       "Exited           10000.0  2.037000e-01      0.402769         0.00   \n",
       "\n",
       "                         25%           50%           75%          max  \n",
       "Unnamed: 0           2499.75  4.999500e+03  7.499250e+03      9999.00  \n",
       "RowNumber            2500.75  5.000500e+03  7.500250e+03     10000.00  \n",
       "CustomerId       15628528.25  1.569074e+07  1.575323e+07  15815690.00  \n",
       "CreditScore           584.00  6.520000e+02  7.180000e+02       850.00  \n",
       "Age                    32.00  3.700000e+01  4.400000e+01        92.00  \n",
       "Tenure                  2.00  5.000000e+00  7.000000e+00        10.00  \n",
       "Balance                 0.00  9.719854e+04  1.276442e+05    250898.09  \n",
       "NumOfProducts           1.00  1.000000e+00  2.000000e+00         4.00  \n",
       "HasCrCard               0.00  1.000000e+00  1.000000e+00         1.00  \n",
       "IsActiveMember          0.00  1.000000e+00  1.000000e+00         1.00  \n",
       "EstimatedSalary     51002.11  1.001939e+05  1.493882e+05    199992.48  \n",
       "Exited                  0.00  0.000000e+00  0.000000e+00         1.00  "
      ]
     },
     "execution_count": 4,
     "metadata": {},
     "output_type": "execute_result"
    }
   ],
   "source": [
    "df.describe().T"
   ]
  },
  {
   "cell_type": "markdown",
   "metadata": {},
   "source": [
    "Приведём названия колонок к стилю snake_case  "
   ]
  },
  {
   "cell_type": "code",
   "execution_count": 5,
   "metadata": {},
   "outputs": [
    {
     "data": {
      "text/html": [
       "<div>\n",
       "<style scoped>\n",
       "    .dataframe tbody tr th:only-of-type {\n",
       "        vertical-align: middle;\n",
       "    }\n",
       "\n",
       "    .dataframe tbody tr th {\n",
       "        vertical-align: top;\n",
       "    }\n",
       "\n",
       "    .dataframe thead th {\n",
       "        text-align: right;\n",
       "    }\n",
       "</style>\n",
       "<table border=\"1\" class=\"dataframe\">\n",
       "  <thead>\n",
       "    <tr style=\"text-align: right;\">\n",
       "      <th></th>\n",
       "      <th>unnamed: 0</th>\n",
       "      <th>row_number</th>\n",
       "      <th>customer_id</th>\n",
       "      <th>surname</th>\n",
       "      <th>credit_score</th>\n",
       "      <th>geography</th>\n",
       "      <th>gender</th>\n",
       "      <th>age</th>\n",
       "      <th>tenure</th>\n",
       "      <th>balance</th>\n",
       "      <th>num_of_products</th>\n",
       "      <th>has_cr_card</th>\n",
       "      <th>is_active_member</th>\n",
       "      <th>estimated_salary</th>\n",
       "      <th>exited</th>\n",
       "    </tr>\n",
       "  </thead>\n",
       "  <tbody>\n",
       "    <tr>\n",
       "      <th>0</th>\n",
       "      <td>0</td>\n",
       "      <td>1</td>\n",
       "      <td>15634602</td>\n",
       "      <td>Hargrave</td>\n",
       "      <td>619</td>\n",
       "      <td>France</td>\n",
       "      <td>Female</td>\n",
       "      <td>42</td>\n",
       "      <td>2.0</td>\n",
       "      <td>0.00</td>\n",
       "      <td>1</td>\n",
       "      <td>1</td>\n",
       "      <td>1</td>\n",
       "      <td>101348.88</td>\n",
       "      <td>1</td>\n",
       "    </tr>\n",
       "    <tr>\n",
       "      <th>1</th>\n",
       "      <td>1</td>\n",
       "      <td>2</td>\n",
       "      <td>15647311</td>\n",
       "      <td>Hill</td>\n",
       "      <td>608</td>\n",
       "      <td>Spain</td>\n",
       "      <td>Female</td>\n",
       "      <td>41</td>\n",
       "      <td>1.0</td>\n",
       "      <td>83807.86</td>\n",
       "      <td>1</td>\n",
       "      <td>0</td>\n",
       "      <td>1</td>\n",
       "      <td>112542.58</td>\n",
       "      <td>0</td>\n",
       "    </tr>\n",
       "    <tr>\n",
       "      <th>2</th>\n",
       "      <td>2</td>\n",
       "      <td>3</td>\n",
       "      <td>15619304</td>\n",
       "      <td>Onio</td>\n",
       "      <td>502</td>\n",
       "      <td>France</td>\n",
       "      <td>Female</td>\n",
       "      <td>42</td>\n",
       "      <td>8.0</td>\n",
       "      <td>159660.80</td>\n",
       "      <td>3</td>\n",
       "      <td>1</td>\n",
       "      <td>0</td>\n",
       "      <td>113931.57</td>\n",
       "      <td>1</td>\n",
       "    </tr>\n",
       "  </tbody>\n",
       "</table>\n",
       "</div>"
      ],
      "text/plain": [
       "   unnamed: 0  row_number  customer_id   surname  credit_score geography  \\\n",
       "0           0           1     15634602  Hargrave           619    France   \n",
       "1           1           2     15647311      Hill           608     Spain   \n",
       "2           2           3     15619304      Onio           502    France   \n",
       "\n",
       "   gender  age  tenure    balance  num_of_products  has_cr_card  \\\n",
       "0  Female   42     2.0       0.00                1            1   \n",
       "1  Female   41     1.0   83807.86                1            0   \n",
       "2  Female   42     8.0  159660.80                3            1   \n",
       "\n",
       "   is_active_member  estimated_salary  exited  \n",
       "0                 1         101348.88       1  \n",
       "1                 1         112542.58       0  \n",
       "2                 0         113931.57       1  "
      ]
     },
     "execution_count": 5,
     "metadata": {},
     "output_type": "execute_result"
    }
   ],
   "source": [
    "df = df.rename(columns=lambda x: ''.join(['_' + i.lower() if i.isupper() else i for i in x]).lstrip('_'))\n",
    "df.head(3)"
   ]
  },
  {
   "cell_type": "markdown",
   "metadata": {},
   "source": [
    "Теперь необходимо заполнить пропуски в столбце `tenure` (сколько лет человек является клиентом банка). Посмотрим на распределение данных в столбце. "
   ]
  },
  {
   "cell_type": "code",
   "execution_count": 6,
   "metadata": {
    "scrolled": true
   },
   "outputs": [
    {
     "data": {
      "image/png": "[encoded data removed]",
      "text/plain": [
       "<Figure size 288x288 with 1 Axes>"
      ]
     },
     "metadata": {
      "needs_background": "light"
     },
     "output_type": "display_data"
    }
   ],
   "source": [
    "df['tenure'].hist(bins=11, figsize=(4, 4))\n",
    "plt.title('Сколько лет человек является клиентом банка')\n",
    "plt.xlabel('Количество лет')\n",
    "plt.ylabel('Количество пользователей')\n",
    "pass"
   ]
  },
  {
   "cell_type": "markdown",
   "metadata": {},
   "source": [
    "Выше мы уже выяснили, что медиана и среднее этого стобца составляет примерно 5 лет. Учитывая распределение, которое мы видим на графике, полагаю допустимым заменить пропуски медианным значением и сохранить эти данные. "
   ]
  },
  {
   "cell_type": "code",
   "execution_count": 7,
   "metadata": {},
   "outputs": [
    {
     "data": {
      "text/plain": [
       "unnamed: 0          0\n",
       "row_number          0\n",
       "customer_id         0\n",
       "surname             0\n",
       "credit_score        0\n",
       "geography           0\n",
       "gender              0\n",
       "age                 0\n",
       "tenure              0\n",
       "balance             0\n",
       "num_of_products     0\n",
       "has_cr_card         0\n",
       "is_active_member    0\n",
       "estimated_salary    0\n",
       "exited              0\n",
       "dtype: int64"
      ]
     },
     "execution_count": 7,
     "metadata": {},
     "output_type": "execute_result"
    }
   ],
   "source": [
    "df['tenure'] = df['tenure'].fillna(value=df['tenure'].median())\n",
    "df.isna().sum()"
   ]
  },
  {
   "cell_type": "markdown",
   "metadata": {},
   "source": [
    "Отлично, пропусков больше нигде нет. Проверим данные на полные дубликаты. "
   ]
  },
  {
   "cell_type": "code",
   "execution_count": 8,
   "metadata": {},
   "outputs": [
    {
     "data": {
      "text/plain": [
       "0"
      ]
     },
     "execution_count": 8,
     "metadata": {},
     "output_type": "execute_result"
    }
   ],
   "source": [
    "df.duplicated().sum()"
   ]
  },
  {
   "cell_type": "markdown",
   "metadata": {},
   "source": [
    "Удалим столбец с индексом строки, так как значения в нем совпадают с индексом датафрейма. Также удалим столбцы с фамилией и id пользователя – они никак не помогут нам при построении модели (по условию одна строка – это один клиент, на дубликаты мы проверили, при анализе будет достаточно индекса датафрейма)."
   ]
  },
  {
   "cell_type": "code",
   "execution_count": 9,
   "metadata": {
    "scrolled": true
   },
   "outputs": [
    {
     "data": {
      "text/html": [
       "<div>\n",
       "<style scoped>\n",
       "    .dataframe tbody tr th:only-of-type {\n",
       "        vertical-align: middle;\n",
       "    }\n",
       "\n",
       "    .dataframe tbody tr th {\n",
       "        vertical-align: top;\n",
       "    }\n",
       "\n",
       "    .dataframe thead th {\n",
       "        text-align: right;\n",
       "    }\n",
       "</style>\n",
       "<table border=\"1\" class=\"dataframe\">\n",
       "  <thead>\n",
       "    <tr style=\"text-align: right;\">\n",
       "      <th></th>\n",
       "      <th>unnamed: 0</th>\n",
       "      <th>credit_score</th>\n",
       "      <th>geography</th>\n",
       "      <th>gender</th>\n",
       "      <th>age</th>\n",
       "      <th>tenure</th>\n",
       "      <th>balance</th>\n",
       "      <th>num_of_products</th>\n",
       "      <th>has_cr_card</th>\n",
       "      <th>is_active_member</th>\n",
       "      <th>estimated_salary</th>\n",
       "      <th>exited</th>\n",
       "    </tr>\n",
       "  </thead>\n",
       "  <tbody>\n",
       "    <tr>\n",
       "      <th>0</th>\n",
       "      <td>0</td>\n",
       "      <td>619</td>\n",
       "      <td>France</td>\n",
       "      <td>Female</td>\n",
       "      <td>42</td>\n",
       "      <td>2.0</td>\n",
       "      <td>0.00</td>\n",
       "      <td>1</td>\n",
       "      <td>1</td>\n",
       "      <td>1</td>\n",
       "      <td>101348.88</td>\n",
       "      <td>1</td>\n",
       "    </tr>\n",
       "    <tr>\n",
       "      <th>1</th>\n",
       "      <td>1</td>\n",
       "      <td>608</td>\n",
       "      <td>Spain</td>\n",
       "      <td>Female</td>\n",
       "      <td>41</td>\n",
       "      <td>1.0</td>\n",
       "      <td>83807.86</td>\n",
       "      <td>1</td>\n",
       "      <td>0</td>\n",
       "      <td>1</td>\n",
       "      <td>112542.58</td>\n",
       "      <td>0</td>\n",
       "    </tr>\n",
       "    <tr>\n",
       "      <th>2</th>\n",
       "      <td>2</td>\n",
       "      <td>502</td>\n",
       "      <td>France</td>\n",
       "      <td>Female</td>\n",
       "      <td>42</td>\n",
       "      <td>8.0</td>\n",
       "      <td>159660.80</td>\n",
       "      <td>3</td>\n",
       "      <td>1</td>\n",
       "      <td>0</td>\n",
       "      <td>113931.57</td>\n",
       "      <td>1</td>\n",
       "    </tr>\n",
       "    <tr>\n",
       "      <th>3</th>\n",
       "      <td>3</td>\n",
       "      <td>699</td>\n",
       "      <td>France</td>\n",
       "      <td>Female</td>\n",
       "      <td>39</td>\n",
       "      <td>1.0</td>\n",
       "      <td>0.00</td>\n",
       "      <td>2</td>\n",
       "      <td>0</td>\n",
       "      <td>0</td>\n",
       "      <td>93826.63</td>\n",
       "      <td>0</td>\n",
       "    </tr>\n",
       "    <tr>\n",
       "      <th>4</th>\n",
       "      <td>4</td>\n",
       "      <td>850</td>\n",
       "      <td>Spain</td>\n",
       "      <td>Female</td>\n",
       "      <td>43</td>\n",
       "      <td>2.0</td>\n",
       "      <td>125510.82</td>\n",
       "      <td>1</td>\n",
       "      <td>1</td>\n",
       "      <td>1</td>\n",
       "      <td>79084.10</td>\n",
       "      <td>0</td>\n",
       "    </tr>\n",
       "  </tbody>\n",
       "</table>\n",
       "</div>"
      ],
      "text/plain": [
       "   unnamed: 0  credit_score geography  gender  age  tenure    balance  \\\n",
       "0           0           619    France  Female   42     2.0       0.00   \n",
       "1           1           608     Spain  Female   41     1.0   83807.86   \n",
       "2           2           502    France  Female   42     8.0  159660.80   \n",
       "3           3           699    France  Female   39     1.0       0.00   \n",
       "4           4           850     Spain  Female   43     2.0  125510.82   \n",
       "\n",
       "   num_of_products  has_cr_card  is_active_member  estimated_salary  exited  \n",
       "0                1            1                 1         101348.88       1  \n",
       "1                1            0                 1         112542.58       0  \n",
       "2                3            1                 0         113931.57       1  \n",
       "3                2            0                 0          93826.63       0  \n",
       "4                1            1                 1          79084.10       0  "
      ]
     },
     "execution_count": 9,
     "metadata": {},
     "output_type": "execute_result"
    }
   ],
   "source": [
    "df.drop(['row_number', 'customer_id', 'surname'], axis=1, inplace=True)\n",
    "df.head(5)"
   ]
  },
  {
   "cell_type": "markdown",
   "metadata": {},
   "source": [
    "Приведём столбец с гендером к числовому формату, чтобы возможно было его использовать для построения модели в дальнейшем. Посмотрим сколько гендеров в предоставленных данных. "
   ]
  },
  {
   "cell_type": "code",
   "execution_count": 10,
   "metadata": {
    "scrolled": true
   },
   "outputs": [
    {
     "data": {
      "text/plain": [
       "Male      5457\n",
       "Female    4543\n",
       "Name: gender, dtype: int64"
      ]
     },
     "execution_count": 10,
     "metadata": {},
     "output_type": "execute_result"
    }
   ],
   "source": [
    "df['gender'].value_counts()"
   ]
  },
  {
   "cell_type": "markdown",
   "metadata": {},
   "source": [
    "В датасете есть только мужчины и женщины. Других гендеров и пропусков в данных нет. В таком случае переименуем столбец в `is_male` и для мужчин поставим единичку, а женщины станут ноликами. "
   ]
  },
  {
   "cell_type": "code",
   "execution_count": 11,
   "metadata": {},
   "outputs": [
    {
     "data": {
      "text/html": [
       "<div>\n",
       "<style scoped>\n",
       "    .dataframe tbody tr th:only-of-type {\n",
       "        vertical-align: middle;\n",
       "    }\n",
       "\n",
       "    .dataframe tbody tr th {\n",
       "        vertical-align: top;\n",
       "    }\n",
       "\n",
       "    .dataframe thead th {\n",
       "        text-align: right;\n",
       "    }\n",
       "</style>\n",
       "<table border=\"1\" class=\"dataframe\">\n",
       "  <thead>\n",
       "    <tr style=\"text-align: right;\">\n",
       "      <th></th>\n",
       "      <th>unnamed: 0</th>\n",
       "      <th>credit_score</th>\n",
       "      <th>geography</th>\n",
       "      <th>age</th>\n",
       "      <th>tenure</th>\n",
       "      <th>balance</th>\n",
       "      <th>num_of_products</th>\n",
       "      <th>has_cr_card</th>\n",
       "      <th>is_active_member</th>\n",
       "      <th>estimated_salary</th>\n",
       "      <th>exited</th>\n",
       "      <th>gender_Male</th>\n",
       "    </tr>\n",
       "  </thead>\n",
       "  <tbody>\n",
       "    <tr>\n",
       "      <th>0</th>\n",
       "      <td>0</td>\n",
       "      <td>619</td>\n",
       "      <td>France</td>\n",
       "      <td>42</td>\n",
       "      <td>2.0</td>\n",
       "      <td>0.00</td>\n",
       "      <td>1</td>\n",
       "      <td>1</td>\n",
       "      <td>1</td>\n",
       "      <td>101348.88</td>\n",
       "      <td>1</td>\n",
       "      <td>0</td>\n",
       "    </tr>\n",
       "    <tr>\n",
       "      <th>1</th>\n",
       "      <td>1</td>\n",
       "      <td>608</td>\n",
       "      <td>Spain</td>\n",
       "      <td>41</td>\n",
       "      <td>1.0</td>\n",
       "      <td>83807.86</td>\n",
       "      <td>1</td>\n",
       "      <td>0</td>\n",
       "      <td>1</td>\n",
       "      <td>112542.58</td>\n",
       "      <td>0</td>\n",
       "      <td>0</td>\n",
       "    </tr>\n",
       "    <tr>\n",
       "      <th>2</th>\n",
       "      <td>2</td>\n",
       "      <td>502</td>\n",
       "      <td>France</td>\n",
       "      <td>42</td>\n",
       "      <td>8.0</td>\n",
       "      <td>159660.80</td>\n",
       "      <td>3</td>\n",
       "      <td>1</td>\n",
       "      <td>0</td>\n",
       "      <td>113931.57</td>\n",
       "      <td>1</td>\n",
       "      <td>0</td>\n",
       "    </tr>\n",
       "  </tbody>\n",
       "</table>\n",
       "</div>"
      ],
      "text/plain": [
       "   unnamed: 0  credit_score geography  age  tenure    balance  \\\n",
       "0           0           619    France   42     2.0       0.00   \n",
       "1           1           608     Spain   41     1.0   83807.86   \n",
       "2           2           502    France   42     8.0  159660.80   \n",
       "\n",
       "   num_of_products  has_cr_card  is_active_member  estimated_salary  exited  \\\n",
       "0                1            1                 1         101348.88       1   \n",
       "1                1            0                 1         112542.58       0   \n",
       "2                3            1                 0         113931.57       1   \n",
       "\n",
       "   gender_Male  \n",
       "0            0  \n",
       "1            0  \n",
       "2            0  "
      ]
     },
     "execution_count": 11,
     "metadata": {},
     "output_type": "execute_result"
    }
   ],
   "source": [
    "df = pd.get_dummies(df, columns=['gender'], drop_first=True)\n",
    "df.head(3)"
   ]
  },
  {
   "cell_type": "code",
   "execution_count": 12,
   "metadata": {},
   "outputs": [
    {
     "data": {
      "text/html": [
       "<div>\n",
       "<style scoped>\n",
       "    .dataframe tbody tr th:only-of-type {\n",
       "        vertical-align: middle;\n",
       "    }\n",
       "\n",
       "    .dataframe tbody tr th {\n",
       "        vertical-align: top;\n",
       "    }\n",
       "\n",
       "    .dataframe thead th {\n",
       "        text-align: right;\n",
       "    }\n",
       "</style>\n",
       "<table border=\"1\" class=\"dataframe\">\n",
       "  <thead>\n",
       "    <tr style=\"text-align: right;\">\n",
       "      <th></th>\n",
       "      <th>unnamed: 0</th>\n",
       "      <th>credit_score</th>\n",
       "      <th>geography</th>\n",
       "      <th>age</th>\n",
       "      <th>tenure</th>\n",
       "      <th>balance</th>\n",
       "      <th>num_of_products</th>\n",
       "      <th>has_cr_card</th>\n",
       "      <th>is_active_member</th>\n",
       "      <th>estimated_salary</th>\n",
       "      <th>exited</th>\n",
       "      <th>is_male</th>\n",
       "    </tr>\n",
       "  </thead>\n",
       "  <tbody>\n",
       "    <tr>\n",
       "      <th>0</th>\n",
       "      <td>0</td>\n",
       "      <td>619</td>\n",
       "      <td>France</td>\n",
       "      <td>42</td>\n",
       "      <td>2.0</td>\n",
       "      <td>0.00</td>\n",
       "      <td>1</td>\n",
       "      <td>1</td>\n",
       "      <td>1</td>\n",
       "      <td>101348.88</td>\n",
       "      <td>1</td>\n",
       "      <td>0</td>\n",
       "    </tr>\n",
       "    <tr>\n",
       "      <th>1</th>\n",
       "      <td>1</td>\n",
       "      <td>608</td>\n",
       "      <td>Spain</td>\n",
       "      <td>41</td>\n",
       "      <td>1.0</td>\n",
       "      <td>83807.86</td>\n",
       "      <td>1</td>\n",
       "      <td>0</td>\n",
       "      <td>1</td>\n",
       "      <td>112542.58</td>\n",
       "      <td>0</td>\n",
       "      <td>0</td>\n",
       "    </tr>\n",
       "    <tr>\n",
       "      <th>2</th>\n",
       "      <td>2</td>\n",
       "      <td>502</td>\n",
       "      <td>France</td>\n",
       "      <td>42</td>\n",
       "      <td>8.0</td>\n",
       "      <td>159660.80</td>\n",
       "      <td>3</td>\n",
       "      <td>1</td>\n",
       "      <td>0</td>\n",
       "      <td>113931.57</td>\n",
       "      <td>1</td>\n",
       "      <td>0</td>\n",
       "    </tr>\n",
       "  </tbody>\n",
       "</table>\n",
       "</div>"
      ],
      "text/plain": [
       "   unnamed: 0  credit_score geography  age  tenure    balance  \\\n",
       "0           0           619    France   42     2.0       0.00   \n",
       "1           1           608     Spain   41     1.0   83807.86   \n",
       "2           2           502    France   42     8.0  159660.80   \n",
       "\n",
       "   num_of_products  has_cr_card  is_active_member  estimated_salary  exited  \\\n",
       "0                1            1                 1         101348.88       1   \n",
       "1                1            0                 1         112542.58       0   \n",
       "2                3            1                 0         113931.57       1   \n",
       "\n",
       "   is_male  \n",
       "0        0  \n",
       "1        0  \n",
       "2        0  "
      ]
     },
     "execution_count": 12,
     "metadata": {},
     "output_type": "execute_result"
    }
   ],
   "source": [
    "df = df.rename(columns={'gender_Male': 'is_male'})\n",
    "df.head(3)"
   ]
  },
  {
   "cell_type": "markdown",
   "metadata": {},
   "source": [
    "Проверим много ли значений среди стран проживания клиентов. "
   ]
  },
  {
   "cell_type": "code",
   "execution_count": 13,
   "metadata": {},
   "outputs": [
    {
     "data": {
      "text/plain": [
       "France     5014\n",
       "Germany    2509\n",
       "Spain      2477\n",
       "Name: geography, dtype: int64"
      ]
     },
     "execution_count": 13,
     "metadata": {},
     "output_type": "execute_result"
    }
   ],
   "source": [
    "df['geography'].value_counts()"
   ]
  },
  {
   "cell_type": "markdown",
   "metadata": {},
   "source": [
    "Всего три страны. Эти данные можно закодировать тем же способом, чтобы они могли быть учтены при анализе (возможно, в разных странах разный подход к банкам или законодательноп проще открыть счёт/сменить банк). "
   ]
  },
  {
   "cell_type": "code",
   "execution_count": 14,
   "metadata": {},
   "outputs": [
    {
     "data": {
      "text/html": [
       "<div>\n",
       "<style scoped>\n",
       "    .dataframe tbody tr th:only-of-type {\n",
       "        vertical-align: middle;\n",
       "    }\n",
       "\n",
       "    .dataframe tbody tr th {\n",
       "        vertical-align: top;\n",
       "    }\n",
       "\n",
       "    .dataframe thead th {\n",
       "        text-align: right;\n",
       "    }\n",
       "</style>\n",
       "<table border=\"1\" class=\"dataframe\">\n",
       "  <thead>\n",
       "    <tr style=\"text-align: right;\">\n",
       "      <th></th>\n",
       "      <th>unnamed: 0</th>\n",
       "      <th>credit_score</th>\n",
       "      <th>age</th>\n",
       "      <th>tenure</th>\n",
       "      <th>balance</th>\n",
       "      <th>num_of_products</th>\n",
       "      <th>has_cr_card</th>\n",
       "      <th>is_active_member</th>\n",
       "      <th>estimated_salary</th>\n",
       "      <th>exited</th>\n",
       "      <th>is_male</th>\n",
       "      <th>from_germany</th>\n",
       "      <th>from_spain</th>\n",
       "    </tr>\n",
       "  </thead>\n",
       "  <tbody>\n",
       "    <tr>\n",
       "      <th>0</th>\n",
       "      <td>0</td>\n",
       "      <td>619</td>\n",
       "      <td>42</td>\n",
       "      <td>2.0</td>\n",
       "      <td>0.00</td>\n",
       "      <td>1</td>\n",
       "      <td>1</td>\n",
       "      <td>1</td>\n",
       "      <td>101348.88</td>\n",
       "      <td>1</td>\n",
       "      <td>0</td>\n",
       "      <td>0</td>\n",
       "      <td>0</td>\n",
       "    </tr>\n",
       "    <tr>\n",
       "      <th>1</th>\n",
       "      <td>1</td>\n",
       "      <td>608</td>\n",
       "      <td>41</td>\n",
       "      <td>1.0</td>\n",
       "      <td>83807.86</td>\n",
       "      <td>1</td>\n",
       "      <td>0</td>\n",
       "      <td>1</td>\n",
       "      <td>112542.58</td>\n",
       "      <td>0</td>\n",
       "      <td>0</td>\n",
       "      <td>0</td>\n",
       "      <td>1</td>\n",
       "    </tr>\n",
       "    <tr>\n",
       "      <th>2</th>\n",
       "      <td>2</td>\n",
       "      <td>502</td>\n",
       "      <td>42</td>\n",
       "      <td>8.0</td>\n",
       "      <td>159660.80</td>\n",
       "      <td>3</td>\n",
       "      <td>1</td>\n",
       "      <td>0</td>\n",
       "      <td>113931.57</td>\n",
       "      <td>1</td>\n",
       "      <td>0</td>\n",
       "      <td>0</td>\n",
       "      <td>0</td>\n",
       "    </tr>\n",
       "  </tbody>\n",
       "</table>\n",
       "</div>"
      ],
      "text/plain": [
       "   unnamed: 0  credit_score  age  tenure    balance  num_of_products  \\\n",
       "0           0           619   42     2.0       0.00                1   \n",
       "1           1           608   41     1.0   83807.86                1   \n",
       "2           2           502   42     8.0  159660.80                3   \n",
       "\n",
       "   has_cr_card  is_active_member  estimated_salary  exited  is_male  \\\n",
       "0            1                 1         101348.88       1        0   \n",
       "1            0                 1         112542.58       0        0   \n",
       "2            1                 0         113931.57       1        0   \n",
       "\n",
       "   from_germany  from_spain  \n",
       "0             0           0  \n",
       "1             0           1  \n",
       "2             0           0  "
      ]
     },
     "execution_count": 14,
     "metadata": {},
     "output_type": "execute_result"
    }
   ],
   "source": [
    "df = pd.get_dummies(df, columns=['geography'], drop_first= True)\n",
    "df = df.rename(columns={'geography_France': 'from_france', 'geography_Germany': 'from_germany', 'geography_Spain': 'from_spain',})\n",
    "df.head(3)"
   ]
  },
  {
   "cell_type": "markdown",
   "metadata": {},
   "source": [
    "Теперь посмотрим в общем на числовые данные, чтобы понимать, с чем дальше работать, и нет ли в данных каких-либо аномалий. "
   ]
  },
  {
   "cell_type": "code",
   "execution_count": 15,
   "metadata": {
    "scrolled": true
   },
   "outputs": [
    {
     "data": {
      "image/png": "[encoded data removed]",
      "text/plain": [
       "<Figure size 720x720 with 16 Axes>"
      ]
     },
     "metadata": {
      "needs_background": "light"
     },
     "output_type": "display_data"
    }
   ],
   "source": [
    "df.hist(figsize=(10,10));"
   ]
  },
  {
   "cell_type": "markdown",
   "metadata": {},
   "source": [
    "**Промежуточный вывод:**\n",
    "\n",
    "Данные предобработаны и в целом выглядят нормально. Не было и нет дубликатов, выбросов данных, а пропуски в столбце `tenure` заполнены медианой. \n",
    "Что касается целевого признака, то примерно 20% клиентов в выборке покинули банк. Дисбаланс целевого признака 4 к 1."
   ]
  },
  {
   "cell_type": "markdown",
   "metadata": {},
   "source": [
    "## Исследование задачи"
   ]
  },
  {
   "cell_type": "markdown",
   "metadata": {},
   "source": [
    "Для начала попробуем не учитывать дисбаланс классов и построить модели как есть. Разделим данные на датафрейм с фичами и выделим столбец с целевым признаком. "
   ]
  },
  {
   "cell_type": "code",
   "execution_count": 16,
   "metadata": {},
   "outputs": [],
   "source": [
    "features = df.drop(['exited'], axis=1)\n",
    "target = df['exited']"
   ]
  },
  {
   "cell_type": "markdown",
   "metadata": {},
   "source": [
    "Разделим данные на тренировочную, валидационную и тестовую выборки в соотношении 60% / 20% /20%. "
   ]
  },
  {
   "cell_type": "code",
   "execution_count": 17,
   "metadata": {},
   "outputs": [],
   "source": [
    "features_train, features_valid, target_train, target_valid = train_test_split(features, target, test_size=0.2, random_state=12345)"
   ]
  },
  {
   "cell_type": "code",
   "execution_count": 18,
   "metadata": {},
   "outputs": [],
   "source": [
    "features_train, features_test, target_train, target_test = train_test_split(features_train, target_train, test_size=0.25, random_state=12345)"
   ]
  },
  {
   "cell_type": "markdown",
   "metadata": {},
   "source": [
    "Проверим, что разделение прошло корректно. Из датасета размером 10000 должны получиться датасеты с 6000, 2000 и 2000 строк."
   ]
  },
  {
   "cell_type": "code",
   "execution_count": 19,
   "metadata": {},
   "outputs": [
    {
     "name": "stdout",
     "output_type": "stream",
     "text": [
      "(10000, 12)\n",
      "(6000, 12)\n",
      "(2000, 12)\n",
      "(2000, 12)\n",
      "(10000,)\n",
      "(6000,)\n",
      "(2000,)\n",
      "(2000,)\n"
     ]
    }
   ],
   "source": [
    "for i in (features, features_train, features_test, features_valid, \n",
    "          target, target_train, target_test, target_valid):\n",
    "    print(i.shape)"
   ]
  },
  {
   "cell_type": "code",
   "execution_count": 20,
   "metadata": {},
   "outputs": [
    {
     "data": {
      "text/html": [
       "<div>\n",
       "<style scoped>\n",
       "    .dataframe tbody tr th:only-of-type {\n",
       "        vertical-align: middle;\n",
       "    }\n",
       "\n",
       "    .dataframe tbody tr th {\n",
       "        vertical-align: top;\n",
       "    }\n",
       "\n",
       "    .dataframe thead th {\n",
       "        text-align: right;\n",
       "    }\n",
       "</style>\n",
       "<table border=\"1\" class=\"dataframe\">\n",
       "  <thead>\n",
       "    <tr style=\"text-align: right;\">\n",
       "      <th></th>\n",
       "      <th>unnamed: 0</th>\n",
       "      <th>credit_score</th>\n",
       "      <th>age</th>\n",
       "      <th>tenure</th>\n",
       "      <th>balance</th>\n",
       "      <th>num_of_products</th>\n",
       "      <th>has_cr_card</th>\n",
       "      <th>is_active_member</th>\n",
       "      <th>estimated_salary</th>\n",
       "      <th>is_male</th>\n",
       "      <th>from_germany</th>\n",
       "      <th>from_spain</th>\n",
       "    </tr>\n",
       "  </thead>\n",
       "  <tbody>\n",
       "    <tr>\n",
       "      <th>492</th>\n",
       "      <td>492</td>\n",
       "      <td>639</td>\n",
       "      <td>38</td>\n",
       "      <td>4.0</td>\n",
       "      <td>81550.94</td>\n",
       "      <td>2</td>\n",
       "      <td>0</td>\n",
       "      <td>1</td>\n",
       "      <td>118974.77</td>\n",
       "      <td>0</td>\n",
       "      <td>0</td>\n",
       "      <td>0</td>\n",
       "    </tr>\n",
       "    <tr>\n",
       "      <th>6655</th>\n",
       "      <td>6655</td>\n",
       "      <td>554</td>\n",
       "      <td>44</td>\n",
       "      <td>5.0</td>\n",
       "      <td>85304.27</td>\n",
       "      <td>1</td>\n",
       "      <td>1</td>\n",
       "      <td>1</td>\n",
       "      <td>58076.52</td>\n",
       "      <td>1</td>\n",
       "      <td>0</td>\n",
       "      <td>0</td>\n",
       "    </tr>\n",
       "  </tbody>\n",
       "</table>\n",
       "</div>"
      ],
      "text/plain": [
       "      unnamed: 0  credit_score  age  tenure   balance  num_of_products  \\\n",
       "492          492           639   38     4.0  81550.94                2   \n",
       "6655        6655           554   44     5.0  85304.27                1   \n",
       "\n",
       "      has_cr_card  is_active_member  estimated_salary  is_male  from_germany  \\\n",
       "492             0                 1         118974.77        0             0   \n",
       "6655            1                 1          58076.52        1             0   \n",
       "\n",
       "      from_spain  \n",
       "492            0  \n",
       "6655           0  "
      ]
     },
     "execution_count": 20,
     "metadata": {},
     "output_type": "execute_result"
    }
   ],
   "source": [
    "# код ревьюера\n",
    "features_train.head(2)"
   ]
  },
  {
   "cell_type": "markdown",
   "metadata": {},
   "source": [
    "Деление произошло успешно. Для того, чтобы определить уйдёт клиент из банка или нет, нужно решить задачу классификации. Для этого подходит логистическая регрессия, дерево решений и случайный лес. Попробуем подобрать параметры у этих моделей и оценить их качество без учёта дисбаланса классов целевого признака."
   ]
  },
  {
   "cell_type": "markdown",
   "metadata": {},
   "source": [
    "Ввиду того, что ниже мы будем использовать линейные модели, необходимо выполнить масштабирование признаков. Используем для этого StandardScaler из библиотеки scikit-learn. "
   ]
  },
  {
   "cell_type": "code",
   "execution_count": 21,
   "metadata": {},
   "outputs": [],
   "source": [
    "numeric = ['credit_score', 'age', 'tenure', 'balance', 'num_of_products', 'estimated_salary']"
   ]
  },
  {
   "cell_type": "code",
   "execution_count": 22,
   "metadata": {},
   "outputs": [
    {
     "data": {
      "text/html": [
       "<div>\n",
       "<style scoped>\n",
       "    .dataframe tbody tr th:only-of-type {\n",
       "        vertical-align: middle;\n",
       "    }\n",
       "\n",
       "    .dataframe tbody tr th {\n",
       "        vertical-align: top;\n",
       "    }\n",
       "\n",
       "    .dataframe thead th {\n",
       "        text-align: right;\n",
       "    }\n",
       "</style>\n",
       "<table border=\"1\" class=\"dataframe\">\n",
       "  <thead>\n",
       "    <tr style=\"text-align: right;\">\n",
       "      <th></th>\n",
       "      <th>unnamed: 0</th>\n",
       "      <th>credit_score</th>\n",
       "      <th>age</th>\n",
       "      <th>tenure</th>\n",
       "      <th>balance</th>\n",
       "      <th>num_of_products</th>\n",
       "      <th>has_cr_card</th>\n",
       "      <th>is_active_member</th>\n",
       "      <th>estimated_salary</th>\n",
       "      <th>is_male</th>\n",
       "      <th>from_germany</th>\n",
       "      <th>from_spain</th>\n",
       "    </tr>\n",
       "  </thead>\n",
       "  <tbody>\n",
       "    <tr>\n",
       "      <th>492</th>\n",
       "      <td>492</td>\n",
       "      <td>-0.134048</td>\n",
       "      <td>-0.078068</td>\n",
       "      <td>-0.369113</td>\n",
       "      <td>0.076163</td>\n",
       "      <td>0.816929</td>\n",
       "      <td>0</td>\n",
       "      <td>1</td>\n",
       "      <td>0.331571</td>\n",
       "      <td>0</td>\n",
       "      <td>0</td>\n",
       "      <td>0</td>\n",
       "    </tr>\n",
       "    <tr>\n",
       "      <th>6655</th>\n",
       "      <td>6655</td>\n",
       "      <td>-1.010798</td>\n",
       "      <td>0.494555</td>\n",
       "      <td>-0.007415</td>\n",
       "      <td>0.136391</td>\n",
       "      <td>-0.896909</td>\n",
       "      <td>1</td>\n",
       "      <td>1</td>\n",
       "      <td>-0.727858</td>\n",
       "      <td>1</td>\n",
       "      <td>0</td>\n",
       "      <td>0</td>\n",
       "    </tr>\n",
       "    <tr>\n",
       "      <th>4287</th>\n",
       "      <td>4287</td>\n",
       "      <td>0.639554</td>\n",
       "      <td>1.353490</td>\n",
       "      <td>-1.454209</td>\n",
       "      <td>0.358435</td>\n",
       "      <td>-0.896909</td>\n",
       "      <td>1</td>\n",
       "      <td>1</td>\n",
       "      <td>-0.477006</td>\n",
       "      <td>1</td>\n",
       "      <td>1</td>\n",
       "      <td>0</td>\n",
       "    </tr>\n",
       "  </tbody>\n",
       "</table>\n",
       "</div>"
      ],
      "text/plain": [
       "      unnamed: 0  credit_score       age    tenure   balance  num_of_products  \\\n",
       "492          492     -0.134048 -0.078068 -0.369113  0.076163         0.816929   \n",
       "6655        6655     -1.010798  0.494555 -0.007415  0.136391        -0.896909   \n",
       "4287        4287      0.639554  1.353490 -1.454209  0.358435        -0.896909   \n",
       "\n",
       "      has_cr_card  is_active_member  estimated_salary  is_male  from_germany  \\\n",
       "492             0                 1          0.331571        0             0   \n",
       "6655            1                 1         -0.727858        1             0   \n",
       "4287            1                 1         -0.477006        1             1   \n",
       "\n",
       "      from_spain  \n",
       "492            0  \n",
       "6655           0  \n",
       "4287           0  "
      ]
     },
     "execution_count": 22,
     "metadata": {},
     "output_type": "execute_result"
    }
   ],
   "source": [
    "scaler = StandardScaler()\n",
    "scaler.fit(features_train[numeric])\n",
    "features_train[numeric] = scaler.transform(features_train[numeric])\n",
    "features_train.head(3)"
   ]
  },
  {
   "cell_type": "code",
   "execution_count": 23,
   "metadata": {},
   "outputs": [
    {
     "name": "stderr",
     "output_type": "stream",
     "text": [
      "/tmp/ipykernel_48/2190796105.py:1: SettingWithCopyWarning: \n",
      "A value is trying to be set on a copy of a slice from a DataFrame.\n",
      "Try using .loc[row_indexer,col_indexer] = value instead\n",
      "\n",
      "See the caveats in the documentation: https://pandas.pydata.org/pandas-docs/stable/user_guide/indexing.html#returning-a-view-versus-a-copy\n",
      "  features_valid[numeric] = scaler.transform(features_valid[numeric])\n",
      "/opt/conda/lib/python3.9/site-packages/pandas/core/indexing.py:1738: SettingWithCopyWarning: \n",
      "A value is trying to be set on a copy of a slice from a DataFrame.\n",
      "Try using .loc[row_indexer,col_indexer] = value instead\n",
      "\n",
      "See the caveats in the documentation: https://pandas.pydata.org/pandas-docs/stable/user_guide/indexing.html#returning-a-view-versus-a-copy\n",
      "  self._setitem_single_column(loc, value[:, i].tolist(), pi)\n"
     ]
    }
   ],
   "source": [
    "features_valid[numeric] = scaler.transform(features_valid[numeric])\n",
    "features_test[numeric] = scaler.transform(features_test[numeric])"
   ]
  },
  {
   "cell_type": "markdown",
   "metadata": {},
   "source": [
    "- Дерево решений"
   ]
  },
  {
   "cell_type": "code",
   "execution_count": 24,
   "metadata": {},
   "outputs": [
    {
     "name": "stdout",
     "output_type": "stream",
     "text": [
      "F1 максимальная: 0.5617021276595745 при depth = 5\n",
      "ROC-AUC: 0.8450833815960493 при depth = 5\n",
      "CPU times: user 3.48 s, sys: 6.25 ms, total: 3.49 s\n",
      "Wall time: 3.5 s\n"
     ]
    }
   ],
   "source": [
    "%%time\n",
    "f1_max = 0\n",
    "roc_auc = 0\n",
    "depth_best = 0\n",
    "for depth in range(1, 100):\n",
    "    model_decision = DecisionTreeClassifier(max_depth=depth, criterion='gini', random_state=12345)\n",
    "    model_decision.fit(features_train, target_train)\n",
    "    predictions_valid = model_decision.predict(features_valid)\n",
    "    if f1_max < f1_score(target_valid, predictions_valid):\n",
    "            f1_max = f1_score(target_valid, predictions_valid)\n",
    "            depth_best = depth\n",
    "            \n",
    "            probabilities = model_decision.predict_proba(features_valid)\n",
    "            probabilities = probabilities[:,1]\n",
    "            roc_auc = roc_auc_score(target_valid, probabilities)\n",
    "print('F1 максимальная:', f1_max, 'при depth =', depth_best)\n",
    "print('ROC-AUC:', roc_auc, 'при depth =', depth_best)"
   ]
  },
  {
   "cell_type": "markdown",
   "metadata": {},
   "source": [
    "Дерево решений не дотягивает до необходимого качества. F1-мера ниже 0.59. При этом значение AUC-ROC равное 0.84686 означает, что модель имеет довольно хорошую способность разделять положительные и отрицательные классы. "
   ]
  },
  {
   "cell_type": "markdown",
   "metadata": {},
   "source": [
    "- Логистическая регрессия"
   ]
  },
  {
   "cell_type": "code",
   "execution_count": 25,
   "metadata": {},
   "outputs": [
    {
     "name": "stdout",
     "output_type": "stream",
     "text": [
      "F1 =  0.2961672473867596 | ROC-AUC = 0.7558923937463431\n",
      "CPU times: user 485 ms, sys: 1.75 s, total: 2.24 s\n",
      "Wall time: 2.18 s\n"
     ]
    }
   ],
   "source": [
    "%%time\n",
    "model_regression = LogisticRegression(random_state=12345)\n",
    "model_regression.fit(features_train, target_train)\n",
    "predictions_valid = model_regression.predict(features_valid)\n",
    "\n",
    "probabilities = model_regression.predict_proba(features_valid)\n",
    "probabilities = probabilities[:,1]\n",
    "roc_auc = roc_auc_score(target_valid, probabilities)\n",
    "print('F1 = ', f1_score(target_valid, predictions_valid),'| ROC-AUC =', roc_auc)"
   ]
  },
  {
   "cell_type": "markdown",
   "metadata": {},
   "source": [
    "Логистическая регрессия справилась задачей совсем плохо. Метрика ROC-AUC равная 0.75818 показывает, что модель совсем неуверенно различает классы и с большой долей вероятности будет путать их на тестовой выборке. "
   ]
  },
  {
   "cell_type": "markdown",
   "metadata": {},
   "source": [
    "- Случайный лес"
   ]
  },
  {
   "cell_type": "code",
   "execution_count": 26,
   "metadata": {},
   "outputs": [
    {
     "name": "stdout",
     "output_type": "stream",
     "text": [
      "F1 максимальная: 0.5663189269746647  при depth = 18 и n_estimators = 90\n",
      "ROC-AUC: 0.8551924975173857 при depth = 18 и n_estimators = 90\n",
      "CPU times: user 4min 3s, sys: 1.23 s, total: 4min 4s\n",
      "Wall time: 4min 4s\n"
     ]
    }
   ],
   "source": [
    "%%time\n",
    "f1_max = 0\n",
    "depth_best = 0\n",
    "n_est_best = 0\n",
    "for n_est in range (10, 300, 20):\n",
    "    for depth in range(1, 20):\n",
    "        model_forest = RandomForestClassifier(n_estimators=n_est, max_depth=depth, criterion='gini', random_state=12345)\n",
    "        model_forest.fit(features_train, target_train)\n",
    "        predictions_valid = model_forest.predict(features_valid)\n",
    "        if f1_max < f1_score(target_valid, predictions_valid):\n",
    "                f1_max = f1_score(target_valid, predictions_valid)\n",
    "                depth_best = depth\n",
    "                n_est_best = n_est\n",
    "                \n",
    "                probabilities = model_forest.predict_proba(features_valid)\n",
    "                probabilities = probabilities[:,1]\n",
    "                roc_auc = roc_auc_score(target_valid, probabilities)\n",
    "print('F1 максимальная:', f1_max, ' при depth =', depth_best, 'и n_estimators =', n_est_best)\n",
    "print('ROC-AUC:', roc_auc, 'при depth =', depth_best, 'и n_estimators =', n_est_best)"
   ]
  },
  {
   "cell_type": "markdown",
   "metadata": {},
   "source": [
    "F1-мера в алгоритме случайного леса показывает себя лучше, но всё ещё ниже целевого показателя. Необходимо поработать с дисбалансом классов и посмотреть как эти три модели справятся в отсутствие дисбаланса. При этом значение AUC-ROC равное 0.86281 означает, что модель имеет довольно хорошую способность разделять положительные и отрицательные классы. "
   ]
  },
  {
   "cell_type": "markdown",
   "metadata": {},
   "source": [
    "**Промежуточный вывод:**\n",
    "Без учёта дисбаланса классов модели справляются с предсказаниями посредственно. При этом, нам гораздо важнее предсказать уйдёт клиент или нет. Модели, построенные без учёта дисбаланса, с этим не справляются. "
   ]
  },
  {
   "cell_type": "markdown",
   "metadata": {},
   "source": [
    "## Борьба с дисбалансом"
   ]
  },
  {
   "cell_type": "markdown",
   "metadata": {},
   "source": [
    "### Техника взвешивания классов"
   ]
  },
  {
   "cell_type": "markdown",
   "metadata": {},
   "source": [
    "Изменим вес класса у логистической регрессии. Необходимо дать алгоритму понять, что 1 встречается в 4 раза реже, чем 0. "
   ]
  },
  {
   "cell_type": "code",
   "execution_count": 27,
   "metadata": {},
   "outputs": [
    {
     "name": "stdout",
     "output_type": "stream",
     "text": [
      "F1 =  0.49870129870129865 | ROC-AUC = 0.765313672914269\n",
      "CPU times: user 125 ms, sys: 375 ms, total: 500 ms\n",
      "Wall time: 451 ms\n"
     ]
    }
   ],
   "source": [
    "%%time\n",
    "model_regression = LogisticRegression(class_weight='balanced', random_state=12345)\n",
    "model_regression.fit(features_train, target_train)\n",
    "predictions_valid = model_regression.predict(features_valid)\n",
    "\n",
    "probabilities = model_regression.predict_proba(features_valid)\n",
    "probabilities = probabilities[:,1]\n",
    "roc_auc = roc_auc_score(target_valid, probabilities)\n",
    "print('F1 = ', f1_score(target_valid, predictions_valid),'| ROC-AUC =', roc_auc)"
   ]
  },
  {
   "cell_type": "markdown",
   "metadata": {},
   "source": [
    "В отсутствие дисбаланса алгоритм справляется значительно лучше! Но всё ещё хуже, чем требуется. Метрика ROC-AUC также показывает, что модель сама не уверена в своих предсказаниях. Посмотрим как отработает решающее дерево и случайный лес. "
   ]
  },
  {
   "cell_type": "code",
   "execution_count": 28,
   "metadata": {},
   "outputs": [
    {
     "name": "stdout",
     "output_type": "stream",
     "text": [
      "F1 максимальная: 0.592375366568915 при depth = 6\n",
      "ROC-AUC: 0.8181036549143852 при depth = 6\n",
      "CPU times: user 3.37 s, sys: 60 ms, total: 3.43 s\n",
      "Wall time: 3.46 s\n"
     ]
    }
   ],
   "source": [
    "%%time\n",
    "f1_max = 0\n",
    "roc_auc = 0\n",
    "depth_best = 0\n",
    "for depth in range(1, 100):\n",
    "    model_decision = DecisionTreeClassifier(class_weight='balanced', max_depth=depth, criterion='gini', random_state=12345)\n",
    "    model_decision.fit(features_train, target_train)\n",
    "    predictions_valid = model_decision.predict(features_valid)\n",
    "    if f1_max < f1_score(target_valid, predictions_valid):\n",
    "            f1_max = f1_score(target_valid, predictions_valid)\n",
    "            depth_best = depth\n",
    "            \n",
    "            probabilities = model_decision.predict_proba(features_valid)\n",
    "            probabilities = probabilities[:,1]\n",
    "            roc_auc = roc_auc_score(target_valid, probabilities)\n",
    "print('F1 максимальная:', f1_max, 'при depth =', depth_best)\n",
    "print('ROC-AUC:', roc_auc, 'при depth =', depth_best)"
   ]
  },
  {
   "cell_type": "markdown",
   "metadata": {},
   "source": [
    "Решающее дерево справляется с задачей и чуть превышает порог F1-меры, необходимый для успешного выполнения задания. Однако, на тестовых данных алгоритм скорей всего покажет более низкое значение и задача не будет выполнена. Об этом свидетельствует метрика ROC-AUC на уровне 0.80774. Попробуем как справится с задачей случайный лес. "
   ]
  },
  {
   "cell_type": "code",
   "execution_count": 29,
   "metadata": {},
   "outputs": [
    {
     "name": "stdout",
     "output_type": "stream",
     "text": [
      "F1 максимальная: 0.6502673796791444  при depth = 8 и n_estimators = 170\n",
      "ROC-AUC: 0.870237065468064 при depth = 8 и n_estimators = 170\n",
      "CPU times: user 3min 23s, sys: 784 ms, total: 3min 24s\n",
      "Wall time: 3min 24s\n"
     ]
    }
   ],
   "source": [
    "%%time\n",
    "f1_max = 0\n",
    "depth_best = 0\n",
    "n_est_best = 0\n",
    "for n_est in range (10, 200, 10):\n",
    "    for depth in range(1, 20):\n",
    "        model_forest = RandomForestClassifier(class_weight='balanced', n_estimators=n_est, max_depth=depth, criterion='gini', random_state=12345)\n",
    "        model_forest.fit(features_train, target_train)\n",
    "        predictions_valid = model_forest.predict(features_valid)\n",
    "        if f1_max < f1_score(target_valid, predictions_valid):\n",
    "                f1_max = f1_score(target_valid, predictions_valid)\n",
    "                depth_best = depth\n",
    "                n_est_best = n_est\n",
    "                \n",
    "                probabilities = model_forest.predict_proba(features_valid)\n",
    "                probabilities = probabilities[:,1]\n",
    "                roc_auc = roc_auc_score(target_valid, probabilities)\n",
    "print('F1 максимальная:', f1_max, ' при depth =', depth_best, 'и n_estimators =', n_est_best)\n",
    "print('ROC-AUC:', roc_auc, 'при depth =', depth_best, 'и n_estimators =', n_est_best)"
   ]
  },
  {
   "cell_type": "markdown",
   "metadata": {},
   "source": [
    "Случайный лес показывает отличный результат. F1-мера выше 0.66161, a ROC-AUC равна 0.87112. Посмотрим, как алгоритм справится с тестовой выборкой. "
   ]
  },
  {
   "cell_type": "markdown",
   "metadata": {},
   "source": [
    "### Техника увеличения выборки (upsampling)"
   ]
  },
  {
   "cell_type": "markdown",
   "metadata": {},
   "source": [
    "Попробуем использовать увеличение выборки для балансировки классов. Для этого увеличим количество строк, у которых целево признак равен единице, в четыре раза. Затем поместим их в изначальную таблицу и перемешаем. Проверим как модели обучатся на увеличенном, но сбалансированном датасете. "
   ]
  },
  {
   "cell_type": "code",
   "execution_count": 30,
   "metadata": {},
   "outputs": [
    {
     "name": "stdout",
     "output_type": "stream",
     "text": [
      "(4781,)\n",
      "(1219,)\n"
     ]
    }
   ],
   "source": [
    "features_zero = features_train[target_train == 0]\n",
    "features_ones = features_train[target_train == 1]\n",
    "target_zero = target_train[target_train == 0]\n",
    "target_ones = target_train[target_train == 1]\n",
    "\n",
    "print(target_zero.shape)\n",
    "print(target_ones.shape)"
   ]
  },
  {
   "cell_type": "code",
   "execution_count": 31,
   "metadata": {},
   "outputs": [
    {
     "name": "stdout",
     "output_type": "stream",
     "text": [
      "(9657, 12)\n",
      "(9657,)\n",
      "1    4876\n",
      "0    4781\n",
      "Name: exited, dtype: int64\n"
     ]
    }
   ],
   "source": [
    "features_upsampled = pd.concat([features_zero] + [features_ones]*4)\n",
    "target_upsampled = pd.concat([target_zero] + [target_ones]*4)\n",
    "features_upsampled, target_upsampled = shuffle(features_upsampled, target_upsampled, random_state=12345)\n",
    "\n",
    "print(features_upsampled.shape)\n",
    "print(target_upsampled.shape)\n",
    "print(target_upsampled.value_counts())"
   ]
  },
  {
   "cell_type": "markdown",
   "metadata": {},
   "source": [
    "- Логистическая регрессия"
   ]
  },
  {
   "cell_type": "code",
   "execution_count": 32,
   "metadata": {},
   "outputs": [
    {
     "name": "stdout",
     "output_type": "stream",
     "text": [
      "F1 =  0.5062034739454094 | ROC-AUC = 0.7648208721234058\n",
      "CPU times: user 281 ms, sys: 961 ms, total: 1.24 s\n",
      "Wall time: 1.27 s\n"
     ]
    },
    {
     "name": "stderr",
     "output_type": "stream",
     "text": [
      "/opt/conda/lib/python3.9/site-packages/sklearn/linear_model/_logistic.py:763: ConvergenceWarning: lbfgs failed to converge (status=1):\n",
      "STOP: TOTAL NO. of ITERATIONS REACHED LIMIT.\n",
      "\n",
      "Increase the number of iterations (max_iter) or scale the data as shown in:\n",
      "    https://scikit-learn.org/stable/modules/preprocessing.html\n",
      "Please also refer to the documentation for alternative solver options:\n",
      "    https://scikit-learn.org/stable/modules/linear_model.html#logistic-regression\n",
      "  n_iter_i = _check_optimize_result(\n"
     ]
    }
   ],
   "source": [
    "%%time\n",
    "model_regression = LogisticRegression(random_state=12345)\n",
    "model_regression.fit(features_upsampled, target_upsampled)\n",
    "predictions_valid = model_regression.predict(features_valid)\n",
    "\n",
    "probabilities = model_regression.predict_proba(features_valid)\n",
    "probabilities = probabilities[:,1]\n",
    "roc_auc = roc_auc_score(target_valid, probabilities)\n",
    "print('F1 = ', f1_score(target_valid, predictions_valid),'| ROC-AUC =', roc_auc)"
   ]
  },
  {
   "cell_type": "markdown",
   "metadata": {},
   "source": [
    "Модель справилась ровно также, как и при применении техники взвешивания классов (плохо). "
   ]
  },
  {
   "cell_type": "markdown",
   "metadata": {},
   "source": [
    "- Решающее дерево"
   ]
  },
  {
   "cell_type": "code",
   "execution_count": 33,
   "metadata": {},
   "outputs": [
    {
     "name": "stdout",
     "output_type": "stream",
     "text": [
      "F1 максимальная: 0.592375366568915 при depth = 6\n",
      "ROC-AUC: 0.8181036549143852 при depth = 6\n",
      "CPU times: user 4.29 s, sys: 7.14 ms, total: 4.29 s\n",
      "Wall time: 4.3 s\n"
     ]
    }
   ],
   "source": [
    "%%time\n",
    "f1_max = 0\n",
    "roc_auc = 0\n",
    "depth_best = 0\n",
    "for depth in range(1, 100):\n",
    "    model_decision = DecisionTreeClassifier(max_depth=depth, criterion='gini', random_state=12345)\n",
    "    model_decision.fit(features_upsampled, target_upsampled)\n",
    "    predictions_valid = model_decision.predict(features_valid)\n",
    "    if f1_max < f1_score(target_valid, predictions_valid):\n",
    "            f1_max = f1_score(target_valid, predictions_valid)\n",
    "            depth_best = depth\n",
    "            \n",
    "            probabilities = model_decision.predict_proba(features_valid)\n",
    "            probabilities = probabilities[:,1]\n",
    "            roc_auc = roc_auc_score(target_valid, probabilities)\n",
    "print('F1 максимальная:', f1_max, 'при depth =', depth_best)\n",
    "print('ROC-AUC:', roc_auc, 'при depth =', depth_best)"
   ]
  },
  {
   "cell_type": "markdown",
   "metadata": {},
   "source": [
    "Для решающего дерева upsampling также не дал каких-либо преимуществ. "
   ]
  },
  {
   "cell_type": "markdown",
   "metadata": {},
   "source": [
    "- Случайный лес"
   ]
  },
  {
   "cell_type": "code",
   "execution_count": 34,
   "metadata": {},
   "outputs": [
    {
     "name": "stdout",
     "output_type": "stream",
     "text": [
      "F1 максимальная: 0.651404786680541  при depth = 9 и n_estimators = 70\n",
      "ROC-AUC: 0.8691636232619839 при depth = 9 и n_estimators = 70\n",
      "CPU times: user 10min 31s, sys: 1.64 s, total: 10min 33s\n",
      "Wall time: 10min 33s\n"
     ]
    }
   ],
   "source": [
    "%%time\n",
    "f1_max = 0\n",
    "depth_best = 0\n",
    "n_est_best = 0\n",
    "for n_est in range (10, 300, 10):\n",
    "    for depth in range(1, 20):\n",
    "        model_forest = RandomForestClassifier(n_estimators=n_est, max_depth=depth, criterion='gini', random_state=12345)\n",
    "        model_forest.fit(features_upsampled, target_upsampled)\n",
    "        predictions_valid = model_forest.predict(features_valid)\n",
    "        if f1_max < f1_score(target_valid, predictions_valid):\n",
    "                f1_max = f1_score(target_valid, predictions_valid)\n",
    "                depth_best = depth\n",
    "                n_est_best = n_est\n",
    "                \n",
    "                probabilities = model_forest.predict_proba(features_valid)\n",
    "                probabilities = probabilities[:,1]\n",
    "                roc_auc = roc_auc_score(target_valid, probabilities)\n",
    "print('F1 максимальная:', f1_max, ' при depth =', depth_best, 'и n_estimators =', n_est_best)\n",
    "print('ROC-AUC:', roc_auc, 'при depth =', depth_best, 'и n_estimators =', n_est_best)"
   ]
  },
  {
   "cell_type": "markdown",
   "metadata": {},
   "source": [
    "Результат случайного леса хорош, но всё-таки совсем немного ниже модели случайного леса, где классы сбалансированны техникой взвешивания классов. "
   ]
  },
  {
   "cell_type": "markdown",
   "metadata": {},
   "source": [
    "**Промежуточный вывод:**\n",
    "Для борьбы с дисбалансом классов были использованы техника взвешивания классов и upsampling. Были обучены три вида моделей: решающее дерево, случайный лес и логистическая регрессия. Подбор гиперпараметров у деревьев осуществляся с помощью цикла. Наилучшие результаты были получены при взвешивании классов с использованием алгоритма случайного леса при глубине дерева 8 и количестве деревьев 70. В этом случае F1-мера оказалась равной 0.65, а ROC-AUC – 0.87. Этот алгоритм и будем использовать при тестировании модели. "
   ]
  },
  {
   "cell_type": "markdown",
   "metadata": {},
   "source": [
    "## Тестирование модели"
   ]
  },
  {
   "cell_type": "markdown",
   "metadata": {},
   "source": [
    "На этапе подбора модели лучше всего себя показал алгоритм случайного леса, где дисбаланс был устранён техникой взвешивания классов, с количеством деревьев 190 и глубиной дерева 8. С такими параметрами F1-мера была равна 0.66161 на валидационной выборке, 0.66161, a ROC-AUC составила 0.87112. Высокое значение ROC-AUС даёт уверенность, что на тестовой выборке алгоритм справится не сильно хуже. Проверим алгоритм с этими параметрами на тестовой выборке. "
   ]
  },
  {
   "cell_type": "code",
   "execution_count": 35,
   "metadata": {},
   "outputs": [
    {
     "name": "stdout",
     "output_type": "stream",
     "text": [
      "F1-мера на тестовой выборке составила:  0.5901639344262294 \n",
      "ROC-AUC:  0.8526192977799112\n"
     ]
    }
   ],
   "source": [
    "model = RandomForestClassifier(class_weight='balanced', n_estimators=190, max_depth=8, criterion='gini', random_state=12345)\n",
    "model.fit(features_train, target_train)\n",
    "predictions_test = model.predict(features_test)\n",
    "f1 = f1_score(target_test, predictions_test)\n",
    "\n",
    "probabilities = model.predict_proba(features_test)\n",
    "probabilities = probabilities[:,1]\n",
    "roc_auc = roc_auc_score(target_test, probabilities)\n",
    "print('F1-мера на тестовой выборке составила: ', f1, '\\nROC-AUC: ', roc_auc)"
   ]
  },
  {
   "cell_type": "markdown",
   "metadata": {},
   "source": [
    "На тестовой выборке значение f1-меры немного меньше, чем на валидационной. Однако, результат выше необходимого по условию задания. Метрика ROC-AUC также немного снизилась, но всё-таки близе к 1, чем к 0.5. То есть модель скорее уверенна в своих предсказаниях. \n",
    "Задание выполнено. "
   ]
  },
  {
   "cell_type": "markdown",
   "metadata": {},
   "source": [
    "Попробуем также и случайный лес, где баланс классов был восстановлен с помощью техники upsampling. Лучше всего на валидационной выборке себя показала модель с глубиной дерева 8 и 270 деревьями. "
   ]
  },
  {
   "cell_type": "code",
   "execution_count": 36,
   "metadata": {},
   "outputs": [
    {
     "name": "stdout",
     "output_type": "stream",
     "text": [
      "F1-мера на тестовой выборке составила:  0.5819761129207383 \n",
      "ROC-AUC:  0.8530325741234965\n"
     ]
    }
   ],
   "source": [
    "model_forest = RandomForestClassifier(n_estimators=270, max_depth=8, criterion='gini', random_state=12345)\n",
    "model_forest.fit(features_upsampled, target_upsampled)\n",
    "predictions_test = model_forest.predict(features_test)\n",
    "\n",
    "probabilities = model_forest.predict_proba(features_test)\n",
    "probabilities = probabilities[:,1]\n",
    "roc_auc = roc_auc_score(target_test, probabilities)\n",
    "f1 = f1_score(target_test, predictions_test)\n",
    "print('F1-мера на тестовой выборке составила: ', f1, '\\nROC-AUC: ', roc_auc)"
   ]
  },
  {
   "cell_type": "markdown",
   "metadata": {},
   "source": [
    "Модель с задачей не справилась. F1-мера чуть ниже целевых 0.59. "
   ]
  },
  {
   "cell_type": "markdown",
   "metadata": {},
   "source": [
    "Таким образом, лучше всего показала себя модель случайного леса, где дисбаланс целевого признака был устранён техникой взвешивания классов."
   ]
  },
  {
   "cell_type": "markdown",
   "metadata": {},
   "source": [
    "# Вывод"
   ]
  },
  {
   "cell_type": "markdown",
   "metadata": {},
   "source": [
    "1. На первом этапе мы прочитали данные и посмотрели общую информацию по ним. Затем данные были предобработаны, столбцы со страной и гендером были преобразованы методом OHE. В данных не было дубликатов и выбросов данных. Пропуски в столбце `tenure` заполнены медианой. Что касается целевого признака, то примерно 20% клиентов в выборке покинули банк. Дисбаланс целевого признака 4 к 1.\n",
    "2. На втором этапе мы разделили исходные данные (df) на три выборки: обучающую (60%), валидационную (20%) и тестовую (20%), предварительно выделив признаки и целевой признак. \n",
    "3. Построили модели логистической регресии, решающего дерева и случайного леса без учёта дисбаланса классов. Гиперпараметры у деревьев подбирали с помощью цикла. Лучше всего себя показала модель случайного леса с количеством деревьев 130 и глубиной дерева 18. В этом случае F1-мера составила 0.5815, а значение AUC-ROC равное 0.85716 означает, что модель имеет довольно хорошую способность разделять положительные и отрицательные классы.\n",
    "4. Модели, построенные на данных, которые не учитывали дисбаланс классов, не достигли необходимого уровня качества на валидационной выборке. Для борьбы с дисбалансом классов были использованы две техники: взвешивание классов и upsampling. В каждой техники были обучены три вида моделей: логистическая регрессия, решающее дерево и случайный лес, также были замерены метрики качества каждой модели на валидационной выборке F1-мера и AUC-ROC. По итогам обучения для предсказания на тестовых данных было решено использовать модель случайного леса с глубиной дерева 8 и количеством деревьев 70. \n",
    "4. Проверив результаты работы моделей на тестовой выборке, получили следующие результаты:\n",
    "Качество работы модели случайного леса, которую обучали c учетом техники взвешивания классов с глубиной дерева 8 и количеством деревьев 70 достигло необходимых показателей. F1-мера на тестовой выборке составила:  0.5955451348182884, а ROC-AUC:  0.8564961477876206. Это означает, что модель уверена в своих предсказаниях. ROC-AUC ближе к 1, чем к 0.5. Моделью можно пользоваться. Задание выполнено. \n"
   ]
  }
 ],
 "metadata": {
  "ExecuteTimeLog": [
   {
    "duration": 3646,
    "start_time": "2023-08-15T12:30:13.844Z"
   },
   {
    "duration": 120,
    "start_time": "2023-08-15T12:30:17.492Z"
   },
   {
    "duration": 15,
    "start_time": "2023-08-15T12:30:17.615Z"
   },
   {
    "duration": 52,
    "start_time": "2023-08-15T12:30:17.633Z"
   },
   {
    "duration": 30,
    "start_time": "2023-08-15T12:30:17.686Z"
   },
   {
    "duration": 654,
    "start_time": "2023-08-15T12:30:17.719Z"
   },
   {
    "duration": 11,
    "start_time": "2023-08-15T12:30:18.375Z"
   },
   {
    "duration": 49,
    "start_time": "2023-08-15T12:30:18.387Z"
   },
   {
    "duration": 64,
    "start_time": "2023-08-15T12:30:18.438Z"
   },
   {
    "duration": 63,
    "start_time": "2023-08-15T12:30:18.504Z"
   },
   {
    "duration": 24,
    "start_time": "2023-08-15T12:30:18.569Z"
   },
   {
    "duration": 14,
    "start_time": "2023-08-15T12:30:18.594Z"
   },
   {
    "duration": 13,
    "start_time": "2023-08-15T12:30:18.610Z"
   },
   {
    "duration": 25,
    "start_time": "2023-08-15T12:30:18.625Z"
   },
   {
    "duration": 1350,
    "start_time": "2023-08-15T12:30:18.652Z"
   },
   {
    "duration": 8,
    "start_time": "2023-08-15T12:30:20.003Z"
   },
   {
    "duration": 163,
    "start_time": "2023-08-15T12:30:20.012Z"
   },
   {
    "duration": 231,
    "start_time": "2023-08-15T12:30:20.177Z"
   },
   {
    "duration": 218,
    "start_time": "2023-08-15T12:30:20.410Z"
   },
   {
    "duration": 102,
    "start_time": "2023-08-15T12:30:20.630Z"
   },
   {
    "duration": 2307,
    "start_time": "2023-08-15T15:13:34.467Z"
   },
   {
    "duration": 106,
    "start_time": "2023-08-15T15:13:36.777Z"
   },
   {
    "duration": 14,
    "start_time": "2023-08-15T15:13:36.885Z"
   },
   {
    "duration": 64,
    "start_time": "2023-08-15T15:13:36.902Z"
   },
   {
    "duration": 22,
    "start_time": "2023-08-15T15:13:36.968Z"
   },
   {
    "duration": 167,
    "start_time": "2023-08-15T15:13:36.995Z"
   },
   {
    "duration": 10,
    "start_time": "2023-08-15T15:13:37.163Z"
   },
   {
    "duration": 12,
    "start_time": "2023-08-15T15:13:37.174Z"
   },
   {
    "duration": 14,
    "start_time": "2023-08-15T15:13:37.188Z"
   },
   {
    "duration": 6,
    "start_time": "2023-08-15T15:13:37.204Z"
   },
   {
    "duration": 50,
    "start_time": "2023-08-15T15:13:37.211Z"
   },
   {
    "duration": 12,
    "start_time": "2023-08-15T15:13:37.263Z"
   },
   {
    "duration": 5,
    "start_time": "2023-08-15T15:13:37.277Z"
   },
   {
    "duration": 18,
    "start_time": "2023-08-15T15:13:37.284Z"
   },
   {
    "duration": 1228,
    "start_time": "2023-08-15T15:13:37.303Z"
   },
   {
    "duration": 5,
    "start_time": "2023-08-15T15:13:38.532Z"
   },
   {
    "duration": 21,
    "start_time": "2023-08-15T15:13:38.538Z"
   },
   {
    "duration": 8,
    "start_time": "2023-08-15T15:13:38.562Z"
   },
   {
    "duration": 16,
    "start_time": "2023-08-15T15:13:38.572Z"
   },
   {
    "duration": 18,
    "start_time": "2023-08-15T15:13:38.590Z"
   },
   {
    "duration": 3,
    "start_time": "2023-08-15T15:13:38.611Z"
   },
   {
    "duration": 26,
    "start_time": "2023-08-15T15:13:38.616Z"
   },
   {
    "duration": 18,
    "start_time": "2023-08-15T15:13:38.658Z"
   },
   {
    "duration": 3508,
    "start_time": "2023-08-15T15:13:38.677Z"
   },
   {
    "duration": 2272,
    "start_time": "2023-08-15T15:13:42.187Z"
   },
   {
    "duration": 244748,
    "start_time": "2023-08-15T15:13:44.463Z"
   },
   {
    "duration": 454,
    "start_time": "2023-08-15T15:17:49.213Z"
   },
   {
    "duration": 3554,
    "start_time": "2023-08-15T15:17:49.670Z"
   },
   {
    "duration": 204736,
    "start_time": "2023-08-15T15:17:53.225Z"
   },
   {
    "duration": 7,
    "start_time": "2023-08-15T15:21:17.963Z"
   },
   {
    "duration": 9,
    "start_time": "2023-08-15T15:21:17.972Z"
   },
   {
    "duration": 1282,
    "start_time": "2023-08-15T15:21:17.982Z"
   },
   {
    "duration": 4396,
    "start_time": "2023-08-15T15:21:19.266Z"
   },
   {
    "duration": 633879,
    "start_time": "2023-08-15T15:21:23.664Z"
   },
   {
    "duration": 1093,
    "start_time": "2023-08-15T15:31:57.545Z"
   },
   {
    "duration": 2049,
    "start_time": "2023-08-15T15:31:58.639Z"
   },
   {
    "duration": 766,
    "start_time": "2023-08-15T15:32:00.689Z"
   },
   {
    "duration": 705,
    "start_time": "2023-08-15T15:34:50.483Z"
   },
   {
    "duration": 671,
    "start_time": "2023-08-15T15:35:27.461Z"
   },
   {
    "duration": 630,
    "start_time": "2023-08-15T15:35:34.556Z"
   },
   {
    "duration": 718,
    "start_time": "2023-08-15T15:35:43.592Z"
   },
   {
    "duration": 648,
    "start_time": "2023-08-15T15:35:49.113Z"
   },
   {
    "duration": 624,
    "start_time": "2023-08-15T15:35:54.562Z"
   },
   {
    "duration": 600,
    "start_time": "2023-08-15T15:36:02.461Z"
   },
   {
    "duration": 628,
    "start_time": "2023-08-15T15:36:10.695Z"
   },
   {
    "duration": 673,
    "start_time": "2023-08-15T15:36:17.092Z"
   },
   {
    "duration": 671,
    "start_time": "2023-08-15T15:37:09.499Z"
   },
   {
    "duration": 639,
    "start_time": "2023-08-15T15:37:17.641Z"
   },
   {
    "duration": 639,
    "start_time": "2023-08-15T15:37:31.668Z"
   },
   {
    "duration": 645,
    "start_time": "2023-08-15T15:37:38.080Z"
   },
   {
    "duration": 754,
    "start_time": "2023-08-15T15:39:32.969Z"
   },
   {
    "duration": 682,
    "start_time": "2023-08-15T15:39:39.733Z"
   },
   {
    "duration": 606,
    "start_time": "2023-08-15T15:39:45.471Z"
   },
   {
    "duration": 645,
    "start_time": "2023-08-15T15:39:50.294Z"
   },
   {
    "duration": 1138,
    "start_time": "2023-08-15T15:39:56.797Z"
   },
   {
    "duration": 546,
    "start_time": "2023-08-15T15:40:03.338Z"
   },
   {
    "duration": 713,
    "start_time": "2023-08-15T15:40:08.465Z"
   },
   {
    "duration": 1142,
    "start_time": "2023-08-15T15:40:19.965Z"
   },
   {
    "duration": 670,
    "start_time": "2023-08-15T15:40:36.113Z"
   }
  ],
  "kernelspec": {
   "display_name": "Python 3 (ipykernel)",
   "language": "python",
   "name": "python3"
  },
  "language_info": {
   "codemirror_mode": {
    "name": "ipython",
    "version": 3
   },
   "file_extension": ".py",
   "mimetype": "text/x-python",
   "name": "python",
   "nbconvert_exporter": "python",
   "pygments_lexer": "ipython3",
   "version": "3.11.7"
  },
  "toc": {
   "base_numbering": 1,
   "nav_menu": {},
   "number_sections": true,
   "sideBar": true,
   "skip_h1_title": true,
   "title_cell": "Содержание",
   "title_sidebar": "Contents",
   "toc_cell": true,
   "toc_position": {},
   "toc_section_display": true,
   "toc_window_display": false
  }
 },
 "nbformat": 4,
 "nbformat_minor": 4
}
