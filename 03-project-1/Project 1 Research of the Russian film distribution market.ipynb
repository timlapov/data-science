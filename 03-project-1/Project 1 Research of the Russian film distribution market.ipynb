{
 "cells": [
  {
   "cell_type": "markdown",
   "metadata": {},
   "source": [
    "<div style=\"border:solid Purple 2px; padding: 40px\">\n",
    "\n",
    "<b>Привет,  Артём!👋\n",
    "\n",
    "Меня зовут Эльвира, я буду ревьюером твоего проекта. Предлагаю общаться на «ты», но если это не удобно - дай мне знать, и мы перейдем на «вы».\n",
    "\n",
    "\n",
    "Ты можешь найти мои комментарии, обозначенные <font color='green'>зеленым</font>, <font color='gold'>желтым</font> и <font color='red'>красным</font> цветами, например:\n",
    "\n",
    "\n",
    "<div class=\"alert alert-success\">\n",
    "<h2> Комментарий ревьюера 😊<a class=\"tocSkip\"> </h2>\n",
    "    \n",
    "Такими комментариями я буду помечать отлично проделаную работу😉\n",
    "</div>\n",
    "    \n",
    "<div class=\"alert alert-warning\">\n",
    "<h2> Комментарий ревьюера 🤓<a class=\"tocSkip\"> </h2>\n",
    "        \n",
    "В таких комментариях я постараюсь подсказать тебе более элегантное или легкое решение, некоторые хитрости и фишки. Части проекта, помеченные такими комментариями, можно не исправлять, но рекомендую обратить на них внимание.</div>\n",
    "\n",
    "<div class=\"alert alert-block alert-danger\">\n",
    "<h2> Комментарий ревьюера 🤔<a class=\"tocSkip\"></h2>\n",
    "    \n",
    "В случае, когда решение на отдельном шаге требует существенной переработки и внесения правок. Если ты видишь такой комментарий, значит здесть есть недочет, который следует исправить.\n",
    "</div>\n",
    "\n",
    "Ты также можешь реагировать на мои комментарии своими, выделяя их цветами и наиболее понравившимся тебе способом оформления, но явно  отличающимся от моих комментариев. Это нужно, чтобы не создавалась путаница🙃\n",
    "    \n",
    "<div class=\"alert alert-info\"> <b>Комментарий студента:</b> Например, вот так.</div>\n",
    "\n",
    "Чтобы сделать подобный блок, кликни здесь дважды и скопируй всю предыдущую строку ;)\n",
    "    \n",
    "Пожалуйста, не удаляй и не перемещай мои комментарии, они будут особенно полезны для нашей работы в случае повторной проверки проекта.</div></b>"
   ]
  },
  {
   "cell_type": "markdown",
   "metadata": {
    "id": "sIfNaMOxgFyK"
   },
   "source": [
    "## Исследование данных о российском кинопрокате\n",
    "\n"
   ]
  },
  {
   "cell_type": "markdown",
   "metadata": {},
   "source": [
    "* **Заказчик исследования:** Министерство культуры Российской Федерации. \n",
    "* **Цель проекта:** проанализировать данные и выяснить насколько интересны зрителю фильмы, снятые при финансовой поддержке государства. \n",
    "* **Краткое описание проекта:** Необходимо изучить рынок российского кинопроката и выявить текущие тренды, сравнить фильмы снятые при государственной поддержки и без неё. Необходимо в том числе рассмотреть оккупаемость и удовлетворенность зрителей. \n",
    "* **Источник данных:** портал открытых данных Министерства культуры РФ. \n",
    "* **Описание данных:** На анализ представлено два датасета: mkrf_movies.csv и mkrf_shows.csv. В первом содержится полная информация о фильмах, выходивших в прокат с 2010 по 2019 годы. В том числе, номер прокатного удостоверения, название, дата начала показа, тип фильма, жанр, его режиссер и продюсер, страна и студия производства, возрастной рейтинг, финансовые показатели (объём бюджетной поддержки, её источник и вид), рейтинг с платформы Кинопоиск. Во втором датасете содержится номер прокатного удостоверения и размер кассовых сборов.\n",
    "\n",
    "**Краткий план работы:**\n",
    "- Прочитать данные и объединить их в один датафрейм,\n",
    "- Предобработать данные: привести типы данных к подходящим для анализа, удалить дубликаты, рассмотреть пропуски и заполнить их или обоснованно оставить как есть, рассмотреть данные на выбивающиеся значения и исправить их там, где это возможно,\n",
    "- Исследовать данные в целом (разбить их по годам, посмотреть на тенденции и закономерности),\n",
    "- Выделить данные по фильмам с гос.поддержкой в отдельный датафрейм и рассмотреть его в зависимости от фильмов в прокате, которые такой поддержки не получали. "
   ]
  },
  {
   "cell_type": "markdown",
   "metadata": {},
   "source": [
    "<div class=\"alert alert-block alert-danger\">\n",
    "<h2> Комментарий ревьюера 🤔<a class=\"tocSkip\"></h2>\n",
    "<s>\n",
    "Введение, как и общий вывод - важные части твоей работы, на которые в первую очередь обращает внимание заказчик. Давай добавим следующие пункты:\n",
    "* заголовок,\n",
    "\n",
    "* краткое описание проекта,\n",
    "\n",
    "* выделим цель проекта\n",
    "\n",
    "* описание данных\n",
    "\n",
    "* краткий план работы, выделим основные этапы, которые должны сделать.\n",
    "\n",
    "Тогда получатель отчета сможет быстрей его понять.\n"
   ]
  },
  {
   "cell_type": "markdown",
   "metadata": {},
   "source": [
    "<div class=\"alert alert-success\">\n",
    "<h2> Комментарий ревьюера 😊 v_2 <a class=\"tocSkip\"> </h2>\n",
    "\n",
    "Теперь все отлично)"
   ]
  },
  {
   "cell_type": "markdown",
   "metadata": {
    "id": "3bSlkCsbgFyL"
   },
   "source": [
    "### Шаг 1. Откроем файлы с данными и объедините их в один датафрейм. \n",
    "\n",
    "Объединим данные таким образом, чтобы все объекты из датасета `mkrf_movies` обязательно вошли в получившийся датафрейм. "
   ]
  },
  {
   "cell_type": "code",
   "execution_count": 1,
   "metadata": {},
   "outputs": [
    {
     "name": "stdout",
     "output_type": "stream",
     "text": [
      "Collecting missingno\n",
      "  Downloading missingno-0.5.2-py3-none-any.whl (8.7 kB)\n",
      "Requirement already satisfied: seaborn in /opt/conda/lib/python3.9/site-packages (from missingno) (0.11.1)\n",
      "Requirement already satisfied: matplotlib in /opt/conda/lib/python3.9/site-packages (from missingno) (3.3.4)\n",
      "Requirement already satisfied: numpy in /opt/conda/lib/python3.9/site-packages (from missingno) (1.21.1)\n",
      "Requirement already satisfied: scipy in /opt/conda/lib/python3.9/site-packages (from missingno) (1.9.1)\n",
      "Requirement already satisfied: pillow>=6.2.0 in /opt/conda/lib/python3.9/site-packages (from matplotlib->missingno) (8.4.0)\n",
      "Requirement already satisfied: cycler>=0.10 in /opt/conda/lib/python3.9/site-packages (from matplotlib->missingno) (0.11.0)\n",
      "Requirement already satisfied: kiwisolver>=1.0.1 in /opt/conda/lib/python3.9/site-packages (from matplotlib->missingno) (1.4.4)\n",
      "Requirement already satisfied: pyparsing!=2.0.4,!=2.1.2,!=2.1.6,>=2.0.3 in /opt/conda/lib/python3.9/site-packages (from matplotlib->missingno) (2.4.7)\n",
      "Requirement already satisfied: python-dateutil>=2.1 in /opt/conda/lib/python3.9/site-packages (from matplotlib->missingno) (2.8.1)\n",
      "Requirement already satisfied: six>=1.5 in /opt/conda/lib/python3.9/site-packages (from python-dateutil>=2.1->matplotlib->missingno) (1.16.0)\n",
      "Requirement already satisfied: pandas>=0.23 in /opt/conda/lib/python3.9/site-packages (from seaborn->missingno) (1.2.4)\n",
      "Requirement already satisfied: pytz>=2017.3 in /opt/conda/lib/python3.9/site-packages (from pandas>=0.23->seaborn->missingno) (2021.1)\n",
      "Installing collected packages: missingno\n",
      "Successfully installed missingno-0.5.2\n"
     ]
    }
   ],
   "source": [
    "!pip install missingno"
   ]
  },
  {
   "cell_type": "code",
   "execution_count": 2,
   "metadata": {
    "id": "dw87FlzMgFyM"
   },
   "outputs": [],
   "source": [
    "import pandas as pd\n",
    "import missingno as msno\n",
    "import matplotlib.pyplot as plt"
   ]
  },
  {
   "cell_type": "markdown",
   "metadata": {},
   "source": [
    "<div class=\"alert alert-success\">\n",
    "<h2> Комментарий ревьюера 😊<a class=\"tocSkip\"> </h2>\n",
    "\n",
    "Молодец, что загружаешь все библиотеки в начале проекта. Так сложней случайно удалить ячейку с загрузкой нужной библиотеки и сделать код не работающим. А получатель отчета сразу поймет, какие библиотеки ты используешь и какие ему нужно установить для запуска проекта.\n",
    "\n",
    "</div>"
   ]
  },
  {
   "cell_type": "markdown",
   "metadata": {},
   "source": [
    "Прочитаем файлы с данными и посмотрим, что датафрейм корректно прочитался с параметрами по умолчанию. "
   ]
  },
  {
   "cell_type": "code",
   "execution_count": 3,
   "metadata": {},
   "outputs": [
    {
     "data": {
      "text/html": [
       "<div>\n",
       "<style scoped>\n",
       "    .dataframe tbody tr th:only-of-type {\n",
       "        vertical-align: middle;\n",
       "    }\n",
       "\n",
       "    .dataframe tbody tr th {\n",
       "        vertical-align: top;\n",
       "    }\n",
       "\n",
       "    .dataframe thead th {\n",
       "        text-align: right;\n",
       "    }\n",
       "</style>\n",
       "<table border=\"1\" class=\"dataframe\">\n",
       "  <thead>\n",
       "    <tr style=\"text-align: right;\">\n",
       "      <th></th>\n",
       "      <th>title</th>\n",
       "      <th>puNumber</th>\n",
       "      <th>show_start_date</th>\n",
       "      <th>type</th>\n",
       "      <th>film_studio</th>\n",
       "      <th>production_country</th>\n",
       "      <th>director</th>\n",
       "      <th>producer</th>\n",
       "      <th>age_restriction</th>\n",
       "      <th>refundable_support</th>\n",
       "      <th>nonrefundable_support</th>\n",
       "      <th>budget</th>\n",
       "      <th>financing_source</th>\n",
       "      <th>ratings</th>\n",
       "      <th>genres</th>\n",
       "    </tr>\n",
       "  </thead>\n",
       "  <tbody>\n",
       "    <tr>\n",
       "      <th>0</th>\n",
       "      <td>Открытый простор</td>\n",
       "      <td>221048915</td>\n",
       "      <td>2015-11-27T12:00:00.000Z</td>\n",
       "      <td>Художественный</td>\n",
       "      <td>Тачстоун Пикчерз, Кобальт Пикчерз, Бикон Пикче...</td>\n",
       "      <td>США</td>\n",
       "      <td>Кевин Костнер</td>\n",
       "      <td>Дэвид Валдес, Кевин Костнер, Джейк Эбертс</td>\n",
       "      <td>«18+» - запрещено для детей</td>\n",
       "      <td>NaN</td>\n",
       "      <td>NaN</td>\n",
       "      <td>NaN</td>\n",
       "      <td>NaN</td>\n",
       "      <td>7.2</td>\n",
       "      <td>боевик,драма,мелодрама</td>\n",
       "    </tr>\n",
       "    <tr>\n",
       "      <th>1</th>\n",
       "      <td>Особо важное задание</td>\n",
       "      <td>111013716</td>\n",
       "      <td>2016-09-13T12:00:00.000Z</td>\n",
       "      <td>Художественный</td>\n",
       "      <td>Киностудия \"Мосфильм\"</td>\n",
       "      <td>СССР</td>\n",
       "      <td>Е.Матвеев</td>\n",
       "      <td>NaN</td>\n",
       "      <td>«6+» - для детей старше 6 лет</td>\n",
       "      <td>NaN</td>\n",
       "      <td>NaN</td>\n",
       "      <td>NaN</td>\n",
       "      <td>NaN</td>\n",
       "      <td>6.6</td>\n",
       "      <td>драма,военный</td>\n",
       "    </tr>\n",
       "    <tr>\n",
       "      <th>2</th>\n",
       "      <td>Особо опасен</td>\n",
       "      <td>221038416</td>\n",
       "      <td>2016-10-10T12:00:00.000Z</td>\n",
       "      <td>Художественный</td>\n",
       "      <td>Юниверсал Пикчерз, Кикстарт Продакшнз, Марк Пл...</td>\n",
       "      <td>США</td>\n",
       "      <td>Тимур Бекмамбетов</td>\n",
       "      <td>Джим Лемли, Джейсон Нетер, Марк Е.Платт, Яйн Смит</td>\n",
       "      <td>«18+» - запрещено для детей</td>\n",
       "      <td>NaN</td>\n",
       "      <td>NaN</td>\n",
       "      <td>NaN</td>\n",
       "      <td>NaN</td>\n",
       "      <td>6.8</td>\n",
       "      <td>фантастика,боевик,триллер</td>\n",
       "    </tr>\n",
       "  </tbody>\n",
       "</table>\n",
       "</div>"
      ],
      "text/plain": [
       "                  title   puNumber           show_start_date            type  \\\n",
       "0      Открытый простор  221048915  2015-11-27T12:00:00.000Z  Художественный   \n",
       "1  Особо важное задание  111013716  2016-09-13T12:00:00.000Z  Художественный   \n",
       "2          Особо опасен  221038416  2016-10-10T12:00:00.000Z  Художественный   \n",
       "\n",
       "                                         film_studio production_country  \\\n",
       "0  Тачстоун Пикчерз, Кобальт Пикчерз, Бикон Пикче...                США   \n",
       "1                              Киностудия \"Мосфильм\"               СССР   \n",
       "2  Юниверсал Пикчерз, Кикстарт Продакшнз, Марк Пл...                США   \n",
       "\n",
       "            director                                           producer  \\\n",
       "0      Кевин Костнер          Дэвид Валдес, Кевин Костнер, Джейк Эбертс   \n",
       "1          Е.Матвеев                                                NaN   \n",
       "2  Тимур Бекмамбетов  Джим Лемли, Джейсон Нетер, Марк Е.Платт, Яйн Смит   \n",
       "\n",
       "                 age_restriction  refundable_support  nonrefundable_support  \\\n",
       "0    «18+» - запрещено для детей                 NaN                    NaN   \n",
       "1  «6+» - для детей старше 6 лет                 NaN                    NaN   \n",
       "2    «18+» - запрещено для детей                 NaN                    NaN   \n",
       "\n",
       "   budget financing_source ratings                     genres  \n",
       "0     NaN              NaN     7.2     боевик,драма,мелодрама  \n",
       "1     NaN              NaN     6.6              драма,военный  \n",
       "2     NaN              NaN     6.8  фантастика,боевик,триллер  "
      ]
     },
     "execution_count": 3,
     "metadata": {},
     "output_type": "execute_result"
    }
   ],
   "source": [
    "try:\n",
    "    data = pd.read_csv('mkrf_movies.csv')\n",
    "except:\n",
    "    data = pd.read_csv('/datasets/mkrf_movies.csv')\n",
    "data.head(3)"
   ]
  },
  {
   "cell_type": "markdown",
   "metadata": {},
   "source": [
    "<div class=\"alert alert-block alert-danger\">\n",
    "<h2> Комментарий ревьюера 🤔<a class=\"tocSkip\"></h2>\n",
    "<s>\n",
    "Кажется, работа над проектов велась локально и пути к файлам не были изменены на общедоступные. Стоит переписать код таким образом, что бы он запускался и в jupiter hub, и локально без внесения дополнительных правок. Этого можно добиться многими способами. Например, использовать конструкцию ``try-except`` для путей файлов: ``try`` — пути на локальном компьютере, ``except`` — пути на сервере. Или применить библиотеку ``os``:\n",
    "\n",
    "    import os\n",
    "\n",
    "    pth1 = '/folder_1/data.csv'\n",
    "    pth2 = '/folder_2/data.csv'\n",
    "    \n",
    "    if os.path.exists(pth1):\n",
    "        query_1 = pd.read_csv(pth1)\n",
    "    elif os.path.exists(pth2):\n",
    "        query_1 = pd.read_csv(pth2)\n",
    "    else:\n",
    "        print('Something is wrong')"
   ]
  },
  {
   "cell_type": "code",
   "execution_count": 4,
   "metadata": {
    "scrolled": true
   },
   "outputs": [
    {
     "data": {
      "text/html": [
       "<div>\n",
       "<style scoped>\n",
       "    .dataframe tbody tr th:only-of-type {\n",
       "        vertical-align: middle;\n",
       "    }\n",
       "\n",
       "    .dataframe tbody tr th {\n",
       "        vertical-align: top;\n",
       "    }\n",
       "\n",
       "    .dataframe thead th {\n",
       "        text-align: right;\n",
       "    }\n",
       "</style>\n",
       "<table border=\"1\" class=\"dataframe\">\n",
       "  <thead>\n",
       "    <tr style=\"text-align: right;\">\n",
       "      <th></th>\n",
       "      <th>title</th>\n",
       "      <th>puNumber</th>\n",
       "      <th>show_start_date</th>\n",
       "      <th>type</th>\n",
       "      <th>film_studio</th>\n",
       "      <th>production_country</th>\n",
       "      <th>director</th>\n",
       "      <th>producer</th>\n",
       "      <th>age_restriction</th>\n",
       "      <th>refundable_support</th>\n",
       "      <th>nonrefundable_support</th>\n",
       "      <th>budget</th>\n",
       "      <th>financing_source</th>\n",
       "      <th>ratings</th>\n",
       "      <th>genres</th>\n",
       "    </tr>\n",
       "  </thead>\n",
       "  <tbody>\n",
       "    <tr>\n",
       "      <th>0</th>\n",
       "      <td>Открытый простор</td>\n",
       "      <td>221048915</td>\n",
       "      <td>2015-11-27T12:00:00.000Z</td>\n",
       "      <td>Художественный</td>\n",
       "      <td>Тачстоун Пикчерз, Кобальт Пикчерз, Бикон Пикче...</td>\n",
       "      <td>США</td>\n",
       "      <td>Кевин Костнер</td>\n",
       "      <td>Дэвид Валдес, Кевин Костнер, Джейк Эбертс</td>\n",
       "      <td>«18+» - запрещено для детей</td>\n",
       "      <td>NaN</td>\n",
       "      <td>NaN</td>\n",
       "      <td>NaN</td>\n",
       "      <td>NaN</td>\n",
       "      <td>7.2</td>\n",
       "      <td>боевик,драма,мелодрама</td>\n",
       "    </tr>\n",
       "    <tr>\n",
       "      <th>1</th>\n",
       "      <td>Особо важное задание</td>\n",
       "      <td>111013716</td>\n",
       "      <td>2016-09-13T12:00:00.000Z</td>\n",
       "      <td>Художественный</td>\n",
       "      <td>Киностудия \"Мосфильм\"</td>\n",
       "      <td>СССР</td>\n",
       "      <td>Е.Матвеев</td>\n",
       "      <td>NaN</td>\n",
       "      <td>«6+» - для детей старше 6 лет</td>\n",
       "      <td>NaN</td>\n",
       "      <td>NaN</td>\n",
       "      <td>NaN</td>\n",
       "      <td>NaN</td>\n",
       "      <td>6.6</td>\n",
       "      <td>драма,военный</td>\n",
       "    </tr>\n",
       "    <tr>\n",
       "      <th>2</th>\n",
       "      <td>Особо опасен</td>\n",
       "      <td>221038416</td>\n",
       "      <td>2016-10-10T12:00:00.000Z</td>\n",
       "      <td>Художественный</td>\n",
       "      <td>Юниверсал Пикчерз, Кикстарт Продакшнз, Марк Пл...</td>\n",
       "      <td>США</td>\n",
       "      <td>Тимур Бекмамбетов</td>\n",
       "      <td>Джим Лемли, Джейсон Нетер, Марк Е.Платт, Яйн Смит</td>\n",
       "      <td>«18+» - запрещено для детей</td>\n",
       "      <td>NaN</td>\n",
       "      <td>NaN</td>\n",
       "      <td>NaN</td>\n",
       "      <td>NaN</td>\n",
       "      <td>6.8</td>\n",
       "      <td>фантастика,боевик,триллер</td>\n",
       "    </tr>\n",
       "  </tbody>\n",
       "</table>\n",
       "</div>"
      ],
      "text/plain": [
       "                  title   puNumber           show_start_date            type  \\\n",
       "0      Открытый простор  221048915  2015-11-27T12:00:00.000Z  Художественный   \n",
       "1  Особо важное задание  111013716  2016-09-13T12:00:00.000Z  Художественный   \n",
       "2          Особо опасен  221038416  2016-10-10T12:00:00.000Z  Художественный   \n",
       "\n",
       "                                         film_studio production_country  \\\n",
       "0  Тачстоун Пикчерз, Кобальт Пикчерз, Бикон Пикче...                США   \n",
       "1                              Киностудия \"Мосфильм\"               СССР   \n",
       "2  Юниверсал Пикчерз, Кикстарт Продакшнз, Марк Пл...                США   \n",
       "\n",
       "            director                                           producer  \\\n",
       "0      Кевин Костнер          Дэвид Валдес, Кевин Костнер, Джейк Эбертс   \n",
       "1          Е.Матвеев                                                NaN   \n",
       "2  Тимур Бекмамбетов  Джим Лемли, Джейсон Нетер, Марк Е.Платт, Яйн Смит   \n",
       "\n",
       "                 age_restriction  refundable_support  nonrefundable_support  \\\n",
       "0    «18+» - запрещено для детей                 NaN                    NaN   \n",
       "1  «6+» - для детей старше 6 лет                 NaN                    NaN   \n",
       "2    «18+» - запрещено для детей                 NaN                    NaN   \n",
       "\n",
       "   budget financing_source ratings                     genres  \n",
       "0     NaN              NaN     7.2     боевик,драма,мелодрама  \n",
       "1     NaN              NaN     6.6              драма,военный  \n",
       "2     NaN              NaN     6.8  фантастика,боевик,триллер  "
      ]
     },
     "execution_count": 4,
     "metadata": {},
     "output_type": "execute_result"
    }
   ],
   "source": [
    "try:\n",
    "    data_shows = pd.read_csv('mkrf_shows.csv')\n",
    "except:\n",
    "    data_shows = pd.read_csv('/datasets/mkrf_shows.csv')\n",
    "data.head(3)"
   ]
  },
  {
   "cell_type": "markdown",
   "metadata": {},
   "source": [
    "Объединим файлы с данными в один датафрейм путём присоединения с помощью метода merge() таблицы data_shows к таблице data по столбцу 'puNumber'. Для этого сначала необходимо проверить один ли у столбцов тип данных, если нет, то привести в соответcтdие и уже затем объединить таблицы."
   ]
  },
  {
   "cell_type": "code",
   "execution_count": 5,
   "metadata": {},
   "outputs": [
    {
     "name": "stdout",
     "output_type": "stream",
     "text": [
      "<class 'pandas.core.frame.DataFrame'>\n",
      "RangeIndex: 7486 entries, 0 to 7485\n",
      "Data columns (total 15 columns):\n",
      " #   Column                 Non-Null Count  Dtype  \n",
      "---  ------                 --------------  -----  \n",
      " 0   title                  7486 non-null   object \n",
      " 1   puNumber               7486 non-null   object \n",
      " 2   show_start_date        7486 non-null   object \n",
      " 3   type                   7486 non-null   object \n",
      " 4   film_studio            7468 non-null   object \n",
      " 5   production_country     7484 non-null   object \n",
      " 6   director               7477 non-null   object \n",
      " 7   producer               6918 non-null   object \n",
      " 8   age_restriction        7486 non-null   object \n",
      " 9   refundable_support     332 non-null    float64\n",
      " 10  nonrefundable_support  332 non-null    float64\n",
      " 11  budget                 332 non-null    float64\n",
      " 12  financing_source       332 non-null    object \n",
      " 13  ratings                6519 non-null   object \n",
      " 14  genres                 6510 non-null   object \n",
      "dtypes: float64(3), object(12)\n",
      "memory usage: 877.4+ KB\n"
     ]
    }
   ],
   "source": [
    "data.info()"
   ]
  },
  {
   "cell_type": "code",
   "execution_count": 6,
   "metadata": {},
   "outputs": [
    {
     "name": "stdout",
     "output_type": "stream",
     "text": [
      "<class 'pandas.core.frame.DataFrame'>\n",
      "RangeIndex: 3158 entries, 0 to 3157\n",
      "Data columns (total 2 columns):\n",
      " #   Column      Non-Null Count  Dtype  \n",
      "---  ------      --------------  -----  \n",
      " 0   puNumber    3158 non-null   int64  \n",
      " 1   box_office  3158 non-null   float64\n",
      "dtypes: float64(1), int64(1)\n",
      "memory usage: 49.5 KB\n"
     ]
    }
   ],
   "source": [
    "data_shows.info()"
   ]
  },
  {
   "cell_type": "code",
   "execution_count": 7,
   "metadata": {},
   "outputs": [],
   "source": [
    "data['puNumber'] = data['puNumber'].str.strip()\n",
    "data['puNumber'] = pd.to_numeric(data['puNumber'], errors='coerce')"
   ]
  },
  {
   "cell_type": "code",
   "execution_count": 8,
   "metadata": {},
   "outputs": [
    {
     "data": {
      "text/plain": [
       "1"
      ]
     },
     "execution_count": 8,
     "metadata": {},
     "output_type": "execute_result"
    }
   ],
   "source": [
    "data['puNumber'].isna().sum()"
   ]
  },
  {
   "cell_type": "code",
   "execution_count": 9,
   "metadata": {},
   "outputs": [],
   "source": [
    "data = data.dropna(subset=['puNumber']).reset_index(drop=True)"
   ]
  },
  {
   "cell_type": "code",
   "execution_count": 10,
   "metadata": {},
   "outputs": [
    {
     "name": "stdout",
     "output_type": "stream",
     "text": [
      "<class 'pandas.core.frame.DataFrame'>\n",
      "RangeIndex: 7485 entries, 0 to 7484\n",
      "Data columns (total 15 columns):\n",
      " #   Column                 Non-Null Count  Dtype  \n",
      "---  ------                 --------------  -----  \n",
      " 0   title                  7485 non-null   object \n",
      " 1   puNumber               7485 non-null   int64  \n",
      " 2   show_start_date        7485 non-null   object \n",
      " 3   type                   7485 non-null   object \n",
      " 4   film_studio            7467 non-null   object \n",
      " 5   production_country     7483 non-null   object \n",
      " 6   director               7476 non-null   object \n",
      " 7   producer               6917 non-null   object \n",
      " 8   age_restriction        7485 non-null   object \n",
      " 9   refundable_support     332 non-null    float64\n",
      " 10  nonrefundable_support  332 non-null    float64\n",
      " 11  budget                 332 non-null    float64\n",
      " 12  financing_source       332 non-null    object \n",
      " 13  ratings                6519 non-null   object \n",
      " 14  genres                 6510 non-null   object \n",
      "dtypes: float64(3), int64(1), object(11)\n",
      "memory usage: 877.3+ KB\n"
     ]
    }
   ],
   "source": [
    "data['puNumber'] = data['puNumber'].astype('int64')\n",
    "data.info()"
   ]
  },
  {
   "cell_type": "markdown",
   "metadata": {},
   "source": [
    "<div class=\"alert alert-block alert-danger\">\n",
    "<h2> Комментарий ревьюера 🤔 v_2<a class=\"tocSkip\"></h2>\n",
    "<s>\n",
    "Ячейку нужно скорректировать("
   ]
  },
  {
   "cell_type": "markdown",
   "metadata": {},
   "source": [
    "<div class=\"alert alert-success\">\n",
    "<h2> Комментарий ревьюера 😊 v_3 <a class=\"tocSkip\"> </h2>\n",
    "\n",
    "👍"
   ]
  },
  {
   "cell_type": "markdown",
   "metadata": {},
   "source": [
    "Столбец с номером прокатного удостоверения пришлось предобработать и удалить пропуски, чтобы иметь возможность изменить тип данных на целочисленный для объединения таблиц. Такая строка была всего одна, поэтому удаление не повлияет на результаты исследования. "
   ]
  },
  {
   "cell_type": "markdown",
   "metadata": {},
   "source": [
    "Теперь объединим таблицы с приоритетом сохранения всех строк датафрейма data (mkrf_movies.csv). И проверим, что количество строк не изменилось в меньшую сторону (после удаления одной строки с отсутствующим номером прокатного удостоверения у нас осталось 7485 строк). "
   ]
  },
  {
   "cell_type": "code",
   "execution_count": 11,
   "metadata": {
    "scrolled": true
   },
   "outputs": [
    {
     "data": {
      "text/html": [
       "<div>\n",
       "<style scoped>\n",
       "    .dataframe tbody tr th:only-of-type {\n",
       "        vertical-align: middle;\n",
       "    }\n",
       "\n",
       "    .dataframe tbody tr th {\n",
       "        vertical-align: top;\n",
       "    }\n",
       "\n",
       "    .dataframe thead th {\n",
       "        text-align: right;\n",
       "    }\n",
       "</style>\n",
       "<table border=\"1\" class=\"dataframe\">\n",
       "  <thead>\n",
       "    <tr style=\"text-align: right;\">\n",
       "      <th></th>\n",
       "      <th>title</th>\n",
       "      <th>puNumber</th>\n",
       "      <th>show_start_date</th>\n",
       "      <th>type</th>\n",
       "      <th>film_studio</th>\n",
       "      <th>production_country</th>\n",
       "      <th>director</th>\n",
       "      <th>producer</th>\n",
       "      <th>age_restriction</th>\n",
       "      <th>refundable_support</th>\n",
       "      <th>nonrefundable_support</th>\n",
       "      <th>budget</th>\n",
       "      <th>financing_source</th>\n",
       "      <th>ratings</th>\n",
       "      <th>genres</th>\n",
       "      <th>box_office</th>\n",
       "    </tr>\n",
       "  </thead>\n",
       "  <tbody>\n",
       "    <tr>\n",
       "      <th>0</th>\n",
       "      <td>Открытый простор</td>\n",
       "      <td>221048915</td>\n",
       "      <td>2015-11-27T12:00:00.000Z</td>\n",
       "      <td>Художественный</td>\n",
       "      <td>Тачстоун Пикчерз, Кобальт Пикчерз, Бикон Пикче...</td>\n",
       "      <td>США</td>\n",
       "      <td>Кевин Костнер</td>\n",
       "      <td>Дэвид Валдес, Кевин Костнер, Джейк Эбертс</td>\n",
       "      <td>«18+» - запрещено для детей</td>\n",
       "      <td>NaN</td>\n",
       "      <td>NaN</td>\n",
       "      <td>NaN</td>\n",
       "      <td>NaN</td>\n",
       "      <td>7.2</td>\n",
       "      <td>боевик,драма,мелодрама</td>\n",
       "      <td>NaN</td>\n",
       "    </tr>\n",
       "    <tr>\n",
       "      <th>1</th>\n",
       "      <td>Особо важное задание</td>\n",
       "      <td>111013716</td>\n",
       "      <td>2016-09-13T12:00:00.000Z</td>\n",
       "      <td>Художественный</td>\n",
       "      <td>Киностудия \"Мосфильм\"</td>\n",
       "      <td>СССР</td>\n",
       "      <td>Е.Матвеев</td>\n",
       "      <td>NaN</td>\n",
       "      <td>«6+» - для детей старше 6 лет</td>\n",
       "      <td>NaN</td>\n",
       "      <td>NaN</td>\n",
       "      <td>NaN</td>\n",
       "      <td>NaN</td>\n",
       "      <td>6.6</td>\n",
       "      <td>драма,военный</td>\n",
       "      <td>NaN</td>\n",
       "    </tr>\n",
       "    <tr>\n",
       "      <th>2</th>\n",
       "      <td>Особо опасен</td>\n",
       "      <td>221038416</td>\n",
       "      <td>2016-10-10T12:00:00.000Z</td>\n",
       "      <td>Художественный</td>\n",
       "      <td>Юниверсал Пикчерз, Кикстарт Продакшнз, Марк Пл...</td>\n",
       "      <td>США</td>\n",
       "      <td>Тимур Бекмамбетов</td>\n",
       "      <td>Джим Лемли, Джейсон Нетер, Марк Е.Платт, Яйн Смит</td>\n",
       "      <td>«18+» - запрещено для детей</td>\n",
       "      <td>NaN</td>\n",
       "      <td>NaN</td>\n",
       "      <td>NaN</td>\n",
       "      <td>NaN</td>\n",
       "      <td>6.8</td>\n",
       "      <td>фантастика,боевик,триллер</td>\n",
       "      <td>NaN</td>\n",
       "    </tr>\n",
       "  </tbody>\n",
       "</table>\n",
       "</div>"
      ],
      "text/plain": [
       "                  title   puNumber           show_start_date            type  \\\n",
       "0      Открытый простор  221048915  2015-11-27T12:00:00.000Z  Художественный   \n",
       "1  Особо важное задание  111013716  2016-09-13T12:00:00.000Z  Художественный   \n",
       "2          Особо опасен  221038416  2016-10-10T12:00:00.000Z  Художественный   \n",
       "\n",
       "                                         film_studio production_country  \\\n",
       "0  Тачстоун Пикчерз, Кобальт Пикчерз, Бикон Пикче...                США   \n",
       "1                              Киностудия \"Мосфильм\"               СССР   \n",
       "2  Юниверсал Пикчерз, Кикстарт Продакшнз, Марк Пл...                США   \n",
       "\n",
       "            director                                           producer  \\\n",
       "0      Кевин Костнер          Дэвид Валдес, Кевин Костнер, Джейк Эбертс   \n",
       "1          Е.Матвеев                                                NaN   \n",
       "2  Тимур Бекмамбетов  Джим Лемли, Джейсон Нетер, Марк Е.Платт, Яйн Смит   \n",
       "\n",
       "                 age_restriction  refundable_support  nonrefundable_support  \\\n",
       "0    «18+» - запрещено для детей                 NaN                    NaN   \n",
       "1  «6+» - для детей старше 6 лет                 NaN                    NaN   \n",
       "2    «18+» - запрещено для детей                 NaN                    NaN   \n",
       "\n",
       "   budget financing_source ratings                     genres  box_office  \n",
       "0     NaN              NaN     7.2     боевик,драма,мелодрама         NaN  \n",
       "1     NaN              NaN     6.6              драма,военный         NaN  \n",
       "2     NaN              NaN     6.8  фантастика,боевик,триллер         NaN  "
      ]
     },
     "execution_count": 11,
     "metadata": {},
     "output_type": "execute_result"
    }
   ],
   "source": [
    "data = data.merge(data_shows, on='puNumber', how='left')\n",
    "data.head(3)"
   ]
  },
  {
   "cell_type": "code",
   "execution_count": 12,
   "metadata": {},
   "outputs": [
    {
     "name": "stdout",
     "output_type": "stream",
     "text": [
      "Количество строк после объединения датасета составляет 7485, потерь данных нет.\n"
     ]
    }
   ],
   "source": [
    "if data.shape[0] == 7485:\n",
    "    print('Количество строк после объединения датасета составляет 7485, потерь данных нет.')\n",
    "else:\n",
    "    print('Неожиданное количество строк. Объединение выполнено неверно.')"
   ]
  },
  {
   "cell_type": "markdown",
   "metadata": {},
   "source": [
    "Приведём название столбца к привычному стилю"
   ]
  },
  {
   "cell_type": "code",
   "execution_count": 13,
   "metadata": {},
   "outputs": [],
   "source": [
    "data.rename(columns = {'puNumber':'pu_number'}, inplace=True)"
   ]
  },
  {
   "cell_type": "markdown",
   "metadata": {},
   "source": [
    "<div class=\"alert alert-block alert-danger\">\n",
    "<h2> Комментарий ревьюера 🤔 v_2<a class=\"tocSkip\"></h2><s>\n",
    "После объединения следует провести проверку, что убедиться что потерь нет, согласно заданию."
   ]
  },
  {
   "cell_type": "markdown",
   "metadata": {},
   "source": [
    "<div class=\"alert alert-success\">\n",
    "<h2> Комментарий ревьюера 😊 v_2 <a class=\"tocSkip\"> </h2>\n",
    "\n",
    "Хорошо)"
   ]
  },
  {
   "cell_type": "markdown",
   "metadata": {
    "id": "KLDGpPG0gFyM"
   },
   "source": [
    "### Шаг 2. Предобработка данных"
   ]
  },
  {
   "cell_type": "markdown",
   "metadata": {
    "id": "ssWwKXsxgFyO"
   },
   "source": [
    "#### Шаг 2.1. Проверим типы данных\n",
    "\n",
    "Проверим типы данных в датафрейме и преобразуем их там, где это необходимо."
   ]
  },
  {
   "cell_type": "code",
   "execution_count": 14,
   "metadata": {
    "id": "kVGSplJOgFyO"
   },
   "outputs": [
    {
     "name": "stdout",
     "output_type": "stream",
     "text": [
      "<class 'pandas.core.frame.DataFrame'>\n",
      "Int64Index: 7485 entries, 0 to 7484\n",
      "Data columns (total 16 columns):\n",
      " #   Column                 Non-Null Count  Dtype  \n",
      "---  ------                 --------------  -----  \n",
      " 0   title                  7485 non-null   object \n",
      " 1   pu_number              7485 non-null   int64  \n",
      " 2   show_start_date        7485 non-null   object \n",
      " 3   type                   7485 non-null   object \n",
      " 4   film_studio            7467 non-null   object \n",
      " 5   production_country     7483 non-null   object \n",
      " 6   director               7476 non-null   object \n",
      " 7   producer               6917 non-null   object \n",
      " 8   age_restriction        7485 non-null   object \n",
      " 9   refundable_support     332 non-null    float64\n",
      " 10  nonrefundable_support  332 non-null    float64\n",
      " 11  budget                 332 non-null    float64\n",
      " 12  financing_source       332 non-null    object \n",
      " 13  ratings                6519 non-null   object \n",
      " 14  genres                 6510 non-null   object \n",
      " 15  box_office             3158 non-null   float64\n",
      "dtypes: float64(4), int64(1), object(11)\n",
      "memory usage: 994.1+ KB\n"
     ]
    }
   ],
   "source": [
    "data.info()"
   ]
  },
  {
   "cell_type": "markdown",
   "metadata": {},
   "source": [
    "Исправим типы данных у столбца 'show_start_date' и у столбца с рейтингом"
   ]
  },
  {
   "cell_type": "code",
   "execution_count": 15,
   "metadata": {},
   "outputs": [],
   "source": [
    "data['show_start_date'] = pd.to_datetime(data['show_start_date'], format='%Y-%m-%dT%H:%M:%S')"
   ]
  },
  {
   "cell_type": "code",
   "execution_count": 16,
   "metadata": {},
   "outputs": [],
   "source": [
    "data['ratings'] = pd.to_numeric(data['ratings'], errors='coerce')"
   ]
  },
  {
   "cell_type": "markdown",
   "metadata": {},
   "source": [
    "<div class=\"alert alert-success\">\n",
    "<h2> Комментарий ревьюера 😊 v_2 <a class=\"tocSkip\"> </h2>\n",
    "\n",
    "Типы преобразованы верно)"
   ]
  },
  {
   "cell_type": "markdown",
   "metadata": {
    "id": "i0MOLbF-gFyP"
   },
   "source": [
    "#### Шаг 2.2. Изучим пропуски в датафрейме"
   ]
  },
  {
   "cell_type": "markdown",
   "metadata": {},
   "source": [
    "Посмотрим на столбцы с пропусками и количество пропусков данных визуально. "
   ]
  },
  {
   "cell_type": "code",
   "execution_count": 17,
   "metadata": {
    "id": "8MJD_lkngFyP",
    "scrolled": true
   },
   "outputs": [
    {
     "data": {
      "text/plain": [
       "<AxesSubplot:>"
      ]
     },
     "execution_count": 17,
     "metadata": {},
     "output_type": "execute_result"
    },
    {
     "data": {
      "image/png": "[encoded data removed]",
      "text/plain": [
       "<Figure size 1800x720 with 3 Axes>"
      ]
     },
     "metadata": {
      "needs_background": "light"
     },
     "output_type": "display_data"
    }
   ],
   "source": [
    "msno.bar(data)"
   ]
  },
  {
   "cell_type": "markdown",
   "metadata": {},
   "source": [
    "Больше всего пропусков в столбцах, описывающих бюджет. Исходя из описания датафрейма, в этих столбцах есть данные только для фильмов, которые получили государственную поддержку (выходит, что таких фильмов 332). Заполнять пропуски мы здесь никак не будем. В столбцах 'film_studio', 'production_country', 'director', 'producer', 'genres' заменим пропуски на слово \"неизвестно\" т.к. в случае отсутствующих значений невозможно будет выполнять некоторые операции с данными столбцами. "
   ]
  },
  {
   "cell_type": "code",
   "execution_count": 18,
   "metadata": {},
   "outputs": [],
   "source": [
    "list_of_nan = ['film_studio', 'production_country', 'director', 'producer', 'genres']\n",
    "for i in list_of_nan:\n",
    "    data[i] = data[i].fillna('неизвестно')"
   ]
  },
  {
   "cell_type": "markdown",
   "metadata": {},
   "source": [
    "<div class=\"alert alert-success\">\n",
    "<h2> Комментарий ревьюера 😊 v_2 <a class=\"tocSkip\"> </h2>\n",
    "\n",
    "Отличное отображение и работа с пропусками)"
   ]
  },
  {
   "cell_type": "markdown",
   "metadata": {
    "id": "4c6k1t9ygFyQ"
   },
   "source": [
    "#### Шаг 2.3. Изучим дубликаты в датафрейме"
   ]
  },
  {
   "cell_type": "code",
   "execution_count": 19,
   "metadata": {
    "id": "aKck8RIdgFyQ"
   },
   "outputs": [
    {
     "data": {
      "text/plain": [
       "0"
      ]
     },
     "execution_count": 19,
     "metadata": {},
     "output_type": "execute_result"
    }
   ],
   "source": [
    "data.duplicated().sum()"
   ]
  },
  {
   "cell_type": "code",
   "execution_count": 20,
   "metadata": {},
   "outputs": [
    {
     "data": {
      "text/plain": [
       "121008210    1\n",
       "111001616    1\n",
       "111005714    1\n",
       "126007319    1\n",
       "121002011    1\n",
       "            ..\n",
       "112000719    1\n",
       "121010113    1\n",
       "121004012    1\n",
       "221154310    2\n",
       "221054410    2\n",
       "Name: pu_number, Length: 7483, dtype: int64"
      ]
     },
     "execution_count": 20,
     "metadata": {},
     "output_type": "execute_result"
    }
   ],
   "source": [
    "data['pu_number'].value_counts().sort_values()"
   ]
  },
  {
   "cell_type": "code",
   "execution_count": 21,
   "metadata": {},
   "outputs": [
    {
     "data": {
      "text/html": [
       "<div>\n",
       "<style scoped>\n",
       "    .dataframe tbody tr th:only-of-type {\n",
       "        vertical-align: middle;\n",
       "    }\n",
       "\n",
       "    .dataframe tbody tr th {\n",
       "        vertical-align: top;\n",
       "    }\n",
       "\n",
       "    .dataframe thead th {\n",
       "        text-align: right;\n",
       "    }\n",
       "</style>\n",
       "<table border=\"1\" class=\"dataframe\">\n",
       "  <thead>\n",
       "    <tr style=\"text-align: right;\">\n",
       "      <th></th>\n",
       "      <th>title</th>\n",
       "      <th>pu_number</th>\n",
       "      <th>show_start_date</th>\n",
       "      <th>type</th>\n",
       "      <th>film_studio</th>\n",
       "      <th>production_country</th>\n",
       "      <th>director</th>\n",
       "      <th>producer</th>\n",
       "      <th>age_restriction</th>\n",
       "      <th>refundable_support</th>\n",
       "      <th>nonrefundable_support</th>\n",
       "      <th>budget</th>\n",
       "      <th>financing_source</th>\n",
       "      <th>ratings</th>\n",
       "      <th>genres</th>\n",
       "      <th>box_office</th>\n",
       "    </tr>\n",
       "  </thead>\n",
       "  <tbody>\n",
       "    <tr>\n",
       "      <th>4637</th>\n",
       "      <td>Как жениться и остаться холостым</td>\n",
       "      <td>221154310</td>\n",
       "      <td>2010-12-17 12:00:00+00:00</td>\n",
       "      <td>Художественный</td>\n",
       "      <td>Ше Вам, Скрипт Ассосье, Тэ Фэ 1 Фильм Продюксь...</td>\n",
       "      <td>Франция</td>\n",
       "      <td>Эрик Лартиго</td>\n",
       "      <td>Амандин Било, Алан Шаба</td>\n",
       "      <td>«16+» - для детей старше 16 лет</td>\n",
       "      <td>NaN</td>\n",
       "      <td>NaN</td>\n",
       "      <td>NaN</td>\n",
       "      <td>NaN</td>\n",
       "      <td>7.0</td>\n",
       "      <td>мелодрама,комедия</td>\n",
       "      <td>NaN</td>\n",
       "    </tr>\n",
       "    <tr>\n",
       "      <th>4638</th>\n",
       "      <td>Иоанна - женщина на папском престоле /По роман...</td>\n",
       "      <td>221154310</td>\n",
       "      <td>2010-12-17 12:00:00+00:00</td>\n",
       "      <td>Художественный</td>\n",
       "      <td>Константин Фильм, А Эр Ди Дегето Фильм, Дюне ...</td>\n",
       "      <td>Германия - Великобритания - Италия - Испания</td>\n",
       "      <td>Зенке Вортманн</td>\n",
       "      <td>Оливер Бербен, Дорис Д.Хайнце, Фарук Элтан</td>\n",
       "      <td>«16+» - для детей старше 16 лет</td>\n",
       "      <td>NaN</td>\n",
       "      <td>NaN</td>\n",
       "      <td>NaN</td>\n",
       "      <td>NaN</td>\n",
       "      <td>7.6</td>\n",
       "      <td>драма,мелодрама,история</td>\n",
       "      <td>NaN</td>\n",
       "    </tr>\n",
       "    <tr>\n",
       "      <th>5066</th>\n",
       "      <td>Анализируй это!</td>\n",
       "      <td>221054410</td>\n",
       "      <td>2010-05-25 12:00:00+00:00</td>\n",
       "      <td>Художественный</td>\n",
       "      <td>Уорнер Бразерс, Вилладж Роудшоу Филмз ЛТД</td>\n",
       "      <td>США-Австралия</td>\n",
       "      <td>ХЭрольд Рэмис</td>\n",
       "      <td>Джейн Розенталь, Пола Уейнстейн</td>\n",
       "      <td>«16+» - для детей старше 16 лет</td>\n",
       "      <td>NaN</td>\n",
       "      <td>NaN</td>\n",
       "      <td>NaN</td>\n",
       "      <td>NaN</td>\n",
       "      <td>7.4</td>\n",
       "      <td>комедия,криминал</td>\n",
       "      <td>NaN</td>\n",
       "    </tr>\n",
       "    <tr>\n",
       "      <th>5067</th>\n",
       "      <td>Анализируй то!</td>\n",
       "      <td>221054410</td>\n",
       "      <td>2010-05-25 12:00:00+00:00</td>\n",
       "      <td>Художественный</td>\n",
       "      <td>Уорнер Бразерс, Виллидж Роадшоу Пикчерз, Эн-Пи...</td>\n",
       "      <td>США</td>\n",
       "      <td>Гарольд Реймис</td>\n",
       "      <td>Джейн Розенталь, Паул Уэйнстейн</td>\n",
       "      <td>«12+» - для детей старше 12 лет</td>\n",
       "      <td>NaN</td>\n",
       "      <td>NaN</td>\n",
       "      <td>NaN</td>\n",
       "      <td>NaN</td>\n",
       "      <td>6.8</td>\n",
       "      <td>комедия,криминал</td>\n",
       "      <td>NaN</td>\n",
       "    </tr>\n",
       "  </tbody>\n",
       "</table>\n",
       "</div>"
      ],
      "text/plain": [
       "                                                  title  pu_number  \\\n",
       "4637                   Как жениться и остаться холостым  221154310   \n",
       "4638  Иоанна - женщина на папском престоле /По роман...  221154310   \n",
       "5066                                    Анализируй это!  221054410   \n",
       "5067                                     Анализируй то!  221054410   \n",
       "\n",
       "               show_start_date            type  \\\n",
       "4637 2010-12-17 12:00:00+00:00  Художественный   \n",
       "4638 2010-12-17 12:00:00+00:00  Художественный   \n",
       "5066 2010-05-25 12:00:00+00:00  Художественный   \n",
       "5067 2010-05-25 12:00:00+00:00  Художественный   \n",
       "\n",
       "                                            film_studio  \\\n",
       "4637  Ше Вам, Скрипт Ассосье, Тэ Фэ 1 Фильм Продюксь...   \n",
       "4638   Константин Фильм, А Эр Ди Дегето Фильм, Дюне ...   \n",
       "5066          Уорнер Бразерс, Вилладж Роудшоу Филмз ЛТД   \n",
       "5067  Уорнер Бразерс, Виллидж Роадшоу Пикчерз, Эн-Пи...   \n",
       "\n",
       "                                production_country        director  \\\n",
       "4637                                       Франция    Эрик Лартиго   \n",
       "4638  Германия - Великобритания - Италия - Испания  Зенке Вортманн   \n",
       "5066                                 США-Австралия   ХЭрольд Рэмис   \n",
       "5067                                           США  Гарольд Реймис   \n",
       "\n",
       "                                        producer  \\\n",
       "4637                     Амандин Било, Алан Шаба   \n",
       "4638  Оливер Бербен, Дорис Д.Хайнце, Фарук Элтан   \n",
       "5066             Джейн Розенталь, Пола Уейнстейн   \n",
       "5067             Джейн Розенталь, Паул Уэйнстейн   \n",
       "\n",
       "                      age_restriction  refundable_support  \\\n",
       "4637  «16+» - для детей старше 16 лет                 NaN   \n",
       "4638  «16+» - для детей старше 16 лет                 NaN   \n",
       "5066  «16+» - для детей старше 16 лет                 NaN   \n",
       "5067  «12+» - для детей старше 12 лет                 NaN   \n",
       "\n",
       "      nonrefundable_support  budget financing_source  ratings  \\\n",
       "4637                    NaN     NaN              NaN      7.0   \n",
       "4638                    NaN     NaN              NaN      7.6   \n",
       "5066                    NaN     NaN              NaN      7.4   \n",
       "5067                    NaN     NaN              NaN      6.8   \n",
       "\n",
       "                       genres  box_office  \n",
       "4637        мелодрама,комедия         NaN  \n",
       "4638  драма,мелодрама,история         NaN  \n",
       "5066         комедия,криминал         NaN  \n",
       "5067         комедия,криминал         NaN  "
      ]
     },
     "execution_count": 21,
     "metadata": {},
     "output_type": "execute_result"
    }
   ],
   "source": [
    "data.query('pu_number == 221154310 or pu_number == 221054410')"
   ]
  },
  {
   "cell_type": "markdown",
   "metadata": {},
   "source": [
    "На сайте Министерства Культуры под данными номерами также значится по 2 фильма. Скорей всего это ошибка в данных со стороны Министерства. Удалять строки не будем т.к. по сути это не дубликаты. "
   ]
  },
  {
   "cell_type": "markdown",
   "metadata": {},
   "source": [
    "<div class=\"alert alert-warning\">\n",
    "<h2> Комментарий ревьюера 🤓 v_2 <a class=\"tocSkip\"> </h2>\n",
    "\n",
    "Также можно проверить названия фильмов на кол-во дубликатов, или найти дубликаты сразу по нескольким столбцам, например название и режиссер)"
   ]
  },
  {
   "cell_type": "markdown",
   "metadata": {
    "id": "52fOPrEBgFyQ"
   },
   "source": [
    "#### Шаг 2.4. Изучим категориальные значения\n",
    "\n",
    "Посмотрим, какая общая проблема встречается почти во всех категориальных столбцах;\n",
    "Исправим проблемные значения в поле `type`."
   ]
  },
  {
   "cell_type": "code",
   "execution_count": 22,
   "metadata": {},
   "outputs": [
    {
     "data": {
      "text/plain": [
       "array(['Художественный', 'Анимационный', 'Прочие', 'Документальный',\n",
       "       'Научно-популярный', ' Художественный', ' Анимационный',\n",
       "       'Музыкально-развлекательный'], dtype=object)"
      ]
     },
     "execution_count": 22,
     "metadata": {},
     "output_type": "execute_result"
    }
   ],
   "source": [
    "data['type'].unique()"
   ]
  },
  {
   "cell_type": "markdown",
   "metadata": {},
   "source": [
    "Исправим проблемные значения в столбце type, где присутствуют лишние пробелы (как в столбце с номером прокатного удостоверения). "
   ]
  },
  {
   "cell_type": "code",
   "execution_count": 23,
   "metadata": {
    "id": "PnXKIVdFgFyR"
   },
   "outputs": [],
   "source": [
    "data['type'] = data['type'].str.strip()"
   ]
  },
  {
   "cell_type": "markdown",
   "metadata": {},
   "source": [
    "Даже по верхушке датафрейма видно, что в столбце со страной страны записаны по-разному. Приведём их к единому стилю. "
   ]
  },
  {
   "cell_type": "code",
   "execution_count": 24,
   "metadata": {},
   "outputs": [
    {
     "data": {
      "text/plain": [
       "array(['США', 'СССР', 'Франция', 'СССР, Венгрия',\n",
       "       'Германия-Великобритания', 'Великобритания - Италия',\n",
       "       'Чехословакия', 'США - Франция - Турция', 'Новая Зеландия',\n",
       "       'Канада - Франция - Испания', 'США-Германия',\n",
       "       'США - Великобритания', 'Великобритания', 'США - Германия',\n",
       "       'Франция - Мексика - США', 'Россия, Казахстан, США',\n",
       "       'СССР, Швеция', 'СССР, Франция, Англия, Куба, ГДР', 'Германия',\n",
       "       'Великобритания-США-Германия-КНР',\n",
       "       'СССР, ЧССР, Западный Берлин, ПНР', 'СССР, Италия', 'Гонконг, КНР',\n",
       "       'США - Франция', 'США - Япония - Франция - Великобритания',\n",
       "       'Гонконг - Сингапур - Таиланд - Великобритания', 'США-Канада',\n",
       "       'Франция - Италия - Великобритания - США', 'Франция - США',\n",
       "       'Ирландия-Великобритания-Германия', 'Чехия', 'США-Австралия',\n",
       "       'СССР, Финляндия', 'США-Франция-Великобритания-Австрия',\n",
       "       'США - Бельгия', 'США - Ирландия - Великобритания',\n",
       "       'Великобритания - США',\n",
       "       'Люксембург - Нидерланды - Испания - Великобритания - США - Италия',\n",
       "       'Великобритания - Франция - США', 'Новая Зеландия - США',\n",
       "       'США - Великобритания - Чехия',\n",
       "       'Канада - Франция - Великобритания', 'Ирландия',\n",
       "       'Великобритания - Германия - США',\n",
       "       'США - Франция - Великобритания', 'Япония', 'СССР, Польша',\n",
       "       'Франция - Испания', 'Канада-Франция', 'Германия - Италия - США',\n",
       "       'Аргентина - Бразилия', 'Дания - Швейцария - Бельгия - Франция',\n",
       "       'США - Испания', 'Германия - США',\n",
       "       'Франция - Австрия - Германия - Италия - США', 'Австрия',\n",
       "       'США - Канада - Германия', 'США - Канада',\n",
       "       'СССР - Швейцария - Франция', 'Россия - Казахстан', 'Гонконг',\n",
       "       'Италия', 'США - ОАЭ', 'Россия',\n",
       "       'США - Франция - Испания - Великобритания',\n",
       "       'Великобритания - Франция', 'США-Италия-Испания-Аргентина',\n",
       "       'Франция-Великобритания', 'КНР - Гонконг',\n",
       "       'Франция - Италия - Швейцария', 'США - Новая Зеландия',\n",
       "       'Франция - Бельгия', 'КНР', 'Германия - Великобритания - Австрия',\n",
       "       'Великобритания - Израиль - Франция - Япония - США', 'Швеция',\n",
       "       'Испания', 'Дания', 'Франция - Бельгия - Люксембург',\n",
       "       'США - Индия - ОАЭ',\n",
       "       'Германия-Канада-Великобритания-Швейцария-Франция',\n",
       "       'Мексика - Чили', 'Аргентина', 'Бразилия', 'Чили', 'Австралия',\n",
       "       'Португалия - Франция', 'США - ЮАР', 'Исландия-Ирландия-Германия',\n",
       "       'США-Индонезия', 'Южная Корея', 'Мексика - Испания - Дания - США',\n",
       "       'Великобритания-США', 'Франция - Италия', 'США-Франция',\n",
       "       'США - Венгрия - Великобритания', 'Бельгия-Франция-Италия',\n",
       "       'Чехия - Германия', 'Германия - Франция', 'США-Нидерланды',\n",
       "       'Украина', 'Великобритания - Германия', 'Франция-Бельгия',\n",
       "       'США-Франция-Испания', 'Италия - Франция', 'Канада',\n",
       "       'Швеция-Франция-Дания', 'Германия-Франция-Польша',\n",
       "       'Франция-Великобритания - Германия',\n",
       "       'США - Бразилия - Франция - Австралия - Великобритания - Германия',\n",
       "       'Германия-Австрия', 'Германия-Италия- Шри-Ланка',\n",
       "       'Великобритания - Испания',\n",
       "       'США - Великобритания - Канада - Швеция',\n",
       "       'Босния и Герцеговина - Франция - Великобритания - Германия - Словения - Бельгия - Сербия',\n",
       "       'Великобритания - Франция - Италия - США', 'США-ОАЭ',\n",
       "       'Испания - Франция', 'США-Великобритания', 'США-ЮАР',\n",
       "       'Великобритания-Австралия - США',\n",
       "       'Норвегия - Швеция - Дания - Германия', 'Норвегия', 'Швейцария',\n",
       "       'Греция - Германия - Франция', 'Норвения', 'Южная Корея - США',\n",
       "       'Чили - Франция - США', 'Австрия - Германия - Франция',\n",
       "       'Швеция - Дания', 'Великобритания - Франция - Бельгия - Италия',\n",
       "       'Франция - Германия', 'Грузия - Франция - Люксембург',\n",
       "       'США - Франция - Великобритания - Бразилия ', 'США - КНР',\n",
       "       'Мексика - Франция', 'США - Германия - Гонконг - Сингапур',\n",
       "       'Финляндия - Австрия - Россия', 'Испания - Куба',\n",
       "       'Великобритания - ЮАР', 'Великобритания - Ирландия', 'Израиль',\n",
       "       'Бразилия - Германия - Порртугалия - Франция ',\n",
       "       'Франция - Канада - Бельгия', 'Франция-Испания',\n",
       "       'Испания - Канада - Япония', 'Иран', 'Швеция-Куба',\n",
       "       'США-Великобритания-Ирландия', 'Гонконг - КНР', 'Нидерланды',\n",
       "       'Испания - Канада', 'Япония-Великобритания',\n",
       "       'Великобритания - Норвегия - Дания - Германия',\n",
       "       'Финляндия - Франция - Германия',\n",
       "       'Мексика - Франция - Нидерланды - Германия', 'США - Индия',\n",
       "       'США-Великобритания-Индия', 'США-Канада-Бельгия',\n",
       "       'Республика Узбекистан', 'Италия ', 'Турция',\n",
       "       'Сербия - Словения - Хорватия - Черногория - Македония',\n",
       "       'Киргизия', 'Германия - Нидерланды - Беларусь - Россия - Латвия',\n",
       "       'Индия', 'Нидерланды - Россия - Германия',\n",
       "       'Великобритания - Нидерланды - Франция - Хорватия',\n",
       "       'Канада - Южная Корея',\n",
       "       'Великобритания - Польша - КНР - Индия - Норвегия',\n",
       "       'Япония - Франция - США - Южная Корея - Турция',\n",
       "       'Мексика - Аргентина - Великобритания', 'Израиль - Франция',\n",
       "       'Польша - Португалия - Франция - Великобритания',\n",
       "       'Австралия - США', 'США - Великобритания ',\n",
       "       'Франция - Люксембург - Бельгия', 'Армения',\n",
       "       'Бельгия - Люксембург - Франция - Швейцария',\n",
       "       'США - Великобритания - Канада', 'Норвегия - Швеция',\n",
       "       'Канада - Франция', 'КНР - Гонконг - США',\n",
       "       'США - Сингапур - Малайзия - Индонезия', 'Германия - Россия',\n",
       "       'Япония - Канада', 'Финляндия - Дания - Германия - Ирландия',\n",
       "       'Франция - Люксембург - Германия - Бельгия - Швейцария - Великобритания ',\n",
       "       'Канада - США', 'США-Италия-Испания', 'США-Испания',\n",
       "       'США - Швейцария - Франция', 'Испания - США - Колумбия',\n",
       "       'Канада-ЮАР', 'Франция - Россия',\n",
       "       'Германия - Финляндия - Австралия', 'Дания - Швеция', 'Бельгия',\n",
       "       'Германия - Франция - Австрия', 'Франция-Индия', 'ЮАР',\n",
       "       'Франция-Перу', 'Франция - Канада', 'Республика Беларусь',\n",
       "       'Великобритания - Австрия - Франция - США',\n",
       "       'Австрия-Германия-Франция', 'США-Россия', 'Германия-США',\n",
       "       'США - Южная Корея', 'Канада - КНР',\n",
       "       'Дания - Швеция - Италия - Франция - Германия',\n",
       "       'Франция-Италия-Испания-Венгрия', 'Франция - Германия - Бельгия',\n",
       "       'Франция-Великобритания-Чехия', 'Румыния - Франция - Бельгия',\n",
       "       'Болгария - Франция - Изриль',\n",
       "       'Израиль - Германия - Польша - Бельгия - Франция - Люксембург',\n",
       "       'Россия, Германия, Франция, Бельгия', 'Индонезия',\n",
       "       'Франция - Португалия', 'Великобритания - Пуэрто-Рико',\n",
       "       'СССР, ФРГ, Западный Берлин', 'Россия, Республика Беларусь',\n",
       "       'США, Великобритания', 'Франция - Австрия', 'Бельгия-Нидерланды',\n",
       "       'Великобритания - США - Индия', 'США - Великобритания - Австралия',\n",
       "       'Канада - Франция - США - ОАЭ - Великобритания',\n",
       "       'США - Австралия - Франция',\n",
       "       'Дания-Франция-Бельгия-Германия-Великобритания',\n",
       "       'Испания - Аргентина', 'Исландия - Финляндия',\n",
       "       'Россия-Польша-Голландия-Словакия', 'Дания - Германия - Швеция',\n",
       "       'Южная Корея - США - Канада', 'Таиланд', 'США-Мальта',\n",
       "       'США -Германия',\n",
       "       'Великобритания - Германия - Франция - Кипр - США', 'Мексика',\n",
       "       'США - Великобритания - Ирландия', 'США - Украина',\n",
       "       'США - Финляндия - Испания - Великобритания - Франция',\n",
       "       'Австралия-Великобритания',\n",
       "       'США - Канада - Афганистан - Бельгия - Франция',\n",
       "       'США - Великобритания - Германия - Новая Зеландия - Бельгия - Франция',\n",
       "       'Франция-Канада',\n",
       "       'Ирландия - Финляндия - Бельгия - Великобритания - США - Швейцария',\n",
       "       'Малайзия - США', 'Германия - Италия',\n",
       "       'США - Франция - Бельгия - Италия', 'Франция - Ирландия - Швеция',\n",
       "       'Азербайджан-Россия', 'Великобритания - Италия - Швейцария',\n",
       "       'США - Германия - Великобритания',\n",
       "       'Германия - Бельгия - США -Франция', 'США-Китай', 'Чили - Испания',\n",
       "       'Франция - Швейцария', 'Канада - Испания',\n",
       "       'США - Румыния - Великобритания', 'США - Япония',\n",
       "       'США - Россия - Франция', 'Франция-США', 'Парагвай',\n",
       "       'Германия - Канада', 'США - Канада - Великобритания',\n",
       "       'Финляндия - Канада', 'Уругвай-Мексика-Германия ', 'США - Чили',\n",
       "       'Германия - Аргентина - Нидерланды - Чили',\n",
       "       'США - Канада - Индонезия', 'Армения - Казахстан', 'Финляндия',\n",
       "       'Испания - Италия - Франция',\n",
       "       'Бельгия - Испания - Канада - Нидерланды',\n",
       "       'Великобритания - Франция - Швеция - Бельгия',\n",
       "       'Мексика - Эквадор - Канада - США - Франция - Малайзия - Италия - Аргентина - Германия - Индия  ',\n",
       "       'Франция - Бенльгия', 'Индия - Великобритания',\n",
       "       'Япония - Великобритания - Франция',\n",
       "       'Испания - Уругвай - Аргентина',\n",
       "       'Франция - Италия - Бельгия - Люксембург',\n",
       "       'Франция - Украина - Грузия - Армения',\n",
       "       'Сербия - Германия - Венгрия', 'Франция-Польша', 'Франция ',\n",
       "       'Румыния-США', 'Россия-Азербайджан',\n",
       "       'США - Нидерланды - Бельгия - Венгрия - Греция - Канада',\n",
       "       'Германия - Франция - Люксембург', 'США - Россия',\n",
       "       'Великобритания - США - Франция', 'США - Австралия - Дания',\n",
       "       'Бельгия-Франция', 'США-Мексика',\n",
       "       'Норвегия - Азербайджан - Россия - Колумбия - Великобритания - Венгрия - Румыния - Франция - Грузия',\n",
       "       'СЩА', 'Бразилия - Испания', 'Россия, Франция, Латвия',\n",
       "       'Нидерланды - США - Германия - Канада - Франция - Ирландия - Великобритания',\n",
       "       'Уругвай - Колумбия', 'США - Испания - Болгария',\n",
       "       'Армения - Германия', 'США - Великобритания- Франция - Швеция',\n",
       "       'США - Мексика', 'Австралия-Турция-США', 'Швеция - Германия',\n",
       "       'Польша - Италия - Россия', 'Франция - Бразилия',\n",
       "       'США - Канада - КНР', 'СССР, Венгрия, ЧССР, ГДР',\n",
       "       'Бельгия - Германия - Люксембург', 'СССР  ', 'СССР ', ' СССР ',\n",
       "       'США - Австралия', 'Бразилия - США',\n",
       "       'США - Великобритания - Канада - КНР', 'Франция - Чили',\n",
       "       'Франция - США - Великобритания - Колумбия - Бельгия - Россия',\n",
       "       'Дания - Великобритания - ЮАР', 'СССР   ',\n",
       "       'Россия-США-Канада-Люксембург', 'Россия - Республика Кипр',\n",
       "       'Германия - США - Швеция - Франция',\n",
       "       'Великобритания-Германия-Канада-ЮАР', ' СССР   ', 'СССР     ',\n",
       "       'Ирландия, Канада',\n",
       "       'Япония - Великобритания - Швейцария - Ирландия - Дания - Франция - Польша - Австралия - Канада  ',\n",
       "       'Великобритания, Канада', 'Бельгия - США',\n",
       "       'Великобритания - США - Россия', 'Россия-Украина',\n",
       "       'Германия - США - Великобритания - Израиль', 'Канада - Германия',\n",
       "       'США- Ю.Корея', 'Индия - Мексика',\n",
       "       'Великобритания - Франция - Республика Кипр - Швейцария - США - Сербия',\n",
       "       'Испания - Аргентина - Индия - США',\n",
       "       'Норвегия - Исландия - США - Великобритания ',\n",
       "       'Турция - Германя - Франция', 'Германия - Великобритания',\n",
       "       'Австралия - Германия', 'Мексика - Испания',\n",
       "       'Великобритания - США - Германия - Бельгия',\n",
       "       'США - Чехия - Франция', 'Россия - Италия', 'Франция-Россия',\n",
       "       'Норвегия - Дания - Швеция', 'Франция - Швейцария - Германия',\n",
       "       'Грузия - Украина', 'Россия - Эстония - Финляндия - Беларусь',\n",
       "       'США - Франция - ЮАР', 'Великобритания - США - Швейцария',\n",
       "       'Канада-США', 'Мексика - Нидерланды - Германия - Франция',\n",
       "       'США - Испания - Франция', 'США - Великобритания - КНР',\n",
       "       'США-Франция-Канада',\n",
       "       'Япония, Великобритания, Австрия, Германия, Ю.Корея',\n",
       "       'Великобритания - Ирландия - США', 'Бельгия - Италия - Франция ',\n",
       "       'Швейцария-Германия-ЮАР', 'Великобритания - США - Германия',\n",
       "       'Германия - Исландия', 'Испания - США', 'СССР    ', 'Хорватия',\n",
       "       'Финляндия - Исландия - Швеция',\n",
       "       'Канада - США - Германия - Франция',\n",
       "       'США - Великобритания - Испания', 'Ирландия-Великобритания',\n",
       "       'Аргентина - Испания', 'Австрия - Германия', ' СССР',\n",
       "       'Германия - Швейцария - Франция - Южная Корея - США',\n",
       "       'Украина - Нидерланды', 'Венгрия - Германия - Швеция',\n",
       "       'Германия - Франция -  Польша - Турция - Канада - Италия - Россия ',\n",
       "       'СССР, Афганистан', 'СССР, Монголия', 'Россия-Кипр',\n",
       "       'Россия, Грузия, Испания',\n",
       "       'Великобритания - Нидерланды - Германия - Франция - Бельгия - Австрия ',\n",
       "       'Испания - Великобритания - Франция',\n",
       "       'Дания - Норвегия - Великобритания',\n",
       "       'Бельгия - Франция - Люксембург',\n",
       "       'Италия - Франция - Швейцария - Великобритания',\n",
       "       'Франция - Бельгия - Великобритания - Испания - Германия - США',\n",
       "       'Швейцария - Израиль - Франция - Великобритания',\n",
       "       'Великобритания - США - Канада - Нидерланды - Франция',\n",
       "       'Россия, Италия', 'СССР, Албания',\n",
       "       'Россия, Украина, Республика Беларусь, Литва',\n",
       "       'Финляндия - Великобритания - Германия', 'Россия, Украина, Польша',\n",
       "       'Франция - Италия - Бельгия - КНР',\n",
       "       'Германия - Бельгия - Люксембург - Ирландия', 'КНР - Сингапур',\n",
       "       'Франция - Бельгия - Великобритания - США - Нидерланды - Канада',\n",
       "       'США - Россия - Польша - Германия - Пуэрто Рико',\n",
       "       'Франция - Бельгия - Канада', 'США ', 'Мексика - США',\n",
       "       'США - Гонконг - КНР ', 'Греция - Россия',\n",
       "       'Ирландия - Дания - Бельгия - Люксембург - Франция',\n",
       "       'Эстония - Россия',\n",
       "       'Великобритания - Исландия - Испания - Швейцария - США',\n",
       "       'Австралия - Великобритания - Бельгия - Индия',\n",
       "       'Швеция - Германия - Франция - Норвегия',\n",
       "       'Нидерланды - Бельгия - Германия - Ирландия',\n",
       "       'Нидерланды - Великобритания - Бельгия',\n",
       "       'США - Колумбия - Испания', 'Франция-Испания-Бельгия-Панама',\n",
       "       'США-Великобритания-Чехия-Румыния',\n",
       "       'Аргентина - Уругвай - Россия - Германия - Франция - Нидерланды',\n",
       "       'Швеция - Франция - Норвегия - Дания',\n",
       "       'Италия-Франция-Великобритания', 'Великобритания, Франция',\n",
       "       'Австралия, США', 'Венесуэла',\n",
       "       'Великобритания - США - Австралия - Ирландия - Германия - Куба - Канада',\n",
       "       'Южная Корея - КНР',\n",
       "       'Аргентина - Мексика - Бразилия - Франция - США', 'Швеция - США',\n",
       "       'Франция - Германия - Турция - Катар', 'Франция-Китай',\n",
       "       'Россия, Германия, Великобритания',\n",
       "       'Великобритания - Италия - Испания', 'Италия - Россия',\n",
       "       'Япония - КНР - Южная Корея', 'Россия, Германия',\n",
       "       'Россия-Ирландия', 'Македония - Франция - Великобритания',\n",
       "       'Франция - Бразилия - Италия', 'Россия-США', 'Армения-Россия',\n",
       "       'Россия, Румыния', 'Франция -  Бельгия', 'Грузия-Франция',\n",
       "       'ЮАР - США', 'Великобритания-США-Франция',\n",
       "       'Великобритания - США - Германия - Канада - Австралия',\n",
       "       'США-Ирландия', 'Россия, Республика Кипр',\n",
       "       'Германия - Люксембург - Франция', 'Россия-Франция',\n",
       "       'США - Нидерланды - Финляндия - Великобритания - Италия',\n",
       "       'Республика Кипр', 'Венгрия', 'Франция - США - Норвегия - Дания',\n",
       "       'Германия - Австрия - Ирландия', 'США - Финляндия',\n",
       "       'Италия-Великобритания', 'Россия, Испания',\n",
       "       'США - Великобритания - Болгария', 'Великобритания - Люксембург',\n",
       "       'Индия - США', 'США - Канада - Россия - Франция - Чили - Ирландия',\n",
       "       'Грузия-Россия',\n",
       "       'Дания - Австрия - Ирландия - Финляндия - Норвегия - Швеция - Нидерланды',\n",
       "       'США-КНР', 'Грузия', 'Австралия - Ирландия',\n",
       "       'Великобритания - Канада', 'Италия - Аргентина - Словения ',\n",
       "       'Испания - Франция - Нидерланды - Германия - Бельгия - Великобритания - Канада',\n",
       "       'Франция - Чехия - Бельгия',\n",
       "       'Великобритания - Франция - Германия - США',\n",
       "       'Ирландия - Великобритания - Франция - США - Германия - Нидерланды',\n",
       "       'США - Канада - Япония - КНР', 'Италия-Франция',\n",
       "       'США - Великобритания - Исландия', 'Великобритания-Франция',\n",
       "       'Франция - Германия - Нидерланды', 'Иран ',\n",
       "       'Франция - Германия - Швеция - США - Чехия - Словакия - Великобритания - Нидерланды',\n",
       "       'Франция - Канада - Н.Зеландия - США - Нидерланды - Германия - Швеция - Россия',\n",
       "       'Турция - США',\n",
       "       'Великобритания - США - Канада - Бельгия - Нидерланды - Австрия - Германия',\n",
       "       'Израиль - Франция - Германия - Палестина - США - Австрия - Великобритания',\n",
       "       'Аргентина - Франция - Испания', 'СССР, Россия',\n",
       "       'Великобритания - Франция - Италия - Индия - Дания - КНР - Бангладеш - Камбоджа - Гаити - Уганда',\n",
       "       'Италия - Франция - Швейцария',\n",
       "       'Ирландия - Великобритания - Канада', 'Перу', 'США - Норвегия',\n",
       "       'Испания-Канада', 'Китай-Гонконг', 'США - Германия - КНР',\n",
       "       'Великобритания - Новая Зеландия',\n",
       "       'Франция - Дания - Швеция - КНР',\n",
       "       'США - Великобритания - Германия - Бельгия - Дания',\n",
       "       'США - Франция - Канада - Германия - Австралия - Индия',\n",
       "       'неизвестно', 'СССР, Румыния, Франция', 'СССР, ГДР',\n",
       "       'Австралия-Ирландия', 'США - Китай',\n",
       "       'Великобритания - Франция - Австрия - Швеция',\n",
       "       'Россия, Таджикистан', 'Нидерланды - Бельгия - Болгария',\n",
       "       'Великобритания - Канада - США', 'Франция - Бельгия - Испания',\n",
       "       'Китай-Гонконг-США', 'Франция - Великобритания', 'США - Вьетнам',\n",
       "       'США - Германия - Франция', 'Германия - Франция - Бельгия',\n",
       "       'США - Италия',\n",
       "       'Германия - Дания - Испания - Швеция - Канада - Эстония - Франция',\n",
       "       'Княжество Андорра - Украина', 'Германия - Люксембург - Бельгия',\n",
       "       'Великобритания - Россия - Украина - США',\n",
       "       'Германия - Бельгия - Люксембург - Норвегия',\n",
       "       'США - Австралия - Новая Зеландия - Великобритания',\n",
       "       'США - Франция - Канада - Великобритания', 'Испания-Колумбия',\n",
       "       'Великобритания - Чехия - Франция', 'Россия, Украина', 'Исландия',\n",
       "       'Великобритания - Франция - Венгрия',\n",
       "       'Россия, Франция, Германия, Бельгия', 'Франция - Македония',\n",
       "       'Нидерланды - Франция - Германия - Бельгия - Швеция - Великобритания',\n",
       "       'Испания - США - Великобритания - Канада', 'Германия - Австрия',\n",
       "       'Республика Казахстан',\n",
       "       'Франция - Испания - Дания - Венгрия - Швейцария', 'Франция-КНР',\n",
       "       'США - Пуэрто-Рико - Франция ', 'Мексика - Тайвань - США',\n",
       "       'Великобритания - Испания - Непал - Индия - Венгрия - Гонконг - Германия - Дания - Бахрейн',\n",
       "       'Великобритания - Аргентина - США - Франция - Россия - Испания',\n",
       "       'КНР - США', 'Италия - США', 'Финляндия - Швеция - Германия',\n",
       "       'Канада- Испания', 'Франция - Бельгия - Чехия',\n",
       "       'Франция-Бельгия-Канада', 'Франция - Германия - США',\n",
       "       'США - Дания', 'Индия - КНР', 'Чехия-Великобритания-США',\n",
       "       'США-ФРГ-Россия', 'Ирландия-Нидерланды-Франция-США-Великобритания',\n",
       "       'Россия, Грузия, Хорватия, Испания',\n",
       "       'Финляндия - Швеция - Норвегия', 'Сербия - Великобритания - США',\n",
       "       'США - Великобритания - Франция - Гонконг', 'Швейцария - Франция',\n",
       "       'Швейцария - Великобритания', 'ОАЭ - США',\n",
       "       'США - Франция - Германия - Канада - Австралия ',\n",
       "       'Германия - Австралия', 'Иран, Франция',\n",
       "       'США - Великобритания - Новая Зеландия', 'США-Колумбия',\n",
       "       'США-Франция-Ирландия', 'Великобритания - Франция - Бельгия',\n",
       "       'США - Великобритания - Япония', 'США - Франция - Германия',\n",
       "       'Польша - Ирландия', 'Ирландия - Великобритания - Франция - США',\n",
       "       'США - Бельгия - Великобритания', 'СССР, ВНР',\n",
       "       'Испания - Франция - США - Великобритания - Бельгия',\n",
       "       'Франция - Дания - США', 'США - Гонконг', 'Бразилия - К;анада',\n",
       "       'Франция-Германия', 'США - Колумбия',\n",
       "       'США - Ирландия - Великобритания - Франция',\n",
       "       'Великобритания - США - Канада', 'Польша - Франция',\n",
       "       'Канада - США - Нидерланды - Великобритания - Аргентина',\n",
       "       'Великобритания - Дания', 'Франция - Бельгия - Япония',\n",
       "       'Россия,  Испания', 'Франция -Бельгия',\n",
       "       'США - Канада - Германия - Франция', 'США-Канада-Франция',\n",
       "       'Россия - Германия', 'Россия-Италия', 'Китай - Гонконг',\n",
       "       'Германия-Австрия-Франция-Италия', 'США-Япония',\n",
       "       'США - Германия - Канада', 'Испания-Мексика',\n",
       "       'США - Япония - Канада - Великобритания - Германия - Франция',\n",
       "       'США -Великобритания - Австралия', 'Россия-Украина-Германия',\n",
       "       'Израиль - Франция - Великобритания - Германия', 'Корея',\n",
       "       'Россия - Болгария', 'США-Индия',\n",
       "       'Германия-Канада-Франция-Бельгия', 'Германия-Кения',\n",
       "       'Франция - Монако', 'Франция-Испания-Швейцария',\n",
       "       'Австрия-Франция-Германия', 'Румыния',\n",
       "       'США-Великобритания-Франция', 'Канада-Великобритания',\n",
       "       'Канада-Бразилия-Япония', 'Германия - Дания - Норвегия',\n",
       "       'Дания - Германия', 'СССР - Италия',\n",
       "       'СССР - ГДР - Польша - Италия',\n",
       "       'США - Испания - Франция - Великобритания', 'Китай',\n",
       "       'Мексика-Аргентина',\n",
       "       'Германия - Великобритания - Италия - Испания',\n",
       "       'Франция-Германия-Великобритания', 'Россия - Германия - Швейцария',\n",
       "       'Франция-Австралия', 'Голландия', 'Швейцария-Франция',\n",
       "       'Россия-Белоруссия', 'Франция - Испания - Тайвань',\n",
       "       'США-Южная Корея-Новая Зеландия', 'Великобритания-Венгрия',\n",
       "       'Россия-Германия', 'Великобритания-Франция-Германия',\n",
       "       'Франция-Германия-Италия', 'Швеция-Финляндия-Франция-Норвегия',\n",
       "       'Франция-Италия', 'Германия-Израиль',\n",
       "       'Швеция - Германия - Дания - Норвегия', 'США-Бельгия',\n",
       "       'Франция-Гонконг-Ирландия', 'Эстония', 'Литва-Россия-Украина',\n",
       "       'Германия - Италия - Франция',\n",
       "       'Великобритания - Австрия - Германия', 'Бельгия - Франция',\n",
       "       'Россия-Казахстан', 'Испания - Мальта',\n",
       "       'Франция-Россия-Румыния-Италия-Бельгия', 'Россия - Польша',\n",
       "       'Испания - Мексика', 'США-Аргентина', 'Великобритания ',\n",
       "       'Израиль-США-Франция', 'США - Новая Зеландия - Япония',\n",
       "       'Франция - Чехия - Великобритания', 'Россия-Польша',\n",
       "       'Германия-Франция-Великобритания', 'США-Германия-Канада',\n",
       "       'США-Гонконг-Китай', 'США - Великобритания - Германия',\n",
       "       'США-Канада-Австралия', 'Япония-США-Франция',\n",
       "       'Франция-Испания-Германия', 'США - Хорватия - Босния-Герцеговина',\n",
       "       'Великобритания - Чехия - Франция - Италия',\n",
       "       'США - Германия - Нидерланды', 'Германия - Франция - Канада',\n",
       "       'Франция-Грузия-Германия-Россия-Украина-Бельгия',\n",
       "       'Великобритания - Франция - Италия', 'Россия - США',\n",
       "       'Франция - Италия - Иран', 'Россия - Азербайджан', 'Греция',\n",
       "       'Дания - США', 'США-Великобритания-Новая Зеландия',\n",
       "       'США-Германия-Австралия', 'США-Канада-Италия',\n",
       "       'США - Япония - Германия', 'Австралия-США',\n",
       "       'Франция - Великобритания - Багамские острова - США',\n",
       "       'Швейцария - Люксембург', 'Швейцария - Австрия',\n",
       "       'Германия - Швейцария', 'Дания-Швеция-Франция-Германия', 'Польша',\n",
       "       'Швейцария-Австрия', 'Бразилия - Канада - США',\n",
       "       'Нидерланды - Россия', 'Португалия', 'Франция-Аргентина',\n",
       "       'Швеция-Франция', 'Франция-Украина', 'Германия-Украина-Нидерланды',\n",
       "       'Италия-Швейцария', 'США-Германия-Великобритания',\n",
       "       'Латвия - Россия', 'Германия-Франция-Великобритания-США',\n",
       "       'Канада - Италия', 'США - Объединенные Арабские Эмираты',\n",
       "       'США-Венгрия', 'Малайзия', 'Россия - Германия - Украина',\n",
       "       'США - Австралия - Мексика', 'Литва - Венгрия', 'Германия - Китай',\n",
       "       'Казахстан', 'Республика Корея',\n",
       "       'США - Германия - Франция - Великобритания - Канада ',\n",
       "       'Бельгия - Германия - Люксембург - Франция', 'Франция - Греция',\n",
       "       'Италия - Канада', 'США - Великобритания - Франция',\n",
       "       'США-Италия-Греция', 'Германия - США - Великобритания - Ирландия',\n",
       "       'Великобритания - Франция - Германия',\n",
       "       'Германия - Нидерланды - ЮАР',\n",
       "       'США-Япония-Германия-Великобритания-Нидерланды',\n",
       "       'США-Япония-Германия-Великобритания',\n",
       "       'Германия - Франция - Польша',\n",
       "       'Таиланд-Великобритания-Франция-Германия-Испания-Нидерланды',\n",
       "       'Германия-Италия-Швейцария',\n",
       "       'Дания - Швеция - Великобритания - Франция - Германия - Нидерланды - Норвегия - Финляндия',\n",
       "       'Франция - Великобритания - Нидерланды - Люксембург',\n",
       "       'Нидерланды-Великобритания-Франция-Италия-Япония',\n",
       "       'Финляндия-Дания-Германия-Ирландия', 'Испания-Аргентина',\n",
       "       'Великобритания - Нидерланды - Франция - США', 'Канада - Мексика',\n",
       "       'США, Франция', 'Канада-Южная Корея-США',\n",
       "       'Великобритания - Франция - Бельгия - США', 'КНР - Канада - США',\n",
       "       'Италия - Франция - Германия',\n",
       "       'Швеция - Германия - Франция - Дания', 'Франция - США - Бельгия',\n",
       "       'Украина - Германия - Латвия - Эстония', 'Австрия - Люксембург',\n",
       "       'Великобритания - КНР', 'Монголия', 'Франция - Дания',\n",
       "       'Швеция - Дания - Финляндия',\n",
       "       'Сингапур - Великобритания - Индонезия - Канада - США',\n",
       "       'США - Германия - Япония', 'Таиланд - США', 'Франция - Нидерланды',\n",
       "       'Великобритания - Румыния', 'США - Мальта',\n",
       "       'Великобритания - Германия - Нидерланды - Дания',\n",
       "       'Франция - Германия - Литва - Нидерланды - Россия',\n",
       "       'США - ЮАР - Гонконг', 'Австралия - Колумбия',\n",
       "       'Великобритания - Польша', 'США - Великобритания - Швеция',\n",
       "       'Франция - Швеция - Дания - Норвегия', 'Болгария - США',\n",
       "       'СССР, ФРГ', 'Бельгия - Нидерланды - Франция',\n",
       "       'Финляндия - Германия', 'Болгария',\n",
       "       'Грузия - Россия - Украина - Хорватия - Германия',\n",
       "       'Франция - Люксембург', 'Франция - Германия - Австрия',\n",
       "       'Норвегия - США', 'Германия-Швеция', 'Франция - Германия - Италия',\n",
       "       'Франция-Германия-Австрия', 'КНР-США',\n",
       "       'Великобритания - Ирландия - США ',\n",
       "       'Дания - Латвия - Россия - США', 'Финляндия - Польша',\n",
       "       'Германия - Бельгия', 'Германия - США - Франция - Испания',\n",
       "       'Бельгия-Германия-Канада-Франция-США-Великобритания',\n",
       "       'Нидерланды - Бельгия - Люксембург', 'Канада-Германия',\n",
       "       'Люксембург - Бельгия - Франция', 'США-Великобритания-Австралия',\n",
       "       'Великобритания, Новая Зеландия', 'Бельгия, Великобритания, США',\n",
       "       'Великобритания, Австралия', 'Исландия, Бельгия',\n",
       "       'Испания - Швейцария - Великобритания - Германия - Новая Зеландия - Нидерланды - Канада',\n",
       "       'Франция, Бельгия', 'Великобритания, США', 'Киргизия-Россия',\n",
       "       'Германия, США', 'Великобритания, США, Испания',\n",
       "       'Италия - Швейцария - Германия', 'Россия, Армения',\n",
       "       'Франция, Германия', 'Китай, Канада, США', 'Германия, Австралия',\n",
       "       'КНР, США', 'США, Великобритания, Люксембург',\n",
       "       'Испания, Ирландия, Бельгия, Франция',\n",
       "       'Великобритания - Гонконг - Венгрия - США - Ирландия',\n",
       "       'США - Пуэрто Рико', 'Аргентина - Испания - Уругвай',\n",
       "       'Израиль - Германия - Франция - Швейцария',\n",
       "       'Великобритания - Мексика - США', 'Испания - Болгария - США',\n",
       "       'Россия-Словакия-Чехия',\n",
       "       'Швейцария - КНР - США - Россия - Республика Корея - Великобритания',\n",
       "       'Россия, Нидерланды, Финляндия',\n",
       "       'Испания - Бельгия - Франция - Португалия - Великобритания',\n",
       "       'Бразилия - Португалия - Франция', 'Швеция - Норвегия',\n",
       "       'Франция - Польша - Бельгия', 'CША', 'Китай, США',\n",
       "       'Италия, Франция, Германия', 'Германия - Австрия - Франция',\n",
       "       'Чехия - Словакия - Хорватия', 'Россия, Польша, Финляндия',\n",
       "       'Россия, Латвия, Чешская Республика',\n",
       "       'Франция - Великобритания - Камбоджа - США - КНР',\n",
       "       'Чехия - Испания - США', 'Германия - Люксембург - Дания',\n",
       "       'Великобритания - Испания - Германия', 'Дания - Исландия',\n",
       "       'Германия, Франция, Великобритания',\n",
       "       'Великобритания - Испания - Италия - Латвия - Франция - Эстония',\n",
       "       'Дания, Швеция, Великобритания, Франция, Германия, Норвегия, Финляндия, Нидерланды, Италия',\n",
       "       'Польша - Франция - Великобритания',\n",
       "       'Дания, Норвегия, Венгрия, Чехия',\n",
       "       'Дания - Франция - Германия - Швеция',\n",
       "       'Великобритания, Швеция, США',\n",
       "       'Канада, Франция, Италия, Швейцария, США', 'США, Индия',\n",
       "       'США - Великобритания - Германия - - Швеция - Канада',\n",
       "       'Италия, Франция', 'Республика Беларусь, Германия, США, Россия',\n",
       "       'Италия-Швейцария-Франция-Германия ',\n",
       "       'Россия - Франция - Великобритания - Латвия', 'Россия-Беларусь',\n",
       "       'Франция - Испания - Румыния - США - Бельгия', 'Италия-США',\n",
       "       'Россия, Австрия', 'Ирландия - Великобритания - США',\n",
       "       'Швейцария, Великобритания, Франция, США, Ирландия',\n",
       "       'Мексика, Франция, Германия, Дания, Швеция', 'Нидерланды, Бельгия',\n",
       "       'Швеция, Норвегия, Финляндия, Франция', 'Испания, Франция, Италия',\n",
       "       'Испания-Франция-Греция-Индия-США-Россия-Великобритания',\n",
       "       'Великобритания - Япония - США',\n",
       "       'Дания, Канада, Норвегия, Австралия, США', 'Аргентина, Испания',\n",
       "       'Россия, Германия, Казахстан, Польша, Китай',\n",
       "       'Португалия, Франция, Польша, США', 'США - Канада - Аргентина',\n",
       "       'Ливан-США', 'Япония - США', 'США, Гонконг ',\n",
       "       'Франция - Россия - Швейцария - Румыния - Венгрия',\n",
       "       'Аргентина-Испания', 'Россия, Сербия', 'США - Болгария - Мексика',\n",
       "       'США - Великобритания - Швейцария - Франция',\n",
       "       'Таиланд - КНР - США',\n",
       "       'Великобритания, Нидерланды, Польша, Швейцария, Франция',\n",
       "       'Ирландия - США',\n",
       "       'Германия - Франция - Великобритания - Польша - США',\n",
       "       'Великобритания-Франция-Италия', 'США - Австралия - Индия',\n",
       "       'Франция - КНР', 'Великобритания - Израиль',\n",
       "       'Великобритания - Норвегия - Кения - Хорватия',\n",
       "       'США - Бразилия - Великобритания - Канада', 'Германия, Бельгия',\n",
       "       'Австралия, Канада', 'США, Великобритания, Франция',\n",
       "       'Кения, Германия', 'Нидерланды, Бельгия, Люксембург', 'Колумбия',\n",
       "       'Латвия - Франция', 'Ирландия, Великобритания',\n",
       "       'Франция - Израиль - Германия', 'Швеция, Франция, Великобритания',\n",
       "       'Бельгия - Люксембург', 'Германия - Бельгия - Великобритания',\n",
       "       'Испания, Франция, Великобритания, Дания, Бельгия, Германия',\n",
       "       'Румыния, ЮАР, Иран, Франция, Канада, Великобритания',\n",
       "       'Германия, Франция', 'США, Япония',\n",
       "       'США, Великобритания, Ирландия, Люксембург', 'Республика Армения',\n",
       "       'США, Франция, Япония', 'Япония, США', 'Канада, США',\n",
       "       'Республика Кипр - Россия',\n",
       "       'Дания - Франция - Италия - Бельгия - Нидерланды',\n",
       "       'Россия - Грузия', 'Италия, Германия', 'Норвегия, Швеция, Дания',\n",
       "       'Республика Кипр, Россия', 'КНР, Индия, Гонконг, США',\n",
       "       'Израиль, Украина', 'США, Россия', 'США - КНР - Индия - Ю.Корея',\n",
       "       'США - Швеция', 'Франция, Канада', 'Россия-Китай',\n",
       "       'Канада, Великобритания', 'США, Германия',\n",
       "       'Канада, США, Каймановы острова',\n",
       "       'Бразилия, Уругвай, Дания, Норвегия, Чили, Швеция',\n",
       "       'Пуэрто-Рико, Великобритания, США',\n",
       "       'Уругвай - Аргентина - Испания',\n",
       "       'США - Великобритания - Италия - Израиль - Сербия - Индия',\n",
       "       'США - Канада - Франция - Индия', 'Великобритания - Россия - КНР',\n",
       "       'Франция, Новая Зеландия', 'Франция, Люксембург, Бельгия',\n",
       "       'Канада, США, Норвегия', 'Италия, Испания',\n",
       "       'Испания - Германия - Нидерланды', 'Бразилия - США - КНР ',\n",
       "       'Великобритания, Германия, Дания, США', '2019',\n",
       "       'Италия - Фрация - Бразилия - Германия',\n",
       "       'Норвегия - Швеция - Россия', 'Великобритания, Япония, США',\n",
       "       'Сша, Канада', 'Бельгия, Канада',\n",
       "       'Великобритания - Австралия - США', 'США, Канада', 'КНР - США ',\n",
       "       'Франция - Финляндия', 'Колумбия - США',\n",
       "       'Великобритания, Франция, Бельгия', 'Норвегия - Нидерланды',\n",
       "       'Великобритания, Канада, США', 'Япония, Великобритания',\n",
       "       'Италия - Бельгия - Франция', 'Россия, Бельгия, Финляндия',\n",
       "       'США, Украина', 'Франция, Норвегия',\n",
       "       'Великобритания, Южная Корея, Канада, США, Индия, Китай, Япония',\n",
       "       'Канада - Норвегия', 'Республика Кипр-Россия', 'Германия, Россия',\n",
       "       'Польша - Франция - Испания - Бразилия - Швеция',\n",
       "       'Австрия, Великобритания, Германия', 'Франция - Сенегал - Бельгия',\n",
       "       'Франция, Бельгия, Люксембург', 'Финляндия, Латвия', 'Пакистан',\n",
       "       'Германия, Франция, США', 'Германия - Великобритания - США',\n",
       "       'КНР - Франция', 'Дания, Норвегия, Швеция, Исландия',\n",
       "       'Республика Кипр, США, Россия', 'Новая Зеландия - КНР',\n",
       "       'Дания - Канада - Швеция - Франция - Германия - Великобритания - США'],\n",
       "      dtype=object)"
      ]
     },
     "execution_count": 24,
     "metadata": {},
     "output_type": "execute_result"
    }
   ],
   "source": [
    "data['production_country'].unique()"
   ]
  },
  {
   "cell_type": "code",
   "execution_count": 25,
   "metadata": {},
   "outputs": [],
   "source": [
    "data['production_country'] = data['production_country'].replace(' - ',', ', regex=True)"
   ]
  },
  {
   "cell_type": "code",
   "execution_count": 26,
   "metadata": {
    "scrolled": false
   },
   "outputs": [
    {
     "data": {
      "text/plain": [
       "array(['США', 'СССР', 'Франция', 'СССР,  Венгрия',\n",
       "       'Германия,  Великобритания', 'Великобритания,  Италия',\n",
       "       'Чехословакия', 'США,  Франция,  Турция', 'Новая Зеландия',\n",
       "       'Канада,  Франция,  Испания', 'США,  Германия',\n",
       "       'США,  Великобритания', 'Великобритания',\n",
       "       'Франция,  Мексика,  США', 'Россия,  Казахстан,  США',\n",
       "       'СССР,  Швеция', 'СССР,  Франция,  Англия,  Куба,  ГДР',\n",
       "       'Германия', 'Великобритания,  США,  Германия,  КНР',\n",
       "       'СССР,  ЧССР,  Западный Берлин,  ПНР', 'СССР,  Италия',\n",
       "       'Гонконг,  КНР', 'США,  Франция',\n",
       "       'США,  Япония,  Франция,  Великобритания',\n",
       "       'Гонконг,  Сингапур,  Таиланд,  Великобритания', 'США,  Канада',\n",
       "       'Франция,  Италия,  Великобритания,  США', 'Франция,  США',\n",
       "       'Ирландия,  Великобритания,  Германия', 'Чехия', 'США,  Австралия',\n",
       "       'СССР,  Финляндия', 'США,  Франция,  Великобритания,  Австрия',\n",
       "       'США,  Бельгия', 'США,  Ирландия,  Великобритания',\n",
       "       'Великобритания,  США',\n",
       "       'Люксембург,  Нидерланды,  Испания,  Великобритания,  США,  Италия',\n",
       "       'Великобритания,  Франция,  США', 'Новая Зеландия,  США',\n",
       "       'США,  Великобритания,  Чехия',\n",
       "       'Канада,  Франция,  Великобритания', 'Ирландия',\n",
       "       'Великобритания,  Германия,  США',\n",
       "       'США,  Франция,  Великобритания', 'Япония', 'СССР,  Польша',\n",
       "       'Франция,  Испания', 'Канада,  Франция', 'Германия,  Италия,  США',\n",
       "       'Аргентина,  Бразилия', 'Дания,  Швейцария,  Бельгия,  Франция',\n",
       "       'США,  Испания', 'Германия,  США',\n",
       "       'Франция,  Австрия,  Германия,  Италия,  США', 'Австрия',\n",
       "       'США,  Канада,  Германия', 'СССР,  Швейцария,  Франция',\n",
       "       'Россия,  Казахстан', 'Гонконг', 'Италия', 'США,  ОАЭ', 'Россия',\n",
       "       'США,  Франция,  Испания,  Великобритания',\n",
       "       'Великобритания,  Франция', 'США,  Италия,  Испания,  Аргентина',\n",
       "       'Франция,  Великобритания', 'КНР,  Гонконг',\n",
       "       'Франция,  Италия,  Швейцария', 'США,  Новая Зеландия',\n",
       "       'Франция,  Бельгия', 'КНР', 'Германия,  Великобритания,  Австрия',\n",
       "       'Великобритания,  Израиль,  Франция,  Япония,  США', 'Швеция',\n",
       "       'Испания', 'Дания', 'Франция,  Бельгия,  Люксембург',\n",
       "       'США,  Индия,  ОАЭ',\n",
       "       'Германия,  Канада,  Великобритания,  Швейцария,  Франция',\n",
       "       'Мексика,  Чили', 'Аргентина', 'Бразилия', 'Чили', 'Австралия',\n",
       "       'Португалия,  Франция', 'США,  ЮАР',\n",
       "       'Исландия,  Ирландия,  Германия', 'США,  Индонезия', 'Южная Корея',\n",
       "       'Мексика,  Испания,  Дания,  США', 'Франция,  Италия',\n",
       "       'США,  Венгрия,  Великобритания', 'Бельгия,  Франция,  Италия',\n",
       "       'Чехия,  Германия', 'Германия,  Франция', 'США,  Нидерланды',\n",
       "       'Украина', 'Великобритания,  Германия', 'США,  Франция,  Испания',\n",
       "       'Италия,  Франция', 'Канада', 'Швеция,  Франция,  Дания',\n",
       "       'Германия,  Франция,  Польша',\n",
       "       'Франция,  Великобритания,  Германия',\n",
       "       'США,  Бразилия,  Франция,  Австралия,  Великобритания,  Германия',\n",
       "       'Германия,  Австрия', 'Германия,  Италия,   Шри,  Ланка',\n",
       "       'Великобритания,  Испания',\n",
       "       'США,  Великобритания,  Канада,  Швеция',\n",
       "       'Босния и Герцеговина,  Франция,  Великобритания,  Германия,  Словения,  Бельгия,  Сербия',\n",
       "       'Великобритания,  Франция,  Италия,  США', 'Испания,  Франция',\n",
       "       'Великобритания,  Австралия,  США',\n",
       "       'Норвегия,  Швеция,  Дания,  Германия', 'Норвегия', 'Швейцария',\n",
       "       'Греция,  Германия,  Франция', 'Норвения', 'Южная Корея,  США',\n",
       "       'Чили,  Франция,  США', 'Австрия,  Германия,  Франция',\n",
       "       'Швеция,  Дания', 'Великобритания,  Франция,  Бельгия,  Италия',\n",
       "       'Франция,  Германия', 'Грузия,  Франция,  Люксембург',\n",
       "       'США,  Франция,  Великобритания,  Бразилия ', 'США,  КНР',\n",
       "       'Мексика,  Франция', 'США,  Германия,  Гонконг,  Сингапур',\n",
       "       'Финляндия,  Австрия,  Россия', 'Испания,  Куба',\n",
       "       'Великобритания,  ЮАР', 'Великобритания,  Ирландия', 'Израиль',\n",
       "       'Бразилия,  Германия,  Порртугалия,  Франция ',\n",
       "       'Франция,  Канада,  Бельгия', 'Испания,  Канада,  Япония', 'Иран',\n",
       "       'Швеция,  Куба', 'США,  Великобритания,  Ирландия', 'Нидерланды',\n",
       "       'Испания,  Канада', 'Япония,  Великобритания',\n",
       "       'Великобритания,  Норвегия,  Дания,  Германия',\n",
       "       'Финляндия,  Франция,  Германия',\n",
       "       'Мексика,  Франция,  Нидерланды,  Германия', 'США,  Индия',\n",
       "       'США,  Великобритания,  Индия', 'США,  Канада,  Бельгия',\n",
       "       'Республика Узбекистан', 'Италия ', 'Турция',\n",
       "       'Сербия,  Словения,  Хорватия,  Черногория,  Македония',\n",
       "       'Киргизия', 'Германия,  Нидерланды,  Беларусь,  Россия,  Латвия',\n",
       "       'Индия', 'Нидерланды,  Россия,  Германия',\n",
       "       'Великобритания,  Нидерланды,  Франция,  Хорватия',\n",
       "       'Канада,  Южная Корея',\n",
       "       'Великобритания,  Польша,  КНР,  Индия,  Норвегия',\n",
       "       'Япония,  Франция,  США,  Южная Корея,  Турция',\n",
       "       'Мексика,  Аргентина,  Великобритания', 'Израиль,  Франция',\n",
       "       'Польша,  Португалия,  Франция,  Великобритания',\n",
       "       'Австралия,  США', 'США,  Великобритания ',\n",
       "       'Франция,  Люксембург,  Бельгия', 'Армения',\n",
       "       'Бельгия,  Люксембург,  Франция,  Швейцария',\n",
       "       'США,  Великобритания,  Канада', 'Норвегия,  Швеция',\n",
       "       'КНР,  Гонконг,  США', 'США,  Сингапур,  Малайзия,  Индонезия',\n",
       "       'Германия,  Россия', 'Япония,  Канада',\n",
       "       'Финляндия,  Дания,  Германия,  Ирландия',\n",
       "       'Франция,  Люксембург,  Германия,  Бельгия,  Швейцария,  Великобритания ',\n",
       "       'Канада,  США', 'США,  Италия,  Испания',\n",
       "       'США,  Швейцария,  Франция', 'Испания,  США,  Колумбия',\n",
       "       'Канада,  ЮАР', 'Франция,  Россия',\n",
       "       'Германия,  Финляндия,  Австралия', 'Дания,  Швеция', 'Бельгия',\n",
       "       'Германия,  Франция,  Австрия', 'Франция,  Индия', 'ЮАР',\n",
       "       'Франция,  Перу', 'Франция,  Канада', 'Республика Беларусь',\n",
       "       'Великобритания,  Австрия,  Франция,  США', 'США,  Россия',\n",
       "       'США,  Южная Корея', 'Канада,  КНР',\n",
       "       'Дания,  Швеция,  Италия,  Франция,  Германия',\n",
       "       'Франция,  Италия,  Испания,  Венгрия',\n",
       "       'Франция,  Германия,  Бельгия', 'Франция,  Великобритания,  Чехия',\n",
       "       'Румыния,  Франция,  Бельгия', 'Болгария,  Франция,  Изриль',\n",
       "       'Израиль,  Германия,  Польша,  Бельгия,  Франция,  Люксембург',\n",
       "       'Россия,  Германия,  Франция,  Бельгия', 'Индонезия',\n",
       "       'Франция,  Португалия', 'Великобритания,  Пуэрто,  Рико',\n",
       "       'СССР,  ФРГ,  Западный Берлин', 'Россия,  Республика Беларусь',\n",
       "       'Франция,  Австрия', 'Бельгия,  Нидерланды',\n",
       "       'Великобритания,  США,  Индия', 'США,  Великобритания,  Австралия',\n",
       "       'Канада,  Франция,  США,  ОАЭ,  Великобритания',\n",
       "       'США,  Австралия,  Франция',\n",
       "       'Дания,  Франция,  Бельгия,  Германия,  Великобритания',\n",
       "       'Испания,  Аргентина', 'Исландия,  Финляндия',\n",
       "       'Россия,  Польша,  Голландия,  Словакия',\n",
       "       'Дания,  Германия,  Швеция', 'Южная Корея,  США,  Канада',\n",
       "       'Таиланд', 'США,  Мальта', 'США ,  Германия',\n",
       "       'Великобритания,  Германия,  Франция,  Кипр,  США', 'Мексика',\n",
       "       'США,  Украина',\n",
       "       'США,  Финляндия,  Испания,  Великобритания,  Франция',\n",
       "       'Австралия,  Великобритания',\n",
       "       'США,  Канада,  Афганистан,  Бельгия,  Франция',\n",
       "       'США,  Великобритания,  Германия,  Новая Зеландия,  Бельгия,  Франция',\n",
       "       'Ирландия,  Финляндия,  Бельгия,  Великобритания,  США,  Швейцария',\n",
       "       'Малайзия,  США', 'Германия,  Италия',\n",
       "       'США,  Франция,  Бельгия,  Италия', 'Франция,  Ирландия,  Швеция',\n",
       "       'Азербайджан,  Россия', 'Великобритания,  Италия,  Швейцария',\n",
       "       'США,  Германия,  Великобритания',\n",
       "       'Германия,  Бельгия,  США ,  Франция', 'США,  Китай',\n",
       "       'Чили,  Испания', 'Франция,  Швейцария', 'Канада,  Испания',\n",
       "       'США,  Румыния,  Великобритания', 'США,  Япония',\n",
       "       'США,  Россия,  Франция', 'Парагвай', 'Германия,  Канада',\n",
       "       'США,  Канада,  Великобритания', 'Финляндия,  Канада',\n",
       "       'Уругвай,  Мексика,  Германия ', 'США,  Чили',\n",
       "       'Германия,  Аргентина,  Нидерланды,  Чили',\n",
       "       'США,  Канада,  Индонезия', 'Армения,  Казахстан', 'Финляндия',\n",
       "       'Испания,  Италия,  Франция',\n",
       "       'Бельгия,  Испания,  Канада,  Нидерланды',\n",
       "       'Великобритания,  Франция,  Швеция,  Бельгия',\n",
       "       'Мексика,  Эквадор,  Канада,  США,  Франция,  Малайзия,  Италия,  Аргентина,  Германия,  Индия  ',\n",
       "       'Франция,  Бенльгия', 'Индия,  Великобритания',\n",
       "       'Япония,  Великобритания,  Франция',\n",
       "       'Испания,  Уругвай,  Аргентина',\n",
       "       'Франция,  Италия,  Бельгия,  Люксембург',\n",
       "       'Франция,  Украина,  Грузия,  Армения',\n",
       "       'Сербия,  Германия,  Венгрия', 'Франция,  Польша', 'Франция ',\n",
       "       'Румыния,  США', 'Россия,  Азербайджан',\n",
       "       'США,  Нидерланды,  Бельгия,  Венгрия,  Греция,  Канада',\n",
       "       'Германия,  Франция,  Люксембург',\n",
       "       'Великобритания,  США,  Франция', 'США,  Австралия,  Дания',\n",
       "       'Бельгия,  Франция', 'США,  Мексика',\n",
       "       'Норвегия,  Азербайджан,  Россия,  Колумбия,  Великобритания,  Венгрия,  Румыния,  Франция,  Грузия',\n",
       "       'СЩА', 'Бразилия,  Испания', 'Россия,  Франция,  Латвия',\n",
       "       'Нидерланды,  США,  Германия,  Канада,  Франция,  Ирландия,  Великобритания',\n",
       "       'Уругвай,  Колумбия', 'США,  Испания,  Болгария',\n",
       "       'Армения,  Германия', 'США,  Великобритания,   Франция,  Швеция',\n",
       "       'Австралия,  Турция,  США', 'Швеция,  Германия',\n",
       "       'Польша,  Италия,  Россия', 'Франция,  Бразилия',\n",
       "       'США,  Канада,  КНР', 'СССР,  Венгрия,  ЧССР,  ГДР',\n",
       "       'Бельгия,  Германия,  Люксембург', 'СССР  ', 'СССР ', ' СССР ',\n",
       "       'Бразилия,  США', 'США,  Великобритания,  Канада,  КНР',\n",
       "       'Франция,  Чили',\n",
       "       'Франция,  США,  Великобритания,  Колумбия,  Бельгия,  Россия',\n",
       "       'Дания,  Великобритания,  ЮАР', 'СССР   ',\n",
       "       'Россия,  США,  Канада,  Люксембург', 'Россия,  Республика Кипр',\n",
       "       'Германия,  США,  Швеция,  Франция',\n",
       "       'Великобритания,  Германия,  Канада,  ЮАР', ' СССР   ',\n",
       "       'СССР     ', 'Ирландия,  Канада',\n",
       "       'Япония,  Великобритания,  Швейцария,  Ирландия,  Дания,  Франция,  Польша,  Австралия,  Канада  ',\n",
       "       'Великобритания,  Канада', 'Бельгия,  США',\n",
       "       'Великобритания,  США,  Россия', 'Россия,  Украина',\n",
       "       'Германия,  США,  Великобритания,  Израиль', 'Канада,  Германия',\n",
       "       'США,   Ю.Корея', 'Индия,  Мексика',\n",
       "       'Великобритания,  Франция,  Республика Кипр,  Швейцария,  США,  Сербия',\n",
       "       'Испания,  Аргентина,  Индия,  США',\n",
       "       'Норвегия,  Исландия,  США,  Великобритания ',\n",
       "       'Турция,  Германя,  Франция', 'Австралия,  Германия',\n",
       "       'Мексика,  Испания', 'Великобритания,  США,  Германия,  Бельгия',\n",
       "       'США,  Чехия,  Франция', 'Россия,  Италия',\n",
       "       'Норвегия,  Дания,  Швеция', 'Франция,  Швейцария,  Германия',\n",
       "       'Грузия,  Украина', 'Россия,  Эстония,  Финляндия,  Беларусь',\n",
       "       'США,  Франция,  ЮАР', 'Великобритания,  США,  Швейцария',\n",
       "       'Мексика,  Нидерланды,  Германия,  Франция',\n",
       "       'США,  Испания,  Франция', 'США,  Великобритания,  КНР',\n",
       "       'США,  Франция,  Канада',\n",
       "       'Япония,  Великобритания,  Австрия,  Германия,  Ю.Корея',\n",
       "       'Великобритания,  Ирландия,  США', 'Бельгия,  Италия,  Франция ',\n",
       "       'Швейцария,  Германия,  ЮАР', 'Великобритания,  США,  Германия',\n",
       "       'Германия,  Исландия', 'Испания,  США', 'СССР    ', 'Хорватия',\n",
       "       'Финляндия,  Исландия,  Швеция',\n",
       "       'Канада,  США,  Германия,  Франция',\n",
       "       'США,  Великобритания,  Испания', 'Ирландия,  Великобритания',\n",
       "       'Аргентина,  Испания', 'Австрия,  Германия', ' СССР',\n",
       "       'Германия,  Швейцария,  Франция,  Южная Корея,  США',\n",
       "       'Украина,  Нидерланды', 'Венгрия,  Германия,  Швеция',\n",
       "       'Германия,  Франция,   Польша,  Турция,  Канада,  Италия,  Россия ',\n",
       "       'СССР,  Афганистан', 'СССР,  Монголия', 'Россия,  Кипр',\n",
       "       'Россия,  Грузия,  Испания',\n",
       "       'Великобритания,  Нидерланды,  Германия,  Франция,  Бельгия,  Австрия ',\n",
       "       'Испания,  Великобритания,  Франция',\n",
       "       'Дания,  Норвегия,  Великобритания',\n",
       "       'Бельгия,  Франция,  Люксембург',\n",
       "       'Италия,  Франция,  Швейцария,  Великобритания',\n",
       "       'Франция,  Бельгия,  Великобритания,  Испания,  Германия,  США',\n",
       "       'Швейцария,  Израиль,  Франция,  Великобритания',\n",
       "       'Великобритания,  США,  Канада,  Нидерланды,  Франция',\n",
       "       'СССР,  Албания', 'Россия,  Украина,  Республика Беларусь,  Литва',\n",
       "       'Финляндия,  Великобритания,  Германия',\n",
       "       'Россия,  Украина,  Польша', 'Франция,  Италия,  Бельгия,  КНР',\n",
       "       'Германия,  Бельгия,  Люксембург,  Ирландия', 'КНР,  Сингапур',\n",
       "       'Франция,  Бельгия,  Великобритания,  США,  Нидерланды,  Канада',\n",
       "       'США,  Россия,  Польша,  Германия,  Пуэрто Рико',\n",
       "       'Франция,  Бельгия,  Канада', 'США ', 'Мексика,  США',\n",
       "       'США,  Гонконг,  КНР ', 'Греция,  Россия',\n",
       "       'Ирландия,  Дания,  Бельгия,  Люксембург,  Франция',\n",
       "       'Эстония,  Россия',\n",
       "       'Великобритания,  Исландия,  Испания,  Швейцария,  США',\n",
       "       'Австралия,  Великобритания,  Бельгия,  Индия',\n",
       "       'Швеция,  Германия,  Франция,  Норвегия',\n",
       "       'Нидерланды,  Бельгия,  Германия,  Ирландия',\n",
       "       'Нидерланды,  Великобритания,  Бельгия',\n",
       "       'США,  Колумбия,  Испания', 'Франция,  Испания,  Бельгия,  Панама',\n",
       "       'США,  Великобритания,  Чехия,  Румыния',\n",
       "       'Аргентина,  Уругвай,  Россия,  Германия,  Франция,  Нидерланды',\n",
       "       'Швеция,  Франция,  Норвегия,  Дания',\n",
       "       'Италия,  Франция,  Великобритания', 'Венесуэла',\n",
       "       'Великобритания,  США,  Австралия,  Ирландия,  Германия,  Куба,  Канада',\n",
       "       'Южная Корея,  КНР',\n",
       "       'Аргентина,  Мексика,  Бразилия,  Франция,  США', 'Швеция,  США',\n",
       "       'Франция,  Германия,  Турция,  Катар', 'Франция,  Китай',\n",
       "       'Россия,  Германия,  Великобритания',\n",
       "       'Великобритания,  Италия,  Испания', 'Италия,  Россия',\n",
       "       'Япония,  КНР,  Южная Корея', 'Россия,  Германия',\n",
       "       'Россия,  Ирландия', 'Македония,  Франция,  Великобритания',\n",
       "       'Франция,  Бразилия,  Италия', 'Россия,  США', 'Армения,  Россия',\n",
       "       'Россия,  Румыния', 'Франция,   Бельгия', 'Грузия,  Франция',\n",
       "       'ЮАР,  США',\n",
       "       'Великобритания,  США,  Германия,  Канада,  Австралия',\n",
       "       'США,  Ирландия', 'Германия,  Люксембург,  Франция',\n",
       "       'Россия,  Франция',\n",
       "       'США,  Нидерланды,  Финляндия,  Великобритания,  Италия',\n",
       "       'Республика Кипр', 'Венгрия', 'Франция,  США,  Норвегия,  Дания',\n",
       "       'Германия,  Австрия,  Ирландия', 'США,  Финляндия',\n",
       "       'Италия,  Великобритания', 'Россия,  Испания',\n",
       "       'США,  Великобритания,  Болгария', 'Великобритания,  Люксембург',\n",
       "       'Индия,  США', 'США,  Канада,  Россия,  Франция,  Чили,  Ирландия',\n",
       "       'Грузия,  Россия',\n",
       "       'Дания,  Австрия,  Ирландия,  Финляндия,  Норвегия,  Швеция,  Нидерланды',\n",
       "       'Грузия', 'Австралия,  Ирландия', 'Италия,  Аргентина,  Словения ',\n",
       "       'Испания,  Франция,  Нидерланды,  Германия,  Бельгия,  Великобритания,  Канада',\n",
       "       'Франция,  Чехия,  Бельгия',\n",
       "       'Великобритания,  Франция,  Германия,  США',\n",
       "       'Ирландия,  Великобритания,  Франция,  США,  Германия,  Нидерланды',\n",
       "       'США,  Канада,  Япония,  КНР', 'США,  Великобритания,  Исландия',\n",
       "       'Франция,  Германия,  Нидерланды', 'Иран ',\n",
       "       'Франция,  Германия,  Швеция,  США,  Чехия,  Словакия,  Великобритания,  Нидерланды',\n",
       "       'Франция,  Канада,  Н.Зеландия,  США,  Нидерланды,  Германия,  Швеция,  Россия',\n",
       "       'Турция,  США',\n",
       "       'Великобритания,  США,  Канада,  Бельгия,  Нидерланды,  Австрия,  Германия',\n",
       "       'Израиль,  Франция,  Германия,  Палестина,  США,  Австрия,  Великобритания',\n",
       "       'Аргентина,  Франция,  Испания', 'СССР,  Россия',\n",
       "       'Великобритания,  Франция,  Италия,  Индия,  Дания,  КНР,  Бангладеш,  Камбоджа,  Гаити,  Уганда',\n",
       "       'Италия,  Франция,  Швейцария',\n",
       "       'Ирландия,  Великобритания,  Канада', 'Перу', 'США,  Норвегия',\n",
       "       'Китай,  Гонконг', 'США,  Германия,  КНР',\n",
       "       'Великобритания,  Новая Зеландия',\n",
       "       'Франция,  Дания,  Швеция,  КНР',\n",
       "       'США,  Великобритания,  Германия,  Бельгия,  Дания',\n",
       "       'США,  Франция,  Канада,  Германия,  Австралия,  Индия',\n",
       "       'неизвестно', 'СССР,  Румыния,  Франция', 'СССР,  ГДР',\n",
       "       'Великобритания,  Франция,  Австрия,  Швеция',\n",
       "       'Россия,  Таджикистан', 'Нидерланды,  Бельгия,  Болгария',\n",
       "       'Великобритания,  Канада,  США', 'Франция,  Бельгия,  Испания',\n",
       "       'Китай,  Гонконг,  США', 'США,  Вьетнам',\n",
       "       'США,  Германия,  Франция', 'Германия,  Франция,  Бельгия',\n",
       "       'США,  Италия',\n",
       "       'Германия,  Дания,  Испания,  Швеция,  Канада,  Эстония,  Франция',\n",
       "       'Княжество Андорра,  Украина', 'Германия,  Люксембург,  Бельгия',\n",
       "       'Великобритания,  Россия,  Украина,  США',\n",
       "       'Германия,  Бельгия,  Люксембург,  Норвегия',\n",
       "       'США,  Австралия,  Новая Зеландия,  Великобритания',\n",
       "       'США,  Франция,  Канада,  Великобритания', 'Испания,  Колумбия',\n",
       "       'Великобритания,  Чехия,  Франция', 'Исландия',\n",
       "       'Великобритания,  Франция,  Венгрия',\n",
       "       'Россия,  Франция,  Германия,  Бельгия', 'Франция,  Македония',\n",
       "       'Нидерланды,  Франция,  Германия,  Бельгия,  Швеция,  Великобритания',\n",
       "       'Испания,  США,  Великобритания,  Канада', 'Республика Казахстан',\n",
       "       'Франция,  Испания,  Дания,  Венгрия,  Швейцария', 'Франция,  КНР',\n",
       "       'США,  Пуэрто,  Рико,  Франция ', 'Мексика,  Тайвань,  США',\n",
       "       'Великобритания,  Испания,  Непал,  Индия,  Венгрия,  Гонконг,  Германия,  Дания,  Бахрейн',\n",
       "       'Великобритания,  Аргентина,  США,  Франция,  Россия,  Испания',\n",
       "       'КНР,  США', 'Италия,  США', 'Финляндия,  Швеция,  Германия',\n",
       "       'Канада,   Испания', 'Франция,  Бельгия,  Чехия',\n",
       "       'Франция,  Германия,  США', 'США,  Дания', 'Индия,  КНР',\n",
       "       'Чехия,  Великобритания,  США', 'США,  ФРГ,  Россия',\n",
       "       'Ирландия,  Нидерланды,  Франция,  США,  Великобритания',\n",
       "       'Россия,  Грузия,  Хорватия,  Испания',\n",
       "       'Финляндия,  Швеция,  Норвегия', 'Сербия,  Великобритания,  США',\n",
       "       'США,  Великобритания,  Франция,  Гонконг', 'Швейцария,  Франция',\n",
       "       'Швейцария,  Великобритания', 'ОАЭ,  США',\n",
       "       'США,  Франция,  Германия,  Канада,  Австралия ',\n",
       "       'Германия,  Австралия', 'Иран,  Франция',\n",
       "       'США,  Великобритания,  Новая Зеландия', 'США,  Колумбия',\n",
       "       'США,  Франция,  Ирландия', 'Великобритания,  Франция,  Бельгия',\n",
       "       'США,  Великобритания,  Япония', 'США,  Франция,  Германия',\n",
       "       'Польша,  Ирландия', 'Ирландия,  Великобритания,  Франция,  США',\n",
       "       'США,  Бельгия,  Великобритания', 'СССР,  ВНР',\n",
       "       'Испания,  Франция,  США,  Великобритания,  Бельгия',\n",
       "       'Франция,  Дания,  США', 'США,  Гонконг', 'Бразилия,  К;анада',\n",
       "       'США,  Ирландия,  Великобритания,  Франция',\n",
       "       'Великобритания,  США,  Канада', 'Польша,  Франция',\n",
       "       'Канада,  США,  Нидерланды,  Великобритания,  Аргентина',\n",
       "       'Великобритания,  Дания', 'Франция,  Бельгия,  Япония',\n",
       "       'Россия,   Испания', 'Франция ,  Бельгия',\n",
       "       'США,  Канада,  Германия,  Франция', 'США,  Канада,  Франция',\n",
       "       'Германия,  Австрия,  Франция,  Италия', 'США,  Германия,  Канада',\n",
       "       'Испания,  Мексика',\n",
       "       'США,  Япония,  Канада,  Великобритания,  Германия,  Франция',\n",
       "       'США ,  Великобритания,  Австралия', 'Россия,  Украина,  Германия',\n",
       "       'Израиль,  Франция,  Великобритания,  Германия', 'Корея',\n",
       "       'Россия,  Болгария', 'Германия,  Канада,  Франция,  Бельгия',\n",
       "       'Германия,  Кения', 'Франция,  Монако',\n",
       "       'Франция,  Испания,  Швейцария', 'Австрия,  Франция,  Германия',\n",
       "       'Румыния', 'США,  Великобритания,  Франция',\n",
       "       'Канада,  Великобритания', 'Канада,  Бразилия,  Япония',\n",
       "       'Германия,  Дания,  Норвегия', 'Дания,  Германия',\n",
       "       'СССР,  ГДР,  Польша,  Италия',\n",
       "       'США,  Испания,  Франция,  Великобритания', 'Китай',\n",
       "       'Мексика,  Аргентина',\n",
       "       'Германия,  Великобритания,  Италия,  Испания',\n",
       "       'Франция,  Германия,  Великобритания',\n",
       "       'Россия,  Германия,  Швейцария', 'Франция,  Австралия',\n",
       "       'Голландия', 'Россия,  Белоруссия', 'Франция,  Испания,  Тайвань',\n",
       "       'США,  Южная Корея,  Новая Зеландия', 'Великобритания,  Венгрия',\n",
       "       'Великобритания,  Франция,  Германия',\n",
       "       'Франция,  Германия,  Италия',\n",
       "       'Швеция,  Финляндия,  Франция,  Норвегия', 'Германия,  Израиль',\n",
       "       'Швеция,  Германия,  Дания,  Норвегия',\n",
       "       'Франция,  Гонконг,  Ирландия', 'Эстония',\n",
       "       'Литва,  Россия,  Украина', 'Германия,  Италия,  Франция',\n",
       "       'Великобритания,  Австрия,  Германия', 'Испания,  Мальта',\n",
       "       'Франция,  Россия,  Румыния,  Италия,  Бельгия', 'Россия,  Польша',\n",
       "       'США,  Аргентина', 'Великобритания ', 'Израиль,  США,  Франция',\n",
       "       'США,  Новая Зеландия,  Япония',\n",
       "       'Франция,  Чехия,  Великобритания',\n",
       "       'Германия,  Франция,  Великобритания', 'США,  Гонконг,  Китай',\n",
       "       'США,  Великобритания,  Германия', 'США,  Канада,  Австралия',\n",
       "       'Япония,  США,  Франция', 'Франция,  Испания,  Германия',\n",
       "       'США,  Хорватия,  Босния,  Герцеговина',\n",
       "       'Великобритания,  Чехия,  Франция,  Италия',\n",
       "       'США,  Германия,  Нидерланды', 'Германия,  Франция,  Канада',\n",
       "       'Франция,  Грузия,  Германия,  Россия,  Украина,  Бельгия',\n",
       "       'Великобритания,  Франция,  Италия', 'Франция,  Италия,  Иран',\n",
       "       'Греция', 'Дания,  США', 'США,  Германия,  Австралия',\n",
       "       'США,  Канада,  Италия', 'США,  Япония,  Германия',\n",
       "       'Франция,  Великобритания,  Багамские острова,  США',\n",
       "       'Швейцария,  Люксембург', 'Швейцария,  Австрия',\n",
       "       'Германия,  Швейцария', 'Дания,  Швеция,  Франция,  Германия',\n",
       "       'Польша', 'Бразилия,  Канада,  США', 'Нидерланды,  Россия',\n",
       "       'Португалия', 'Франция,  Аргентина', 'Швеция,  Франция',\n",
       "       'Франция,  Украина', 'Германия,  Украина,  Нидерланды',\n",
       "       'Италия,  Швейцария', 'Латвия,  Россия',\n",
       "       'Германия,  Франция,  Великобритания,  США', 'Канада,  Италия',\n",
       "       'США,  Объединенные Арабские Эмираты', 'США,  Венгрия', 'Малайзия',\n",
       "       'Россия,  Германия,  Украина', 'США,  Австралия,  Мексика',\n",
       "       'Литва,  Венгрия', 'Германия,  Китай', 'Казахстан',\n",
       "       'Республика Корея',\n",
       "       'США,  Германия,  Франция,  Великобритания,  Канада ',\n",
       "       'Бельгия,  Германия,  Люксембург,  Франция', 'Франция,  Греция',\n",
       "       'Италия,  Канада', 'США,  Италия,  Греция',\n",
       "       'Германия,  США,  Великобритания,  Ирландия',\n",
       "       'Германия,  Нидерланды,  ЮАР',\n",
       "       'США,  Япония,  Германия,  Великобритания,  Нидерланды',\n",
       "       'США,  Япония,  Германия,  Великобритания',\n",
       "       'Таиланд,  Великобритания,  Франция,  Германия,  Испания,  Нидерланды',\n",
       "       'Германия,  Италия,  Швейцария',\n",
       "       'Дания,  Швеция,  Великобритания,  Франция,  Германия,  Нидерланды,  Норвегия,  Финляндия',\n",
       "       'Франция,  Великобритания,  Нидерланды,  Люксембург',\n",
       "       'Нидерланды,  Великобритания,  Франция,  Италия,  Япония',\n",
       "       'Великобритания,  Нидерланды,  Франция,  США', 'Канада,  Мексика',\n",
       "       'Канада,  Южная Корея,  США',\n",
       "       'Великобритания,  Франция,  Бельгия,  США', 'КНР,  Канада,  США',\n",
       "       'Италия,  Франция,  Германия',\n",
       "       'Швеция,  Германия,  Франция,  Дания', 'Франция,  США,  Бельгия',\n",
       "       'Украина,  Германия,  Латвия,  Эстония', 'Австрия,  Люксембург',\n",
       "       'Великобритания,  КНР', 'Монголия', 'Франция,  Дания',\n",
       "       'Швеция,  Дания,  Финляндия',\n",
       "       'Сингапур,  Великобритания,  Индонезия,  Канада,  США',\n",
       "       'США,  Германия,  Япония', 'Таиланд,  США', 'Франция,  Нидерланды',\n",
       "       'Великобритания,  Румыния',\n",
       "       'Великобритания,  Германия,  Нидерланды,  Дания',\n",
       "       'Франция,  Германия,  Литва,  Нидерланды,  Россия',\n",
       "       'США,  ЮАР,  Гонконг', 'Австралия,  Колумбия',\n",
       "       'Великобритания,  Польша', 'США,  Великобритания,  Швеция',\n",
       "       'Франция,  Швеция,  Дания,  Норвегия', 'Болгария,  США',\n",
       "       'СССР,  ФРГ', 'Бельгия,  Нидерланды,  Франция',\n",
       "       'Финляндия,  Германия', 'Болгария',\n",
       "       'Грузия,  Россия,  Украина,  Хорватия,  Германия',\n",
       "       'Франция,  Люксембург', 'Франция,  Германия,  Австрия',\n",
       "       'Норвегия,  США', 'Германия,  Швеция',\n",
       "       'Великобритания,  Ирландия,  США ',\n",
       "       'Дания,  Латвия,  Россия,  США', 'Финляндия,  Польша',\n",
       "       'Германия,  Бельгия', 'Германия,  США,  Франция,  Испания',\n",
       "       'Бельгия,  Германия,  Канада,  Франция,  США,  Великобритания',\n",
       "       'Нидерланды,  Бельгия,  Люксембург',\n",
       "       'Люксембург,  Бельгия,  Франция', 'Бельгия,  Великобритания,  США',\n",
       "       'Великобритания,  Австралия', 'Исландия,  Бельгия',\n",
       "       'Испания,  Швейцария,  Великобритания,  Германия,  Новая Зеландия,  Нидерланды,  Канада',\n",
       "       'Киргизия,  Россия', 'Великобритания,  США,  Испания',\n",
       "       'Италия,  Швейцария,  Германия', 'Россия,  Армения',\n",
       "       'Китай,  Канада,  США', 'США,  Великобритания,  Люксембург',\n",
       "       'Испания,  Ирландия,  Бельгия,  Франция',\n",
       "       'Великобритания,  Гонконг,  Венгрия,  США,  Ирландия',\n",
       "       'США,  Пуэрто Рико', 'Аргентина,  Испания,  Уругвай',\n",
       "       'Израиль,  Германия,  Франция,  Швейцария',\n",
       "       'Великобритания,  Мексика,  США', 'Испания,  Болгария,  США',\n",
       "       'Россия,  Словакия,  Чехия',\n",
       "       'Швейцария,  КНР,  США,  Россия,  Республика Корея,  Великобритания',\n",
       "       'Россия,  Нидерланды,  Финляндия',\n",
       "       'Испания,  Бельгия,  Франция,  Португалия,  Великобритания',\n",
       "       'Бразилия,  Португалия,  Франция', 'Швеция,  Норвегия',\n",
       "       'Франция,  Польша,  Бельгия', 'CША', 'Китай,  США',\n",
       "       'Германия,  Австрия,  Франция', 'Чехия,  Словакия,  Хорватия',\n",
       "       'Россия,  Польша,  Финляндия',\n",
       "       'Россия,  Латвия,  Чешская Республика',\n",
       "       'Франция,  Великобритания,  Камбоджа,  США,  КНР',\n",
       "       'Чехия,  Испания,  США', 'Германия,  Люксембург,  Дания',\n",
       "       'Великобритания,  Испания,  Германия', 'Дания,  Исландия',\n",
       "       'Великобритания,  Испания,  Италия,  Латвия,  Франция,  Эстония',\n",
       "       'Дания,  Швеция,  Великобритания,  Франция,  Германия,  Норвегия,  Финляндия,  Нидерланды,  Италия',\n",
       "       'Польша,  Франция,  Великобритания',\n",
       "       'Дания,  Норвегия,  Венгрия,  Чехия',\n",
       "       'Дания,  Франция,  Германия,  Швеция',\n",
       "       'Великобритания,  Швеция,  США',\n",
       "       'Канада,  Франция,  Италия,  Швейцария,  США',\n",
       "       'США,  Великобритания,  Германия,  ,   Швеция,  Канада',\n",
       "       'Республика Беларусь,  Германия,  США,  Россия',\n",
       "       'Италия,  Швейцария,  Франция,  Германия ',\n",
       "       'Россия,  Франция,  Великобритания,  Латвия', 'Россия,  Беларусь',\n",
       "       'Франция,  Испания,  Румыния,  США,  Бельгия', 'Россия,  Австрия',\n",
       "       'Ирландия,  Великобритания,  США',\n",
       "       'Швейцария,  Великобритания,  Франция,  США,  Ирландия',\n",
       "       'Мексика,  Франция,  Германия,  Дания,  Швеция',\n",
       "       'Нидерланды,  Бельгия', 'Швеция,  Норвегия,  Финляндия,  Франция',\n",
       "       'Испания,  Франция,  Италия',\n",
       "       'Испания,  Франция,  Греция,  Индия,  США,  Россия,  Великобритания',\n",
       "       'Великобритания,  Япония,  США',\n",
       "       'Дания,  Канада,  Норвегия,  Австралия,  США',\n",
       "       'Россия,  Германия,  Казахстан,  Польша,  Китай',\n",
       "       'Португалия,  Франция,  Польша,  США', 'США,  Канада,  Аргентина',\n",
       "       'Ливан,  США', 'Япония,  США', 'США,  Гонконг ',\n",
       "       'Франция,  Россия,  Швейцария,  Румыния,  Венгрия',\n",
       "       'Россия,  Сербия', 'США,  Болгария,  Мексика',\n",
       "       'США,  Великобритания,  Швейцария,  Франция',\n",
       "       'Таиланд,  КНР,  США',\n",
       "       'Великобритания,  Нидерланды,  Польша,  Швейцария,  Франция',\n",
       "       'Ирландия,  США',\n",
       "       'Германия,  Франция,  Великобритания,  Польша,  США',\n",
       "       'США,  Австралия,  Индия', 'Великобритания,  Израиль',\n",
       "       'Великобритания,  Норвегия,  Кения,  Хорватия',\n",
       "       'США,  Бразилия,  Великобритания,  Канада', 'Австралия,  Канада',\n",
       "       'Кения,  Германия', 'Колумбия', 'Латвия,  Франция',\n",
       "       'Франция,  Израиль,  Германия',\n",
       "       'Швеция,  Франция,  Великобритания', 'Бельгия,  Люксембург',\n",
       "       'Германия,  Бельгия,  Великобритания',\n",
       "       'Испания,  Франция,  Великобритания,  Дания,  Бельгия,  Германия',\n",
       "       'Румыния,  ЮАР,  Иран,  Франция,  Канада,  Великобритания',\n",
       "       'США,  Великобритания,  Ирландия,  Люксембург',\n",
       "       'Республика Армения', 'США,  Франция,  Япония',\n",
       "       'Республика Кипр,  Россия',\n",
       "       'Дания,  Франция,  Италия,  Бельгия,  Нидерланды',\n",
       "       'Россия,  Грузия', 'Италия,  Германия',\n",
       "       'Норвегия,  Швеция,  Дания', 'КНР,  Индия,  Гонконг,  США',\n",
       "       'Израиль,  Украина', 'США,  КНР,  Индия,  Ю.Корея', 'США,  Швеция',\n",
       "       'Россия,  Китай', 'Канада,  США,  Каймановы острова',\n",
       "       'Бразилия,  Уругвай,  Дания,  Норвегия,  Чили,  Швеция',\n",
       "       'Пуэрто,  Рико,  Великобритания,  США',\n",
       "       'Уругвай,  Аргентина,  Испания',\n",
       "       'США,  Великобритания,  Италия,  Израиль,  Сербия,  Индия',\n",
       "       'США,  Канада,  Франция,  Индия', 'Великобритания,  Россия,  КНР',\n",
       "       'Франция,  Новая Зеландия', 'Канада,  США,  Норвегия',\n",
       "       'Италия,  Испания', 'Испания,  Германия,  Нидерланды',\n",
       "       'Бразилия,  США,  КНР ', 'Великобритания,  Германия,  Дания,  США',\n",
       "       '2019', 'Италия,  Фрация,  Бразилия,  Германия',\n",
       "       'Норвегия,  Швеция,  Россия', 'Сша,  Канада', 'Бельгия,  Канада',\n",
       "       'КНР,  США ', 'Франция,  Финляндия', 'Колумбия,  США',\n",
       "       'Норвегия,  Нидерланды', 'Италия,  Бельгия,  Франция',\n",
       "       'Россия,  Бельгия,  Финляндия', 'Франция,  Норвегия',\n",
       "       'Великобритания,  Южная Корея,  Канада,  США,  Индия,  Китай,  Япония',\n",
       "       'Канада,  Норвегия',\n",
       "       'Польша,  Франция,  Испания,  Бразилия,  Швеция',\n",
       "       'Австрия,  Великобритания,  Германия',\n",
       "       'Франция,  Сенегал,  Бельгия', 'Финляндия,  Латвия', 'Пакистан',\n",
       "       'Германия,  Франция,  США', 'Германия,  Великобритания,  США',\n",
       "       'КНР,  Франция', 'Дания,  Норвегия,  Швеция,  Исландия',\n",
       "       'Республика Кипр,  США,  Россия', 'Новая Зеландия,  КНР',\n",
       "       'Дания,  Канада,  Швеция,  Франция,  Германия,  Великобритания,  США'],\n",
       "      dtype=object)"
      ]
     },
     "execution_count": 26,
     "metadata": {},
     "output_type": "execute_result"
    }
   ],
   "source": [
    "data['production_country'] = data['production_country'].replace('-', ', ', regex=True)\n",
    "data['production_country'] = data['production_country'].replace(',', ', ', regex=True)\n",
    "data['production_country'].unique()"
   ]
  },
  {
   "cell_type": "code",
   "execution_count": 27,
   "metadata": {},
   "outputs": [
    {
     "data": {
      "text/plain": [
       "неизвестно                                                               568\n",
       "П.Смирнов                                                                 67\n",
       "Олег Кузовков, Дмитрий Ловейко, Марина Ратина                             28\n",
       "С.Сельянов                                                                18\n",
       "Д.Ловейко, О.Кузовков                                                     17\n",
       "                                                                        ... \n",
       "А.Голутва, А.Зуев                                                          1\n",
       "Николай Моланд                                                             1\n",
       "Нед Дауд                                                                   1\n",
       "Элизабет Авеллан, Боб Вайнштейн, Харви Вайнштейн, Билл Скотт               1\n",
       "Орен Коулес, Бред Кревой, Трой Миллер, Стив Стеблер, Чарльз Б.Уэсслер      1\n",
       "Name: producer, Length: 5350, dtype: int64"
      ]
     },
     "execution_count": 27,
     "metadata": {},
     "output_type": "execute_result"
    }
   ],
   "source": [
    "data['producer'].value_counts()"
   ]
  },
  {
   "cell_type": "code",
   "execution_count": 28,
   "metadata": {},
   "outputs": [
    {
     "data": {
      "text/plain": [
       "«16+» - для детей старше 16 лет           2851\n",
       "«18+» - запрещено для детей               1605\n",
       "«12+» - для детей старше 12 лет           1592\n",
       "«0+» - для любой зрительской аудитории     811\n",
       "«6+» - для детей старше 6 лет              626\n",
       "Name: age_restriction, dtype: int64"
      ]
     },
     "execution_count": 28,
     "metadata": {},
     "output_type": "execute_result"
    }
   ],
   "source": [
    "data['age_restriction'].value_counts()"
   ]
  },
  {
   "cell_type": "code",
   "execution_count": 29,
   "metadata": {
    "scrolled": true
   },
   "outputs": [
    {
     "data": {
      "text/plain": [
       "Киностудия \"Мосфильм\"                                                                                                                         341\n",
       "ООО \"Мульт в кино\"                                                                                                                             57\n",
       "Анимаккорд Лтд                                                                                                                                 23\n",
       "неизвестно                                                                                                                                     18\n",
       "ООО \"Мульт в кино\"                                                                                                                             18\n",
       "                                                                                                                                             ... \n",
       "Ателье де Продюксьон, Арт Франс Синема, Нексус Фэктори, Юмедиа, ЮФонд, Гариди Фильм, Синема 13, Национальный центр кинематографии, Канал +      1\n",
       "Бемибаби Филмз                                                                                                                                  1\n",
       "Ксилам                                                                                                                                          1\n",
       "Нью Лайн Синема, Ньюман/Тули Филмз, Джозеф Нитолло Интертейнмент, Авери Пей, Уорнер Бразерс                                                     1\n",
       "Мандарин Филмз (Mandarin Films), Гамонт (Gaumont), Канал плюс (Canal +), Синэ плюс(Cine+)                                                       1\n",
       "Name: film_studio, Length: 5491, dtype: int64"
      ]
     },
     "execution_count": 29,
     "metadata": {},
     "output_type": "execute_result"
    }
   ],
   "source": [
    "data['film_studio'].value_counts()"
   ]
  },
  {
   "cell_type": "code",
   "execution_count": 30,
   "metadata": {},
   "outputs": [
    {
     "data": {
      "text/plain": [
       "Министерство культуры               164\n",
       "Фонд кино                           146\n",
       "Министерство культуры, Фонд кино     22\n",
       "Name: financing_source, dtype: int64"
      ]
     },
     "execution_count": 30,
     "metadata": {},
     "output_type": "execute_result"
    }
   ],
   "source": [
    "data['financing_source'].value_counts()"
   ]
  },
  {
   "cell_type": "markdown",
   "metadata": {},
   "source": [
    "Значения в категориальных переменных (кроме типа фильма, источника финансирования и возрастных ограничений) хранятся как списки - несколько стран, продюсеров, режиссеров, студий, жанров и т.д. Решением данной пролемы станет выделение первых значений из этих списков, чем мы займёмся далее. "
   ]
  },
  {
   "cell_type": "markdown",
   "metadata": {},
   "source": [
    "<div class=\"alert alert-block alert-danger\">\n",
    "<h2> Комментарий ревьюера 🤔<a class=\"tocSkip\"></h2>\n",
    "  <s>\n",
    "Не все категориальные столбцы рассмотрены, следует изучить их и ответить на вопрос о том, какая же  в них встречается общая проблема? \n",
    "    \n",
    "Сразу замечу, что дело не только в пропусках и запятых, ответить тебе могут помочь следующие вопросы: Почему мы называем столбцы категориальными? Сможем ли мы сформировать категории или сгруппировать данные в нашем случае?)  "
   ]
  },
  {
   "cell_type": "markdown",
   "metadata": {},
   "source": [
    "<div class=\"alert alert-success\">\n",
    "<h2> Комментарий ревьюера 😊 v_3 <a class=\"tocSkip\"> </h2>\n",
    "\n",
    "Теперь все отлично) Столбцы действительно имеют очень много уникальных значений из-за того, что во всех этих полях идет перечисление."
   ]
  },
  {
   "cell_type": "markdown",
   "metadata": {
    "id": "XFSN5lrEgFyR"
   },
   "source": [
    "#### Шаг 2.5. Проверим количественные значения"
   ]
  },
  {
   "cell_type": "code",
   "execution_count": 31,
   "metadata": {
    "id": "YbzClBxagFyS"
   },
   "outputs": [
    {
     "data": {
      "text/html": [
       "<div>\n",
       "<style scoped>\n",
       "    .dataframe tbody tr th:only-of-type {\n",
       "        vertical-align: middle;\n",
       "    }\n",
       "\n",
       "    .dataframe tbody tr th {\n",
       "        vertical-align: top;\n",
       "    }\n",
       "\n",
       "    .dataframe thead th {\n",
       "        text-align: right;\n",
       "    }\n",
       "</style>\n",
       "<table border=\"1\" class=\"dataframe\">\n",
       "  <thead>\n",
       "    <tr style=\"text-align: right;\">\n",
       "      <th></th>\n",
       "      <th>pu_number</th>\n",
       "      <th>refundable_support</th>\n",
       "      <th>nonrefundable_support</th>\n",
       "      <th>budget</th>\n",
       "      <th>ratings</th>\n",
       "      <th>box_office</th>\n",
       "    </tr>\n",
       "  </thead>\n",
       "  <tbody>\n",
       "    <tr>\n",
       "      <th>count</th>\n",
       "      <td>7.485000e+03</td>\n",
       "      <td>3.320000e+02</td>\n",
       "      <td>3.320000e+02</td>\n",
       "      <td>3.320000e+02</td>\n",
       "      <td>6490.000000</td>\n",
       "      <td>3.158000e+03</td>\n",
       "    </tr>\n",
       "    <tr>\n",
       "      <th>mean</th>\n",
       "      <td>1.351966e+08</td>\n",
       "      <td>1.186446e+07</td>\n",
       "      <td>4.898099e+07</td>\n",
       "      <td>1.272297e+08</td>\n",
       "      <td>6.479245</td>\n",
       "      <td>7.647870e+07</td>\n",
       "    </tr>\n",
       "    <tr>\n",
       "      <th>std</th>\n",
       "      <td>3.835292e+07</td>\n",
       "      <td>2.491656e+07</td>\n",
       "      <td>5.998012e+07</td>\n",
       "      <td>1.885883e+08</td>\n",
       "      <td>1.101665</td>\n",
       "      <td>2.403531e+08</td>\n",
       "    </tr>\n",
       "    <tr>\n",
       "      <th>min</th>\n",
       "      <td>1.811096e+06</td>\n",
       "      <td>0.000000e+00</td>\n",
       "      <td>0.000000e+00</td>\n",
       "      <td>0.000000e+00</td>\n",
       "      <td>1.000000</td>\n",
       "      <td>0.000000e+00</td>\n",
       "    </tr>\n",
       "    <tr>\n",
       "      <th>25%</th>\n",
       "      <td>1.120251e+08</td>\n",
       "      <td>0.000000e+00</td>\n",
       "      <td>2.500000e+07</td>\n",
       "      <td>4.200000e+07</td>\n",
       "      <td>5.900000</td>\n",
       "      <td>8.623900e+04</td>\n",
       "    </tr>\n",
       "    <tr>\n",
       "      <th>50%</th>\n",
       "      <td>1.210155e+08</td>\n",
       "      <td>0.000000e+00</td>\n",
       "      <td>3.000000e+07</td>\n",
       "      <td>6.864992e+07</td>\n",
       "      <td>6.600000</td>\n",
       "      <td>2.327988e+06</td>\n",
       "    </tr>\n",
       "    <tr>\n",
       "      <th>75%</th>\n",
       "      <td>1.240033e+08</td>\n",
       "      <td>1.500000e+07</td>\n",
       "      <td>4.037500e+07</td>\n",
       "      <td>1.419853e+08</td>\n",
       "      <td>7.200000</td>\n",
       "      <td>2.397967e+07</td>\n",
       "    </tr>\n",
       "    <tr>\n",
       "      <th>max</th>\n",
       "      <td>2.310011e+08</td>\n",
       "      <td>1.800000e+08</td>\n",
       "      <td>4.000000e+08</td>\n",
       "      <td>2.305074e+09</td>\n",
       "      <td>9.200000</td>\n",
       "      <td>3.073569e+09</td>\n",
       "    </tr>\n",
       "  </tbody>\n",
       "</table>\n",
       "</div>"
      ],
      "text/plain": [
       "          pu_number  refundable_support  nonrefundable_support        budget  \\\n",
       "count  7.485000e+03        3.320000e+02           3.320000e+02  3.320000e+02   \n",
       "mean   1.351966e+08        1.186446e+07           4.898099e+07  1.272297e+08   \n",
       "std    3.835292e+07        2.491656e+07           5.998012e+07  1.885883e+08   \n",
       "min    1.811096e+06        0.000000e+00           0.000000e+00  0.000000e+00   \n",
       "25%    1.120251e+08        0.000000e+00           2.500000e+07  4.200000e+07   \n",
       "50%    1.210155e+08        0.000000e+00           3.000000e+07  6.864992e+07   \n",
       "75%    1.240033e+08        1.500000e+07           4.037500e+07  1.419853e+08   \n",
       "max    2.310011e+08        1.800000e+08           4.000000e+08  2.305074e+09   \n",
       "\n",
       "           ratings    box_office  \n",
       "count  6490.000000  3.158000e+03  \n",
       "mean      6.479245  7.647870e+07  \n",
       "std       1.101665  2.403531e+08  \n",
       "min       1.000000  0.000000e+00  \n",
       "25%       5.900000  8.623900e+04  \n",
       "50%       6.600000  2.327988e+06  \n",
       "75%       7.200000  2.397967e+07  \n",
       "max       9.200000  3.073569e+09  "
      ]
     },
     "execution_count": 31,
     "metadata": {},
     "output_type": "execute_result"
    }
   ],
   "source": [
    "data.describe()"
   ]
  },
  {
   "cell_type": "code",
   "execution_count": 32,
   "metadata": {},
   "outputs": [
    {
     "data": {
      "image/png": "[encoded data removed]",
      "text/plain": [
       "<Figure size 720x720 with 9 Axes>"
      ]
     },
     "metadata": {
      "needs_background": "light"
     },
     "output_type": "display_data"
    }
   ],
   "source": [
    "data.hist(figsize=(10, 10))\n",
    "pass"
   ]
  },
  {
   "cell_type": "markdown",
   "metadata": {},
   "source": [
    "Из всех 7 графиков только у графика с рейтингом мы наблюдаем нормальное распределение. Похоже, что в данных могут быть выбросы и/или ошибки. Рассмотрим это подробнее ниже. "
   ]
  },
  {
   "cell_type": "markdown",
   "metadata": {},
   "source": [
    "<div class=\"alert alert-block alert-danger\">\n",
    "<h2> Комментарий ревьюера 🤔 v_2<a class=\"tocSkip\"></h2>\n",
    "    <s>\n",
    "Нужно добавить выводы по графикам)"
   ]
  },
  {
   "cell_type": "markdown",
   "metadata": {},
   "source": [
    "<div class=\"alert alert-success\">\n",
    "<h2> Комментарий ревьюера 😊 v_3 <a class=\"tocSkip\"> </h2>\n",
    "\n",
    "👍"
   ]
  },
  {
   "cell_type": "markdown",
   "metadata": {},
   "source": [
    "Рассмотрим подробнее данные по бюджету и кассовым сборам"
   ]
  },
  {
   "cell_type": "code",
   "execution_count": 33,
   "metadata": {},
   "outputs": [
    {
     "data": {
      "image/png": "[encoded data removed]",
      "text/plain": [
       "<Figure size 720x360 with 1 Axes>"
      ]
     },
     "metadata": {
      "needs_background": "light"
     },
     "output_type": "display_data"
    }
   ],
   "source": [
    "data['budget'].hist(bins=20, figsize=(10, 5))\n",
    "plt.title('Budget')\n",
    "pass"
   ]
  },
  {
   "cell_type": "code",
   "execution_count": 34,
   "metadata": {
    "scrolled": true
   },
   "outputs": [
    {
     "data": {
      "image/png": "[encoded data removed]",
      "text/plain": [
       "<Figure size 720x288 with 1 Axes>"
      ]
     },
     "metadata": {
      "needs_background": "light"
     },
     "output_type": "display_data"
    }
   ],
   "source": [
    "data['box_office'].hist(bins=20, figsize=(10, 4))\n",
    "plt.title('Box office')\n",
    "pass"
   ]
  },
  {
   "cell_type": "markdown",
   "metadata": {},
   "source": [
    "Часть значений сильно выбивается из общей массы. Мы видим, что бюджет некоторых фильмов составляет меньше 1000 рублей. Логично предположить, что в данных случаях использовались другие единицы. Например, бюджет считался в миллионах рублей или тысячах рублей. "
   ]
  },
  {
   "cell_type": "code",
   "execution_count": 35,
   "metadata": {},
   "outputs": [
    {
     "data": {
      "text/plain": [
       "231"
      ]
     },
     "execution_count": 35,
     "metadata": {},
     "output_type": "execute_result"
    }
   ],
   "source": [
    "data[data['box_office'] < 1000]['title'].count()"
   ]
  },
  {
   "cell_type": "code",
   "execution_count": 36,
   "metadata": {},
   "outputs": [
    {
     "data": {
      "text/html": [
       "<div>\n",
       "<style scoped>\n",
       "    .dataframe tbody tr th:only-of-type {\n",
       "        vertical-align: middle;\n",
       "    }\n",
       "\n",
       "    .dataframe tbody tr th {\n",
       "        vertical-align: top;\n",
       "    }\n",
       "\n",
       "    .dataframe thead th {\n",
       "        text-align: right;\n",
       "    }\n",
       "</style>\n",
       "<table border=\"1\" class=\"dataframe\">\n",
       "  <thead>\n",
       "    <tr style=\"text-align: right;\">\n",
       "      <th></th>\n",
       "      <th>title</th>\n",
       "      <th>pu_number</th>\n",
       "      <th>show_start_date</th>\n",
       "      <th>type</th>\n",
       "      <th>film_studio</th>\n",
       "      <th>production_country</th>\n",
       "      <th>director</th>\n",
       "      <th>producer</th>\n",
       "      <th>age_restriction</th>\n",
       "      <th>refundable_support</th>\n",
       "      <th>nonrefundable_support</th>\n",
       "      <th>budget</th>\n",
       "      <th>financing_source</th>\n",
       "      <th>ratings</th>\n",
       "      <th>genres</th>\n",
       "      <th>box_office</th>\n",
       "    </tr>\n",
       "  </thead>\n",
       "  <tbody>\n",
       "    <tr>\n",
       "      <th>7455</th>\n",
       "      <td>Холоп</td>\n",
       "      <td>111021719</td>\n",
       "      <td>2019-12-19 12:00:00+00:00</td>\n",
       "      <td>Художественный</td>\n",
       "      <td>ООО \"МЕМ-МЕДИА\" по заказу АО \"ВБД Груп\"</td>\n",
       "      <td>Россия</td>\n",
       "      <td>К.Шипенко</td>\n",
       "      <td>Э.Илоян, Д.Жалинский, В.Дусмухаметов, Т.Бадзие...</td>\n",
       "      <td>«12+» - для детей старше 12 лет</td>\n",
       "      <td>25000000.0</td>\n",
       "      <td>35000000.0</td>\n",
       "      <td>160000000.0</td>\n",
       "      <td>Фонд кино</td>\n",
       "      <td>6.8</td>\n",
       "      <td>комедия</td>\n",
       "      <td>3.073569e+09</td>\n",
       "    </tr>\n",
       "    <tr>\n",
       "      <th>5652</th>\n",
       "      <td>Движение вверх</td>\n",
       "      <td>111011817</td>\n",
       "      <td>2017-12-21 12:00:00+00:00</td>\n",
       "      <td>Художественный</td>\n",
       "      <td>ООО \"Студия \"ТРИТЭ\" Никиты Михалкова\"</td>\n",
       "      <td>Россия</td>\n",
       "      <td>А.Мегердичев</td>\n",
       "      <td>Л.Верещагин, А.Златопольский, Н.Михалков, ООО ...</td>\n",
       "      <td>«6+» - для детей старше 6 лет</td>\n",
       "      <td>0.0</td>\n",
       "      <td>400000000.0</td>\n",
       "      <td>590192191.0</td>\n",
       "      <td>Фонд кино</td>\n",
       "      <td>7.5</td>\n",
       "      <td>спорт,драма</td>\n",
       "      <td>2.779686e+09</td>\n",
       "    </tr>\n",
       "    <tr>\n",
       "      <th>6819</th>\n",
       "      <td>Мстители: Финал</td>\n",
       "      <td>121005519</td>\n",
       "      <td>2019-04-29 12:00:00+00:00</td>\n",
       "      <td>Художественный</td>\n",
       "      <td>Марвел Студиос</td>\n",
       "      <td>США</td>\n",
       "      <td>Джо Руссо, Энтони Руссо</td>\n",
       "      <td>Кевин Фейги</td>\n",
       "      <td>«16+» - для детей старше 16 лет</td>\n",
       "      <td>NaN</td>\n",
       "      <td>NaN</td>\n",
       "      <td>NaN</td>\n",
       "      <td>NaN</td>\n",
       "      <td>7.6</td>\n",
       "      <td>фантастика,боевик,драма</td>\n",
       "      <td>2.576614e+09</td>\n",
       "    </tr>\n",
       "    <tr>\n",
       "      <th>6548</th>\n",
       "      <td>Т-34</td>\n",
       "      <td>111024918</td>\n",
       "      <td>2018-12-21 12:00:00+00:00</td>\n",
       "      <td>Художественный</td>\n",
       "      <td>ООО \"Кинокомпания МАРС-фильм\" по заказу ООО \"М...</td>\n",
       "      <td>Россия</td>\n",
       "      <td>А.Сидоров</td>\n",
       "      <td>А.Златопольский, Р.Дишдишян, Л.Блаватник, Н.Яр...</td>\n",
       "      <td>«12+» - для детей старше 12 лет</td>\n",
       "      <td>60000000.0</td>\n",
       "      <td>120000000.0</td>\n",
       "      <td>563784717.0</td>\n",
       "      <td>Фонд кино</td>\n",
       "      <td>6.5</td>\n",
       "      <td>драма,военный,боевик</td>\n",
       "      <td>2.271754e+09</td>\n",
       "    </tr>\n",
       "    <tr>\n",
       "      <th>3487</th>\n",
       "      <td>Пираты Карибского моря: Мертвецы не рассказыва...</td>\n",
       "      <td>121009217</td>\n",
       "      <td>2017-05-17 12:00:00+00:00</td>\n",
       "      <td>Художественный</td>\n",
       "      <td>Джерри Брукхаймер Филмз, Уолт Дисней Пикчерз, ...</td>\n",
       "      <td>США</td>\n",
       "      <td>Йоаким Реннинг, Эспен Сандберг</td>\n",
       "      <td>Джерри Брукхаймер</td>\n",
       "      <td>«16+» - для детей старше 16 лет</td>\n",
       "      <td>NaN</td>\n",
       "      <td>NaN</td>\n",
       "      <td>NaN</td>\n",
       "      <td>NaN</td>\n",
       "      <td>6.6</td>\n",
       "      <td>фэнтези,боевик,комедия</td>\n",
       "      <td>2.118396e+09</td>\n",
       "    </tr>\n",
       "  </tbody>\n",
       "</table>\n",
       "</div>"
      ],
      "text/plain": [
       "                                                  title  pu_number  \\\n",
       "7455                                              Холоп  111021719   \n",
       "5652                                     Движение вверх  111011817   \n",
       "6819                                    Мстители: Финал  121005519   \n",
       "6548                                               Т-34  111024918   \n",
       "3487  Пираты Карибского моря: Мертвецы не рассказыва...  121009217   \n",
       "\n",
       "               show_start_date            type  \\\n",
       "7455 2019-12-19 12:00:00+00:00  Художественный   \n",
       "5652 2017-12-21 12:00:00+00:00  Художественный   \n",
       "6819 2019-04-29 12:00:00+00:00  Художественный   \n",
       "6548 2018-12-21 12:00:00+00:00  Художественный   \n",
       "3487 2017-05-17 12:00:00+00:00  Художественный   \n",
       "\n",
       "                                            film_studio production_country  \\\n",
       "7455            ООО \"МЕМ-МЕДИА\" по заказу АО \"ВБД Груп\"             Россия   \n",
       "5652              ООО \"Студия \"ТРИТЭ\" Никиты Михалкова\"             Россия   \n",
       "6819                                     Марвел Студиос                США   \n",
       "6548  ООО \"Кинокомпания МАРС-фильм\" по заказу ООО \"М...             Россия   \n",
       "3487  Джерри Брукхаймер Филмз, Уолт Дисней Пикчерз, ...                США   \n",
       "\n",
       "                            director  \\\n",
       "7455                       К.Шипенко   \n",
       "5652                    А.Мегердичев   \n",
       "6819         Джо Руссо, Энтони Руссо   \n",
       "6548                       А.Сидоров   \n",
       "3487  Йоаким Реннинг, Эспен Сандберг   \n",
       "\n",
       "                                               producer  \\\n",
       "7455  Э.Илоян, Д.Жалинский, В.Дусмухаметов, Т.Бадзие...   \n",
       "5652  Л.Верещагин, А.Златопольский, Н.Михалков, ООО ...   \n",
       "6819                                        Кевин Фейги   \n",
       "6548  А.Златопольский, Р.Дишдишян, Л.Блаватник, Н.Яр...   \n",
       "3487                                  Джерри Брукхаймер   \n",
       "\n",
       "                      age_restriction  refundable_support  \\\n",
       "7455  «12+» - для детей старше 12 лет          25000000.0   \n",
       "5652    «6+» - для детей старше 6 лет                 0.0   \n",
       "6819  «16+» - для детей старше 16 лет                 NaN   \n",
       "6548  «12+» - для детей старше 12 лет          60000000.0   \n",
       "3487  «16+» - для детей старше 16 лет                 NaN   \n",
       "\n",
       "      nonrefundable_support       budget financing_source  ratings  \\\n",
       "7455             35000000.0  160000000.0        Фонд кино      6.8   \n",
       "5652            400000000.0  590192191.0        Фонд кино      7.5   \n",
       "6819                    NaN          NaN              NaN      7.6   \n",
       "6548            120000000.0  563784717.0        Фонд кино      6.5   \n",
       "3487                    NaN          NaN              NaN      6.6   \n",
       "\n",
       "                       genres    box_office  \n",
       "7455                  комедия  3.073569e+09  \n",
       "5652              спорт,драма  2.779686e+09  \n",
       "6819  фантастика,боевик,драма  2.576614e+09  \n",
       "6548     драма,военный,боевик  2.271754e+09  \n",
       "3487   фэнтези,боевик,комедия  2.118396e+09  "
      ]
     },
     "execution_count": 36,
     "metadata": {},
     "output_type": "execute_result"
    }
   ],
   "source": [
    "data.sort_values(by='box_office', ascending=False).head(5)"
   ]
  },
  {
   "cell_type": "markdown",
   "metadata": {},
   "source": [
    "<div class=\"alert alert-warning\">\n",
    "<h2> Комментарий ревьюера 🤓 v_2<a class=\"tocSkip\"></h2>\n",
    "    \n",
    "Можно проверить, не превышает ли где-то сумма государственной поддержки бюджет фильма (по идее, гос поддержка уже включена в бюджет)."
   ]
  },
  {
   "cell_type": "markdown",
   "metadata": {
    "id": "Eu6oWp2CgFyS"
   },
   "source": [
    "#### Шаг 2.6. Добавление новых столбцов\n",
    "\n",
    "\n",
    "\n"
   ]
  },
  {
   "cell_type": "markdown",
   "metadata": {
    "id": "7GgW-UpAgFyS"
   },
   "source": [
    "Cоздадим столбец с информацией о годе проката. Выделим год из даты премьеры фильма."
   ]
  },
  {
   "cell_type": "code",
   "execution_count": 37,
   "metadata": {
    "id": "I-yd1DkWgFyT"
   },
   "outputs": [],
   "source": [
    "data['year']=pd.DatetimeIndex(data['show_start_date']).year"
   ]
  },
  {
   "cell_type": "markdown",
   "metadata": {
    "id": "nFTDLDYOgFyT"
   },
   "source": [
    "Создадим два столбца: с именем и фамилией главного режиссёра и основным жанром фильма. В столбцы войдут первые значения из списка режиссёров и жанров соответственно."
   ]
  },
  {
   "cell_type": "code",
   "execution_count": 38,
   "metadata": {},
   "outputs": [],
   "source": [
    "def first_element(string):\n",
    "    comma_index = string.find(',')\n",
    "    if comma_index != -1:\n",
    "        return string[:comma_index]\n",
    "    else:\n",
    "        return string"
   ]
  },
  {
   "cell_type": "code",
   "execution_count": 39,
   "metadata": {
    "id": "LSbRZKbMgFyU"
   },
   "outputs": [],
   "source": [
    "data['first_director'] = data['director'].apply(first_element)"
   ]
  },
  {
   "cell_type": "code",
   "execution_count": 40,
   "metadata": {},
   "outputs": [],
   "source": [
    "data['first_genre'] = data['genres'].apply(first_element)"
   ]
  },
  {
   "cell_type": "code",
   "execution_count": 41,
   "metadata": {},
   "outputs": [
    {
     "data": {
      "text/html": [
       "<div>\n",
       "<style scoped>\n",
       "    .dataframe tbody tr th:only-of-type {\n",
       "        vertical-align: middle;\n",
       "    }\n",
       "\n",
       "    .dataframe tbody tr th {\n",
       "        vertical-align: top;\n",
       "    }\n",
       "\n",
       "    .dataframe thead th {\n",
       "        text-align: right;\n",
       "    }\n",
       "</style>\n",
       "<table border=\"1\" class=\"dataframe\">\n",
       "  <thead>\n",
       "    <tr style=\"text-align: right;\">\n",
       "      <th></th>\n",
       "      <th>title</th>\n",
       "      <th>pu_number</th>\n",
       "      <th>show_start_date</th>\n",
       "      <th>type</th>\n",
       "      <th>film_studio</th>\n",
       "      <th>production_country</th>\n",
       "      <th>director</th>\n",
       "      <th>producer</th>\n",
       "      <th>age_restriction</th>\n",
       "      <th>refundable_support</th>\n",
       "      <th>nonrefundable_support</th>\n",
       "      <th>budget</th>\n",
       "      <th>financing_source</th>\n",
       "      <th>ratings</th>\n",
       "      <th>genres</th>\n",
       "      <th>box_office</th>\n",
       "      <th>year</th>\n",
       "      <th>first_director</th>\n",
       "      <th>first_genre</th>\n",
       "    </tr>\n",
       "  </thead>\n",
       "  <tbody>\n",
       "    <tr>\n",
       "      <th>0</th>\n",
       "      <td>Открытый простор</td>\n",
       "      <td>221048915</td>\n",
       "      <td>2015-11-27 12:00:00+00:00</td>\n",
       "      <td>Художественный</td>\n",
       "      <td>Тачстоун Пикчерз, Кобальт Пикчерз, Бикон Пикче...</td>\n",
       "      <td>США</td>\n",
       "      <td>Кевин Костнер</td>\n",
       "      <td>Дэвид Валдес, Кевин Костнер, Джейк Эбертс</td>\n",
       "      <td>«18+» - запрещено для детей</td>\n",
       "      <td>NaN</td>\n",
       "      <td>NaN</td>\n",
       "      <td>NaN</td>\n",
       "      <td>NaN</td>\n",
       "      <td>7.2</td>\n",
       "      <td>боевик,драма,мелодрама</td>\n",
       "      <td>NaN</td>\n",
       "      <td>2015</td>\n",
       "      <td>Кевин Костнер</td>\n",
       "      <td>боевик</td>\n",
       "    </tr>\n",
       "    <tr>\n",
       "      <th>1</th>\n",
       "      <td>Особо важное задание</td>\n",
       "      <td>111013716</td>\n",
       "      <td>2016-09-13 12:00:00+00:00</td>\n",
       "      <td>Художественный</td>\n",
       "      <td>Киностудия \"Мосфильм\"</td>\n",
       "      <td>СССР</td>\n",
       "      <td>Е.Матвеев</td>\n",
       "      <td>неизвестно</td>\n",
       "      <td>«6+» - для детей старше 6 лет</td>\n",
       "      <td>NaN</td>\n",
       "      <td>NaN</td>\n",
       "      <td>NaN</td>\n",
       "      <td>NaN</td>\n",
       "      <td>6.6</td>\n",
       "      <td>драма,военный</td>\n",
       "      <td>NaN</td>\n",
       "      <td>2016</td>\n",
       "      <td>Е.Матвеев</td>\n",
       "      <td>драма</td>\n",
       "    </tr>\n",
       "    <tr>\n",
       "      <th>2</th>\n",
       "      <td>Особо опасен</td>\n",
       "      <td>221038416</td>\n",
       "      <td>2016-10-10 12:00:00+00:00</td>\n",
       "      <td>Художественный</td>\n",
       "      <td>Юниверсал Пикчерз, Кикстарт Продакшнз, Марк Пл...</td>\n",
       "      <td>США</td>\n",
       "      <td>Тимур Бекмамбетов</td>\n",
       "      <td>Джим Лемли, Джейсон Нетер, Марк Е.Платт, Яйн Смит</td>\n",
       "      <td>«18+» - запрещено для детей</td>\n",
       "      <td>NaN</td>\n",
       "      <td>NaN</td>\n",
       "      <td>NaN</td>\n",
       "      <td>NaN</td>\n",
       "      <td>6.8</td>\n",
       "      <td>фантастика,боевик,триллер</td>\n",
       "      <td>NaN</td>\n",
       "      <td>2016</td>\n",
       "      <td>Тимур Бекмамбетов</td>\n",
       "      <td>фантастика</td>\n",
       "    </tr>\n",
       "  </tbody>\n",
       "</table>\n",
       "</div>"
      ],
      "text/plain": [
       "                  title  pu_number           show_start_date            type  \\\n",
       "0      Открытый простор  221048915 2015-11-27 12:00:00+00:00  Художественный   \n",
       "1  Особо важное задание  111013716 2016-09-13 12:00:00+00:00  Художественный   \n",
       "2          Особо опасен  221038416 2016-10-10 12:00:00+00:00  Художественный   \n",
       "\n",
       "                                         film_studio production_country  \\\n",
       "0  Тачстоун Пикчерз, Кобальт Пикчерз, Бикон Пикче...                США   \n",
       "1                              Киностудия \"Мосфильм\"               СССР   \n",
       "2  Юниверсал Пикчерз, Кикстарт Продакшнз, Марк Пл...                США   \n",
       "\n",
       "            director                                           producer  \\\n",
       "0      Кевин Костнер          Дэвид Валдес, Кевин Костнер, Джейк Эбертс   \n",
       "1          Е.Матвеев                                         неизвестно   \n",
       "2  Тимур Бекмамбетов  Джим Лемли, Джейсон Нетер, Марк Е.Платт, Яйн Смит   \n",
       "\n",
       "                 age_restriction  refundable_support  nonrefundable_support  \\\n",
       "0    «18+» - запрещено для детей                 NaN                    NaN   \n",
       "1  «6+» - для детей старше 6 лет                 NaN                    NaN   \n",
       "2    «18+» - запрещено для детей                 NaN                    NaN   \n",
       "\n",
       "   budget financing_source  ratings                     genres  box_office  \\\n",
       "0     NaN              NaN      7.2     боевик,драма,мелодрама         NaN   \n",
       "1     NaN              NaN      6.6              драма,военный         NaN   \n",
       "2     NaN              NaN      6.8  фантастика,боевик,триллер         NaN   \n",
       "\n",
       "   year     first_director first_genre  \n",
       "0  2015      Кевин Костнер      боевик  \n",
       "1  2016          Е.Матвеев       драма  \n",
       "2  2016  Тимур Бекмамбетов  фантастика  "
      ]
     },
     "execution_count": 41,
     "metadata": {},
     "output_type": "execute_result"
    }
   ],
   "source": [
    "data.head(3)"
   ]
  },
  {
   "cell_type": "markdown",
   "metadata": {
    "id": "1FsCXHwdgFyU"
   },
   "source": [
    "Посчитаем, какую долю от общего бюджета фильма составляет государственная поддержка и добавим значение в столбец 'gov_support'"
   ]
  },
  {
   "cell_type": "code",
   "execution_count": 42,
   "metadata": {},
   "outputs": [
    {
     "data": {
      "text/plain": [
       "Министерство культуры               164\n",
       "Фонд кино                           146\n",
       "Министерство культуры, Фонд кино     22\n",
       "Name: financing_source, dtype: int64"
      ]
     },
     "execution_count": 42,
     "metadata": {},
     "output_type": "execute_result"
    }
   ],
   "source": [
    "data['financing_source'].value_counts()"
   ]
  },
  {
   "cell_type": "code",
   "execution_count": 43,
   "metadata": {
    "id": "LV6qFuZLgFyV"
   },
   "outputs": [
    {
     "data": {
      "text/plain": [
       "<AxesSubplot:>"
      ]
     },
     "execution_count": 43,
     "metadata": {},
     "output_type": "execute_result"
    },
    {
     "data": {
      "image/png": "[encoded data removed]",
      "text/plain": [
       "<Figure size 432x288 with 1 Axes>"
      ]
     },
     "metadata": {
      "needs_background": "light"
     },
     "output_type": "display_data"
    }
   ],
   "source": [
    "data['gov_support'] = (data['nonrefundable_support'] + data['refundable_support']) / data['budget']\n",
    "data['gov_support'].hist(bins=15, range=(0, 1))"
   ]
  },
  {
   "cell_type": "markdown",
   "metadata": {},
   "source": [
    "Для построения графика исключили отсутствующие значения. Из графика видим, что нет фильмов, которые бы на 100% финансировались государством. "
   ]
  },
  {
   "cell_type": "markdown",
   "metadata": {},
   "source": [
    "<div class=\"alert alert-success\">\n",
    "<h2> Комментарий ревьюера 😊v_2<a class=\"tocSkip\"> </h2>\n",
    "\n",
    "Столбцы добавлены верно)"
   ]
  },
  {
   "cell_type": "markdown",
   "metadata": {
    "id": "6t4EukPLgFyV"
   },
   "source": [
    "### Шаг 3. Исследовательский анализ данных\n"
   ]
  },
  {
   "cell_type": "markdown",
   "metadata": {
    "id": "vAH8WCzugFyV"
   },
   "source": [
    "Посмотрим, сколько фильмов выходило в прокат каждый год. Обратим внимание, что данные о прокате в кинотеатрах известны не для всех фильмов. Посчитаем, какую долю составляют фильмы с указанной информацией о прокате в кинотеатрах."
   ]
  },
  {
   "cell_type": "code",
   "execution_count": 44,
   "metadata": {
    "id": "ABeV47y7gFyW"
   },
   "outputs": [
    {
     "data": {
      "text/html": [
       "<div>\n",
       "<style scoped>\n",
       "    .dataframe tbody tr th:only-of-type {\n",
       "        vertical-align: middle;\n",
       "    }\n",
       "\n",
       "    .dataframe tbody tr th {\n",
       "        vertical-align: top;\n",
       "    }\n",
       "\n",
       "    .dataframe thead th {\n",
       "        text-align: right;\n",
       "    }\n",
       "</style>\n",
       "<table border=\"1\" class=\"dataframe\">\n",
       "  <thead>\n",
       "    <tr style=\"text-align: right;\">\n",
       "      <th></th>\n",
       "      <th>year</th>\n",
       "      <th>number_of_films</th>\n",
       "      <th>in_cinema</th>\n",
       "      <th>%_of_films_in_cinema</th>\n",
       "    </tr>\n",
       "  </thead>\n",
       "  <tbody>\n",
       "    <tr>\n",
       "      <th>0</th>\n",
       "      <td>2010</td>\n",
       "      <td>985</td>\n",
       "      <td>105</td>\n",
       "      <td>0.106599</td>\n",
       "    </tr>\n",
       "    <tr>\n",
       "      <th>1</th>\n",
       "      <td>2011</td>\n",
       "      <td>622</td>\n",
       "      <td>109</td>\n",
       "      <td>0.175241</td>\n",
       "    </tr>\n",
       "    <tr>\n",
       "      <th>2</th>\n",
       "      <td>2012</td>\n",
       "      <td>593</td>\n",
       "      <td>128</td>\n",
       "      <td>0.215852</td>\n",
       "    </tr>\n",
       "    <tr>\n",
       "      <th>3</th>\n",
       "      <td>2013</td>\n",
       "      <td>630</td>\n",
       "      <td>184</td>\n",
       "      <td>0.292063</td>\n",
       "    </tr>\n",
       "    <tr>\n",
       "      <th>4</th>\n",
       "      <td>2014</td>\n",
       "      <td>806</td>\n",
       "      <td>279</td>\n",
       "      <td>0.346154</td>\n",
       "    </tr>\n",
       "    <tr>\n",
       "      <th>5</th>\n",
       "      <td>2015</td>\n",
       "      <td>705</td>\n",
       "      <td>465</td>\n",
       "      <td>0.659574</td>\n",
       "    </tr>\n",
       "    <tr>\n",
       "      <th>6</th>\n",
       "      <td>2016</td>\n",
       "      <td>818</td>\n",
       "      <td>526</td>\n",
       "      <td>0.643032</td>\n",
       "    </tr>\n",
       "    <tr>\n",
       "      <th>7</th>\n",
       "      <td>2017</td>\n",
       "      <td>505</td>\n",
       "      <td>357</td>\n",
       "      <td>0.706931</td>\n",
       "    </tr>\n",
       "    <tr>\n",
       "      <th>8</th>\n",
       "      <td>2018</td>\n",
       "      <td>891</td>\n",
       "      <td>475</td>\n",
       "      <td>0.533109</td>\n",
       "    </tr>\n",
       "    <tr>\n",
       "      <th>9</th>\n",
       "      <td>2019</td>\n",
       "      <td>930</td>\n",
       "      <td>530</td>\n",
       "      <td>0.569892</td>\n",
       "    </tr>\n",
       "  </tbody>\n",
       "</table>\n",
       "</div>"
      ],
      "text/plain": [
       "   year  number_of_films  in_cinema  %_of_films_in_cinema\n",
       "0  2010              985        105              0.106599\n",
       "1  2011              622        109              0.175241\n",
       "2  2012              593        128              0.215852\n",
       "3  2013              630        184              0.292063\n",
       "4  2014              806        279              0.346154\n",
       "5  2015              705        465              0.659574\n",
       "6  2016              818        526              0.643032\n",
       "7  2017              505        357              0.706931\n",
       "8  2018              891        475              0.533109\n",
       "9  2019              930        530              0.569892"
      ]
     },
     "execution_count": 44,
     "metadata": {},
     "output_type": "execute_result"
    }
   ],
   "source": [
    "films = data.groupby('year')['title'].count()\n",
    "films = films.reset_index()\n",
    "films.rename(columns={'title':'number_of_films'}, inplace=True)\n",
    "\n",
    "films_in_cinema = data.groupby('year')['box_office'].count()\n",
    "films_in_cinema = films_in_cinema.reset_index()\n",
    "films_in_cinema.rename(columns={'box_office':'in_cinema'}, inplace=True)\n",
    "films['in_cinema'] = films_in_cinema['in_cinema']\n",
    "\n",
    "films['%_of_films_in_cinema'] = films['in_cinema'] / films['number_of_films']\n",
    "films"
   ]
  },
  {
   "cell_type": "markdown",
   "metadata": {},
   "source": [
    "<div class=\"alert alert-success\">\n",
    "<h2> Комментарий ревьюера 😊<a class=\"tocSkip\"> </h2>\n",
    "   \n",
    "Очень хорошо)"
   ]
  },
  {
   "cell_type": "code",
   "execution_count": 45,
   "metadata": {},
   "outputs": [
    {
     "data": {
      "image/png": "[encoded data removed]",
      "text/plain": [
       "<Figure size 720x360 with 1 Axes>"
      ]
     },
     "metadata": {
      "needs_background": "light"
     },
     "output_type": "display_data"
    }
   ],
   "source": [
    "films.plot(x='year', kind='bar', figsize = (10, 5), grid = True, title='Number of films by year')\n",
    "pass"
   ]
  },
  {
   "cell_type": "code",
   "execution_count": 46,
   "metadata": {},
   "outputs": [
    {
     "data": {
      "image/png": "[encoded data removed]",
      "text/plain": [
       "<Figure size 720x360 with 1 Axes>"
      ]
     },
     "metadata": {
      "needs_background": "light"
     },
     "output_type": "display_data"
    }
   ],
   "source": [
    "films.plot(x='year', y='%_of_films_in_cinema', kind='bar', figsize = (10, 5), grid = True, title='Proportion of films by year')\n",
    "pass"
   ]
  },
  {
   "cell_type": "markdown",
   "metadata": {},
   "source": [
    "Из графиков видим, что доля фильмов, которые демонстрировались в кинотеатрах, в целом медленно росла с 10% в 2010 году. В 2015 показатель резко вырос более чем в два раза по сравнению с предыдущим годом. После этого доля фильмов \"из кинотеатров\" не опускалась ниже 50% с максимумом на уровне 70% в 2017. "
   ]
  },
  {
   "cell_type": "markdown",
   "metadata": {},
   "source": [
    "<div class=\"alert alert-block alert-danger\">\n",
    "<h2> Комментарий ревьюера 🤔<a class=\"tocSkip\"></h2>\n",
    "    <s>\n",
    "Поскольку долю мы никак не можем изучить на этом графике, давай построим для нее отдельный. Нужно добавить выводы по графикам."
   ]
  },
  {
   "cell_type": "markdown",
   "metadata": {},
   "source": [
    "<div class=\"alert alert-success\">\n",
    "<h2> Комментарий ревьюера 😊 v_2 <a class=\"tocSkip\"> </h2>\n",
    "\n",
    "Отлично)"
   ]
  },
  {
   "cell_type": "markdown",
   "metadata": {
    "id": "BEOdcIrIgFyW"
   },
   "source": [
    "Изучим, как менялась динамика проката по годам."
   ]
  },
  {
   "cell_type": "code",
   "execution_count": 47,
   "metadata": {
    "id": "tfEhofYvgFyX"
   },
   "outputs": [
    {
     "data": {
      "text/html": [
       "<div>\n",
       "<style scoped>\n",
       "    .dataframe tbody tr th:only-of-type {\n",
       "        vertical-align: middle;\n",
       "    }\n",
       "\n",
       "    .dataframe tbody tr th {\n",
       "        vertical-align: top;\n",
       "    }\n",
       "\n",
       "    .dataframe thead th {\n",
       "        text-align: right;\n",
       "    }\n",
       "</style>\n",
       "<table border=\"1\" class=\"dataframe\">\n",
       "  <thead>\n",
       "    <tr style=\"text-align: right;\">\n",
       "      <th></th>\n",
       "      <th>year</th>\n",
       "      <th>box_office</th>\n",
       "    </tr>\n",
       "  </thead>\n",
       "  <tbody>\n",
       "    <tr>\n",
       "      <th>0</th>\n",
       "      <td>2010</td>\n",
       "      <td>2.428654e+06</td>\n",
       "    </tr>\n",
       "    <tr>\n",
       "      <th>2</th>\n",
       "      <td>2012</td>\n",
       "      <td>6.955423e+06</td>\n",
       "    </tr>\n",
       "    <tr>\n",
       "      <th>1</th>\n",
       "      <td>2011</td>\n",
       "      <td>1.410276e+07</td>\n",
       "    </tr>\n",
       "    <tr>\n",
       "      <th>3</th>\n",
       "      <td>2013</td>\n",
       "      <td>2.979971e+07</td>\n",
       "    </tr>\n",
       "    <tr>\n",
       "      <th>4</th>\n",
       "      <td>2014</td>\n",
       "      <td>7.444952e+09</td>\n",
       "    </tr>\n",
       "    <tr>\n",
       "      <th>5</th>\n",
       "      <td>2015</td>\n",
       "      <td>3.949737e+10</td>\n",
       "    </tr>\n",
       "    <tr>\n",
       "      <th>6</th>\n",
       "      <td>2016</td>\n",
       "      <td>4.786630e+10</td>\n",
       "    </tr>\n",
       "    <tr>\n",
       "      <th>9</th>\n",
       "      <td>2019</td>\n",
       "      <td>4.842571e+10</td>\n",
       "    </tr>\n",
       "    <tr>\n",
       "      <th>7</th>\n",
       "      <td>2017</td>\n",
       "      <td>4.856371e+10</td>\n",
       "    </tr>\n",
       "    <tr>\n",
       "      <th>8</th>\n",
       "      <td>2018</td>\n",
       "      <td>4.966840e+10</td>\n",
       "    </tr>\n",
       "  </tbody>\n",
       "</table>\n",
       "</div>"
      ],
      "text/plain": [
       "   year    box_office\n",
       "0  2010  2.428654e+06\n",
       "2  2012  6.955423e+06\n",
       "1  2011  1.410276e+07\n",
       "3  2013  2.979971e+07\n",
       "4  2014  7.444952e+09\n",
       "5  2015  3.949737e+10\n",
       "6  2016  4.786630e+10\n",
       "9  2019  4.842571e+10\n",
       "7  2017  4.856371e+10\n",
       "8  2018  4.966840e+10"
      ]
     },
     "execution_count": 47,
     "metadata": {},
     "output_type": "execute_result"
    }
   ],
   "source": [
    "year_box_office = data.groupby('year')['box_office'].sum()\n",
    "year_box_office = year_box_office.reset_index()\n",
    "year_box_office.sort_values(by='box_office')"
   ]
  },
  {
   "cell_type": "code",
   "execution_count": 48,
   "metadata": {},
   "outputs": [
    {
     "data": {
      "image/png": "[encoded data removed]",
      "text/plain": [
       "<Figure size 432x288 with 1 Axes>"
      ]
     },
     "metadata": {
      "needs_background": "light"
     },
     "output_type": "display_data"
    }
   ],
   "source": [
    "year_box_office.plot(x='year', y='box_office', kind='bar')\n",
    "plt.legend()\n",
    "plt.show()"
   ]
  },
  {
   "cell_type": "markdown",
   "metadata": {},
   "source": [
    "<div class=\"alert alert-success\">\n",
    "<h2> Комментарий ревьюера 😊<a class=\"tocSkip\"> </h2>\n",
    "\n",
    "Так же можно добавить подписи к графику, используя `plt.xlabel()` и `plt.ylabel()`, `plt.title()`. Подробнее об оформлении графиков, ты можешь узнать тут:\n",
    "    \n",
    "https://slemeshevsky.github.io/python-course/visual/html/._visual-flatly002.html"
   ]
  },
  {
   "cell_type": "markdown",
   "metadata": {},
   "source": [
    "В целом мы наблюдаем рост кассовых сборов с минимумом в 2010 (первый год в имеющихся данных) и максимумом в 2018 году. При этом, сборы за последние 4 года (2016-2019) отличаются незначительно. Однако, нужно иметь ввиду, что предположительно до 2014 года данные были записаны скорей всего в другом формате (например, в тысячах) и делать выводы за этот период сложно. "
   ]
  },
  {
   "cell_type": "code",
   "execution_count": 49,
   "metadata": {},
   "outputs": [
    {
     "data": {
      "text/html": [
       "<div>\n",
       "<style scoped>\n",
       "    .dataframe tbody tr th:only-of-type {\n",
       "        vertical-align: middle;\n",
       "    }\n",
       "\n",
       "    .dataframe tbody tr th {\n",
       "        vertical-align: top;\n",
       "    }\n",
       "\n",
       "    .dataframe thead th {\n",
       "        text-align: right;\n",
       "    }\n",
       "</style>\n",
       "<table border=\"1\" class=\"dataframe\">\n",
       "  <thead>\n",
       "    <tr style=\"text-align: right;\">\n",
       "      <th></th>\n",
       "      <th>title</th>\n",
       "      <th>pu_number</th>\n",
       "      <th>show_start_date</th>\n",
       "      <th>type</th>\n",
       "      <th>film_studio</th>\n",
       "      <th>production_country</th>\n",
       "      <th>director</th>\n",
       "      <th>producer</th>\n",
       "      <th>age_restriction</th>\n",
       "      <th>refundable_support</th>\n",
       "      <th>nonrefundable_support</th>\n",
       "      <th>budget</th>\n",
       "      <th>financing_source</th>\n",
       "      <th>ratings</th>\n",
       "      <th>genres</th>\n",
       "      <th>box_office</th>\n",
       "      <th>year</th>\n",
       "      <th>first_director</th>\n",
       "      <th>first_genre</th>\n",
       "      <th>gov_support</th>\n",
       "    </tr>\n",
       "  </thead>\n",
       "  <tbody>\n",
       "    <tr>\n",
       "      <th>7</th>\n",
       "      <td>Любовь и сигареты</td>\n",
       "      <td>221074614</td>\n",
       "      <td>2014-12-29 12:00:00+00:00</td>\n",
       "      <td>Художественный</td>\n",
       "      <td>Юнайтед Артистс, Грин Стрит Филмз, Айкон Интер...</td>\n",
       "      <td>США</td>\n",
       "      <td>Джон Туртурро</td>\n",
       "      <td>Джон Пенотти, Джон Туртурро</td>\n",
       "      <td>«18+» - запрещено для детей</td>\n",
       "      <td>NaN</td>\n",
       "      <td>NaN</td>\n",
       "      <td>NaN</td>\n",
       "      <td>NaN</td>\n",
       "      <td>6.6</td>\n",
       "      <td>мюзикл,мелодрама,комедия</td>\n",
       "      <td>NaN</td>\n",
       "      <td>2014</td>\n",
       "      <td>Джон Туртурро</td>\n",
       "      <td>мюзикл</td>\n",
       "      <td>NaN</td>\n",
       "    </tr>\n",
       "    <tr>\n",
       "      <th>9</th>\n",
       "      <td>Отпуск за свой счет</td>\n",
       "      <td>111019114</td>\n",
       "      <td>2014-12-01 12:00:00+00:00</td>\n",
       "      <td>Художественный</td>\n",
       "      <td>Киностудия \"Мосфильм\", Телевидение ВНР</td>\n",
       "      <td>СССР,  Венгрия</td>\n",
       "      <td>В.Титов</td>\n",
       "      <td>неизвестно</td>\n",
       "      <td>«12+» - для детей старше 12 лет</td>\n",
       "      <td>NaN</td>\n",
       "      <td>NaN</td>\n",
       "      <td>NaN</td>\n",
       "      <td>NaN</td>\n",
       "      <td>7.8</td>\n",
       "      <td>мелодрама,комедия</td>\n",
       "      <td>NaN</td>\n",
       "      <td>2014</td>\n",
       "      <td>В.Титов</td>\n",
       "      <td>мелодрама</td>\n",
       "      <td>NaN</td>\n",
       "    </tr>\n",
       "    <tr>\n",
       "      <th>11</th>\n",
       "      <td>Ответный ход</td>\n",
       "      <td>111019014</td>\n",
       "      <td>2014-12-01 12:00:00+00:00</td>\n",
       "      <td>Художественный</td>\n",
       "      <td>Киностудия \"Мосфильм\"</td>\n",
       "      <td>СССР</td>\n",
       "      <td>М.Туманишвили</td>\n",
       "      <td>неизвестно</td>\n",
       "      <td>«12+» - для детей старше 12 лет</td>\n",
       "      <td>NaN</td>\n",
       "      <td>NaN</td>\n",
       "      <td>NaN</td>\n",
       "      <td>NaN</td>\n",
       "      <td>7.8</td>\n",
       "      <td>боевик,драма,приключения</td>\n",
       "      <td>NaN</td>\n",
       "      <td>2014</td>\n",
       "      <td>М.Туманишвили</td>\n",
       "      <td>боевик</td>\n",
       "      <td>NaN</td>\n",
       "    </tr>\n",
       "    <tr>\n",
       "      <th>17</th>\n",
       "      <td>Осень</td>\n",
       "      <td>111027914</td>\n",
       "      <td>2014-12-24 12:00:00+00:00</td>\n",
       "      <td>Художественный</td>\n",
       "      <td>Киностудия \"Мосфильм\"</td>\n",
       "      <td>СССР</td>\n",
       "      <td>А.Смирнов</td>\n",
       "      <td>неизвестно</td>\n",
       "      <td>«12+» - для детей старше 12 лет</td>\n",
       "      <td>NaN</td>\n",
       "      <td>NaN</td>\n",
       "      <td>NaN</td>\n",
       "      <td>NaN</td>\n",
       "      <td>7.4</td>\n",
       "      <td>драма,мелодрама</td>\n",
       "      <td>NaN</td>\n",
       "      <td>2014</td>\n",
       "      <td>А.Смирнов</td>\n",
       "      <td>драма</td>\n",
       "      <td>NaN</td>\n",
       "    </tr>\n",
       "    <tr>\n",
       "      <th>25</th>\n",
       "      <td>Призрак замка Моррисвиль</td>\n",
       "      <td>221072614</td>\n",
       "      <td>2014-12-29 12:00:00+00:00</td>\n",
       "      <td>Художественный</td>\n",
       "      <td>Фильмове Студио Баррандов</td>\n",
       "      <td>Чехословакия</td>\n",
       "      <td>Боривой Земан</td>\n",
       "      <td>неизвестно</td>\n",
       "      <td>«12+» - для детей старше 12 лет</td>\n",
       "      <td>NaN</td>\n",
       "      <td>NaN</td>\n",
       "      <td>NaN</td>\n",
       "      <td>NaN</td>\n",
       "      <td>7.7</td>\n",
       "      <td>комедия</td>\n",
       "      <td>NaN</td>\n",
       "      <td>2014</td>\n",
       "      <td>Боривой Земан</td>\n",
       "      <td>комедия</td>\n",
       "      <td>NaN</td>\n",
       "    </tr>\n",
       "    <tr>\n",
       "      <th>27</th>\n",
       "      <td>Отставной козы барабанщик</td>\n",
       "      <td>111024314</td>\n",
       "      <td>2014-12-24 12:00:00+00:00</td>\n",
       "      <td>Художественный</td>\n",
       "      <td>Киностудия \"Мосфильм\"</td>\n",
       "      <td>СССР</td>\n",
       "      <td>Г.Мыльников</td>\n",
       "      <td>неизвестно</td>\n",
       "      <td>«6+» - для детей старше 6 лет</td>\n",
       "      <td>NaN</td>\n",
       "      <td>NaN</td>\n",
       "      <td>NaN</td>\n",
       "      <td>NaN</td>\n",
       "      <td>6.9</td>\n",
       "      <td>драма,комедия</td>\n",
       "      <td>NaN</td>\n",
       "      <td>2014</td>\n",
       "      <td>Г.Мыльников</td>\n",
       "      <td>драма</td>\n",
       "      <td>NaN</td>\n",
       "    </tr>\n",
       "    <tr>\n",
       "      <th>30</th>\n",
       "      <td>Первое свидание</td>\n",
       "      <td>111019314</td>\n",
       "      <td>2014-12-01 12:00:00+00:00</td>\n",
       "      <td>Художественный</td>\n",
       "      <td>Киностудия \"Мосфильм\"</td>\n",
       "      <td>СССР</td>\n",
       "      <td>И.Бабич</td>\n",
       "      <td>неизвестно</td>\n",
       "      <td>«12+» - для детей старше 12 лет</td>\n",
       "      <td>NaN</td>\n",
       "      <td>NaN</td>\n",
       "      <td>NaN</td>\n",
       "      <td>NaN</td>\n",
       "      <td>7.4</td>\n",
       "      <td>мультфильм,короткометражка,мелодрама</td>\n",
       "      <td>NaN</td>\n",
       "      <td>2014</td>\n",
       "      <td>И.Бабич</td>\n",
       "      <td>мультфильм</td>\n",
       "      <td>NaN</td>\n",
       "    </tr>\n",
       "    <tr>\n",
       "      <th>36</th>\n",
       "      <td>Планета КА-ПЭКС /По мотивам романа Джин Бруэр/</td>\n",
       "      <td>221009314</td>\n",
       "      <td>2014-03-03 12:00:00+00:00</td>\n",
       "      <td>Художественный</td>\n",
       "      <td>Интермедиа Филмз, Юниверсал Пикчерз, Лоуренс Г...</td>\n",
       "      <td>США,  Германия</td>\n",
       "      <td>Йэн Софтли</td>\n",
       "      <td>Лоуренс Гордон, Роберт Коулсберри, Ллойд Левин</td>\n",
       "      <td>«12+» - для детей старше 12 лет</td>\n",
       "      <td>NaN</td>\n",
       "      <td>NaN</td>\n",
       "      <td>NaN</td>\n",
       "      <td>NaN</td>\n",
       "      <td>8.0</td>\n",
       "      <td>фантастика,драма,детектив</td>\n",
       "      <td>NaN</td>\n",
       "      <td>2014</td>\n",
       "      <td>Йэн Софтли</td>\n",
       "      <td>фантастика</td>\n",
       "      <td>NaN</td>\n",
       "    </tr>\n",
       "    <tr>\n",
       "      <th>47</th>\n",
       "      <td>Андрей Рублев.</td>\n",
       "      <td>111029814</td>\n",
       "      <td>2014-12-24 12:00:00+00:00</td>\n",
       "      <td>Художественный</td>\n",
       "      <td>Киностудия \"Мосфильм\"</td>\n",
       "      <td>СССР</td>\n",
       "      <td>А.Тарковский</td>\n",
       "      <td>неизвестно</td>\n",
       "      <td>«12+» - для детей старше 12 лет</td>\n",
       "      <td>NaN</td>\n",
       "      <td>NaN</td>\n",
       "      <td>NaN</td>\n",
       "      <td>NaN</td>\n",
       "      <td>8.2</td>\n",
       "      <td>драма,биография,история</td>\n",
       "      <td>22660.0</td>\n",
       "      <td>2014</td>\n",
       "      <td>А.Тарковский</td>\n",
       "      <td>драма</td>\n",
       "      <td>NaN</td>\n",
       "    </tr>\n",
       "    <tr>\n",
       "      <th>48</th>\n",
       "      <td>Азартные игры</td>\n",
       "      <td>221058014</td>\n",
       "      <td>2014-10-15 12:00:00+00:00</td>\n",
       "      <td>Художественный</td>\n",
       "      <td>Мирамакс, Дименшн Филмс</td>\n",
       "      <td>США</td>\n",
       "      <td>Джон Франкенхаймер</td>\n",
       "      <td>неизвестно</td>\n",
       "      <td>«16+» - для детей старше 16 лет</td>\n",
       "      <td>NaN</td>\n",
       "      <td>NaN</td>\n",
       "      <td>NaN</td>\n",
       "      <td>NaN</td>\n",
       "      <td>7.0</td>\n",
       "      <td>боевик,триллер,драма</td>\n",
       "      <td>NaN</td>\n",
       "      <td>2014</td>\n",
       "      <td>Джон Франкенхаймер</td>\n",
       "      <td>боевик</td>\n",
       "      <td>NaN</td>\n",
       "    </tr>\n",
       "    <tr>\n",
       "      <th>56</th>\n",
       "      <td>А был ли Каротин?</td>\n",
       "      <td>111029514</td>\n",
       "      <td>2014-12-24 12:00:00+00:00</td>\n",
       "      <td>Художественный</td>\n",
       "      <td>Киностудия \"Мосфильм\"</td>\n",
       "      <td>СССР</td>\n",
       "      <td>Г.Полока</td>\n",
       "      <td>неизвестно</td>\n",
       "      <td>«12+» - для детей старше 12 лет</td>\n",
       "      <td>NaN</td>\n",
       "      <td>NaN</td>\n",
       "      <td>NaN</td>\n",
       "      <td>NaN</td>\n",
       "      <td>6.8</td>\n",
       "      <td>комедия,криминал</td>\n",
       "      <td>NaN</td>\n",
       "      <td>2014</td>\n",
       "      <td>Г.Полока</td>\n",
       "      <td>комедия</td>\n",
       "      <td>NaN</td>\n",
       "    </tr>\n",
       "    <tr>\n",
       "      <th>58</th>\n",
       "      <td>Бесшабашное ограбление</td>\n",
       "      <td>221072814</td>\n",
       "      <td>2014-12-29 12:00:00+00:00</td>\n",
       "      <td>Художественный</td>\n",
       "      <td>Нью Маркет, Саммит Интертейнмент, Рэйвинг Мэд ...</td>\n",
       "      <td>США</td>\n",
       "      <td>Дрю Дэйуолт, Дэвид Шнейдер</td>\n",
       "      <td>Джон Балдеччи, Лоуренс Бендер, Кристофер Болл</td>\n",
       "      <td>«18+» - запрещено для детей</td>\n",
       "      <td>NaN</td>\n",
       "      <td>NaN</td>\n",
       "      <td>NaN</td>\n",
       "      <td>NaN</td>\n",
       "      <td>7.1</td>\n",
       "      <td>боевик,комедия,криминал</td>\n",
       "      <td>NaN</td>\n",
       "      <td>2014</td>\n",
       "      <td>Дрю Дэйуолт</td>\n",
       "      <td>боевик</td>\n",
       "      <td>NaN</td>\n",
       "    </tr>\n",
       "    <tr>\n",
       "      <th>77</th>\n",
       "      <td>Битва в пути</td>\n",
       "      <td>111026014</td>\n",
       "      <td>2014-12-24 12:00:00+00:00</td>\n",
       "      <td>Художественный</td>\n",
       "      <td>Киностудия \"Мосфильм\"</td>\n",
       "      <td>СССР</td>\n",
       "      <td>В.Басов</td>\n",
       "      <td>неизвестно</td>\n",
       "      <td>«12+» - для детей старше 12 лет</td>\n",
       "      <td>NaN</td>\n",
       "      <td>NaN</td>\n",
       "      <td>NaN</td>\n",
       "      <td>NaN</td>\n",
       "      <td>6.9</td>\n",
       "      <td>драма</td>\n",
       "      <td>NaN</td>\n",
       "      <td>2014</td>\n",
       "      <td>В.Басов</td>\n",
       "      <td>драма</td>\n",
       "      <td>NaN</td>\n",
       "    </tr>\n",
       "    <tr>\n",
       "      <th>80</th>\n",
       "      <td>Вирус любви</td>\n",
       "      <td>221058214</td>\n",
       "      <td>2014-10-15 12:00:00+00:00</td>\n",
       "      <td>Художественный</td>\n",
       "      <td>Мирамакс, Игнит Интертейнмент, Морфеус Продакшн</td>\n",
       "      <td>США</td>\n",
       "      <td>Томми О'Хавер</td>\n",
       "      <td>Майкл Бёрнс, Марк Бутан</td>\n",
       "      <td>«16+» - для детей старше 16 лет</td>\n",
       "      <td>NaN</td>\n",
       "      <td>NaN</td>\n",
       "      <td>NaN</td>\n",
       "      <td>NaN</td>\n",
       "      <td>6.6</td>\n",
       "      <td>мелодрама,комедия</td>\n",
       "      <td>NaN</td>\n",
       "      <td>2014</td>\n",
       "      <td>Томми О'Хавер</td>\n",
       "      <td>мелодрама</td>\n",
       "      <td>NaN</td>\n",
       "    </tr>\n",
       "    <tr>\n",
       "      <th>88</th>\n",
       "      <td>Ватерлоо</td>\n",
       "      <td>111003014</td>\n",
       "      <td>2014-03-14 12:00:00+00:00</td>\n",
       "      <td>Художественный</td>\n",
       "      <td>\"Дино де Лаурентиис\" (Италия) при участии Кино...</td>\n",
       "      <td>СССР,  Италия</td>\n",
       "      <td>Сергей Бондарчук</td>\n",
       "      <td>неизвестно</td>\n",
       "      <td>«6+» - для детей старше 6 лет</td>\n",
       "      <td>NaN</td>\n",
       "      <td>NaN</td>\n",
       "      <td>NaN</td>\n",
       "      <td>NaN</td>\n",
       "      <td>7.7</td>\n",
       "      <td>боевик,драма,военный</td>\n",
       "      <td>NaN</td>\n",
       "      <td>2014</td>\n",
       "      <td>Сергей Бондарчук</td>\n",
       "      <td>боевик</td>\n",
       "      <td>NaN</td>\n",
       "    </tr>\n",
       "    <tr>\n",
       "      <th>96</th>\n",
       "      <td>Дамы приглашают кавалеров</td>\n",
       "      <td>111010414</td>\n",
       "      <td>2014-10-01 12:00:00+00:00</td>\n",
       "      <td>Художественный</td>\n",
       "      <td>Киностудия \"Мосфильм\"</td>\n",
       "      <td>СССР</td>\n",
       "      <td>И.Киасашвили</td>\n",
       "      <td>неизвестно</td>\n",
       "      <td>«12+» - для детей старше 12 лет</td>\n",
       "      <td>NaN</td>\n",
       "      <td>NaN</td>\n",
       "      <td>NaN</td>\n",
       "      <td>NaN</td>\n",
       "      <td>7.2</td>\n",
       "      <td>мелодрама,комедия</td>\n",
       "      <td>2260.0</td>\n",
       "      <td>2014</td>\n",
       "      <td>И.Киасашвили</td>\n",
       "      <td>мелодрама</td>\n",
       "      <td>NaN</td>\n",
       "    </tr>\n",
       "    <tr>\n",
       "      <th>98</th>\n",
       "      <td>Встречное расследование</td>\n",
       "      <td>221048514</td>\n",
       "      <td>2014-10-09 12:00:00+00:00</td>\n",
       "      <td>Художественный</td>\n",
       "      <td>Патэ Ренн Продюксьон</td>\n",
       "      <td>Франция</td>\n",
       "      <td>Франк Манкузо</td>\n",
       "      <td>Патрик Жимене, Эрик Хьюберт</td>\n",
       "      <td>«16+» - для детей старше 16 лет</td>\n",
       "      <td>NaN</td>\n",
       "      <td>NaN</td>\n",
       "      <td>NaN</td>\n",
       "      <td>NaN</td>\n",
       "      <td>6.9</td>\n",
       "      <td>триллер,криминал</td>\n",
       "      <td>NaN</td>\n",
       "      <td>2014</td>\n",
       "      <td>Франк Манкузо</td>\n",
       "      <td>триллер</td>\n",
       "      <td>NaN</td>\n",
       "    </tr>\n",
       "    <tr>\n",
       "      <th>102</th>\n",
       "      <td>Враг государства № 1</td>\n",
       "      <td>221065614</td>\n",
       "      <td>2014-10-07 12:00:00+00:00</td>\n",
       "      <td>Художественный</td>\n",
       "      <td>Реин Сейлес</td>\n",
       "      <td>Франция</td>\n",
       "      <td>Жан Франсуа Рише</td>\n",
       "      <td>Дэниел Дэлюм, Тома Лангманн</td>\n",
       "      <td>«18+» - запрещено для детей</td>\n",
       "      <td>NaN</td>\n",
       "      <td>NaN</td>\n",
       "      <td>NaN</td>\n",
       "      <td>NaN</td>\n",
       "      <td>7.3</td>\n",
       "      <td>триллер,драма,криминал</td>\n",
       "      <td>NaN</td>\n",
       "      <td>2014</td>\n",
       "      <td>Жан Франсуа Рише</td>\n",
       "      <td>триллер</td>\n",
       "      <td>NaN</td>\n",
       "    </tr>\n",
       "    <tr>\n",
       "      <th>126</th>\n",
       "      <td>Дорога на Арлингтон</td>\n",
       "      <td>221042914</td>\n",
       "      <td>2014-09-29 12:00:00+00:00</td>\n",
       "      <td>Художественный</td>\n",
       "      <td>Полиграм Филмд Интертейнмент, Лэйкшор Интертей...</td>\n",
       "      <td>США</td>\n",
       "      <td>Марк Пеллингтон</td>\n",
       "      <td>Том Гораи, Марк Сэмюэлсон, Питер Сэмюэлсон</td>\n",
       "      <td>«16+» - для детей старше 16 лет</td>\n",
       "      <td>NaN</td>\n",
       "      <td>NaN</td>\n",
       "      <td>NaN</td>\n",
       "      <td>NaN</td>\n",
       "      <td>7.5</td>\n",
       "      <td>триллер,драма</td>\n",
       "      <td>NaN</td>\n",
       "      <td>2014</td>\n",
       "      <td>Марк Пеллингтон</td>\n",
       "      <td>триллер</td>\n",
       "      <td>NaN</td>\n",
       "    </tr>\n",
       "    <tr>\n",
       "      <th>127</th>\n",
       "      <td>Дачники</td>\n",
       "      <td>111010514</td>\n",
       "      <td>2014-10-01 12:00:00+00:00</td>\n",
       "      <td>Художественный</td>\n",
       "      <td>Киностудия \"Мосфильм\"</td>\n",
       "      <td>СССР</td>\n",
       "      <td>Б.Бабочкин</td>\n",
       "      <td>неизвестно</td>\n",
       "      <td>«12+» - для детей старше 12 лет</td>\n",
       "      <td>NaN</td>\n",
       "      <td>NaN</td>\n",
       "      <td>NaN</td>\n",
       "      <td>NaN</td>\n",
       "      <td>6.2</td>\n",
       "      <td>драма,мелодрама</td>\n",
       "      <td>NaN</td>\n",
       "      <td>2014</td>\n",
       "      <td>Б.Бабочкин</td>\n",
       "      <td>драма</td>\n",
       "      <td>NaN</td>\n",
       "    </tr>\n",
       "    <tr>\n",
       "      <th>129</th>\n",
       "      <td>Дикий мед</td>\n",
       "      <td>111011014</td>\n",
       "      <td>2014-10-01 12:00:00+00:00</td>\n",
       "      <td>Художественный</td>\n",
       "      <td>Киностудия \"Мосфильм\"</td>\n",
       "      <td>СССР</td>\n",
       "      <td>Владимир Чеботарев</td>\n",
       "      <td>неизвестно</td>\n",
       "      <td>«12+» - для детей старше 12 лет</td>\n",
       "      <td>NaN</td>\n",
       "      <td>NaN</td>\n",
       "      <td>NaN</td>\n",
       "      <td>NaN</td>\n",
       "      <td>7.6</td>\n",
       "      <td>драма,мелодрама</td>\n",
       "      <td>NaN</td>\n",
       "      <td>2014</td>\n",
       "      <td>Владимир Чеботарев</td>\n",
       "      <td>драма</td>\n",
       "      <td>NaN</td>\n",
       "    </tr>\n",
       "    <tr>\n",
       "      <th>130</th>\n",
       "      <td>Дело № 306</td>\n",
       "      <td>111010714</td>\n",
       "      <td>2014-10-01 12:00:00+00:00</td>\n",
       "      <td>Художественный</td>\n",
       "      <td>Киностудия \"Мосфильм\"</td>\n",
       "      <td>СССР</td>\n",
       "      <td>А.Рыбаков</td>\n",
       "      <td>неизвестно</td>\n",
       "      <td>«12+» - для детей старше 12 лет</td>\n",
       "      <td>NaN</td>\n",
       "      <td>NaN</td>\n",
       "      <td>NaN</td>\n",
       "      <td>NaN</td>\n",
       "      <td>7.0</td>\n",
       "      <td>криминал,детектив,приключения</td>\n",
       "      <td>NaN</td>\n",
       "      <td>2014</td>\n",
       "      <td>А.Рыбаков</td>\n",
       "      <td>криминал</td>\n",
       "      <td>NaN</td>\n",
       "    </tr>\n",
       "    <tr>\n",
       "      <th>138</th>\n",
       "      <td>Дети Дон-Кихота</td>\n",
       "      <td>111010914</td>\n",
       "      <td>2014-10-01 12:00:00+00:00</td>\n",
       "      <td>Художественный</td>\n",
       "      <td>Киностудия \"Мосфильм\"</td>\n",
       "      <td>СССР</td>\n",
       "      <td>Е.Карелов</td>\n",
       "      <td>неизвестно</td>\n",
       "      <td>«6+» - для детей старше 6 лет</td>\n",
       "      <td>NaN</td>\n",
       "      <td>NaN</td>\n",
       "      <td>NaN</td>\n",
       "      <td>NaN</td>\n",
       "      <td>8.2</td>\n",
       "      <td>драма,комедия</td>\n",
       "      <td>NaN</td>\n",
       "      <td>2014</td>\n",
       "      <td>Е.Карелов</td>\n",
       "      <td>драма</td>\n",
       "      <td>NaN</td>\n",
       "    </tr>\n",
       "    <tr>\n",
       "      <th>139</th>\n",
       "      <td>Деловые люди</td>\n",
       "      <td>111010814</td>\n",
       "      <td>2014-10-01 12:00:00+00:00</td>\n",
       "      <td>Художественный</td>\n",
       "      <td>Киностудия \"Мосфильм\"</td>\n",
       "      <td>СССР</td>\n",
       "      <td>Л.Гайдай</td>\n",
       "      <td>неизвестно</td>\n",
       "      <td>«6+» - для детей старше 6 лет</td>\n",
       "      <td>NaN</td>\n",
       "      <td>NaN</td>\n",
       "      <td>NaN</td>\n",
       "      <td>NaN</td>\n",
       "      <td>8.2</td>\n",
       "      <td>драма,комедия,вестерн</td>\n",
       "      <td>NaN</td>\n",
       "      <td>2014</td>\n",
       "      <td>Л.Гайдай</td>\n",
       "      <td>драма</td>\n",
       "      <td>NaN</td>\n",
       "    </tr>\n",
       "    <tr>\n",
       "      <th>143</th>\n",
       "      <td>Двадцать шесть дней из жизни Достоевского</td>\n",
       "      <td>111010614</td>\n",
       "      <td>2014-10-01 12:00:00+00:00</td>\n",
       "      <td>Художественный</td>\n",
       "      <td>Киностудия \"Мосфильм\"</td>\n",
       "      <td>СССР</td>\n",
       "      <td>А.Зархи</td>\n",
       "      <td>неизвестно</td>\n",
       "      <td>«12+» - для детей старше 12 лет</td>\n",
       "      <td>NaN</td>\n",
       "      <td>NaN</td>\n",
       "      <td>NaN</td>\n",
       "      <td>NaN</td>\n",
       "      <td>7.7</td>\n",
       "      <td>мелодрама,биография</td>\n",
       "      <td>NaN</td>\n",
       "      <td>2014</td>\n",
       "      <td>А.Зархи</td>\n",
       "      <td>мелодрама</td>\n",
       "      <td>NaN</td>\n",
       "    </tr>\n",
       "    <tr>\n",
       "      <th>145</th>\n",
       "      <td>Законный брак</td>\n",
       "      <td>111012114</td>\n",
       "      <td>2014-10-01 12:00:00+00:00</td>\n",
       "      <td>Художественный</td>\n",
       "      <td>Киностудия \"Мосфильм\"</td>\n",
       "      <td>СССР</td>\n",
       "      <td>А.Мкртчян</td>\n",
       "      <td>неизвестно</td>\n",
       "      <td>«12+» - для детей старше 12 лет</td>\n",
       "      <td>NaN</td>\n",
       "      <td>NaN</td>\n",
       "      <td>NaN</td>\n",
       "      <td>NaN</td>\n",
       "      <td>7.7</td>\n",
       "      <td>драма,мелодрама,военный</td>\n",
       "      <td>NaN</td>\n",
       "      <td>2014</td>\n",
       "      <td>А.Мкртчян</td>\n",
       "      <td>драма</td>\n",
       "      <td>NaN</td>\n",
       "    </tr>\n",
       "    <tr>\n",
       "      <th>148</th>\n",
       "      <td>Живые и мертвые</td>\n",
       "      <td>111011714</td>\n",
       "      <td>2014-10-01 12:00:00+00:00</td>\n",
       "      <td>Художественный</td>\n",
       "      <td>Киностудия \"Мосфильм\"</td>\n",
       "      <td>СССР</td>\n",
       "      <td>А.Столпер</td>\n",
       "      <td>неизвестно</td>\n",
       "      <td>«12+» - для детей старше 12 лет</td>\n",
       "      <td>NaN</td>\n",
       "      <td>NaN</td>\n",
       "      <td>NaN</td>\n",
       "      <td>NaN</td>\n",
       "      <td>8.2</td>\n",
       "      <td>драма,военный</td>\n",
       "      <td>NaN</td>\n",
       "      <td>2014</td>\n",
       "      <td>А.Столпер</td>\n",
       "      <td>драма</td>\n",
       "      <td>NaN</td>\n",
       "    </tr>\n",
       "    <tr>\n",
       "      <th>152</th>\n",
       "      <td>Жестокость</td>\n",
       "      <td>111011614</td>\n",
       "      <td>2014-10-01 12:00:00+00:00</td>\n",
       "      <td>Художественный</td>\n",
       "      <td>Киностудия \"Мосфильм\"</td>\n",
       "      <td>СССР</td>\n",
       "      <td>В.Скуйбин</td>\n",
       "      <td>неизвестно</td>\n",
       "      <td>«12+» - для детей старше 12 лет</td>\n",
       "      <td>NaN</td>\n",
       "      <td>NaN</td>\n",
       "      <td>NaN</td>\n",
       "      <td>NaN</td>\n",
       "      <td>7.1</td>\n",
       "      <td>драма</td>\n",
       "      <td>200.0</td>\n",
       "      <td>2014</td>\n",
       "      <td>В.Скуйбин</td>\n",
       "      <td>драма</td>\n",
       "      <td>NaN</td>\n",
       "    </tr>\n",
       "    <tr>\n",
       "      <th>153</th>\n",
       "      <td>Еще раз про любовь</td>\n",
       "      <td>111011514</td>\n",
       "      <td>2014-10-01 12:00:00+00:00</td>\n",
       "      <td>Художественный</td>\n",
       "      <td>Киностудия \"Мосфильм\"</td>\n",
       "      <td>СССР</td>\n",
       "      <td>Г.Натансон</td>\n",
       "      <td>неизвестно</td>\n",
       "      <td>«12+» - для детей старше 12 лет</td>\n",
       "      <td>NaN</td>\n",
       "      <td>NaN</td>\n",
       "      <td>NaN</td>\n",
       "      <td>NaN</td>\n",
       "      <td>8.1</td>\n",
       "      <td>драма,мелодрама</td>\n",
       "      <td>11960.0</td>\n",
       "      <td>2014</td>\n",
       "      <td>Г.Натансон</td>\n",
       "      <td>драма</td>\n",
       "      <td>NaN</td>\n",
       "    </tr>\n",
       "    <tr>\n",
       "      <th>155</th>\n",
       "      <td>Дорогая Елена Сергеевна</td>\n",
       "      <td>111011114</td>\n",
       "      <td>2014-10-01 12:00:00+00:00</td>\n",
       "      <td>Художественный</td>\n",
       "      <td>Киностудия \"Мосфильм\"</td>\n",
       "      <td>СССР</td>\n",
       "      <td>Э.Рязанов</td>\n",
       "      <td>неизвестно</td>\n",
       "      <td>«12+» - для детей старше 12 лет</td>\n",
       "      <td>NaN</td>\n",
       "      <td>NaN</td>\n",
       "      <td>NaN</td>\n",
       "      <td>NaN</td>\n",
       "      <td>7.9</td>\n",
       "      <td>триллер,драма,криминал</td>\n",
       "      <td>NaN</td>\n",
       "      <td>2014</td>\n",
       "      <td>Э.Рязанов</td>\n",
       "      <td>триллер</td>\n",
       "      <td>NaN</td>\n",
       "    </tr>\n",
       "    <tr>\n",
       "      <th>157</th>\n",
       "      <td>Друг невесты</td>\n",
       "      <td>221023814</td>\n",
       "      <td>2014-07-25 12:00:00+00:00</td>\n",
       "      <td>Художественный</td>\n",
       "      <td>Коламбиа Пикчерз, Ориджинал Филм</td>\n",
       "      <td>США,  Великобритания</td>\n",
       "      <td>Пол Уиланд</td>\n",
       "      <td>Нил Хью Мориц</td>\n",
       "      <td>«16+» - для детей старше 16 лет</td>\n",
       "      <td>NaN</td>\n",
       "      <td>NaN</td>\n",
       "      <td>NaN</td>\n",
       "      <td>NaN</td>\n",
       "      <td>7.0</td>\n",
       "      <td>мелодрама,комедия</td>\n",
       "      <td>NaN</td>\n",
       "      <td>2014</td>\n",
       "      <td>Пол Уиланд</td>\n",
       "      <td>мелодрама</td>\n",
       "      <td>NaN</td>\n",
       "    </tr>\n",
       "    <tr>\n",
       "      <th>159</th>\n",
       "      <td>Жемчужная девушка</td>\n",
       "      <td>224011014</td>\n",
       "      <td>2014-08-28 12:00:00+00:00</td>\n",
       "      <td>Художественный</td>\n",
       "      <td>Чешское телевидение,Студия \"Три брата\" агентск...</td>\n",
       "      <td>Чехия</td>\n",
       "      <td>Владимир Дрга</td>\n",
       "      <td>неизвестно</td>\n",
       "      <td>«0+» - для любой зрительской аудитории</td>\n",
       "      <td>NaN</td>\n",
       "      <td>NaN</td>\n",
       "      <td>NaN</td>\n",
       "      <td>NaN</td>\n",
       "      <td>NaN</td>\n",
       "      <td>неизвестно</td>\n",
       "      <td>NaN</td>\n",
       "      <td>2014</td>\n",
       "      <td>Владимир Дрга</td>\n",
       "      <td>неизвестно</td>\n",
       "      <td>NaN</td>\n",
       "    </tr>\n",
       "    <tr>\n",
       "      <th>160</th>\n",
       "      <td>Егор Булычев и другие</td>\n",
       "      <td>111011314</td>\n",
       "      <td>2014-10-01 12:00:00+00:00</td>\n",
       "      <td>Художественный</td>\n",
       "      <td>Киностудия \"Мосфильм\"</td>\n",
       "      <td>СССР</td>\n",
       "      <td>С.Соловьев</td>\n",
       "      <td>неизвестно</td>\n",
       "      <td>«12+» - для детей старше 12 лет</td>\n",
       "      <td>NaN</td>\n",
       "      <td>NaN</td>\n",
       "      <td>NaN</td>\n",
       "      <td>NaN</td>\n",
       "      <td>7.1</td>\n",
       "      <td>драма</td>\n",
       "      <td>NaN</td>\n",
       "      <td>2014</td>\n",
       "      <td>С.Соловьев</td>\n",
       "      <td>драма</td>\n",
       "      <td>NaN</td>\n",
       "    </tr>\n",
       "    <tr>\n",
       "      <th>162</th>\n",
       "      <td>Душечка</td>\n",
       "      <td>111011214</td>\n",
       "      <td>2014-10-01 12:00:00+00:00</td>\n",
       "      <td>Художественный</td>\n",
       "      <td>Киностудия \"Мосфильм\"</td>\n",
       "      <td>СССР</td>\n",
       "      <td>С.Колосов</td>\n",
       "      <td>неизвестно</td>\n",
       "      <td>«12+» - для детей старше 12 лет</td>\n",
       "      <td>NaN</td>\n",
       "      <td>NaN</td>\n",
       "      <td>NaN</td>\n",
       "      <td>NaN</td>\n",
       "      <td>7.7</td>\n",
       "      <td>мелодрама</td>\n",
       "      <td>NaN</td>\n",
       "      <td>2014</td>\n",
       "      <td>С.Колосов</td>\n",
       "      <td>мелодрама</td>\n",
       "      <td>NaN</td>\n",
       "    </tr>\n",
       "    <tr>\n",
       "      <th>163</th>\n",
       "      <td>Журавушка</td>\n",
       "      <td>111011914</td>\n",
       "      <td>2014-10-01 12:00:00+00:00</td>\n",
       "      <td>Художественный</td>\n",
       "      <td>Киностудия \"Мосфильм\"</td>\n",
       "      <td>СССР</td>\n",
       "      <td>Н.Москаленко</td>\n",
       "      <td>неизвестно</td>\n",
       "      <td>«12+» - для детей старше 12 лет</td>\n",
       "      <td>NaN</td>\n",
       "      <td>NaN</td>\n",
       "      <td>NaN</td>\n",
       "      <td>NaN</td>\n",
       "      <td>7.6</td>\n",
       "      <td>драма,мелодрама</td>\n",
       "      <td>165.0</td>\n",
       "      <td>2014</td>\n",
       "      <td>Н.Москаленко</td>\n",
       "      <td>драма</td>\n",
       "      <td>NaN</td>\n",
       "    </tr>\n",
       "    <tr>\n",
       "      <th>165</th>\n",
       "      <td>Земля Санникова</td>\n",
       "      <td>111012614</td>\n",
       "      <td>2014-10-01 12:00:00+00:00</td>\n",
       "      <td>Художественный</td>\n",
       "      <td>Киностудия \"Мосфильм\"</td>\n",
       "      <td>СССР</td>\n",
       "      <td>А.Мкртчян, Л.Попов</td>\n",
       "      <td>неизвестно</td>\n",
       "      <td>«6+» - для детей старше 6 лет</td>\n",
       "      <td>NaN</td>\n",
       "      <td>NaN</td>\n",
       "      <td>NaN</td>\n",
       "      <td>NaN</td>\n",
       "      <td>7.7</td>\n",
       "      <td>приключения</td>\n",
       "      <td>5000.0</td>\n",
       "      <td>2014</td>\n",
       "      <td>А.Мкртчян</td>\n",
       "      <td>приключения</td>\n",
       "      <td>NaN</td>\n",
       "    </tr>\n",
       "    <tr>\n",
       "      <th>168</th>\n",
       "      <td>Зина-Зинуля</td>\n",
       "      <td>111012714</td>\n",
       "      <td>2014-10-01 12:00:00+00:00</td>\n",
       "      <td>Художественный</td>\n",
       "      <td>Киностудия \"Мосфильм\"</td>\n",
       "      <td>СССР</td>\n",
       "      <td>П.Чухрай</td>\n",
       "      <td>неизвестно</td>\n",
       "      <td>«12+» - для детей старше 12 лет</td>\n",
       "      <td>NaN</td>\n",
       "      <td>NaN</td>\n",
       "      <td>NaN</td>\n",
       "      <td>NaN</td>\n",
       "      <td>7.0</td>\n",
       "      <td>драма</td>\n",
       "      <td>NaN</td>\n",
       "      <td>2014</td>\n",
       "      <td>П.Чухрай</td>\n",
       "      <td>драма</td>\n",
       "      <td>NaN</td>\n",
       "    </tr>\n",
       "    <tr>\n",
       "      <th>169</th>\n",
       "      <td>Запомните меня такой</td>\n",
       "      <td>111012414</td>\n",
       "      <td>2014-10-01 12:00:00+00:00</td>\n",
       "      <td>Художественный</td>\n",
       "      <td>Киностудия \"Мосфильм\"</td>\n",
       "      <td>СССР</td>\n",
       "      <td>П.Чухрай</td>\n",
       "      <td>неизвестно</td>\n",
       "      <td>«12+» - для детей старше 12 лет</td>\n",
       "      <td>NaN</td>\n",
       "      <td>NaN</td>\n",
       "      <td>NaN</td>\n",
       "      <td>NaN</td>\n",
       "      <td>7.8</td>\n",
       "      <td>драма</td>\n",
       "      <td>NaN</td>\n",
       "      <td>2014</td>\n",
       "      <td>П.Чухрай</td>\n",
       "      <td>драма</td>\n",
       "      <td>NaN</td>\n",
       "    </tr>\n",
       "    <tr>\n",
       "      <th>170</th>\n",
       "      <td>Жили-были старик со старухой</td>\n",
       "      <td>111011814</td>\n",
       "      <td>2014-10-01 12:00:00+00:00</td>\n",
       "      <td>Художественный</td>\n",
       "      <td>Киностудия \"Мосфильм\"</td>\n",
       "      <td>СССР</td>\n",
       "      <td>Г.Чухрай</td>\n",
       "      <td>неизвестно</td>\n",
       "      <td>«12+» - для детей старше 12 лет</td>\n",
       "      <td>NaN</td>\n",
       "      <td>NaN</td>\n",
       "      <td>NaN</td>\n",
       "      <td>NaN</td>\n",
       "      <td>7.5</td>\n",
       "      <td>драма</td>\n",
       "      <td>NaN</td>\n",
       "      <td>2014</td>\n",
       "      <td>Г.Чухрай</td>\n",
       "      <td>драма</td>\n",
       "      <td>NaN</td>\n",
       "    </tr>\n",
       "    <tr>\n",
       "      <th>171</th>\n",
       "      <td>Звонят, откройте дверь</td>\n",
       "      <td>111012514</td>\n",
       "      <td>2014-10-01 12:00:00+00:00</td>\n",
       "      <td>Художественный</td>\n",
       "      <td>Киностудия \"Мосфильм\"</td>\n",
       "      <td>СССР</td>\n",
       "      <td>А.Митта</td>\n",
       "      <td>неизвестно</td>\n",
       "      <td>«0+» - для любой зрительской аудитории</td>\n",
       "      <td>NaN</td>\n",
       "      <td>NaN</td>\n",
       "      <td>NaN</td>\n",
       "      <td>NaN</td>\n",
       "      <td>7.7</td>\n",
       "      <td>драма,семейный</td>\n",
       "      <td>1525.0</td>\n",
       "      <td>2014</td>\n",
       "      <td>А.Митта</td>\n",
       "      <td>драма</td>\n",
       "      <td>NaN</td>\n",
       "    </tr>\n",
       "    <tr>\n",
       "      <th>173</th>\n",
       "      <td>Загадка Эндхауза</td>\n",
       "      <td>111012214</td>\n",
       "      <td>2014-10-01 12:00:00+00:00</td>\n",
       "      <td>Художественный</td>\n",
       "      <td>Киностудия \"Мосфильм\"</td>\n",
       "      <td>СССР</td>\n",
       "      <td>В.Дербенев</td>\n",
       "      <td>неизвестно</td>\n",
       "      <td>«12+» - для детей старше 12 лет</td>\n",
       "      <td>NaN</td>\n",
       "      <td>NaN</td>\n",
       "      <td>NaN</td>\n",
       "      <td>NaN</td>\n",
       "      <td>6.4</td>\n",
       "      <td>криминал,детектив</td>\n",
       "      <td>NaN</td>\n",
       "      <td>2014</td>\n",
       "      <td>В.Дербенев</td>\n",
       "      <td>криминал</td>\n",
       "      <td>NaN</td>\n",
       "    </tr>\n",
       "    <tr>\n",
       "      <th>176</th>\n",
       "      <td>Забытая мелодия для флейты</td>\n",
       "      <td>111012014</td>\n",
       "      <td>2014-10-01 12:00:00+00:00</td>\n",
       "      <td>Художественный</td>\n",
       "      <td>Киностудия \"Мосфильм\"</td>\n",
       "      <td>СССР</td>\n",
       "      <td>Э.Рязанов</td>\n",
       "      <td>неизвестно</td>\n",
       "      <td>«12+» - для детей старше 12 лет</td>\n",
       "      <td>NaN</td>\n",
       "      <td>NaN</td>\n",
       "      <td>NaN</td>\n",
       "      <td>NaN</td>\n",
       "      <td>7.7</td>\n",
       "      <td>драма,мелодрама,комедия</td>\n",
       "      <td>520.0</td>\n",
       "      <td>2014</td>\n",
       "      <td>Э.Рязанов</td>\n",
       "      <td>драма</td>\n",
       "      <td>NaN</td>\n",
       "    </tr>\n",
       "    <tr>\n",
       "      <th>178</th>\n",
       "      <td>Заколдованная Элла /По книге Г.Г.Ливайн/</td>\n",
       "      <td>221058614</td>\n",
       "      <td>2014-10-15 12:00:00+00:00</td>\n",
       "      <td>Художественный</td>\n",
       "      <td>Мирамакс, Блессингтон Фильм Продакшнз, Джейн С...</td>\n",
       "      <td>США,  Ирландия,  Великобритания</td>\n",
       "      <td>Томми О'Хэйвер</td>\n",
       "      <td>Джейн Старц</td>\n",
       "      <td>«12+» - для детей старше 12 лет</td>\n",
       "      <td>NaN</td>\n",
       "      <td>NaN</td>\n",
       "      <td>NaN</td>\n",
       "      <td>NaN</td>\n",
       "      <td>6.8</td>\n",
       "      <td>фэнтези,мелодрама,комедия</td>\n",
       "      <td>NaN</td>\n",
       "      <td>2014</td>\n",
       "      <td>Томми О'Хэйвер</td>\n",
       "      <td>фэнтези</td>\n",
       "      <td>NaN</td>\n",
       "    </tr>\n",
       "    <tr>\n",
       "      <th>179</th>\n",
       "      <td>Змеелов</td>\n",
       "      <td>111012814</td>\n",
       "      <td>2014-10-01 12:00:00+00:00</td>\n",
       "      <td>Художественный</td>\n",
       "      <td>Киностудия \"Мосфильм\"</td>\n",
       "      <td>СССР</td>\n",
       "      <td>В.Дербенев</td>\n",
       "      <td>неизвестно</td>\n",
       "      <td>«12+» - для детей старше 12 лет</td>\n",
       "      <td>NaN</td>\n",
       "      <td>NaN</td>\n",
       "      <td>NaN</td>\n",
       "      <td>NaN</td>\n",
       "      <td>6.5</td>\n",
       "      <td>драма,криминал</td>\n",
       "      <td>NaN</td>\n",
       "      <td>2014</td>\n",
       "      <td>В.Дербенев</td>\n",
       "      <td>драма</td>\n",
       "      <td>NaN</td>\n",
       "    </tr>\n",
       "    <tr>\n",
       "      <th>181</th>\n",
       "      <td>Загнанный</td>\n",
       "      <td>221043014</td>\n",
       "      <td>2014-09-29 12:00:00+00:00</td>\n",
       "      <td>Художественный</td>\n",
       "      <td>Парамаунт Пикчерз, Лэйкшор Интертейнмент, Альф...</td>\n",
       "      <td>США</td>\n",
       "      <td>Уильям Фридкин</td>\n",
       "      <td>Джеймс Джэкс, Рикардо Местрес</td>\n",
       "      <td>«16+» - для детей старше 16 лет</td>\n",
       "      <td>NaN</td>\n",
       "      <td>NaN</td>\n",
       "      <td>NaN</td>\n",
       "      <td>NaN</td>\n",
       "      <td>6.8</td>\n",
       "      <td>боевик,триллер,драма</td>\n",
       "      <td>NaN</td>\n",
       "      <td>2014</td>\n",
       "      <td>Уильям Фридкин</td>\n",
       "      <td>боевик</td>\n",
       "      <td>NaN</td>\n",
       "    </tr>\n",
       "    <tr>\n",
       "      <th>191</th>\n",
       "      <td>И жизнь, и слезы, и любовь</td>\n",
       "      <td>111013214</td>\n",
       "      <td>2014-10-01 12:00:00+00:00</td>\n",
       "      <td>Художественный</td>\n",
       "      <td>Киностудия \"Мосфильм\"</td>\n",
       "      <td>СССР</td>\n",
       "      <td>Н.Губенко</td>\n",
       "      <td>неизвестно</td>\n",
       "      <td>«6+» - для детей старше 6 лет</td>\n",
       "      <td>NaN</td>\n",
       "      <td>NaN</td>\n",
       "      <td>NaN</td>\n",
       "      <td>NaN</td>\n",
       "      <td>7.6</td>\n",
       "      <td>драма</td>\n",
       "      <td>NaN</td>\n",
       "      <td>2014</td>\n",
       "      <td>Н.Губенко</td>\n",
       "      <td>драма</td>\n",
       "      <td>NaN</td>\n",
       "    </tr>\n",
       "    <tr>\n",
       "      <th>195</th>\n",
       "      <td>Ко мне, Мухтар!</td>\n",
       "      <td>111027714</td>\n",
       "      <td>2014-12-24 12:00:00+00:00</td>\n",
       "      <td>Художественный</td>\n",
       "      <td>Киностудия \"Мосфильм\"</td>\n",
       "      <td>СССР</td>\n",
       "      <td>С.Туманов</td>\n",
       "      <td>неизвестно</td>\n",
       "      <td>«6+» - для детей старше 6 лет</td>\n",
       "      <td>NaN</td>\n",
       "      <td>NaN</td>\n",
       "      <td>NaN</td>\n",
       "      <td>NaN</td>\n",
       "      <td>8.1</td>\n",
       "      <td>драма</td>\n",
       "      <td>14650.0</td>\n",
       "      <td>2014</td>\n",
       "      <td>С.Туманов</td>\n",
       "      <td>драма</td>\n",
       "      <td>NaN</td>\n",
       "    </tr>\n",
       "    <tr>\n",
       "      <th>196</th>\n",
       "      <td>Катала</td>\n",
       "      <td>111024214</td>\n",
       "      <td>2014-12-24 12:00:00+00:00</td>\n",
       "      <td>Художественный</td>\n",
       "      <td>Киностудия \"Мосфильм\"</td>\n",
       "      <td>СССР</td>\n",
       "      <td>С.Бодров, А.Буравский</td>\n",
       "      <td>неизвестно</td>\n",
       "      <td>«12+» - для детей старше 12 лет</td>\n",
       "      <td>NaN</td>\n",
       "      <td>NaN</td>\n",
       "      <td>NaN</td>\n",
       "      <td>NaN</td>\n",
       "      <td>6.7</td>\n",
       "      <td>мелодрама,криминал</td>\n",
       "      <td>NaN</td>\n",
       "      <td>2014</td>\n",
       "      <td>С.Бодров</td>\n",
       "      <td>мелодрама</td>\n",
       "      <td>NaN</td>\n",
       "    </tr>\n",
       "    <tr>\n",
       "      <th>197</th>\n",
       "      <td>Клетка для канареек</td>\n",
       "      <td>111025114</td>\n",
       "      <td>2014-12-24 12:00:00+00:00</td>\n",
       "      <td>Художественный</td>\n",
       "      <td>Киностудия \"Мосфильм\"</td>\n",
       "      <td>СССР</td>\n",
       "      <td>П.Чухрай</td>\n",
       "      <td>неизвестно</td>\n",
       "      <td>«12+» - для детей старше 12 лет</td>\n",
       "      <td>NaN</td>\n",
       "      <td>NaN</td>\n",
       "      <td>NaN</td>\n",
       "      <td>NaN</td>\n",
       "      <td>7.5</td>\n",
       "      <td>драма</td>\n",
       "      <td>NaN</td>\n",
       "      <td>2014</td>\n",
       "      <td>П.Чухрай</td>\n",
       "      <td>драма</td>\n",
       "      <td>NaN</td>\n",
       "    </tr>\n",
       "    <tr>\n",
       "      <th>198</th>\n",
       "      <td>Карты, деньги, два ствола</td>\n",
       "      <td>221043114</td>\n",
       "      <td>2014-09-29 12:00:00+00:00</td>\n",
       "      <td>Художественный</td>\n",
       "      <td>Хэнд Мэйд Филмз Лтд, Эс Кей Эй Филмз, Полиграм...</td>\n",
       "      <td>Великобритания</td>\n",
       "      <td>Гай Ричи</td>\n",
       "      <td>Мэтью Воэн</td>\n",
       "      <td>«18+» - запрещено для детей</td>\n",
       "      <td>NaN</td>\n",
       "      <td>NaN</td>\n",
       "      <td>NaN</td>\n",
       "      <td>NaN</td>\n",
       "      <td>8.6</td>\n",
       "      <td>боевик,комедия,криминал</td>\n",
       "      <td>NaN</td>\n",
       "      <td>2014</td>\n",
       "      <td>Гай Ричи</td>\n",
       "      <td>боевик</td>\n",
       "      <td>NaN</td>\n",
       "    </tr>\n",
       "  </tbody>\n",
       "</table>\n",
       "</div>"
      ],
      "text/plain": [
       "                                              title  pu_number  \\\n",
       "7                                 Любовь и сигареты  221074614   \n",
       "9                               Отпуск за свой счет  111019114   \n",
       "11                                     Ответный ход  111019014   \n",
       "17                                            Осень  111027914   \n",
       "25                         Призрак замка Моррисвиль  221072614   \n",
       "27                        Отставной козы барабанщик  111024314   \n",
       "30                                  Первое свидание  111019314   \n",
       "36   Планета КА-ПЭКС /По мотивам романа Джин Бруэр/  221009314   \n",
       "47                                   Андрей Рублев.  111029814   \n",
       "48                                    Азартные игры  221058014   \n",
       "56                                А был ли Каротин?  111029514   \n",
       "58                           Бесшабашное ограбление  221072814   \n",
       "77                                     Битва в пути  111026014   \n",
       "80                                      Вирус любви  221058214   \n",
       "88                                         Ватерлоо  111003014   \n",
       "96                        Дамы приглашают кавалеров  111010414   \n",
       "98                          Встречное расследование  221048514   \n",
       "102                            Враг государства № 1  221065614   \n",
       "126                             Дорога на Арлингтон  221042914   \n",
       "127                                         Дачники  111010514   \n",
       "129                                       Дикий мед  111011014   \n",
       "130                                      Дело № 306  111010714   \n",
       "138                                 Дети Дон-Кихота  111010914   \n",
       "139                                    Деловые люди  111010814   \n",
       "143       Двадцать шесть дней из жизни Достоевского  111010614   \n",
       "145                                   Законный брак  111012114   \n",
       "148                                 Живые и мертвые  111011714   \n",
       "152                                      Жестокость  111011614   \n",
       "153                              Еще раз про любовь  111011514   \n",
       "155                         Дорогая Елена Сергеевна  111011114   \n",
       "157                                    Друг невесты  221023814   \n",
       "159                               Жемчужная девушка  224011014   \n",
       "160                           Егор Булычев и другие  111011314   \n",
       "162                                         Душечка  111011214   \n",
       "163                                       Журавушка  111011914   \n",
       "165                                 Земля Санникова  111012614   \n",
       "168                                     Зина-Зинуля  111012714   \n",
       "169                            Запомните меня такой  111012414   \n",
       "170                    Жили-были старик со старухой  111011814   \n",
       "171                          Звонят, откройте дверь  111012514   \n",
       "173                                Загадка Эндхауза  111012214   \n",
       "176                      Забытая мелодия для флейты  111012014   \n",
       "178        Заколдованная Элла /По книге Г.Г.Ливайн/  221058614   \n",
       "179                                         Змеелов  111012814   \n",
       "181                                       Загнанный  221043014   \n",
       "191                      И жизнь, и слезы, и любовь  111013214   \n",
       "195                                 Ко мне, Мухтар!  111027714   \n",
       "196                                          Катала  111024214   \n",
       "197                             Клетка для канареек  111025114   \n",
       "198                       Карты, деньги, два ствола  221043114   \n",
       "\n",
       "              show_start_date            type  \\\n",
       "7   2014-12-29 12:00:00+00:00  Художественный   \n",
       "9   2014-12-01 12:00:00+00:00  Художественный   \n",
       "11  2014-12-01 12:00:00+00:00  Художественный   \n",
       "17  2014-12-24 12:00:00+00:00  Художественный   \n",
       "25  2014-12-29 12:00:00+00:00  Художественный   \n",
       "27  2014-12-24 12:00:00+00:00  Художественный   \n",
       "30  2014-12-01 12:00:00+00:00  Художественный   \n",
       "36  2014-03-03 12:00:00+00:00  Художественный   \n",
       "47  2014-12-24 12:00:00+00:00  Художественный   \n",
       "48  2014-10-15 12:00:00+00:00  Художественный   \n",
       "56  2014-12-24 12:00:00+00:00  Художественный   \n",
       "58  2014-12-29 12:00:00+00:00  Художественный   \n",
       "77  2014-12-24 12:00:00+00:00  Художественный   \n",
       "80  2014-10-15 12:00:00+00:00  Художественный   \n",
       "88  2014-03-14 12:00:00+00:00  Художественный   \n",
       "96  2014-10-01 12:00:00+00:00  Художественный   \n",
       "98  2014-10-09 12:00:00+00:00  Художественный   \n",
       "102 2014-10-07 12:00:00+00:00  Художественный   \n",
       "126 2014-09-29 12:00:00+00:00  Художественный   \n",
       "127 2014-10-01 12:00:00+00:00  Художественный   \n",
       "129 2014-10-01 12:00:00+00:00  Художественный   \n",
       "130 2014-10-01 12:00:00+00:00  Художественный   \n",
       "138 2014-10-01 12:00:00+00:00  Художественный   \n",
       "139 2014-10-01 12:00:00+00:00  Художественный   \n",
       "143 2014-10-01 12:00:00+00:00  Художественный   \n",
       "145 2014-10-01 12:00:00+00:00  Художественный   \n",
       "148 2014-10-01 12:00:00+00:00  Художественный   \n",
       "152 2014-10-01 12:00:00+00:00  Художественный   \n",
       "153 2014-10-01 12:00:00+00:00  Художественный   \n",
       "155 2014-10-01 12:00:00+00:00  Художественный   \n",
       "157 2014-07-25 12:00:00+00:00  Художественный   \n",
       "159 2014-08-28 12:00:00+00:00  Художественный   \n",
       "160 2014-10-01 12:00:00+00:00  Художественный   \n",
       "162 2014-10-01 12:00:00+00:00  Художественный   \n",
       "163 2014-10-01 12:00:00+00:00  Художественный   \n",
       "165 2014-10-01 12:00:00+00:00  Художественный   \n",
       "168 2014-10-01 12:00:00+00:00  Художественный   \n",
       "169 2014-10-01 12:00:00+00:00  Художественный   \n",
       "170 2014-10-01 12:00:00+00:00  Художественный   \n",
       "171 2014-10-01 12:00:00+00:00  Художественный   \n",
       "173 2014-10-01 12:00:00+00:00  Художественный   \n",
       "176 2014-10-01 12:00:00+00:00  Художественный   \n",
       "178 2014-10-15 12:00:00+00:00  Художественный   \n",
       "179 2014-10-01 12:00:00+00:00  Художественный   \n",
       "181 2014-09-29 12:00:00+00:00  Художественный   \n",
       "191 2014-10-01 12:00:00+00:00  Художественный   \n",
       "195 2014-12-24 12:00:00+00:00  Художественный   \n",
       "196 2014-12-24 12:00:00+00:00  Художественный   \n",
       "197 2014-12-24 12:00:00+00:00  Художественный   \n",
       "198 2014-09-29 12:00:00+00:00  Художественный   \n",
       "\n",
       "                                           film_studio  \\\n",
       "7    Юнайтед Артистс, Грин Стрит Филмз, Айкон Интер...   \n",
       "9               Киностудия \"Мосфильм\", Телевидение ВНР   \n",
       "11                               Киностудия \"Мосфильм\"   \n",
       "17                               Киностудия \"Мосфильм\"   \n",
       "25                           Фильмове Студио Баррандов   \n",
       "27                               Киностудия \"Мосфильм\"   \n",
       "30                               Киностудия \"Мосфильм\"   \n",
       "36   Интермедиа Филмз, Юниверсал Пикчерз, Лоуренс Г...   \n",
       "47                               Киностудия \"Мосфильм\"   \n",
       "48                             Мирамакс, Дименшн Филмс   \n",
       "56                               Киностудия \"Мосфильм\"   \n",
       "58   Нью Маркет, Саммит Интертейнмент, Рэйвинг Мэд ...   \n",
       "77                               Киностудия \"Мосфильм\"   \n",
       "80     Мирамакс, Игнит Интертейнмент, Морфеус Продакшн   \n",
       "88   \"Дино де Лаурентиис\" (Италия) при участии Кино...   \n",
       "96                               Киностудия \"Мосфильм\"   \n",
       "98                                Патэ Ренн Продюксьон   \n",
       "102                                        Реин Сейлес   \n",
       "126  Полиграм Филмд Интертейнмент, Лэйкшор Интертей...   \n",
       "127                              Киностудия \"Мосфильм\"   \n",
       "129                              Киностудия \"Мосфильм\"   \n",
       "130                              Киностудия \"Мосфильм\"   \n",
       "138                              Киностудия \"Мосфильм\"   \n",
       "139                              Киностудия \"Мосфильм\"   \n",
       "143                              Киностудия \"Мосфильм\"   \n",
       "145                              Киностудия \"Мосфильм\"   \n",
       "148                              Киностудия \"Мосфильм\"   \n",
       "152                              Киностудия \"Мосфильм\"   \n",
       "153                              Киностудия \"Мосфильм\"   \n",
       "155                              Киностудия \"Мосфильм\"   \n",
       "157                   Коламбиа Пикчерз, Ориджинал Филм   \n",
       "159  Чешское телевидение,Студия \"Три брата\" агентск...   \n",
       "160                              Киностудия \"Мосфильм\"   \n",
       "162                              Киностудия \"Мосфильм\"   \n",
       "163                              Киностудия \"Мосфильм\"   \n",
       "165                              Киностудия \"Мосфильм\"   \n",
       "168                              Киностудия \"Мосфильм\"   \n",
       "169                              Киностудия \"Мосфильм\"   \n",
       "170                              Киностудия \"Мосфильм\"   \n",
       "171                              Киностудия \"Мосфильм\"   \n",
       "173                              Киностудия \"Мосфильм\"   \n",
       "176                              Киностудия \"Мосфильм\"   \n",
       "178  Мирамакс, Блессингтон Фильм Продакшнз, Джейн С...   \n",
       "179                              Киностудия \"Мосфильм\"   \n",
       "181  Парамаунт Пикчерз, Лэйкшор Интертейнмент, Альф...   \n",
       "191                              Киностудия \"Мосфильм\"   \n",
       "195                              Киностудия \"Мосфильм\"   \n",
       "196                              Киностудия \"Мосфильм\"   \n",
       "197                              Киностудия \"Мосфильм\"   \n",
       "198  Хэнд Мэйд Филмз Лтд, Эс Кей Эй Филмз, Полиграм...   \n",
       "\n",
       "                  production_country                    director  \\\n",
       "7                                США               Джон Туртурро   \n",
       "9                     СССР,  Венгрия                     В.Титов   \n",
       "11                              СССР               М.Туманишвили   \n",
       "17                              СССР                   А.Смирнов   \n",
       "25                      Чехословакия               Боривой Земан   \n",
       "27                              СССР                 Г.Мыльников   \n",
       "30                              СССР                     И.Бабич   \n",
       "36                    США,  Германия                  Йэн Софтли   \n",
       "47                              СССР                А.Тарковский   \n",
       "48                               США          Джон Франкенхаймер   \n",
       "56                              СССР                    Г.Полока   \n",
       "58                               США  Дрю Дэйуолт, Дэвид Шнейдер   \n",
       "77                              СССР                     В.Басов   \n",
       "80                               США               Томми О'Хавер   \n",
       "88                     СССР,  Италия            Сергей Бондарчук   \n",
       "96                              СССР                И.Киасашвили   \n",
       "98                           Франция               Франк Манкузо   \n",
       "102                          Франция            Жан Франсуа Рише   \n",
       "126                              США             Марк Пеллингтон   \n",
       "127                             СССР                  Б.Бабочкин   \n",
       "129                             СССР          Владимир Чеботарев   \n",
       "130                             СССР                   А.Рыбаков   \n",
       "138                             СССР                   Е.Карелов   \n",
       "139                             СССР                    Л.Гайдай   \n",
       "143                             СССР                     А.Зархи   \n",
       "145                             СССР                   А.Мкртчян   \n",
       "148                             СССР                   А.Столпер   \n",
       "152                             СССР                   В.Скуйбин   \n",
       "153                             СССР                  Г.Натансон   \n",
       "155                             СССР                   Э.Рязанов   \n",
       "157             США,  Великобритания                  Пол Уиланд   \n",
       "159                            Чехия               Владимир Дрга   \n",
       "160                             СССР                  С.Соловьев   \n",
       "162                             СССР                   С.Колосов   \n",
       "163                             СССР                Н.Москаленко   \n",
       "165                             СССР          А.Мкртчян, Л.Попов   \n",
       "168                             СССР                    П.Чухрай   \n",
       "169                             СССР                    П.Чухрай   \n",
       "170                             СССР                    Г.Чухрай   \n",
       "171                             СССР                     А.Митта   \n",
       "173                             СССР                  В.Дербенев   \n",
       "176                             СССР                   Э.Рязанов   \n",
       "178  США,  Ирландия,  Великобритания              Томми О'Хэйвер   \n",
       "179                             СССР                  В.Дербенев   \n",
       "181                              США              Уильям Фридкин   \n",
       "191                             СССР                   Н.Губенко   \n",
       "195                             СССР                   С.Туманов   \n",
       "196                             СССР       С.Бодров, А.Буравский   \n",
       "197                             СССР                    П.Чухрай   \n",
       "198                   Великобритания                    Гай Ричи   \n",
       "\n",
       "                                           producer  \\\n",
       "7                       Джон Пенотти, Джон Туртурро   \n",
       "9                                        неизвестно   \n",
       "11                                       неизвестно   \n",
       "17                                       неизвестно   \n",
       "25                                       неизвестно   \n",
       "27                                       неизвестно   \n",
       "30                                       неизвестно   \n",
       "36   Лоуренс Гордон, Роберт Коулсберри, Ллойд Левин   \n",
       "47                                       неизвестно   \n",
       "48                                       неизвестно   \n",
       "56                                       неизвестно   \n",
       "58    Джон Балдеччи, Лоуренс Бендер, Кристофер Болл   \n",
       "77                                       неизвестно   \n",
       "80                          Майкл Бёрнс, Марк Бутан   \n",
       "88                                       неизвестно   \n",
       "96                                       неизвестно   \n",
       "98                      Патрик Жимене, Эрик Хьюберт   \n",
       "102                     Дэниел Дэлюм, Тома Лангманн   \n",
       "126      Том Гораи, Марк Сэмюэлсон, Питер Сэмюэлсон   \n",
       "127                                      неизвестно   \n",
       "129                                      неизвестно   \n",
       "130                                      неизвестно   \n",
       "138                                      неизвестно   \n",
       "139                                      неизвестно   \n",
       "143                                      неизвестно   \n",
       "145                                      неизвестно   \n",
       "148                                      неизвестно   \n",
       "152                                      неизвестно   \n",
       "153                                      неизвестно   \n",
       "155                                      неизвестно   \n",
       "157                                   Нил Хью Мориц   \n",
       "159                                      неизвестно   \n",
       "160                                      неизвестно   \n",
       "162                                      неизвестно   \n",
       "163                                      неизвестно   \n",
       "165                                      неизвестно   \n",
       "168                                      неизвестно   \n",
       "169                                      неизвестно   \n",
       "170                                      неизвестно   \n",
       "171                                      неизвестно   \n",
       "173                                      неизвестно   \n",
       "176                                      неизвестно   \n",
       "178                                     Джейн Старц   \n",
       "179                                      неизвестно   \n",
       "181                   Джеймс Джэкс, Рикардо Местрес   \n",
       "191                                      неизвестно   \n",
       "195                                      неизвестно   \n",
       "196                                      неизвестно   \n",
       "197                                      неизвестно   \n",
       "198                                      Мэтью Воэн   \n",
       "\n",
       "                            age_restriction  refundable_support  \\\n",
       "7               «18+» - запрещено для детей                 NaN   \n",
       "9           «12+» - для детей старше 12 лет                 NaN   \n",
       "11          «12+» - для детей старше 12 лет                 NaN   \n",
       "17          «12+» - для детей старше 12 лет                 NaN   \n",
       "25          «12+» - для детей старше 12 лет                 NaN   \n",
       "27            «6+» - для детей старше 6 лет                 NaN   \n",
       "30          «12+» - для детей старше 12 лет                 NaN   \n",
       "36          «12+» - для детей старше 12 лет                 NaN   \n",
       "47          «12+» - для детей старше 12 лет                 NaN   \n",
       "48          «16+» - для детей старше 16 лет                 NaN   \n",
       "56          «12+» - для детей старше 12 лет                 NaN   \n",
       "58              «18+» - запрещено для детей                 NaN   \n",
       "77          «12+» - для детей старше 12 лет                 NaN   \n",
       "80          «16+» - для детей старше 16 лет                 NaN   \n",
       "88            «6+» - для детей старше 6 лет                 NaN   \n",
       "96          «12+» - для детей старше 12 лет                 NaN   \n",
       "98          «16+» - для детей старше 16 лет                 NaN   \n",
       "102             «18+» - запрещено для детей                 NaN   \n",
       "126         «16+» - для детей старше 16 лет                 NaN   \n",
       "127         «12+» - для детей старше 12 лет                 NaN   \n",
       "129         «12+» - для детей старше 12 лет                 NaN   \n",
       "130         «12+» - для детей старше 12 лет                 NaN   \n",
       "138           «6+» - для детей старше 6 лет                 NaN   \n",
       "139           «6+» - для детей старше 6 лет                 NaN   \n",
       "143         «12+» - для детей старше 12 лет                 NaN   \n",
       "145         «12+» - для детей старше 12 лет                 NaN   \n",
       "148         «12+» - для детей старше 12 лет                 NaN   \n",
       "152         «12+» - для детей старше 12 лет                 NaN   \n",
       "153         «12+» - для детей старше 12 лет                 NaN   \n",
       "155         «12+» - для детей старше 12 лет                 NaN   \n",
       "157         «16+» - для детей старше 16 лет                 NaN   \n",
       "159  «0+» - для любой зрительской аудитории                 NaN   \n",
       "160         «12+» - для детей старше 12 лет                 NaN   \n",
       "162         «12+» - для детей старше 12 лет                 NaN   \n",
       "163         «12+» - для детей старше 12 лет                 NaN   \n",
       "165           «6+» - для детей старше 6 лет                 NaN   \n",
       "168         «12+» - для детей старше 12 лет                 NaN   \n",
       "169         «12+» - для детей старше 12 лет                 NaN   \n",
       "170         «12+» - для детей старше 12 лет                 NaN   \n",
       "171  «0+» - для любой зрительской аудитории                 NaN   \n",
       "173         «12+» - для детей старше 12 лет                 NaN   \n",
       "176         «12+» - для детей старше 12 лет                 NaN   \n",
       "178         «12+» - для детей старше 12 лет                 NaN   \n",
       "179         «12+» - для детей старше 12 лет                 NaN   \n",
       "181         «16+» - для детей старше 16 лет                 NaN   \n",
       "191           «6+» - для детей старше 6 лет                 NaN   \n",
       "195           «6+» - для детей старше 6 лет                 NaN   \n",
       "196         «12+» - для детей старше 12 лет                 NaN   \n",
       "197         «12+» - для детей старше 12 лет                 NaN   \n",
       "198             «18+» - запрещено для детей                 NaN   \n",
       "\n",
       "     nonrefundable_support  budget financing_source  ratings  \\\n",
       "7                      NaN     NaN              NaN      6.6   \n",
       "9                      NaN     NaN              NaN      7.8   \n",
       "11                     NaN     NaN              NaN      7.8   \n",
       "17                     NaN     NaN              NaN      7.4   \n",
       "25                     NaN     NaN              NaN      7.7   \n",
       "27                     NaN     NaN              NaN      6.9   \n",
       "30                     NaN     NaN              NaN      7.4   \n",
       "36                     NaN     NaN              NaN      8.0   \n",
       "47                     NaN     NaN              NaN      8.2   \n",
       "48                     NaN     NaN              NaN      7.0   \n",
       "56                     NaN     NaN              NaN      6.8   \n",
       "58                     NaN     NaN              NaN      7.1   \n",
       "77                     NaN     NaN              NaN      6.9   \n",
       "80                     NaN     NaN              NaN      6.6   \n",
       "88                     NaN     NaN              NaN      7.7   \n",
       "96                     NaN     NaN              NaN      7.2   \n",
       "98                     NaN     NaN              NaN      6.9   \n",
       "102                    NaN     NaN              NaN      7.3   \n",
       "126                    NaN     NaN              NaN      7.5   \n",
       "127                    NaN     NaN              NaN      6.2   \n",
       "129                    NaN     NaN              NaN      7.6   \n",
       "130                    NaN     NaN              NaN      7.0   \n",
       "138                    NaN     NaN              NaN      8.2   \n",
       "139                    NaN     NaN              NaN      8.2   \n",
       "143                    NaN     NaN              NaN      7.7   \n",
       "145                    NaN     NaN              NaN      7.7   \n",
       "148                    NaN     NaN              NaN      8.2   \n",
       "152                    NaN     NaN              NaN      7.1   \n",
       "153                    NaN     NaN              NaN      8.1   \n",
       "155                    NaN     NaN              NaN      7.9   \n",
       "157                    NaN     NaN              NaN      7.0   \n",
       "159                    NaN     NaN              NaN      NaN   \n",
       "160                    NaN     NaN              NaN      7.1   \n",
       "162                    NaN     NaN              NaN      7.7   \n",
       "163                    NaN     NaN              NaN      7.6   \n",
       "165                    NaN     NaN              NaN      7.7   \n",
       "168                    NaN     NaN              NaN      7.0   \n",
       "169                    NaN     NaN              NaN      7.8   \n",
       "170                    NaN     NaN              NaN      7.5   \n",
       "171                    NaN     NaN              NaN      7.7   \n",
       "173                    NaN     NaN              NaN      6.4   \n",
       "176                    NaN     NaN              NaN      7.7   \n",
       "178                    NaN     NaN              NaN      6.8   \n",
       "179                    NaN     NaN              NaN      6.5   \n",
       "181                    NaN     NaN              NaN      6.8   \n",
       "191                    NaN     NaN              NaN      7.6   \n",
       "195                    NaN     NaN              NaN      8.1   \n",
       "196                    NaN     NaN              NaN      6.7   \n",
       "197                    NaN     NaN              NaN      7.5   \n",
       "198                    NaN     NaN              NaN      8.6   \n",
       "\n",
       "                                   genres  box_office  year  \\\n",
       "7                мюзикл,мелодрама,комедия         NaN  2014   \n",
       "9                       мелодрама,комедия         NaN  2014   \n",
       "11               боевик,драма,приключения         NaN  2014   \n",
       "17                        драма,мелодрама         NaN  2014   \n",
       "25                                комедия         NaN  2014   \n",
       "27                          драма,комедия         NaN  2014   \n",
       "30   мультфильм,короткометражка,мелодрама         NaN  2014   \n",
       "36              фантастика,драма,детектив         NaN  2014   \n",
       "47                драма,биография,история     22660.0  2014   \n",
       "48                   боевик,триллер,драма         NaN  2014   \n",
       "56                       комедия,криминал         NaN  2014   \n",
       "58                боевик,комедия,криминал         NaN  2014   \n",
       "77                                  драма         NaN  2014   \n",
       "80                      мелодрама,комедия         NaN  2014   \n",
       "88                   боевик,драма,военный         NaN  2014   \n",
       "96                      мелодрама,комедия      2260.0  2014   \n",
       "98                       триллер,криминал         NaN  2014   \n",
       "102                триллер,драма,криминал         NaN  2014   \n",
       "126                         триллер,драма         NaN  2014   \n",
       "127                       драма,мелодрама         NaN  2014   \n",
       "129                       драма,мелодрама         NaN  2014   \n",
       "130         криминал,детектив,приключения         NaN  2014   \n",
       "138                         драма,комедия         NaN  2014   \n",
       "139                 драма,комедия,вестерн         NaN  2014   \n",
       "143                   мелодрама,биография         NaN  2014   \n",
       "145               драма,мелодрама,военный         NaN  2014   \n",
       "148                         драма,военный         NaN  2014   \n",
       "152                                 драма       200.0  2014   \n",
       "153                       драма,мелодрама     11960.0  2014   \n",
       "155                триллер,драма,криминал         NaN  2014   \n",
       "157                     мелодрама,комедия         NaN  2014   \n",
       "159                            неизвестно         NaN  2014   \n",
       "160                                 драма         NaN  2014   \n",
       "162                             мелодрама         NaN  2014   \n",
       "163                       драма,мелодрама       165.0  2014   \n",
       "165                           приключения      5000.0  2014   \n",
       "168                                 драма         NaN  2014   \n",
       "169                                 драма         NaN  2014   \n",
       "170                                 драма         NaN  2014   \n",
       "171                        драма,семейный      1525.0  2014   \n",
       "173                     криминал,детектив         NaN  2014   \n",
       "176               драма,мелодрама,комедия       520.0  2014   \n",
       "178             фэнтези,мелодрама,комедия         NaN  2014   \n",
       "179                        драма,криминал         NaN  2014   \n",
       "181                  боевик,триллер,драма         NaN  2014   \n",
       "191                                 драма         NaN  2014   \n",
       "195                                 драма     14650.0  2014   \n",
       "196                    мелодрама,криминал         NaN  2014   \n",
       "197                                 драма         NaN  2014   \n",
       "198               боевик,комедия,криминал         NaN  2014   \n",
       "\n",
       "         first_director  first_genre  gov_support  \n",
       "7         Джон Туртурро       мюзикл          NaN  \n",
       "9               В.Титов    мелодрама          NaN  \n",
       "11        М.Туманишвили       боевик          NaN  \n",
       "17            А.Смирнов        драма          NaN  \n",
       "25        Боривой Земан      комедия          NaN  \n",
       "27          Г.Мыльников        драма          NaN  \n",
       "30              И.Бабич   мультфильм          NaN  \n",
       "36           Йэн Софтли   фантастика          NaN  \n",
       "47         А.Тарковский        драма          NaN  \n",
       "48   Джон Франкенхаймер       боевик          NaN  \n",
       "56             Г.Полока      комедия          NaN  \n",
       "58          Дрю Дэйуолт       боевик          NaN  \n",
       "77              В.Басов        драма          NaN  \n",
       "80        Томми О'Хавер    мелодрама          NaN  \n",
       "88     Сергей Бондарчук       боевик          NaN  \n",
       "96         И.Киасашвили    мелодрама          NaN  \n",
       "98        Франк Манкузо      триллер          NaN  \n",
       "102    Жан Франсуа Рише      триллер          NaN  \n",
       "126     Марк Пеллингтон      триллер          NaN  \n",
       "127          Б.Бабочкин        драма          NaN  \n",
       "129  Владимир Чеботарев        драма          NaN  \n",
       "130           А.Рыбаков     криминал          NaN  \n",
       "138           Е.Карелов        драма          NaN  \n",
       "139            Л.Гайдай        драма          NaN  \n",
       "143             А.Зархи    мелодрама          NaN  \n",
       "145           А.Мкртчян        драма          NaN  \n",
       "148           А.Столпер        драма          NaN  \n",
       "152           В.Скуйбин        драма          NaN  \n",
       "153          Г.Натансон        драма          NaN  \n",
       "155           Э.Рязанов      триллер          NaN  \n",
       "157          Пол Уиланд    мелодрама          NaN  \n",
       "159       Владимир Дрга   неизвестно          NaN  \n",
       "160          С.Соловьев        драма          NaN  \n",
       "162           С.Колосов    мелодрама          NaN  \n",
       "163        Н.Москаленко        драма          NaN  \n",
       "165           А.Мкртчян  приключения          NaN  \n",
       "168            П.Чухрай        драма          NaN  \n",
       "169            П.Чухрай        драма          NaN  \n",
       "170            Г.Чухрай        драма          NaN  \n",
       "171             А.Митта        драма          NaN  \n",
       "173          В.Дербенев     криминал          NaN  \n",
       "176           Э.Рязанов        драма          NaN  \n",
       "178      Томми О'Хэйвер      фэнтези          NaN  \n",
       "179          В.Дербенев        драма          NaN  \n",
       "181      Уильям Фридкин       боевик          NaN  \n",
       "191           Н.Губенко        драма          NaN  \n",
       "195           С.Туманов        драма          NaN  \n",
       "196            С.Бодров    мелодрама          NaN  \n",
       "197            П.Чухрай        драма          NaN  \n",
       "198            Гай Ричи       боевик          NaN  "
      ]
     },
     "execution_count": 49,
     "metadata": {},
     "output_type": "execute_result"
    }
   ],
   "source": [
    "data.query('year == 2014').head(50)"
   ]
  },
  {
   "cell_type": "markdown",
   "metadata": {
    "id": "G-7qS-N-gFyY"
   },
   "source": [
    "Посчитаем среднюю и медианную сумму сборов для каждого года."
   ]
  },
  {
   "cell_type": "code",
   "execution_count": 50,
   "metadata": {
    "id": "jmp-rgg9gFyY"
   },
   "outputs": [
    {
     "data": {
      "text/html": [
       "<div>\n",
       "<style scoped>\n",
       "    .dataframe tbody tr th:only-of-type {\n",
       "        vertical-align: middle;\n",
       "    }\n",
       "\n",
       "    .dataframe tbody tr th {\n",
       "        vertical-align: top;\n",
       "    }\n",
       "\n",
       "    .dataframe thead tr th {\n",
       "        text-align: left;\n",
       "    }\n",
       "\n",
       "    .dataframe thead tr:last-of-type th {\n",
       "        text-align: right;\n",
       "    }\n",
       "</style>\n",
       "<table border=\"1\" class=\"dataframe\">\n",
       "  <thead>\n",
       "    <tr>\n",
       "      <th></th>\n",
       "      <th>mean</th>\n",
       "      <th>median</th>\n",
       "    </tr>\n",
       "    <tr>\n",
       "      <th></th>\n",
       "      <th>box_office</th>\n",
       "      <th>box_office</th>\n",
       "    </tr>\n",
       "    <tr>\n",
       "      <th>year</th>\n",
       "      <th></th>\n",
       "      <th></th>\n",
       "    </tr>\n",
       "  </thead>\n",
       "  <tbody>\n",
       "    <tr>\n",
       "      <th>2010</th>\n",
       "      <td>2.313004e+04</td>\n",
       "      <td>1700.000</td>\n",
       "    </tr>\n",
       "    <tr>\n",
       "      <th>2011</th>\n",
       "      <td>1.293832e+05</td>\n",
       "      <td>3000.000</td>\n",
       "    </tr>\n",
       "    <tr>\n",
       "      <th>2012</th>\n",
       "      <td>5.433924e+04</td>\n",
       "      <td>5660.000</td>\n",
       "    </tr>\n",
       "    <tr>\n",
       "      <th>2013</th>\n",
       "      <td>1.619549e+05</td>\n",
       "      <td>3522.500</td>\n",
       "    </tr>\n",
       "    <tr>\n",
       "      <th>2014</th>\n",
       "      <td>2.668442e+07</td>\n",
       "      <td>18160.000</td>\n",
       "    </tr>\n",
       "    <tr>\n",
       "      <th>2015</th>\n",
       "      <td>8.494057e+07</td>\n",
       "      <td>4920933.000</td>\n",
       "    </tr>\n",
       "    <tr>\n",
       "      <th>2016</th>\n",
       "      <td>9.100057e+07</td>\n",
       "      <td>3846679.410</td>\n",
       "    </tr>\n",
       "    <tr>\n",
       "      <th>2017</th>\n",
       "      <td>1.360328e+08</td>\n",
       "      <td>9968340.000</td>\n",
       "    </tr>\n",
       "    <tr>\n",
       "      <th>2018</th>\n",
       "      <td>1.045651e+08</td>\n",
       "      <td>8891102.210</td>\n",
       "    </tr>\n",
       "    <tr>\n",
       "      <th>2019</th>\n",
       "      <td>9.136926e+07</td>\n",
       "      <td>4627798.345</td>\n",
       "    </tr>\n",
       "  </tbody>\n",
       "</table>\n",
       "</div>"
      ],
      "text/plain": [
       "              mean       median\n",
       "        box_office   box_office\n",
       "year                           \n",
       "2010  2.313004e+04     1700.000\n",
       "2011  1.293832e+05     3000.000\n",
       "2012  5.433924e+04     5660.000\n",
       "2013  1.619549e+05     3522.500\n",
       "2014  2.668442e+07    18160.000\n",
       "2015  8.494057e+07  4920933.000\n",
       "2016  9.100057e+07  3846679.410\n",
       "2017  1.360328e+08  9968340.000\n",
       "2018  1.045651e+08  8891102.210\n",
       "2019  9.136926e+07  4627798.345"
      ]
     },
     "execution_count": 50,
     "metadata": {},
     "output_type": "execute_result"
    }
   ],
   "source": [
    "data.pivot_table(values='box_office', index='year', aggfunc=['mean', 'median'])"
   ]
  },
  {
   "cell_type": "markdown",
   "metadata": {},
   "source": [
    "<div class=\"alert alert-warning\">\n",
    "<h2> Комментарий ревьюера 🤓<a class=\"tocSkip\"> </h2>\n",
    "\n",
    "Можно отобразить оба показателя на графике для наглядности в разнице)"
   ]
  },
  {
   "cell_type": "markdown",
   "metadata": {},
   "source": [
    "Медиана по кассовым сборам значительно меньше среднего каждый год. Это свидетельствует о том, что есть некоторое количество фильмов с очень высокими кассовыми сборами, что повлияло на среднюю величину. Оценивать качество российского кинематогрофа по средней величине не будем. "
   ]
  },
  {
   "cell_type": "markdown",
   "metadata": {},
   "source": [
    "<div class=\"alert alert-success\">\n",
    "<h2> Комментарий ревьюера 😊<a class=\"tocSkip\"> </h2>\n",
    "   \n",
    "Верно)"
   ]
  },
  {
   "cell_type": "markdown",
   "metadata": {
    "id": "Ok89WFwJgFyZ"
   },
   "source": [
    "Определим, влияет ли возрастное ограничение аудитории («6+», «12+», «16+», «18+» и т. д.) на сборы фильма в прокате в период с 2015 по 2019 год? Фильмы с каким возрастным ограничением собрали больше всего денег в прокате? Меняется ли картина в зависимости от года? Если да, предположите, с чем это может быть связано."
   ]
  },
  {
   "cell_type": "code",
   "execution_count": 51,
   "metadata": {
    "id": "jsSbEqfjgFya"
   },
   "outputs": [
    {
     "data": {
      "text/plain": [
       "age_restriction\n",
       "«0+» - для любой зрительской аудитории    4.300228e+08\n",
       "«12+» - для детей старше 12 лет           4.700336e+10\n",
       "«16+» - для детей старше 16 лет           6.466661e+10\n",
       "«18+» - запрещено для детей               3.532731e+10\n",
       "«6+» - для детей старше 6 лет             4.709681e+10\n",
       "Name: box_office, dtype: float64"
      ]
     },
     "metadata": {},
     "output_type": "display_data"
    },
    {
     "data": {
      "text/plain": [
       "Text(0.5, 1.0, 'Box office returns based on age restrictions')"
      ]
     },
     "execution_count": 51,
     "metadata": {},
     "output_type": "execute_result"
    },
    {
     "data": {
      "image/png": "[encoded data removed]",
      "text/plain": [
       "<Figure size 432x288 with 1 Axes>"
      ]
     },
     "metadata": {
      "needs_background": "light"
     },
     "output_type": "display_data"
    }
   ],
   "source": [
    "display(data.query('year > 2015').groupby('age_restriction')['box_office'].sum())\n",
    "data.query('year > 2015').groupby('age_restriction')['box_office'].sum().plot(kind='barh')\n",
    "plt.title('Box office returns based on age restrictions')"
   ]
  },
  {
   "cell_type": "markdown",
   "metadata": {},
   "source": [
    "Больше всего собрали в прокате фильмы с ограничением 16+, а меньше всего 0+. Посмотрим на графиках как меняется ситцация в зависимости от года. "
   ]
  },
  {
   "cell_type": "code",
   "execution_count": 52,
   "metadata": {},
   "outputs": [
    {
     "data": {
      "image/png": "[encoded data removed]",
      "text/plain": [
       "<Figure size 216x216 with 1 Axes>"
      ]
     },
     "metadata": {
      "needs_background": "light"
     },
     "output_type": "display_data"
    },
    {
     "data": {
      "image/png": "[encoded data removed]",
      "text/plain": [
       "<Figure size 216x216 with 1 Axes>"
      ]
     },
     "metadata": {
      "needs_background": "light"
     },
     "output_type": "display_data"
    },
    {
     "data": {
      "image/png": "[encoded data removed]",
      "text/plain": [
       "<Figure size 216x216 with 1 Axes>"
      ]
     },
     "metadata": {
      "needs_background": "light"
     },
     "output_type": "display_data"
    },
    {
     "data": {
      "image/png": "[encoded data removed]",
      "text/plain": [
       "<Figure size 216x216 with 1 Axes>"
      ]
     },
     "metadata": {
      "needs_background": "light"
     },
     "output_type": "display_data"
    },
    {
     "data": {
      "image/png": "[encoded data removed]",
      "text/plain": [
       "<Figure size 216x216 with 1 Axes>"
      ]
     },
     "metadata": {
      "needs_background": "light"
     },
     "output_type": "display_data"
    }
   ],
   "source": [
    "for year in range(2015, 2020):\n",
    "    data.query('year == @year').groupby('age_restriction')['box_office'].sum().plot(kind='barh', figsize=(3, 3))\n",
    "    plt.title(f'Box office returns based on age restrictions in {year}')\n",
    "    #plt.xticks(['«18+» - запрещено для детей', '«6+» - для детей старше 6 лет', '«12+» - для детей старше 12 лет', '«16+» - для детей старше 16 лет', '«0+» - для любой зрительской аудитории'], ['0+', '12+', '16+', '18+', '6+'])\n",
    "    plt.show()"
   ]
  },
  {
   "cell_type": "markdown",
   "metadata": {},
   "source": [
    " <div class=\"alert alert-block alert-danger\">\n",
    "<h2> Комментарий ревьюера 🤔<a class=\"tocSkip\"></h2>  \n",
    "   <s>\n",
    "Поскольку описания по оси Х очень длинные, лучше использовать горизонтальные диаграммы (barh)."
   ]
  },
  {
   "cell_type": "markdown",
   "metadata": {},
   "source": [
    "<div class=\"alert alert-success\">\n",
    "<h2> Комментарий ревьюера 😊 v_2 <a class=\"tocSkip\"> </h2>\n",
    "\n",
    "Так лучше)"
   ]
  },
  {
   "cell_type": "markdown",
   "metadata": {},
   "source": [
    "<div class=\"alert alert-warning\">\n",
    "<h2> Комментарий ревьюера 🤓<a class=\"tocSkip\"> </h2>\n",
    "        \n",
    "Можно построить боксплоты по каждой категории, либо сделать график по сводной таблице, где  будет добавлен раздел колонок с годом выпуска. И отобразить каждую категорию линейными графиками по годам)"
   ]
  },
  {
   "cell_type": "markdown",
   "metadata": {},
   "source": [
    "Из графиков видим, что картина меняется от года к году. Однако, фильмы 0+ всегда собирают меньше всего. Возможно, таких фильмов с государственной поддержкой снимают не много и они теряются на общем фоне. Что ещё можно сказать по этим данным:"
   ]
  },
  {
   "cell_type": "markdown",
   "metadata": {},
   "source": [
    "- 2015: единственный год, когда наибольшие кассовые сборы показали фильмы 12+, затем идут фильмы категории 16+ и 6+.\n",
    "- 2016: фильмы категории 16+ на первом месте по кассовым сборам (далее первенство будет сохраняться), затем идут фильмы 12+ и 6+\n",
    "- 2017: фильмы категории 12+ на предпоследнем месте.\n",
    "- 2018: фильмы 12+ заняли второе место, а третье место досталось фильмам категории 6+.\n",
    "- 2019: фильмы категорий 6+/12+/16+ собрали почти одинаковое количество денег в прокате, ненамного отстают от них фильмы 18+. \n",
    "В целом, можно утверждать, что есть закономерность между возрастной категорией и кассовыми сборами. Про фильмы 0+ уже рассказали выше. Также фильмы категории 18+ почти всегда приносят меньше сборов, чем фильмы других категорий (за исключением 0+). Можно предположить, что аудитория этих фильмов меньше. Кроме того, фильмы категорий до 18+ часто можно назвать \"семейным кино\", то есть родители приходят на фильмы вместе с дктьми, что увеличивает кассовые сборы."
   ]
  },
  {
   "cell_type": "markdown",
   "metadata": {},
   "source": [
    "<div class=\"alert alert-warning\">\n",
    "<h2> Комментарий ревьюера 🤓<a class=\"tocSkip\"> </h2>\n",
    "\n",
    "Общие продажи - не самая лучшая метрика для поиска наиболее прибыльной категории. Мы можем найти возрастную категорию, где фильмы стабильно приносят высокий доход - для этого стоит рассмотреть средние или медианные продажи."
   ]
  },
  {
   "cell_type": "markdown",
   "metadata": {},
   "source": [
    "<div class=\"alert alert-success\">\n",
    "<h2> Комментарий ревьюера 😊 v_2 <a class=\"tocSkip\"> </h2>\n",
    "\n",
    "Хорошая работа по исследовательскому анализу)"
   ]
  },
  {
   "cell_type": "markdown",
   "metadata": {
    "id": "l_Kg6Ku4gFya"
   },
   "source": [
    "### Шаг 4. Исследование фильмов, которые получили государственную поддержку"
   ]
  },
  {
   "cell_type": "markdown",
   "metadata": {},
   "source": [
    "Разделим весь датафрейм на фильмы с гос.поддержкой и без неё. "
   ]
  },
  {
   "cell_type": "code",
   "execution_count": 53,
   "metadata": {},
   "outputs": [
    {
     "data": {
      "text/html": [
       "<div>\n",
       "<style scoped>\n",
       "    .dataframe tbody tr th:only-of-type {\n",
       "        vertical-align: middle;\n",
       "    }\n",
       "\n",
       "    .dataframe tbody tr th {\n",
       "        vertical-align: top;\n",
       "    }\n",
       "\n",
       "    .dataframe thead th {\n",
       "        text-align: right;\n",
       "    }\n",
       "</style>\n",
       "<table border=\"1\" class=\"dataframe\">\n",
       "  <thead>\n",
       "    <tr style=\"text-align: right;\">\n",
       "      <th></th>\n",
       "      <th>title</th>\n",
       "      <th>pu_number</th>\n",
       "      <th>show_start_date</th>\n",
       "      <th>type</th>\n",
       "      <th>film_studio</th>\n",
       "      <th>production_country</th>\n",
       "      <th>director</th>\n",
       "      <th>producer</th>\n",
       "      <th>age_restriction</th>\n",
       "      <th>refundable_support</th>\n",
       "      <th>nonrefundable_support</th>\n",
       "      <th>budget</th>\n",
       "      <th>financing_source</th>\n",
       "      <th>ratings</th>\n",
       "      <th>genres</th>\n",
       "      <th>box_office</th>\n",
       "      <th>year</th>\n",
       "      <th>first_director</th>\n",
       "      <th>first_genre</th>\n",
       "      <th>gov_support</th>\n",
       "    </tr>\n",
       "  </thead>\n",
       "  <tbody>\n",
       "    <tr>\n",
       "      <th>1281</th>\n",
       "      <td>Пока еще жива</td>\n",
       "      <td>111005313</td>\n",
       "      <td>2013-10-11 12:00:00+00:00</td>\n",
       "      <td>Художественный</td>\n",
       "      <td>АНО содействия развитию кинематографии \"Ангел-...</td>\n",
       "      <td>Россия</td>\n",
       "      <td>А.Атанесян</td>\n",
       "      <td>А.Атанесян, М.Бабаханов, Р.Бутко</td>\n",
       "      <td>«16+» - для детей старше 16 лет</td>\n",
       "      <td>0.0</td>\n",
       "      <td>26500000.0</td>\n",
       "      <td>79411900.0</td>\n",
       "      <td>Министерство культуры</td>\n",
       "      <td>8.1</td>\n",
       "      <td>драма,мелодрама</td>\n",
       "      <td>365353.6</td>\n",
       "      <td>2013</td>\n",
       "      <td>А.Атанесян</td>\n",
       "      <td>драма</td>\n",
       "      <td>0.333703</td>\n",
       "    </tr>\n",
       "    <tr>\n",
       "      <th>1448</th>\n",
       "      <td>Бесславные придурки</td>\n",
       "      <td>111003314</td>\n",
       "      <td>2014-03-28 12:00:00+00:00</td>\n",
       "      <td>Художественный</td>\n",
       "      <td>ООО \"Компания \"АТК-Студио\"</td>\n",
       "      <td>Россия</td>\n",
       "      <td>А.Якимчук</td>\n",
       "      <td>А.Тютрюмов</td>\n",
       "      <td>«12+» - для детей старше 12 лет</td>\n",
       "      <td>0.0</td>\n",
       "      <td>26000000.0</td>\n",
       "      <td>37142857.0</td>\n",
       "      <td>Министерство культуры</td>\n",
       "      <td>NaN</td>\n",
       "      <td>неизвестно</td>\n",
       "      <td>28140.0</td>\n",
       "      <td>2014</td>\n",
       "      <td>А.Якимчук</td>\n",
       "      <td>неизвестно</td>\n",
       "      <td>0.700000</td>\n",
       "    </tr>\n",
       "    <tr>\n",
       "      <th>1498</th>\n",
       "      <td>Невидимки</td>\n",
       "      <td>111004213</td>\n",
       "      <td>2013-09-10 12:00:00+00:00</td>\n",
       "      <td>Художественный</td>\n",
       "      <td>ООО \"Компания \"РЕАЛ-ДАКОТА\"</td>\n",
       "      <td>Россия</td>\n",
       "      <td>Р.Давлетьяров, С.Комаров</td>\n",
       "      <td>Р.Давлетьяров, А.Котелевский, А.Олейников</td>\n",
       "      <td>«12+» - для детей старше 12 лет</td>\n",
       "      <td>0.0</td>\n",
       "      <td>107847945.0</td>\n",
       "      <td>176023490.0</td>\n",
       "      <td>Фонд кино</td>\n",
       "      <td>5.3</td>\n",
       "      <td>комедия,фантастика</td>\n",
       "      <td>19957031.5</td>\n",
       "      <td>2013</td>\n",
       "      <td>Р.Давлетьяров</td>\n",
       "      <td>комедия</td>\n",
       "      <td>0.612691</td>\n",
       "    </tr>\n",
       "  </tbody>\n",
       "</table>\n",
       "</div>"
      ],
      "text/plain": [
       "                    title  pu_number           show_start_date  \\\n",
       "1281        Пока еще жива  111005313 2013-10-11 12:00:00+00:00   \n",
       "1448  Бесславные придурки  111003314 2014-03-28 12:00:00+00:00   \n",
       "1498            Невидимки  111004213 2013-09-10 12:00:00+00:00   \n",
       "\n",
       "                type                                        film_studio  \\\n",
       "1281  Художественный  АНО содействия развитию кинематографии \"Ангел-...   \n",
       "1448  Художественный                         ООО \"Компания \"АТК-Студио\"   \n",
       "1498  Художественный                        ООО \"Компания \"РЕАЛ-ДАКОТА\"   \n",
       "\n",
       "     production_country                  director  \\\n",
       "1281             Россия                А.Атанесян   \n",
       "1448             Россия                 А.Якимчук   \n",
       "1498             Россия  Р.Давлетьяров, С.Комаров   \n",
       "\n",
       "                                       producer  \\\n",
       "1281           А.Атанесян, М.Бабаханов, Р.Бутко   \n",
       "1448                                 А.Тютрюмов   \n",
       "1498  Р.Давлетьяров, А.Котелевский, А.Олейников   \n",
       "\n",
       "                      age_restriction  refundable_support  \\\n",
       "1281  «16+» - для детей старше 16 лет                 0.0   \n",
       "1448  «12+» - для детей старше 12 лет                 0.0   \n",
       "1498  «12+» - для детей старше 12 лет                 0.0   \n",
       "\n",
       "      nonrefundable_support       budget       financing_source  ratings  \\\n",
       "1281             26500000.0   79411900.0  Министерство культуры      8.1   \n",
       "1448             26000000.0   37142857.0  Министерство культуры      NaN   \n",
       "1498            107847945.0  176023490.0              Фонд кино      5.3   \n",
       "\n",
       "                  genres  box_office  year first_director first_genre  \\\n",
       "1281     драма,мелодрама    365353.6  2013     А.Атанесян       драма   \n",
       "1448          неизвестно     28140.0  2014      А.Якимчук  неизвестно   \n",
       "1498  комедия,фантастика  19957031.5  2013  Р.Давлетьяров     комедия   \n",
       "\n",
       "      gov_support  \n",
       "1281     0.333703  \n",
       "1448     0.700000  \n",
       "1498     0.612691  "
      ]
     },
     "execution_count": 53,
     "metadata": {},
     "output_type": "execute_result"
    }
   ],
   "source": [
    "gov_films = data.loc[data['financing_source'].isna() == False].copy()\n",
    "gov_films.head(3)"
   ]
  },
  {
   "cell_type": "code",
   "execution_count": 54,
   "metadata": {
    "id": "W9QKpjUdgFyb",
    "scrolled": true
   },
   "outputs": [
    {
     "data": {
      "text/html": [
       "<div>\n",
       "<style scoped>\n",
       "    .dataframe tbody tr th:only-of-type {\n",
       "        vertical-align: middle;\n",
       "    }\n",
       "\n",
       "    .dataframe tbody tr th {\n",
       "        vertical-align: top;\n",
       "    }\n",
       "\n",
       "    .dataframe thead th {\n",
       "        text-align: right;\n",
       "    }\n",
       "</style>\n",
       "<table border=\"1\" class=\"dataframe\">\n",
       "  <thead>\n",
       "    <tr style=\"text-align: right;\">\n",
       "      <th></th>\n",
       "      <th>title</th>\n",
       "      <th>pu_number</th>\n",
       "      <th>show_start_date</th>\n",
       "      <th>type</th>\n",
       "      <th>film_studio</th>\n",
       "      <th>production_country</th>\n",
       "      <th>director</th>\n",
       "      <th>producer</th>\n",
       "      <th>age_restriction</th>\n",
       "      <th>refundable_support</th>\n",
       "      <th>nonrefundable_support</th>\n",
       "      <th>budget</th>\n",
       "      <th>financing_source</th>\n",
       "      <th>ratings</th>\n",
       "      <th>genres</th>\n",
       "      <th>box_office</th>\n",
       "      <th>year</th>\n",
       "      <th>first_director</th>\n",
       "      <th>first_genre</th>\n",
       "      <th>gov_support</th>\n",
       "    </tr>\n",
       "  </thead>\n",
       "  <tbody>\n",
       "    <tr>\n",
       "      <th>0</th>\n",
       "      <td>Открытый простор</td>\n",
       "      <td>221048915</td>\n",
       "      <td>2015-11-27 12:00:00+00:00</td>\n",
       "      <td>Художественный</td>\n",
       "      <td>Тачстоун Пикчерз, Кобальт Пикчерз, Бикон Пикче...</td>\n",
       "      <td>США</td>\n",
       "      <td>Кевин Костнер</td>\n",
       "      <td>Дэвид Валдес, Кевин Костнер, Джейк Эбертс</td>\n",
       "      <td>«18+» - запрещено для детей</td>\n",
       "      <td>NaN</td>\n",
       "      <td>NaN</td>\n",
       "      <td>NaN</td>\n",
       "      <td>NaN</td>\n",
       "      <td>7.2</td>\n",
       "      <td>боевик,драма,мелодрама</td>\n",
       "      <td>NaN</td>\n",
       "      <td>2015</td>\n",
       "      <td>Кевин Костнер</td>\n",
       "      <td>боевик</td>\n",
       "      <td>NaN</td>\n",
       "    </tr>\n",
       "    <tr>\n",
       "      <th>1</th>\n",
       "      <td>Особо важное задание</td>\n",
       "      <td>111013716</td>\n",
       "      <td>2016-09-13 12:00:00+00:00</td>\n",
       "      <td>Художественный</td>\n",
       "      <td>Киностудия \"Мосфильм\"</td>\n",
       "      <td>СССР</td>\n",
       "      <td>Е.Матвеев</td>\n",
       "      <td>неизвестно</td>\n",
       "      <td>«6+» - для детей старше 6 лет</td>\n",
       "      <td>NaN</td>\n",
       "      <td>NaN</td>\n",
       "      <td>NaN</td>\n",
       "      <td>NaN</td>\n",
       "      <td>6.6</td>\n",
       "      <td>драма,военный</td>\n",
       "      <td>NaN</td>\n",
       "      <td>2016</td>\n",
       "      <td>Е.Матвеев</td>\n",
       "      <td>драма</td>\n",
       "      <td>NaN</td>\n",
       "    </tr>\n",
       "    <tr>\n",
       "      <th>2</th>\n",
       "      <td>Особо опасен</td>\n",
       "      <td>221038416</td>\n",
       "      <td>2016-10-10 12:00:00+00:00</td>\n",
       "      <td>Художественный</td>\n",
       "      <td>Юниверсал Пикчерз, Кикстарт Продакшнз, Марк Пл...</td>\n",
       "      <td>США</td>\n",
       "      <td>Тимур Бекмамбетов</td>\n",
       "      <td>Джим Лемли, Джейсон Нетер, Марк Е.Платт, Яйн Смит</td>\n",
       "      <td>«18+» - запрещено для детей</td>\n",
       "      <td>NaN</td>\n",
       "      <td>NaN</td>\n",
       "      <td>NaN</td>\n",
       "      <td>NaN</td>\n",
       "      <td>6.8</td>\n",
       "      <td>фантастика,боевик,триллер</td>\n",
       "      <td>NaN</td>\n",
       "      <td>2016</td>\n",
       "      <td>Тимур Бекмамбетов</td>\n",
       "      <td>фантастика</td>\n",
       "      <td>NaN</td>\n",
       "    </tr>\n",
       "  </tbody>\n",
       "</table>\n",
       "</div>"
      ],
      "text/plain": [
       "                  title  pu_number           show_start_date            type  \\\n",
       "0      Открытый простор  221048915 2015-11-27 12:00:00+00:00  Художественный   \n",
       "1  Особо важное задание  111013716 2016-09-13 12:00:00+00:00  Художественный   \n",
       "2          Особо опасен  221038416 2016-10-10 12:00:00+00:00  Художественный   \n",
       "\n",
       "                                         film_studio production_country  \\\n",
       "0  Тачстоун Пикчерз, Кобальт Пикчерз, Бикон Пикче...                США   \n",
       "1                              Киностудия \"Мосфильм\"               СССР   \n",
       "2  Юниверсал Пикчерз, Кикстарт Продакшнз, Марк Пл...                США   \n",
       "\n",
       "            director                                           producer  \\\n",
       "0      Кевин Костнер          Дэвид Валдес, Кевин Костнер, Джейк Эбертс   \n",
       "1          Е.Матвеев                                         неизвестно   \n",
       "2  Тимур Бекмамбетов  Джим Лемли, Джейсон Нетер, Марк Е.Платт, Яйн Смит   \n",
       "\n",
       "                 age_restriction  refundable_support  nonrefundable_support  \\\n",
       "0    «18+» - запрещено для детей                 NaN                    NaN   \n",
       "1  «6+» - для детей старше 6 лет                 NaN                    NaN   \n",
       "2    «18+» - запрещено для детей                 NaN                    NaN   \n",
       "\n",
       "   budget financing_source  ratings                     genres  box_office  \\\n",
       "0     NaN              NaN      7.2     боевик,драма,мелодрама         NaN   \n",
       "1     NaN              NaN      6.6              драма,военный         NaN   \n",
       "2     NaN              NaN      6.8  фантастика,боевик,триллер         NaN   \n",
       "\n",
       "   year     first_director first_genre  gov_support  \n",
       "0  2015      Кевин Костнер      боевик          NaN  \n",
       "1  2016          Е.Матвеев       драма          NaN  \n",
       "2  2016  Тимур Бекмамбетов  фантастика          NaN  "
      ]
     },
     "execution_count": 54,
     "metadata": {},
     "output_type": "execute_result"
    }
   ],
   "source": [
    "not_gov_films = data.loc[data['financing_source'].isna()]\n",
    "not_gov_films.head(3)"
   ]
  },
  {
   "cell_type": "markdown",
   "metadata": {},
   "source": [
    "Посмотрим сколько денег выделяется на фильмы с гос.поддержкой и как хорошо они окупаются. "
   ]
  },
  {
   "cell_type": "code",
   "execution_count": 55,
   "metadata": {},
   "outputs": [
    {
     "data": {
      "text/plain": [
       "count    3.320000e+02\n",
       "mean     6.084545e+07\n",
       "std      7.275546e+07\n",
       "min      3.000000e+06\n",
       "25%      2.533375e+07\n",
       "50%      3.500000e+07\n",
       "75%      6.000000e+07\n",
       "max      5.000000e+08\n",
       "Name: total_support, dtype: float64"
      ]
     },
     "execution_count": 55,
     "metadata": {},
     "output_type": "execute_result"
    }
   ],
   "source": [
    "gov_films['total_support'] = gov_films['refundable_support'] + gov_films['nonrefundable_support']\n",
    "gov_films['total_support'].describe()"
   ]
  },
  {
   "cell_type": "code",
   "execution_count": 56,
   "metadata": {},
   "outputs": [
    {
     "name": "stdout",
     "output_type": "stream",
     "text": [
      "Всего выделено гос.поддержки за всё время: 20200688312.0\n",
      "Кассовые сборы фильмов с господдержкой за всё время: 42113509574.78\n",
      "Oкупаемость (исходя из общего бюджета фильмов): 0.9969991579976544\n"
     ]
    }
   ],
   "source": [
    "print('Всего выделено гос.поддержки за всё время:', gov_films['total_support'].sum())\n",
    "print('Кассовые сборы фильмов с господдержкой за всё время:', gov_films['box_office'].sum())\n",
    "print('Oкупаемость (исходя из общего бюджета фильмов):', gov_films['box_office'].sum() / gov_films['budget'].sum())"
   ]
  },
  {
   "cell_type": "markdown",
   "metadata": {},
   "source": [
    "В целом фильмы окупились, но ничего не заработали (если точнее, то ушли в минус на тысячные процента). Посмотрим как меняется картина от года к году?"
   ]
  },
  {
   "cell_type": "code",
   "execution_count": 57,
   "metadata": {},
   "outputs": [
    {
     "data": {
      "text/html": [
       "<div>\n",
       "<style scoped>\n",
       "    .dataframe tbody tr th:only-of-type {\n",
       "        vertical-align: middle;\n",
       "    }\n",
       "\n",
       "    .dataframe tbody tr th {\n",
       "        vertical-align: top;\n",
       "    }\n",
       "\n",
       "    .dataframe thead th {\n",
       "        text-align: right;\n",
       "    }\n",
       "</style>\n",
       "<table border=\"1\" class=\"dataframe\">\n",
       "  <thead>\n",
       "    <tr style=\"text-align: right;\">\n",
       "      <th></th>\n",
       "      <th>count</th>\n",
       "      <th>sum</th>\n",
       "      <th>mean</th>\n",
       "    </tr>\n",
       "    <tr>\n",
       "      <th>year</th>\n",
       "      <th></th>\n",
       "      <th></th>\n",
       "      <th></th>\n",
       "    </tr>\n",
       "  </thead>\n",
       "  <tbody>\n",
       "    <tr>\n",
       "      <th>2013</th>\n",
       "      <td>2</td>\n",
       "      <td>1.343479e+08</td>\n",
       "      <td>6.717397e+07</td>\n",
       "    </tr>\n",
       "    <tr>\n",
       "      <th>2014</th>\n",
       "      <td>16</td>\n",
       "      <td>5.720023e+08</td>\n",
       "      <td>3.575014e+07</td>\n",
       "    </tr>\n",
       "    <tr>\n",
       "      <th>2015</th>\n",
       "      <td>86</td>\n",
       "      <td>3.656241e+09</td>\n",
       "      <td>4.251444e+07</td>\n",
       "    </tr>\n",
       "    <tr>\n",
       "      <th>2016</th>\n",
       "      <td>61</td>\n",
       "      <td>4.303155e+09</td>\n",
       "      <td>7.054353e+07</td>\n",
       "    </tr>\n",
       "    <tr>\n",
       "      <th>2017</th>\n",
       "      <td>41</td>\n",
       "      <td>3.183972e+09</td>\n",
       "      <td>7.765785e+07</td>\n",
       "    </tr>\n",
       "    <tr>\n",
       "      <th>2018</th>\n",
       "      <td>56</td>\n",
       "      <td>3.446969e+09</td>\n",
       "      <td>6.155303e+07</td>\n",
       "    </tr>\n",
       "    <tr>\n",
       "      <th>2019</th>\n",
       "      <td>70</td>\n",
       "      <td>4.904000e+09</td>\n",
       "      <td>7.005714e+07</td>\n",
       "    </tr>\n",
       "  </tbody>\n",
       "</table>\n",
       "</div>"
      ],
      "text/plain": [
       "      count           sum          mean\n",
       "year                                   \n",
       "2013      2  1.343479e+08  6.717397e+07\n",
       "2014     16  5.720023e+08  3.575014e+07\n",
       "2015     86  3.656241e+09  4.251444e+07\n",
       "2016     61  4.303155e+09  7.054353e+07\n",
       "2017     41  3.183972e+09  7.765785e+07\n",
       "2018     56  3.446969e+09  6.155303e+07\n",
       "2019     70  4.904000e+09  7.005714e+07"
      ]
     },
     "execution_count": 57,
     "metadata": {},
     "output_type": "execute_result"
    }
   ],
   "source": [
    "gov_films.groupby('year')['total_support'].agg(['count', 'sum', 'mean'])"
   ]
  },
  {
   "cell_type": "code",
   "execution_count": 58,
   "metadata": {
    "scrolled": true
   },
   "outputs": [
    {
     "data": {
      "image/png": "[encoded data removed]",
      "text/plain": [
       "<Figure size 432x288 with 1 Axes>"
      ]
     },
     "metadata": {
      "needs_background": "light"
     },
     "output_type": "display_data"
    }
   ],
   "source": [
    "gov_films.groupby('year')['total_support'].agg('sum').plot()\n",
    "pass"
   ]
  },
  {
   "cell_type": "code",
   "execution_count": 59,
   "metadata": {},
   "outputs": [
    {
     "data": {
      "image/png": "[encoded data removed]",
      "text/plain": [
       "<Figure size 432x288 with 1 Axes>"
      ]
     },
     "metadata": {
      "needs_background": "light"
     },
     "output_type": "display_data"
    }
   ],
   "source": [
    "gov_films.groupby('year')['total_support'].agg('mean').plot()\n",
    "pass"
   ]
  },
  {
   "cell_type": "code",
   "execution_count": 60,
   "metadata": {},
   "outputs": [
    {
     "data": {
      "image/png": "[encoded data removed]",
      "text/plain": [
       "<Figure size 432x288 with 1 Axes>"
      ]
     },
     "metadata": {
      "needs_background": "light"
     },
     "output_type": "display_data"
    }
   ],
   "source": [
    "gov_films.groupby('year')['total_support'].agg('count').plot()\n",
    "pass"
   ]
  },
  {
   "cell_type": "markdown",
   "metadata": {},
   "source": [
    "<div class=\"alert alert-block alert-danger\">\n",
    "<h2> Комментарий ревьюера 🤔<a class=\"tocSkip\"></h2><s>\n",
    "Сложно изучить показатели кол-ва и среднего, давай отобразим каждый отдельно)"
   ]
  },
  {
   "cell_type": "markdown",
   "metadata": {},
   "source": [
    "<div class=\"alert alert-success\">\n",
    "<h2> Комментарий ревьюера 😊 v_3 <a class=\"tocSkip\"> </h2>\n",
    "\n",
    "👍"
   ]
  },
  {
   "cell_type": "markdown",
   "metadata": {},
   "source": [
    "Общая сумма гос.поддержки в целом растёт, хотя в 2017 году немного снизилась. Средняя сумма помощи находится в рамках от 60 до 77 млн рублей. Она была меньше только в 2014 и 2015 годах. Количество фильмов также увеличивается, за исключением 2017 года, когда был резкий спад. Теперь посмотрим как соотносится рейтинг фильмов с гос.поддержкой и без неё. "
   ]
  },
  {
   "cell_type": "markdown",
   "metadata": {},
   "source": [
    "Посчитаем, как распределились бюджеты и кассовые сборы по годам и их окупаемость: "
   ]
  },
  {
   "cell_type": "code",
   "execution_count": 61,
   "metadata": {},
   "outputs": [
    {
     "name": "stderr",
     "output_type": "stream",
     "text": [
      "/tmp/ipykernel_93/215966988.py:1: FutureWarning: Indexing with multiple keys (implicitly converted to a tuple of keys) will be deprecated, use a list instead.\n",
      "  support_pivot = gov_films.groupby('year')['box_office', 'budget'].agg(['count', 'sum', 'mean'])\n"
     ]
    },
    {
     "data": {
      "text/html": [
       "<div>\n",
       "<style scoped>\n",
       "    .dataframe tbody tr th:only-of-type {\n",
       "        vertical-align: middle;\n",
       "    }\n",
       "\n",
       "    .dataframe tbody tr th {\n",
       "        vertical-align: top;\n",
       "    }\n",
       "\n",
       "    .dataframe thead tr th {\n",
       "        text-align: left;\n",
       "    }\n",
       "\n",
       "    .dataframe thead tr:last-of-type th {\n",
       "        text-align: right;\n",
       "    }\n",
       "</style>\n",
       "<table border=\"1\" class=\"dataframe\">\n",
       "  <thead>\n",
       "    <tr>\n",
       "      <th></th>\n",
       "      <th colspan=\"3\" halign=\"left\">box_office</th>\n",
       "      <th colspan=\"3\" halign=\"left\">budget</th>\n",
       "      <th>result</th>\n",
       "    </tr>\n",
       "    <tr>\n",
       "      <th></th>\n",
       "      <th>count</th>\n",
       "      <th>sum</th>\n",
       "      <th>mean</th>\n",
       "      <th>count</th>\n",
       "      <th>sum</th>\n",
       "      <th>mean</th>\n",
       "      <th>sum</th>\n",
       "    </tr>\n",
       "    <tr>\n",
       "      <th>year</th>\n",
       "      <th></th>\n",
       "      <th></th>\n",
       "      <th></th>\n",
       "      <th></th>\n",
       "      <th></th>\n",
       "      <th></th>\n",
       "      <th></th>\n",
       "    </tr>\n",
       "  </thead>\n",
       "  <tbody>\n",
       "    <tr>\n",
       "      <th>2013</th>\n",
       "      <td>2</td>\n",
       "      <td>2.032239e+07</td>\n",
       "      <td>1.016119e+07</td>\n",
       "      <td>2</td>\n",
       "      <td>2.554354e+08</td>\n",
       "      <td>1.277177e+08</td>\n",
       "      <td>-2.351130e+08</td>\n",
       "    </tr>\n",
       "    <tr>\n",
       "      <th>2014</th>\n",
       "      <td>16</td>\n",
       "      <td>1.017422e+09</td>\n",
       "      <td>6.358889e+07</td>\n",
       "      <td>16</td>\n",
       "      <td>1.279485e+09</td>\n",
       "      <td>7.996780e+07</td>\n",
       "      <td>-2.620626e+08</td>\n",
       "    </tr>\n",
       "    <tr>\n",
       "      <th>2015</th>\n",
       "      <td>85</td>\n",
       "      <td>5.785285e+09</td>\n",
       "      <td>6.806218e+07</td>\n",
       "      <td>86</td>\n",
       "      <td>7.309669e+09</td>\n",
       "      <td>8.499615e+07</td>\n",
       "      <td>-1.524384e+09</td>\n",
       "    </tr>\n",
       "    <tr>\n",
       "      <th>2016</th>\n",
       "      <td>60</td>\n",
       "      <td>6.081708e+09</td>\n",
       "      <td>1.013618e+08</td>\n",
       "      <td>61</td>\n",
       "      <td>7.228943e+09</td>\n",
       "      <td>1.185073e+08</td>\n",
       "      <td>-1.147235e+09</td>\n",
       "    </tr>\n",
       "    <tr>\n",
       "      <th>2017</th>\n",
       "      <td>39</td>\n",
       "      <td>1.086508e+10</td>\n",
       "      <td>2.785917e+08</td>\n",
       "      <td>41</td>\n",
       "      <td>6.972173e+09</td>\n",
       "      <td>1.700530e+08</td>\n",
       "      <td>3.892903e+09</td>\n",
       "    </tr>\n",
       "    <tr>\n",
       "      <th>2018</th>\n",
       "      <td>56</td>\n",
       "      <td>9.934069e+09</td>\n",
       "      <td>1.773941e+08</td>\n",
       "      <td>56</td>\n",
       "      <td>6.651695e+09</td>\n",
       "      <td>1.187803e+08</td>\n",
       "      <td>3.282374e+09</td>\n",
       "    </tr>\n",
       "    <tr>\n",
       "      <th>2019</th>\n",
       "      <td>60</td>\n",
       "      <td>8.409627e+09</td>\n",
       "      <td>1.401605e+08</td>\n",
       "      <td>70</td>\n",
       "      <td>1.254287e+10</td>\n",
       "      <td>1.791838e+08</td>\n",
       "      <td>-4.133239e+09</td>\n",
       "    </tr>\n",
       "  </tbody>\n",
       "</table>\n",
       "</div>"
      ],
      "text/plain": [
       "     box_office                             budget                \\\n",
       "          count           sum          mean  count           sum   \n",
       "year                                                               \n",
       "2013          2  2.032239e+07  1.016119e+07      2  2.554354e+08   \n",
       "2014         16  1.017422e+09  6.358889e+07     16  1.279485e+09   \n",
       "2015         85  5.785285e+09  6.806218e+07     86  7.309669e+09   \n",
       "2016         60  6.081708e+09  1.013618e+08     61  7.228943e+09   \n",
       "2017         39  1.086508e+10  2.785917e+08     41  6.972173e+09   \n",
       "2018         56  9.934069e+09  1.773941e+08     56  6.651695e+09   \n",
       "2019         60  8.409627e+09  1.401605e+08     70  1.254287e+10   \n",
       "\n",
       "                          result  \n",
       "              mean           sum  \n",
       "year                              \n",
       "2013  1.277177e+08 -2.351130e+08  \n",
       "2014  7.996780e+07 -2.620626e+08  \n",
       "2015  8.499615e+07 -1.524384e+09  \n",
       "2016  1.185073e+08 -1.147235e+09  \n",
       "2017  1.700530e+08  3.892903e+09  \n",
       "2018  1.187803e+08  3.282374e+09  \n",
       "2019  1.791838e+08 -4.133239e+09  "
      ]
     },
     "execution_count": 61,
     "metadata": {},
     "output_type": "execute_result"
    }
   ],
   "source": [
    "support_pivot = gov_films.groupby('year')['box_office', 'budget'].agg(['count', 'sum', 'mean'])\n",
    "support_pivot['result','sum'] = support_pivot['box_office','sum'] - support_pivot['budget','sum']\n",
    "support_pivot"
   ]
  },
  {
   "cell_type": "code",
   "execution_count": 62,
   "metadata": {},
   "outputs": [
    {
     "data": {
      "text/plain": [
       "Text(0.5, 1.0, 'Box office minus film budget')"
      ]
     },
     "execution_count": 62,
     "metadata": {},
     "output_type": "execute_result"
    },
    {
     "data": {
      "image/png": "[encoded data removed]",
      "text/plain": [
       "<Figure size 432x288 with 1 Axes>"
      ]
     },
     "metadata": {
      "needs_background": "light"
     },
     "output_type": "display_data"
    }
   ],
   "source": [
    "support_pivot['result','sum'].plot(kind='bar', grid=True)\n",
    "plt.title('Box office minus film budget')"
   ]
  },
  {
   "cell_type": "markdown",
   "metadata": {},
   "source": [
    "Из графика видно, что кассовые сборы в сумме были выше суммарных бюджетов только в 2017-2018 годах. "
   ]
  },
  {
   "cell_type": "code",
   "execution_count": 63,
   "metadata": {},
   "outputs": [
    {
     "data": {
      "text/plain": [
       "count    314.000000\n",
       "mean       6.000637\n",
       "std        1.123948\n",
       "min        1.000000\n",
       "25%        5.300000\n",
       "50%        6.200000\n",
       "75%        6.700000\n",
       "max        8.500000\n",
       "Name: ratings, dtype: float64"
      ]
     },
     "execution_count": 63,
     "metadata": {},
     "output_type": "execute_result"
    }
   ],
   "source": [
    "gov_films['ratings'].describe()"
   ]
  },
  {
   "cell_type": "code",
   "execution_count": 64,
   "metadata": {},
   "outputs": [
    {
     "data": {
      "text/plain": [
       "<AxesSubplot:>"
      ]
     },
     "execution_count": 64,
     "metadata": {},
     "output_type": "execute_result"
    },
    {
     "data": {
      "image/png": "[encoded data removed]",
      "text/plain": [
       "<Figure size 432x288 with 1 Axes>"
      ]
     },
     "metadata": {
      "needs_background": "light"
     },
     "output_type": "display_data"
    }
   ],
   "source": [
    "gov_films['ratings'].hist(range=(0, 10))"
   ]
  },
  {
   "cell_type": "code",
   "execution_count": 65,
   "metadata": {},
   "outputs": [
    {
     "data": {
      "text/plain": [
       "count    6176.000000\n",
       "mean        6.503578\n",
       "std         1.095038\n",
       "min         1.100000\n",
       "25%         5.900000\n",
       "50%         6.600000\n",
       "75%         7.300000\n",
       "max         9.200000\n",
       "Name: ratings, dtype: float64"
      ]
     },
     "execution_count": 65,
     "metadata": {},
     "output_type": "execute_result"
    }
   ],
   "source": [
    "not_gov_films['ratings'].describe()"
   ]
  },
  {
   "cell_type": "code",
   "execution_count": 66,
   "metadata": {},
   "outputs": [
    {
     "data": {
      "text/plain": [
       "<AxesSubplot:>"
      ]
     },
     "execution_count": 66,
     "metadata": {},
     "output_type": "execute_result"
    },
    {
     "data": {
      "image/png": "[encoded data removed]",
      "text/plain": [
       "<Figure size 432x288 with 1 Axes>"
      ]
     },
     "metadata": {
      "needs_background": "light"
     },
     "output_type": "display_data"
    }
   ],
   "source": [
    "not_gov_films['ratings'].hist(range=(0, 10))"
   ]
  },
  {
   "cell_type": "markdown",
   "metadata": {},
   "source": [
    "Как средняя оценка фильмов, так и медианное значение меньше у фильмов с гос.поддержкой. Кроме того, максимальное значение рейтинга у фильмов без гос.поддержки ниже (8.5 против 9.2). Это может свидетельствовать о том, что фильмы с господдержкой в целом чуть меньше нравятся зрителям. Это же видно и из графиков, рейтинг фильмов без гос.поддержки смещён правее, ближе к 10. Однако, медианное значение у обоих групп выше 6/10. То есть зрители оценивают фильмы хорошо."
   ]
  },
  {
   "cell_type": "markdown",
   "metadata": {},
   "source": [
    "<div class=\"alert alert-success\">\n",
    "<h2> Комментарий ревьюера 😊<a class=\"tocSkip\"> </h2>\n",
    "\n",
    "Отлично)"
   ]
  },
  {
   "cell_type": "markdown",
   "metadata": {},
   "source": [
    "Посмотрим, для каких возрастных категорий снимают фильмы с гос.поддержкой и без неё:"
   ]
  },
  {
   "cell_type": "code",
   "execution_count": 67,
   "metadata": {},
   "outputs": [
    {
     "data": {
      "text/plain": [
       "Text(0.5, 1.0, 'Age categories')"
      ]
     },
     "execution_count": 67,
     "metadata": {},
     "output_type": "execute_result"
    },
    {
     "data": {
      "image/png": "[encoded data removed]",
      "text/plain": [
       "<Figure size 288x288 with 1 Axes>"
      ]
     },
     "metadata": {},
     "output_type": "display_data"
    }
   ],
   "source": [
    "gov_films['age_restriction'].value_counts().plot(y='count', kind='pie', figsize=(4, 4))\n",
    "plt.title('Age categories')"
   ]
  },
  {
   "cell_type": "code",
   "execution_count": 68,
   "metadata": {},
   "outputs": [
    {
     "data": {
      "text/plain": [
       "Text(0.5, 1.0, 'Age categories')"
      ]
     },
     "execution_count": 68,
     "metadata": {},
     "output_type": "execute_result"
    },
    {
     "data": {
      "image/png": "[encoded data removed]",
      "text/plain": [
       "<Figure size 288x288 with 1 Axes>"
      ]
     },
     "metadata": {},
     "output_type": "display_data"
    }
   ],
   "source": [
    "not_gov_films['age_restriction'].value_counts().plot(y='count', kind='pie', figsize=(4, 4))\n",
    "plt.title('Age categories')"
   ]
  },
  {
   "cell_type": "markdown",
   "metadata": {},
   "source": [
    "Фильмов 0+ и правда снимают совсем мало. Понятно, почему в финасновом анализе выше они не так заметны. "
   ]
  },
  {
   "cell_type": "markdown",
   "metadata": {},
   "source": [
    "Посмотрим также и на распределение жанров фильмов с гос.поддержкой и без неё:"
   ]
  },
  {
   "cell_type": "code",
   "execution_count": 69,
   "metadata": {
    "scrolled": true
   },
   "outputs": [
    {
     "data": {
      "text/plain": [
       "Text(0.5, 1.0, 'Genres')"
      ]
     },
     "execution_count": 69,
     "metadata": {},
     "output_type": "execute_result"
    },
    {
     "data": {
      "image/png": "[encoded data removed]",
      "text/plain": [
       "<Figure size 504x504 with 1 Axes>"
      ]
     },
     "metadata": {},
     "output_type": "display_data"
    }
   ],
   "source": [
    "gov_films['first_genre'].value_counts().plot(y='count', kind='pie', figsize=(7, 7))\n",
    "plt.title('Genres')"
   ]
  },
  {
   "cell_type": "code",
   "execution_count": 70,
   "metadata": {},
   "outputs": [
    {
     "data": {
      "text/plain": [
       "Text(0.5, 1.0, 'Genres')"
      ]
     },
     "execution_count": 70,
     "metadata": {},
     "output_type": "execute_result"
    },
    {
     "data": {
      "image/png": "[encoded data removed]",
      "text/plain": [
       "<Figure size 504x504 with 1 Axes>"
      ]
     },
     "metadata": {},
     "output_type": "display_data"
    }
   ],
   "source": [
    "not_gov_films['first_genre'].value_counts().plot(y='count', kind='pie', figsize=(7, 7))\n",
    "plt.title('Genres')"
   ]
  },
  {
   "cell_type": "markdown",
   "metadata": {},
   "source": [
    "<div class=\"alert alert-warning\">\n",
    "<h2> Комментарий ревьюера 🤓<a class=\"tocSkip\"> </h2>\n",
    "    \n",
    " Отличный график, но более подходящим, на мой взгяд тут будет горизонтальная столбчатая диаграмма, где отобразим топ-10. Так же можно скорректировать слипшееся значения, есть несколько вариантов:\n",
    "    \n",
    "- Попробовать параметр explode, чтобы раздвинуть секторы друг от друга\n",
    "- Вынести все на [легенду](https://stackoverflow.com/questions/19852215/how-to-add-a-legend-to-matplotlib-pie-chart)  \n",
    "- Сделать выноски как [здесь](https://matplotlib.org/stable/gallery/pie_and_polar_charts/pie_and_donut_labels.html) или [здесь](https://stackoverflow.com/questions/19852215/how-to-add-a-legend-to-matplotlib-pie-chart)"
   ]
  },
  {
   "cell_type": "markdown",
   "metadata": {},
   "source": [
    "Больше всего фильмов в жанре комедия, драма, мультфильм. Интересно, каков топ режиссёров?"
   ]
  },
  {
   "cell_type": "code",
   "execution_count": 71,
   "metadata": {},
   "outputs": [
    {
     "data": {
      "text/plain": [
       "Р.Давлетьяров    5\n",
       "С.Андреасян      4\n",
       "Д.Дьяченко       4\n",
       "А.Аксененко      3\n",
       "Н.Хомерики       3\n",
       "Д.Шмидт          3\n",
       "К.Шипенко        3\n",
       "С.Мокрицкий      3\n",
       "А.Котт           3\n",
       "А.Цицилин        3\n",
       "Name: first_director, dtype: int64"
      ]
     },
     "execution_count": 71,
     "metadata": {},
     "output_type": "execute_result"
    }
   ],
   "source": [
    "gov_films['first_director'].value_counts().head(10)"
   ]
  },
  {
   "cell_type": "markdown",
   "metadata": {},
   "source": [
    "Чаще всего снимать фильмы с гос.поддержкой зовут Р.Давлетьярова, С.Андреасяна и Д.Дьяченко."
   ]
  },
  {
   "cell_type": "markdown",
   "metadata": {},
   "source": [
    "**Промежуточные выводы**"
   ]
  },
  {
   "cell_type": "markdown",
   "metadata": {},
   "source": [
    "Общее количество фильмов, снятых с гос.поддержкой и вышедших в прокат за период с 2010-2019, составляет 332.\n",
    "В среднем государство выделяло на фильм от  61 до 77 млн руб. \n",
    "Меньше всего фильмов с гос.поддержкой вышло в прокат в 2013 году (2 фильма). В 2014 году вышел уже 61 фильм, а в 2015 году вышло больше всего фильмов с гос.поддержкой за весь рассматриваемый период (86 фильмов).\n",
    "За весь рассматриваемый период было только два года, когда общие кассовые сборы превысили общий бюджет фильмов: в 2017 и 2018 годах. В остальные годы фильмы с гос.поддержкой себя не окупали. \n",
    "Что касается успешности фильмов со стороны аудитории:\n",
    "Медианное значение рейтинга по фильмам с гос.поддержкой составляет 6,2, что на 0,4 меньше рейтинга фильмов без гос.поддержки. Фильмам с гос.поддержкой не ставили никогда оценок болеее 8,5 в то время, как прочие фильмы получали оценки до 9,2. И в целом распределение оценок рейтинга фильмов без гос.поддержки смещено ближе к 10. Можно сделать вывод, что фильмы, снятые без участия государства, пользуются большей любовью у зрителей.\n",
    "Около трети фильмов снимают в категории 16+. Это касается и фильмов с гос.поддержкой, и без неё. Из особенностей – в категории 18+ снимают фильмы без гос.поддержки примерно в 2 раза чаще. Возможно, потому что на них можно меньше заработать, как мы выяснили выше. \n",
    "Жанры:\n",
    "На круговой диаграмме мы видим, половина фильмов с гос.поддержкой сняты в жанре драмы и комедии. У фильмов без поддержки со стороны государства разнообразие жанров гораздо выше (хотя количество драм и комедий также достаточно велико)."
   ]
  },
  {
   "cell_type": "markdown",
   "metadata": {},
   "source": [
    "<div class=\"alert alert-success\">\n",
    "<h2> Комментарий ревьюера 😊 v_2 <a class=\"tocSkip\"> </h2>\n",
    "\n",
    "Изучение воронки проведено на высоком уровне!) Здорово, что ты так подробно изучил и сравнил фильмы с гос.поддержкой и без."
   ]
  },
  {
   "cell_type": "markdown",
   "metadata": {},
   "source": [
    "<div class=\"alert alert-warning\">\n",
    "<h2> Комментарий ревьюера 🤓<a class=\"tocSkip\"> </h2>\n",
    "        \n",
    "Можно провести дополнительные исследования, например: \n",
    "    \n",
    "* Рассмотреть объемы выделяемых средств, какими органами они выдаются, сравнить их\n",
    "* На какие международные проекты выделялись средства, вывести топ стран участвующих в производстве\n",
    "</div>"
   ]
  },
  {
   "cell_type": "markdown",
   "metadata": {
    "id": "V2gYwMcPgFyd"
   },
   "source": [
    "### Шаг 5. Вывод по всему исследованию"
   ]
  },
  {
   "cell_type": "markdown",
   "metadata": {
    "id": "AYRg3dzXgFye"
   },
   "source": [
    "На анализ представлено два датасета: mkrf_movies.csv и mkrf_shows.csv с сайта Министерства Культуры РФ. В первом содержится полная информация о фильмах, выходивших в прокат с 2010 по 2019 годы. В том числе, номер прокатного удостоверения, название, дата начала показа, тип фильма, жанр, его режиссер и продюсер, страна и студия производства, возрастной рейтинг, финансовые показатели (объём бюджетной поддержки, её источник и вид), рейтинг с платформы Кинопоиск. Во втором датасете содержится номер прокатного удостоверения и размер кассовых сборов. \n",
    "В ходе предобработки данных мы объединили файлы с данными в один датафрейм путём присоединения с помощью метода merge() таблицы из mkrf_shows.csv к таблице из mkrf_movies.csv по столбцу 'puNumber'. Для этого мы сначала привели тип данных к единому типу int64  и вынуждены были удалить одну строку с данными, у которой номер прокатного удостоверения не был указан. Также, в ходе предобработки, мы привели в соответствие тип данных в столбце с датой (из строкового в специальный) и в столбце с рейтингом (из строкового в число с плавающей точкой). Это необходимо для дальнейшего анализа. \n",
    "После изучения пропусков было принято решение заменить отсутствующие значения в столбцах ‘film_studio', 'production_country', 'director', 'producer', 'genres' на слово \"неизвестно\" т.к. в случае отсутствующих значений невозможно было бы выполнять некоторые операции с данными столбцами.\n",
    "В столбцах с типом фильма и страной производства были удалены лишние проблемы и данные были приведены к единому виду. \n",
    "Что касается числовых значений, в столбце с кассовыми сборами часть значений сильно выбивается из общей массы. Мы обнаружили, что бюджет некоторых фильмов составляет меньше 1000 рублей. Логично предположить, что в данных случаях использовались другие единицы. Например, бюджет считался в миллионах рублей или тысячах рублей. Однако, заменять эти данные мы не стали т.к. нельзя предположить со 100% уверенностью что  это за единицы и для каких значений они применимы (например, 10000 – это на самом деле 10 000 000 или просто сумма поддержки была совсем небольшой). \n",
    "Дальше в исследовании мы добавили несколько новых столбцов – с годом производства фильмов, его первым режиссёром и первым жанром, а также добавили столбец с долей гос.поддержки пот отношению ко всему бюджету. \n",
    "\n",
    "В ходе непосредствено исследования данных мы посмотрели сколько фильмов выходило в прокат каждый год и посчитали, какую долю составляют фильмы с указанной информацией о прокате в кинотеатрах. Количество фильмов в кинотеатрах в целом растёт (лишь в 2017 оно снизилось) от 105 в 2010 до 530 в 2019, а вот общее количество фильмов составляет от 500 до 1000 в год и каких-либо тенденций не прослеживается. Кассовые сборы также росли с минимумом в 2010 (первый год в имеющихся данных) и максимумом в 2018 году. При этом, сборы за последние 4 года (2016-2019) отличаются незначительно. Однако, нужно иметь ввиду, что предположительно до 2014 года данные были записаны скорей всего в другом формате (например, в тысячах) и делать выводы за этот период сложно. Медиана по кассовым сборам значительно меньше среднего каждый год. Это свидетельствует о том, что есть некоторое количество фильмов с очень высокими кассовыми сборами, что повлияло на среднюю величину. Оценивать качество российского кинематогрофа по средней величине не будем.\n",
    "Больше всего собрали в прокате фильмы с ограничением 16+, а меньше всего 0+. Из графиков мы увидели, что картина меняется от года к году. Однако, фильмы 0+ всегда собирают меньше всего. Далее мы выяснили, что фильмов с государственной поддержкой снимают не много и они теряются на общем фоне. Что ещё можно сказать по этим данным:\n",
    "* 2015: единственный год, когда наибольшие кассовые сборы показали фильмы 12+, затем идут фильмы категории 16+ и 6+.\n",
    "* 2016: фильмы категории 16+ на первом месте по кассовым сборам (далее первенство будет сохраняться), затем идут фильмы 12+ и 6+\n",
    "* 2017: фильмы категории 12+ на предпоследнем месте.\n",
    "* 2018: фильмы 12+ заняли второе место, а третье место досталось фильмам категории 6+.\n",
    "* 2019: фильмы категорий 6+/12+/16+ собрали почти одинаковое количество денег в прокате, ненамного отстают от них фильмы 18+. В целом, можно утверждать, что есть закономерность между возрастной категорией и кассовыми сборами. Про фильмы 0+ уже рассказали выше. Также фильмы категории 18+ почти всегда приносят меньше сборов, чем фильмы других категорий (за исключением 0+). Можно предположить, что аудитория этих фильмов меньше. Кроме того, фильмы категорий до 18+ часто можно назвать \"семейным кино\", то есть родители приходят на фильмы вместе с дктьми, что увеличивает кассовые сборы.\n",
    "\n",
    "Далее мы разделили весь датафрейм на два группы: фильмы с гос.поддержкой и без неё и провели сравнение по некоторым показателям. Общее количество фильмов, снятых с гос.поддержкой и вышедших в прокат за период с 2010-2019, составляет 332. В среднем государство выделяло на фильм от 61 до 77 млн руб. \n",
    "Всего выделено гос.поддержки за всё время: 20200688312.0\n",
    "Кассовые сборы фильмов с господдержкой за всё время: 42113509574.78\n",
    "Oкупаемость (исходя из общего бюджета фильмов): 0.9969991579976544\n",
    "В целом фильмы окупились, но ничего не заработали (если точнее, то ушли в минус на тысячные процента). Разбив данные по годам мы узнали, что общая сумма гос.поддержки в целом растёт, хотя в 2017 году немного снизилась. Меньше всего фильмов с гос.поддержкой вышло в прокат в 2013 году (2 фильма). В 2014 году вышел уже 61 фильм, а в 2015 году вышло больше всего фильмов с гос.поддержкой за весь рассматриваемый период (86 фильмов). За весь рассматриваемый период было только два года, когда общие кассовые сборы превысили общий бюджет фильмов: в 2017 и 2018 годах. В остальные годы фильмы с гос.поддержкой себя не окупали.\n",
    "Но как фильмы с гос.поддержкой оцениваются зрителями? Как средняя оценка фильмов, так и медианное значение меньше у фильмов с гос.поддержкой. Кроме того, максимальное значение рейтинга у фильмов без гос.поддержки ниже (8.5 против 9.2). Это может свидетельствовать о том, что фильмы с гос.поддержкой в целом чуть меньше нравятся зрителям. Это же видно и из графиков, рейтинг фильмов без гос.поддержки смещён правее, ближе к 10. \n",
    "Около трети фильмов снимают в категории 16+. Это касается и фильмов с гос.поддержкой, и без неё. Из особенностей – в категории 18+ снимают фильмы без гос.поддержки примерно в 2 раза чаще. Возможно, потому что на них можно меньше заработать, как мы выяснили выше. Жанры: На круговой диаграмме мы видим, половина фильмов с гос.поддержкой сняты в жанре драмы и комедии. Чаще всего снимать фильмы с гос.поддержкой зовут Р.Давлетьярова, С.Андреасяна и Д.Дьяченко.  У фильмов без поддержки со стороны государства разнообразие жанров гораздо выше (хотя количество драм и комедий также достаточно велико).\n",
    "\n",
    "Итого: фильмы с государственной поддержкой не успешны в финансовом плане. Кассовые сборы примерно равны суммарным бюджетам фильмов. Зрителям также больше нравятся фильмы, которые сняты без помощи государства. Разумеется, в любом правиле есть исключения, но в целом исследование показывает нам именно такую картину. "
   ]
  },
  {
   "cell_type": "markdown",
   "metadata": {},
   "source": [
    "<div class=\"alert alert-success\">\n",
    "<h2> Комментарий ревьюера 😊<a class=\"tocSkip\"> </h2>\n",
    "\n",
    "Содержательный вывод по проделанной работе!) "
   ]
  },
  {
   "cell_type": "markdown",
   "metadata": {},
   "source": [
    "<div style=\"border:solid Purple 2px; padding: 40px\">\n",
    "\n",
    "<h2> Общий комментарий ревьюера 😊<a class=\"tocSkip\"> </h2>\n",
    "    <br/>\n",
    "Артём, ты замечательно справился с проектом, анализ проведен очень высоко. Не могу не выделить аккуратность работы в целом и оформление графиков! Однако, есть несколько важных моментов, которые стоит улучшить, чтобы проект стал действительно идеальным!\n",
    "    \n",
    "Необходимо доработать:\n",
    "    \n",
    "* Доработать категориальные столбцы \n",
    "* Неработающая ячейка\n",
    "* Добавить выводы\n",
    "* дополнить графики\n",
    "* Остальные комментарии ты найдешь в работе\n",
    "    \n",
    " \n",
    "**Желаю удачи и жду твой проект на повторное ревью! Если вдруг у тебя возникнут вопросы, то я с радостью отвечу на них.    😊**\n",
    "    \n",
    "![gif](https://i.gifer.com/378.gif)\n",
    "    \n",
    "<br>   \n",
    "             \n",
    "Также оставлю дополнительный материал по визуализации, если будет интересно:\n",
    "    \n",
    "\n",
    "* книга Александра Богачева [Графики, которые убеждают всех](https://book24.ru/product/grafiki-kotorye-ubezhdayut-vsekh-5873820/)\n",
    "* [cheatsheet по визуализации](https://extremepresentation.typepad.com/.a/6a00d8341bfd2e53ef0111683a7591970c-pi)\n",
    "* бесплатный курс от Яндекс.Практикум [Визуальныe презентации](https://practicum.yandex.ru/visual-presentation/)\n",
    "* Формат таблиц в pandas с помощью style. В том числе цветовое выделение. (https://habr.com/ru/post/521894/)\n",
    "* Основные компоненты matplotlib (https://pyprog.pro/mpl/mpl_main_components.html)\n",
    "* 50 оттенков matplotlib — The Master Plots (с полным кодом на Python) (https://habr.com/ru/post/468295/)\n",
    "* Построение графиков с использованием двух осей. (https://matplotlib.org/stable/gallery/subplots_axes_and_figures/two_scales.html)\n",
    "* Сайт, подробно представлюящий практически все типы визуализаций. (https://datavizproject.com/)\n",
    "* Шпаргалка по визуализации данных в Python с помощью Plotly (https://habr.com/ru/post/502958/)\n",
    "</div> \n",
    "</div>"
   ]
  },
  {
   "cell_type": "markdown",
   "metadata": {},
   "source": [
    "<div class=\"alert alert-info\"> <b>Комментарий студента:</b>  Спасибо за содержательные комментарии! Особенно за жёлтые – очень много полезного. Я их исправлять пока не стал т.к. близится сдача проекта и хочется успеть, чтобы не уходить в академ. Но на каникулах обязательно ими займусь для себя. \n",
    "Дополнительный материал вообще топ! \n",
    "Хорошего дня</div>"
   ]
  },
  {
   "cell_type": "markdown",
   "metadata": {},
   "source": [
    "<div style=\"border:solid Purple 2px; padding: 40px\">\n",
    "\n",
    "<h2> Общий комментарий ревьюера 😊 v_3<a class=\"tocSkip\"> </h2>\n",
    "    <br/>\n",
    "Артём, спасибо за проект! Успехов в дальнейшем обучении!)\n",
    "    "
   ]
  },
  {
   "cell_type": "code",
   "execution_count": null,
   "metadata": {},
   "outputs": [],
   "source": []
  }
 ],
 "metadata": {
  "ExecuteTimeLog": [
   {
    "duration": 537,
    "start_time": "2021-07-07T10:12:08.634Z"
   },
   {
    "duration": 206,
    "start_time": "2021-07-07T10:12:30.191Z"
   },
   {
    "duration": 227,
    "start_time": "2021-07-07T10:12:33.078Z"
   },
   {
    "duration": 153,
    "start_time": "2021-07-07T10:13:42.146Z"
   },
   {
    "duration": 233,
    "start_time": "2021-07-07T10:30:09.252Z"
   },
   {
    "duration": 19,
    "start_time": "2021-07-07T10:30:15.577Z"
   },
   {
    "duration": 18,
    "start_time": "2021-07-07T10:30:57.348Z"
   },
   {
    "duration": 19,
    "start_time": "2021-07-07T10:31:17.452Z"
   },
   {
    "duration": 21,
    "start_time": "2021-07-07T10:31:32.227Z"
   },
   {
    "duration": 27,
    "start_time": "2021-07-07T10:32:06.588Z"
   },
   {
    "duration": 23,
    "start_time": "2021-07-07T10:32:43.645Z"
   },
   {
    "duration": 24,
    "start_time": "2021-07-07T10:33:06.948Z"
   },
   {
    "duration": 7,
    "start_time": "2021-07-07T10:33:28.558Z"
   },
   {
    "duration": 23,
    "start_time": "2021-07-07T10:33:43.761Z"
   },
   {
    "duration": 28,
    "start_time": "2021-07-07T10:34:13.466Z"
   },
   {
    "duration": 23,
    "start_time": "2021-07-07T10:35:56.187Z"
   },
   {
    "duration": 6,
    "start_time": "2021-07-07T10:36:48.182Z"
   },
   {
    "duration": 14,
    "start_time": "2021-07-07T10:37:49.641Z"
   },
   {
    "duration": 6,
    "start_time": "2021-07-07T10:38:06.694Z"
   },
   {
    "duration": 6,
    "start_time": "2021-07-07T10:38:13.493Z"
   },
   {
    "duration": 19,
    "start_time": "2021-07-07T10:38:44.056Z"
   },
   {
    "duration": 186,
    "start_time": "2021-07-07T10:48:35.618Z"
   },
   {
    "duration": 24,
    "start_time": "2021-07-07T10:48:51.498Z"
   },
   {
    "duration": 20,
    "start_time": "2021-07-07T10:48:59.415Z"
   },
   {
    "duration": 20,
    "start_time": "2021-07-07T10:53:02.195Z"
   },
   {
    "duration": 188,
    "start_time": "2021-07-07T10:54:40.486Z"
   },
   {
    "duration": 115,
    "start_time": "2021-07-07T10:54:52.552Z"
   },
   {
    "duration": 214,
    "start_time": "2021-07-07T10:54:56.354Z"
   },
   {
    "duration": 47,
    "start_time": "2021-07-07T10:54:58.282Z"
   },
   {
    "duration": 217,
    "start_time": "2021-07-07T10:59:16.075Z"
   },
   {
    "duration": 51,
    "start_time": "2021-07-07T10:59:16.243Z"
   },
   {
    "duration": 578,
    "start_time": "2021-07-07T10:59:18.774Z"
   },
   {
    "duration": 161,
    "start_time": "2021-07-07T10:59:21.238Z"
   },
   {
    "duration": 59,
    "start_time": "2021-07-07T10:59:21.453Z"
   },
   {
    "duration": 3,
    "start_time": "2021-07-07T11:02:10.786Z"
   },
   {
    "duration": 13,
    "start_time": "2021-07-07T11:07:07.722Z"
   },
   {
    "duration": 26,
    "start_time": "2021-07-07T11:07:17.958Z"
   },
   {
    "duration": 22,
    "start_time": "2021-07-07T11:08:17.939Z"
   },
   {
    "duration": 212,
    "start_time": "2021-07-07T11:08:19.665Z"
   },
   {
    "duration": 21,
    "start_time": "2021-07-07T11:08:29.945Z"
   },
   {
    "duration": 31,
    "start_time": "2021-07-07T11:08:38.899Z"
   },
   {
    "duration": 23,
    "start_time": "2021-07-07T11:08:54.527Z"
   },
   {
    "duration": 8,
    "start_time": "2021-07-07T11:18:55.974Z"
   },
   {
    "duration": 7,
    "start_time": "2021-07-07T11:19:03.639Z"
   },
   {
    "duration": 7,
    "start_time": "2021-07-07T11:19:06.444Z"
   },
   {
    "duration": 578,
    "start_time": "2021-07-07T12:09:59.576Z"
   },
   {
    "duration": 195,
    "start_time": "2021-07-07T12:10:00.156Z"
   },
   {
    "duration": 115,
    "start_time": "2021-07-07T12:10:00.353Z"
   },
   {
    "duration": 3,
    "start_time": "2021-07-07T12:10:00.470Z"
   },
   {
    "duration": 32,
    "start_time": "2021-07-07T12:10:00.474Z"
   },
   {
    "duration": 23,
    "start_time": "2021-07-07T12:10:00.508Z"
   },
   {
    "duration": 19,
    "start_time": "2021-07-07T12:10:00.533Z"
   },
   {
    "duration": 44,
    "start_time": "2021-07-07T12:10:00.553Z"
   },
   {
    "duration": 7,
    "start_time": "2021-07-07T12:10:00.600Z"
   },
   {
    "duration": 7,
    "start_time": "2021-07-07T12:19:45.761Z"
   },
   {
    "duration": 21,
    "start_time": "2021-07-07T12:21:35.482Z"
   },
   {
    "duration": 21,
    "start_time": "2021-07-07T12:29:23.569Z"
   },
   {
    "duration": 525,
    "start_time": "2021-07-07T12:29:44.542Z"
   },
   {
    "duration": 214,
    "start_time": "2021-07-07T12:29:45.069Z"
   },
   {
    "duration": 92,
    "start_time": "2021-07-07T12:29:45.285Z"
   },
   {
    "duration": 3,
    "start_time": "2021-07-07T12:29:45.379Z"
   },
   {
    "duration": 28,
    "start_time": "2021-07-07T12:29:45.384Z"
   },
   {
    "duration": 23,
    "start_time": "2021-07-07T12:29:45.413Z"
   },
   {
    "duration": 21,
    "start_time": "2021-07-07T12:29:45.437Z"
   },
   {
    "duration": 41,
    "start_time": "2021-07-07T12:29:45.460Z"
   },
   {
    "duration": 7,
    "start_time": "2021-07-07T12:29:45.502Z"
   },
   {
    "duration": 20,
    "start_time": "2021-07-07T12:29:45.511Z"
   },
   {
    "duration": 12,
    "start_time": "2021-07-07T12:34:02.800Z"
   },
   {
    "duration": 7,
    "start_time": "2021-07-07T12:35:10.479Z"
   },
   {
    "duration": 8,
    "start_time": "2021-07-07T12:35:22.440Z"
   },
   {
    "duration": 6,
    "start_time": "2021-07-07T12:35:35.649Z"
   },
   {
    "duration": 6,
    "start_time": "2021-07-07T12:35:43.107Z"
   },
   {
    "duration": 22,
    "start_time": "2021-07-07T12:38:03.029Z"
   },
   {
    "duration": 10,
    "start_time": "2021-07-07T12:38:06.592Z"
   },
   {
    "duration": 563,
    "start_time": "2021-07-07T12:38:46.493Z"
   },
   {
    "duration": 265,
    "start_time": "2021-07-07T12:38:47.058Z"
   },
   {
    "duration": 94,
    "start_time": "2021-07-07T12:38:47.325Z"
   },
   {
    "duration": 3,
    "start_time": "2021-07-07T12:38:47.422Z"
   },
   {
    "duration": 30,
    "start_time": "2021-07-07T12:38:47.427Z"
   },
   {
    "duration": 16,
    "start_time": "2021-07-07T12:38:53.305Z"
   },
   {
    "duration": 10,
    "start_time": "2021-07-07T12:38:53.499Z"
   },
   {
    "duration": 8,
    "start_time": "2021-07-07T12:39:48.161Z"
   },
   {
    "duration": 27,
    "start_time": "2021-07-07T12:41:17.629Z"
   },
   {
    "duration": 17,
    "start_time": "2021-07-07T12:41:17.867Z"
   },
   {
    "duration": 21,
    "start_time": "2021-07-07T12:41:19.310Z"
   },
   {
    "duration": 7,
    "start_time": "2021-07-07T12:41:19.544Z"
   },
   {
    "duration": 20,
    "start_time": "2021-07-07T12:41:20.504Z"
   },
   {
    "duration": 554,
    "start_time": "2021-07-07T12:56:23.696Z"
   },
   {
    "duration": 200,
    "start_time": "2021-07-07T12:56:25.234Z"
   },
   {
    "duration": 119,
    "start_time": "2021-07-07T12:56:25.480Z"
   },
   {
    "duration": 4,
    "start_time": "2021-07-07T12:56:25.762Z"
   },
   {
    "duration": 26,
    "start_time": "2021-07-07T12:56:27.172Z"
   },
   {
    "duration": 12,
    "start_time": "2021-07-07T12:56:29.051Z"
   },
   {
    "duration": 10,
    "start_time": "2021-07-07T12:56:29.291Z"
   },
   {
    "duration": 8,
    "start_time": "2021-07-07T12:56:29.623Z"
   },
   {
    "duration": 28,
    "start_time": "2021-07-07T12:56:32.137Z"
   },
   {
    "duration": 19,
    "start_time": "2021-07-07T12:56:39.785Z"
   },
   {
    "duration": 20,
    "start_time": "2021-07-07T12:56:44.297Z"
   },
   {
    "duration": 7,
    "start_time": "2021-07-07T12:56:45.392Z"
   },
   {
    "duration": 23,
    "start_time": "2021-07-07T12:56:46.615Z"
   },
   {
    "duration": 4,
    "start_time": "2021-07-07T12:57:06.625Z"
   },
   {
    "duration": 32,
    "start_time": "2021-07-07T12:57:36.690Z"
   },
   {
    "duration": 18,
    "start_time": "2021-07-07T12:58:00.149Z"
   },
   {
    "duration": 15,
    "start_time": "2021-07-07T12:59:16.793Z"
   },
   {
    "duration": 7,
    "start_time": "2021-07-07T13:19:22.624Z"
   },
   {
    "duration": 6,
    "start_time": "2021-07-07T14:17:33.527Z"
   },
   {
    "duration": 9,
    "start_time": "2021-07-07T14:17:48.409Z"
   },
   {
    "duration": 8,
    "start_time": "2021-07-07T14:20:13.060Z"
   },
   {
    "duration": 8,
    "start_time": "2021-07-07T14:20:37.957Z"
   },
   {
    "duration": 8,
    "start_time": "2021-07-07T14:20:47.470Z"
   },
   {
    "duration": 9,
    "start_time": "2021-07-07T14:20:54.503Z"
   },
   {
    "duration": 10,
    "start_time": "2021-07-07T14:28:57.763Z"
   },
   {
    "duration": 3,
    "start_time": "2021-07-07T14:30:23.377Z"
   },
   {
    "duration": 3,
    "start_time": "2021-07-07T14:30:36.489Z"
   },
   {
    "duration": 103,
    "start_time": "2021-07-07T14:30:52.351Z"
   },
   {
    "duration": 8,
    "start_time": "2021-07-07T14:30:54.763Z"
   },
   {
    "duration": 8,
    "start_time": "2021-07-07T14:31:29.301Z"
   },
   {
    "duration": 13,
    "start_time": "2021-07-07T14:31:44.516Z"
   },
   {
    "duration": 7,
    "start_time": "2021-07-07T14:33:10.972Z"
   },
   {
    "duration": 11,
    "start_time": "2021-07-07T14:33:27.780Z"
   },
   {
    "duration": 8,
    "start_time": "2021-07-07T14:34:44.588Z"
   },
   {
    "duration": 57,
    "start_time": "2021-07-07T14:35:59.042Z"
   },
   {
    "duration": 3,
    "start_time": "2021-07-07T14:36:28.168Z"
   },
   {
    "duration": 5,
    "start_time": "2021-07-07T14:36:46.254Z"
   },
   {
    "duration": 4,
    "start_time": "2021-07-07T14:36:52.714Z"
   },
   {
    "duration": 3,
    "start_time": "2021-07-07T14:36:56.612Z"
   },
   {
    "duration": 4,
    "start_time": "2021-07-07T14:36:57.049Z"
   },
   {
    "duration": 3,
    "start_time": "2021-07-07T14:39:21.214Z"
   },
   {
    "duration": 7,
    "start_time": "2021-07-07T14:39:52.406Z"
   },
   {
    "duration": 11,
    "start_time": "2021-07-07T14:39:58.576Z"
   },
   {
    "duration": 9,
    "start_time": "2021-07-07T14:40:26.301Z"
   },
   {
    "duration": 10,
    "start_time": "2021-07-07T14:40:31.704Z"
   },
   {
    "duration": 11,
    "start_time": "2021-07-07T14:40:36.249Z"
   },
   {
    "duration": 10,
    "start_time": "2021-07-07T14:40:39.783Z"
   },
   {
    "duration": 9,
    "start_time": "2021-07-07T14:40:48.558Z"
   },
   {
    "duration": 10,
    "start_time": "2021-07-07T14:40:57.143Z"
   },
   {
    "duration": 9,
    "start_time": "2021-07-07T14:41:06.074Z"
   },
   {
    "duration": 4324,
    "start_time": "2021-07-07T14:41:22.004Z"
   },
   {
    "duration": 11,
    "start_time": "2021-07-07T14:41:33.392Z"
   },
   {
    "duration": 9,
    "start_time": "2021-07-07T14:41:39.288Z"
   },
   {
    "duration": 569,
    "start_time": "2021-07-07T14:42:14.387Z"
   },
   {
    "duration": 197,
    "start_time": "2021-07-07T14:42:14.959Z"
   },
   {
    "duration": 84,
    "start_time": "2021-07-07T14:42:16.052Z"
   },
   {
    "duration": 4,
    "start_time": "2021-07-07T14:42:16.900Z"
   },
   {
    "duration": 27,
    "start_time": "2021-07-07T14:42:19.898Z"
   },
   {
    "duration": 12,
    "start_time": "2021-07-07T14:42:21.577Z"
   },
   {
    "duration": 9,
    "start_time": "2021-07-07T14:42:21.813Z"
   },
   {
    "duration": 9,
    "start_time": "2021-07-07T14:42:22.569Z"
   },
   {
    "duration": 29,
    "start_time": "2021-07-07T14:42:25.837Z"
   },
   {
    "duration": 20,
    "start_time": "2021-07-07T14:42:27.003Z"
   },
   {
    "duration": 21,
    "start_time": "2021-07-07T14:42:28.767Z"
   },
   {
    "duration": 7,
    "start_time": "2021-07-07T14:42:29.838Z"
   },
   {
    "duration": 4,
    "start_time": "2021-07-07T14:43:25.493Z"
   },
   {
    "duration": 7,
    "start_time": "2021-07-07T14:43:26.573Z"
   },
   {
    "duration": 10,
    "start_time": "2021-07-07T14:43:31.639Z"
   },
   {
    "duration": 9,
    "start_time": "2021-07-07T14:43:32.046Z"
   },
   {
    "duration": 10,
    "start_time": "2021-07-07T14:43:33.301Z"
   },
   {
    "duration": 12,
    "start_time": "2021-07-07T14:43:33.658Z"
   },
   {
    "duration": 8,
    "start_time": "2021-07-07T14:43:34.552Z"
   },
   {
    "duration": 9,
    "start_time": "2021-07-07T14:43:35.058Z"
   },
   {
    "duration": 12,
    "start_time": "2021-07-07T14:43:35.914Z"
   },
   {
    "duration": 17,
    "start_time": "2021-07-07T14:45:34.368Z"
   },
   {
    "duration": 512,
    "start_time": "2021-07-07T14:51:58.236Z"
   },
   {
    "duration": 223,
    "start_time": "2021-07-07T14:51:58.750Z"
   },
   {
    "duration": 93,
    "start_time": "2021-07-07T14:51:58.977Z"
   },
   {
    "duration": 4,
    "start_time": "2021-07-07T14:51:59.071Z"
   },
   {
    "duration": 37,
    "start_time": "2021-07-07T14:51:59.077Z"
   },
   {
    "duration": 18,
    "start_time": "2021-07-07T14:51:59.116Z"
   },
   {
    "duration": 10,
    "start_time": "2021-07-07T14:51:59.137Z"
   },
   {
    "duration": 8,
    "start_time": "2021-07-07T14:51:59.149Z"
   },
   {
    "duration": 54,
    "start_time": "2021-07-07T14:51:59.158Z"
   },
   {
    "duration": 18,
    "start_time": "2021-07-07T14:51:59.213Z"
   },
   {
    "duration": 22,
    "start_time": "2021-07-07T14:51:59.232Z"
   },
   {
    "duration": 36,
    "start_time": "2021-07-07T14:51:59.255Z"
   },
   {
    "duration": 7,
    "start_time": "2021-07-07T14:51:59.293Z"
   },
   {
    "duration": 10,
    "start_time": "2021-07-07T14:51:59.302Z"
   },
   {
    "duration": 9,
    "start_time": "2021-07-07T14:51:59.313Z"
   },
   {
    "duration": 11,
    "start_time": "2021-07-07T14:51:59.324Z"
   },
   {
    "duration": 8,
    "start_time": "2021-07-07T14:51:59.337Z"
   },
   {
    "duration": 46,
    "start_time": "2021-07-07T14:51:59.347Z"
   },
   {
    "duration": 22,
    "start_time": "2021-07-07T14:51:59.395Z"
   },
   {
    "duration": 24,
    "start_time": "2021-07-07T14:57:32.911Z"
   },
   {
    "duration": 7,
    "start_time": "2021-07-07T14:58:22.070Z"
   },
   {
    "duration": 4,
    "start_time": "2021-07-07T14:59:11.239Z"
   },
   {
    "duration": 25,
    "start_time": "2021-07-07T15:07:22.208Z"
   },
   {
    "duration": 16,
    "start_time": "2021-07-07T15:08:25.560Z"
   },
   {
    "duration": 15,
    "start_time": "2021-07-07T15:08:40.647Z"
   },
   {
    "duration": 14,
    "start_time": "2021-07-07T15:08:46.669Z"
   },
   {
    "duration": 533,
    "start_time": "2021-07-07T15:18:07.440Z"
   },
   {
    "duration": 173,
    "start_time": "2021-07-07T15:18:07.974Z"
   },
   {
    "duration": 84,
    "start_time": "2021-07-07T15:18:08.149Z"
   },
   {
    "duration": 3,
    "start_time": "2021-07-07T15:18:08.235Z"
   },
   {
    "duration": 30,
    "start_time": "2021-07-07T15:18:08.240Z"
   },
   {
    "duration": 22,
    "start_time": "2021-07-07T15:18:08.272Z"
   },
   {
    "duration": 11,
    "start_time": "2021-07-07T15:18:08.295Z"
   },
   {
    "duration": 11,
    "start_time": "2021-07-07T15:18:08.309Z"
   },
   {
    "duration": 40,
    "start_time": "2021-07-07T15:18:08.322Z"
   },
   {
    "duration": 42,
    "start_time": "2021-07-07T15:18:08.364Z"
   },
   {
    "duration": 22,
    "start_time": "2021-07-07T15:18:08.408Z"
   },
   {
    "duration": 5,
    "start_time": "2021-07-07T15:18:08.432Z"
   },
   {
    "duration": 13,
    "start_time": "2021-07-07T15:18:08.439Z"
   },
   {
    "duration": 9,
    "start_time": "2021-07-07T15:18:08.454Z"
   },
   {
    "duration": 32,
    "start_time": "2021-07-07T15:18:08.465Z"
   },
   {
    "duration": 10,
    "start_time": "2021-07-07T15:18:08.501Z"
   },
   {
    "duration": 7,
    "start_time": "2021-07-07T15:18:08.513Z"
   },
   {
    "duration": 11,
    "start_time": "2021-07-07T15:18:08.521Z"
   },
   {
    "duration": 17,
    "start_time": "2021-07-07T15:18:08.534Z"
   },
   {
    "duration": 44,
    "start_time": "2021-07-07T15:18:08.553Z"
   },
   {
    "duration": 22,
    "start_time": "2021-07-07T15:18:08.599Z"
   },
   {
    "duration": 61,
    "start_time": "2021-07-07T15:18:08.622Z"
   },
   {
    "duration": 7,
    "start_time": "2021-07-07T15:18:39.457Z"
   },
   {
    "duration": 5,
    "start_time": "2021-07-07T16:05:17.020Z"
   },
   {
    "duration": 5,
    "start_time": "2021-07-07T16:51:28.794Z"
   },
   {
    "duration": 546,
    "start_time": "2021-07-07T16:52:26.306Z"
   },
   {
    "duration": 203,
    "start_time": "2021-07-07T16:52:27.523Z"
   },
   {
    "duration": 85,
    "start_time": "2021-07-07T16:52:27.736Z"
   },
   {
    "duration": 4,
    "start_time": "2021-07-07T16:52:27.899Z"
   },
   {
    "duration": 25,
    "start_time": "2021-07-07T16:52:28.674Z"
   },
   {
    "duration": 8,
    "start_time": "2021-07-07T16:52:32.956Z"
   },
   {
    "duration": 18,
    "start_time": "2021-07-07T16:52:35.616Z"
   },
   {
    "duration": 6,
    "start_time": "2021-07-07T16:52:36.913Z"
   },
   {
    "duration": 11,
    "start_time": "2021-07-07T16:52:40.258Z"
   },
   {
    "duration": 10,
    "start_time": "2021-07-07T16:52:46.251Z"
   },
   {
    "duration": 8,
    "start_time": "2021-07-07T16:52:47.182Z"
   },
   {
    "duration": 27,
    "start_time": "2021-07-07T16:53:20.391Z"
   },
   {
    "duration": 20,
    "start_time": "2021-07-07T16:53:22.022Z"
   },
   {
    "duration": 23,
    "start_time": "2021-07-07T16:53:23.690Z"
   },
   {
    "duration": 8,
    "start_time": "2021-07-07T16:53:24.261Z"
   },
   {
    "duration": 4,
    "start_time": "2021-07-07T16:53:38.733Z"
   },
   {
    "duration": 7,
    "start_time": "2021-07-07T16:53:40.445Z"
   },
   {
    "duration": 11,
    "start_time": "2021-07-07T16:53:41.348Z"
   },
   {
    "duration": 13,
    "start_time": "2021-07-07T16:53:45.250Z"
   },
   {
    "duration": 12,
    "start_time": "2021-07-07T16:53:45.467Z"
   },
   {
    "duration": 4,
    "start_time": "2021-07-07T16:55:32.704Z"
   },
   {
    "duration": 12,
    "start_time": "2021-07-07T16:55:49.012Z"
   },
   {
    "duration": 18,
    "start_time": "2021-07-07T16:55:49.547Z"
   },
   {
    "duration": 611,
    "start_time": "2021-07-07T16:58:35.156Z"
   },
   {
    "duration": 200,
    "start_time": "2021-07-07T16:58:35.770Z"
   },
   {
    "duration": 86,
    "start_time": "2021-07-07T16:58:35.972Z"
   },
   {
    "duration": 3,
    "start_time": "2021-07-07T16:58:36.060Z"
   },
   {
    "duration": 27,
    "start_time": "2021-07-07T16:58:36.065Z"
   },
   {
    "duration": 8,
    "start_time": "2021-07-07T16:58:36.094Z"
   },
   {
    "duration": 17,
    "start_time": "2021-07-07T16:58:36.103Z"
   },
   {
    "duration": 5,
    "start_time": "2021-07-07T16:58:36.123Z"
   },
   {
    "duration": 11,
    "start_time": "2021-07-07T16:58:36.130Z"
   },
   {
    "duration": 7,
    "start_time": "2021-07-07T16:58:36.143Z"
   },
   {
    "duration": 37,
    "start_time": "2021-07-07T16:58:36.152Z"
   },
   {
    "duration": 27,
    "start_time": "2021-07-07T16:58:36.191Z"
   },
   {
    "duration": 19,
    "start_time": "2021-07-07T16:58:36.219Z"
   },
   {
    "duration": 49,
    "start_time": "2021-07-07T16:58:36.240Z"
   },
   {
    "duration": 6,
    "start_time": "2021-07-07T16:58:36.291Z"
   },
   {
    "duration": 3,
    "start_time": "2021-07-07T16:58:36.299Z"
   },
   {
    "duration": 13,
    "start_time": "2021-07-07T16:58:36.304Z"
   },
   {
    "duration": 10,
    "start_time": "2021-07-07T16:58:36.319Z"
   },
   {
    "duration": 10,
    "start_time": "2021-07-07T16:58:36.331Z"
   },
   {
    "duration": 44,
    "start_time": "2021-07-07T16:58:36.343Z"
   },
   {
    "duration": 4,
    "start_time": "2021-07-07T16:58:36.388Z"
   },
   {
    "duration": 13,
    "start_time": "2021-07-07T16:58:36.394Z"
   },
   {
    "duration": 16,
    "start_time": "2021-07-07T16:58:36.410Z"
   },
   {
    "duration": 8,
    "start_time": "2021-07-07T17:02:31.629Z"
   },
   {
    "duration": 8,
    "start_time": "2021-07-07T17:02:34.308Z"
   },
   {
    "duration": 6,
    "start_time": "2021-07-07T17:05:13.483Z"
   },
   {
    "duration": 17,
    "start_time": "2021-07-07T17:05:20.606Z"
   },
   {
    "duration": 7,
    "start_time": "2021-07-07T17:05:34.638Z"
   },
   {
    "duration": 3,
    "start_time": "2021-07-07T17:06:31.883Z"
   },
   {
    "duration": 570,
    "start_time": "2021-07-07T17:06:37.165Z"
   },
   {
    "duration": 174,
    "start_time": "2021-07-07T17:06:37.737Z"
   },
   {
    "duration": 47,
    "start_time": "2021-07-07T17:06:37.913Z"
   },
   {
    "duration": 3,
    "start_time": "2021-07-07T17:06:37.962Z"
   },
   {
    "duration": 27,
    "start_time": "2021-07-07T17:06:37.967Z"
   },
   {
    "duration": 7,
    "start_time": "2021-07-07T17:06:37.996Z"
   },
   {
    "duration": 16,
    "start_time": "2021-07-07T17:06:38.005Z"
   },
   {
    "duration": 6,
    "start_time": "2021-07-07T17:06:38.024Z"
   },
   {
    "duration": 12,
    "start_time": "2021-07-07T17:06:38.031Z"
   },
   {
    "duration": 41,
    "start_time": "2021-07-07T17:06:38.045Z"
   },
   {
    "duration": 8,
    "start_time": "2021-07-07T17:06:38.088Z"
   },
   {
    "duration": 26,
    "start_time": "2021-07-07T17:06:38.098Z"
   },
   {
    "duration": 17,
    "start_time": "2021-07-07T17:06:38.126Z"
   },
   {
    "duration": 43,
    "start_time": "2021-07-07T17:06:38.144Z"
   },
   {
    "duration": 6,
    "start_time": "2021-07-07T17:06:38.188Z"
   },
   {
    "duration": 5,
    "start_time": "2021-07-07T17:06:38.195Z"
   },
   {
    "duration": 9,
    "start_time": "2021-07-07T17:06:38.201Z"
   },
   {
    "duration": 12,
    "start_time": "2021-07-07T17:06:38.212Z"
   },
   {
    "duration": 11,
    "start_time": "2021-07-07T17:06:38.226Z"
   },
   {
    "duration": 47,
    "start_time": "2021-07-07T17:06:38.239Z"
   },
   {
    "duration": 4,
    "start_time": "2021-07-07T17:06:38.288Z"
   },
   {
    "duration": 13,
    "start_time": "2021-07-07T17:06:38.293Z"
   },
   {
    "duration": 5,
    "start_time": "2021-07-07T17:06:38.309Z"
   },
   {
    "duration": 18,
    "start_time": "2021-07-07T17:06:38.325Z"
   },
   {
    "duration": 20,
    "start_time": "2021-07-07T17:07:02.805Z"
   },
   {
    "duration": 19,
    "start_time": "2021-07-07T17:07:08.527Z"
   },
   {
    "duration": 19,
    "start_time": "2021-07-07T17:07:12.758Z"
   },
   {
    "duration": 22,
    "start_time": "2021-07-07T17:07:17.497Z"
   },
   {
    "duration": 19,
    "start_time": "2021-07-07T17:07:19.645Z"
   },
   {
    "duration": 10,
    "start_time": "2021-07-07T17:07:34.239Z"
   },
   {
    "duration": 17,
    "start_time": "2021-07-07T17:07:54.144Z"
   },
   {
    "duration": 14,
    "start_time": "2021-07-07T17:08:14.357Z"
   },
   {
    "duration": 616,
    "start_time": "2021-07-07T17:08:45.254Z"
   },
   {
    "duration": 178,
    "start_time": "2021-07-07T17:08:45.872Z"
   },
   {
    "duration": 60,
    "start_time": "2021-07-07T17:08:46.054Z"
   },
   {
    "duration": 3,
    "start_time": "2021-07-07T17:08:46.116Z"
   },
   {
    "duration": 26,
    "start_time": "2021-07-07T17:08:46.121Z"
   },
   {
    "duration": 7,
    "start_time": "2021-07-07T17:08:46.149Z"
   },
   {
    "duration": 17,
    "start_time": "2021-07-07T17:08:46.158Z"
   },
   {
    "duration": 14,
    "start_time": "2021-07-07T17:08:46.176Z"
   },
   {
    "duration": 17,
    "start_time": "2021-07-07T17:08:46.193Z"
   },
   {
    "duration": 9,
    "start_time": "2021-07-07T17:08:46.211Z"
   },
   {
    "duration": 21,
    "start_time": "2021-07-07T17:08:46.221Z"
   },
   {
    "duration": 49,
    "start_time": "2021-07-07T17:08:46.244Z"
   },
   {
    "duration": 24,
    "start_time": "2021-07-07T17:08:46.295Z"
   },
   {
    "duration": 22,
    "start_time": "2021-07-07T17:08:46.321Z"
   },
   {
    "duration": 6,
    "start_time": "2021-07-07T17:08:46.345Z"
   },
   {
    "duration": 5,
    "start_time": "2021-07-07T17:08:46.353Z"
   },
   {
    "duration": 13,
    "start_time": "2021-07-07T17:08:46.386Z"
   },
   {
    "duration": 12,
    "start_time": "2021-07-07T17:08:46.402Z"
   },
   {
    "duration": 10,
    "start_time": "2021-07-07T17:08:46.415Z"
   },
   {
    "duration": 7,
    "start_time": "2021-07-07T17:08:46.427Z"
   },
   {
    "duration": 8,
    "start_time": "2021-07-07T17:08:46.435Z"
   },
   {
    "duration": 68,
    "start_time": "2021-07-07T17:08:46.446Z"
   },
   {
    "duration": 13,
    "start_time": "2021-07-07T17:08:46.516Z"
   },
   {
    "duration": 78,
    "start_time": "2021-07-07T17:08:46.530Z"
   },
   {
    "duration": 40,
    "start_time": "2021-07-07T17:09:08.185Z"
   },
   {
    "duration": 16,
    "start_time": "2021-07-07T17:09:19.324Z"
   },
   {
    "duration": 21,
    "start_time": "2021-07-07T17:09:23.290Z"
   },
   {
    "duration": 13,
    "start_time": "2021-07-07T17:09:54.812Z"
   },
   {
    "duration": 13,
    "start_time": "2021-07-07T17:10:02.039Z"
   },
   {
    "duration": 10,
    "start_time": "2021-07-07T17:10:29.632Z"
   },
   {
    "duration": 13,
    "start_time": "2021-07-07T17:10:52.372Z"
   },
   {
    "duration": 13,
    "start_time": "2021-07-07T17:11:17.270Z"
   },
   {
    "duration": 13,
    "start_time": "2021-07-07T17:14:59.284Z"
   },
   {
    "duration": 547,
    "start_time": "2021-07-07T17:18:52.403Z"
   },
   {
    "duration": 163,
    "start_time": "2021-07-07T17:18:52.952Z"
   },
   {
    "duration": 44,
    "start_time": "2021-07-07T17:18:53.117Z"
   },
   {
    "duration": 3,
    "start_time": "2021-07-07T17:18:53.162Z"
   },
   {
    "duration": 26,
    "start_time": "2021-07-07T17:18:53.167Z"
   },
   {
    "duration": 6,
    "start_time": "2021-07-07T17:18:53.195Z"
   },
   {
    "duration": 15,
    "start_time": "2021-07-07T17:18:53.203Z"
   },
   {
    "duration": 5,
    "start_time": "2021-07-07T17:18:53.220Z"
   },
   {
    "duration": 11,
    "start_time": "2021-07-07T17:18:53.228Z"
   },
   {
    "duration": 9,
    "start_time": "2021-07-07T17:18:53.241Z"
   },
   {
    "duration": 41,
    "start_time": "2021-07-07T17:18:53.252Z"
   },
   {
    "duration": 33,
    "start_time": "2021-07-07T17:18:53.295Z"
   },
   {
    "duration": 19,
    "start_time": "2021-07-07T17:18:53.330Z"
   },
   {
    "duration": 49,
    "start_time": "2021-07-07T17:18:53.350Z"
   },
   {
    "duration": 5,
    "start_time": "2021-07-07T17:18:53.401Z"
   },
   {
    "duration": 5,
    "start_time": "2021-07-07T17:18:53.408Z"
   },
   {
    "duration": 11,
    "start_time": "2021-07-07T17:18:53.414Z"
   },
   {
    "duration": 9,
    "start_time": "2021-07-07T17:18:53.427Z"
   },
   {
    "duration": 10,
    "start_time": "2021-07-07T17:18:53.437Z"
   },
   {
    "duration": 39,
    "start_time": "2021-07-07T17:18:53.448Z"
   },
   {
    "duration": 26,
    "start_time": "2021-07-07T17:18:55.799Z"
   },
   {
    "duration": 598,
    "start_time": "2021-07-07T17:20:17.862Z"
   },
   {
    "duration": 161,
    "start_time": "2021-07-07T17:20:18.462Z"
   },
   {
    "duration": 45,
    "start_time": "2021-07-07T17:20:18.626Z"
   },
   {
    "duration": 4,
    "start_time": "2021-07-07T17:20:18.673Z"
   },
   {
    "duration": 38,
    "start_time": "2021-07-07T17:20:26.877Z"
   },
   {
    "duration": 7,
    "start_time": "2021-07-07T17:20:37.405Z"
   },
   {
    "duration": 19,
    "start_time": "2021-07-07T17:20:51.534Z"
   },
   {
    "duration": 5,
    "start_time": "2021-07-07T17:20:57.228Z"
   },
   {
    "duration": 7,
    "start_time": "2021-07-07T17:21:08.235Z"
   },
   {
    "duration": 19,
    "start_time": "2021-07-07T17:21:42.158Z"
   },
   {
    "duration": 14,
    "start_time": "2021-07-07T17:21:50.225Z"
   },
   {
    "duration": 22,
    "start_time": "2021-07-07T17:22:54.104Z"
   },
   {
    "duration": 5,
    "start_time": "2021-07-07T17:22:56.371Z"
   },
   {
    "duration": 14,
    "start_time": "2021-07-07T17:22:58.316Z"
   },
   {
    "duration": 5,
    "start_time": "2021-07-07T17:22:58.493Z"
   },
   {
    "duration": 35,
    "start_time": "2021-07-07T17:22:59.666Z"
   },
   {
    "duration": 6,
    "start_time": "2021-07-07T17:23:02.410Z"
   },
   {
    "duration": 611,
    "start_time": "2021-07-07T17:24:59.664Z"
   },
   {
    "duration": 178,
    "start_time": "2021-07-07T17:25:01.945Z"
   },
   {
    "duration": 47,
    "start_time": "2021-07-07T17:25:02.125Z"
   },
   {
    "duration": 2,
    "start_time": "2021-07-07T17:25:07.903Z"
   },
   {
    "duration": 254,
    "start_time": "2021-07-07T17:25:08.232Z"
   },
   {
    "duration": 182,
    "start_time": "2021-07-07T17:25:08.671Z"
   },
   {
    "duration": 6,
    "start_time": "2021-07-07T17:25:13.104Z"
   },
   {
    "duration": 36,
    "start_time": "2021-07-07T17:25:13.662Z"
   },
   {
    "duration": 7,
    "start_time": "2021-07-07T17:25:14.528Z"
   },
   {
    "duration": 24,
    "start_time": "2021-07-07T17:25:27.982Z"
   },
   {
    "duration": 3,
    "start_time": "2021-07-07T17:25:48.982Z"
   },
   {
    "duration": 165,
    "start_time": "2021-07-07T17:25:48.987Z"
   },
   {
    "duration": 50,
    "start_time": "2021-07-07T17:25:49.154Z"
   },
   {
    "duration": 4,
    "start_time": "2021-07-07T17:25:49.206Z"
   },
   {
    "duration": 26,
    "start_time": "2021-07-07T17:25:49.212Z"
   },
   {
    "duration": 7,
    "start_time": "2021-07-07T17:25:49.240Z"
   },
   {
    "duration": 16,
    "start_time": "2021-07-07T17:25:49.249Z"
   },
   {
    "duration": 22,
    "start_time": "2021-07-07T17:25:49.266Z"
   },
   {
    "duration": 16,
    "start_time": "2021-07-07T17:25:49.291Z"
   },
   {
    "duration": 9,
    "start_time": "2021-07-07T17:25:49.309Z"
   },
   {
    "duration": 7,
    "start_time": "2021-07-07T17:25:49.319Z"
   },
   {
    "duration": 28,
    "start_time": "2021-07-07T17:25:49.328Z"
   },
   {
    "duration": 44,
    "start_time": "2021-07-07T17:25:49.357Z"
   },
   {
    "duration": 22,
    "start_time": "2021-07-07T17:25:49.403Z"
   },
   {
    "duration": 7,
    "start_time": "2021-07-07T17:25:49.427Z"
   },
   {
    "duration": 3,
    "start_time": "2021-07-07T17:25:49.436Z"
   },
   {
    "duration": 44,
    "start_time": "2021-07-07T17:25:49.441Z"
   },
   {
    "duration": 12,
    "start_time": "2021-07-07T17:25:49.488Z"
   },
   {
    "duration": 13,
    "start_time": "2021-07-07T17:25:49.502Z"
   },
   {
    "duration": 10,
    "start_time": "2021-07-07T17:25:49.516Z"
   },
   {
    "duration": 62,
    "start_time": "2021-07-07T17:25:49.527Z"
   },
   {
    "duration": 26,
    "start_time": "2021-07-07T17:26:51.809Z"
   },
   {
    "duration": 26,
    "start_time": "2021-07-07T17:26:55.759Z"
   },
   {
    "duration": 26,
    "start_time": "2021-07-07T17:27:04.501Z"
   },
   {
    "duration": 25,
    "start_time": "2021-07-07T17:28:24.859Z"
   },
   {
    "duration": 21,
    "start_time": "2021-07-07T17:28:55.250Z"
   },
   {
    "duration": 21,
    "start_time": "2021-07-07T17:28:58.885Z"
   },
   {
    "duration": 7,
    "start_time": "2021-07-07T17:45:40.972Z"
   },
   {
    "duration": 13,
    "start_time": "2021-07-07T17:45:42.529Z"
   },
   {
    "duration": 27,
    "start_time": "2021-07-07T17:45:51.026Z"
   },
   {
    "duration": 518,
    "start_time": "2021-07-07T17:46:15.532Z"
   },
   {
    "duration": 235,
    "start_time": "2021-07-07T17:46:16.053Z"
   },
   {
    "duration": 80,
    "start_time": "2021-07-07T17:46:16.292Z"
   },
   {
    "duration": 5,
    "start_time": "2021-07-07T17:46:16.373Z"
   },
   {
    "duration": 26,
    "start_time": "2021-07-07T17:46:16.380Z"
   },
   {
    "duration": 7,
    "start_time": "2021-07-07T17:46:16.408Z"
   },
   {
    "duration": 16,
    "start_time": "2021-07-07T17:46:16.418Z"
   },
   {
    "duration": 5,
    "start_time": "2021-07-07T17:46:16.436Z"
   },
   {
    "duration": 13,
    "start_time": "2021-07-07T17:46:16.442Z"
   },
   {
    "duration": 35,
    "start_time": "2021-07-07T17:46:16.456Z"
   },
   {
    "duration": 8,
    "start_time": "2021-07-07T17:46:16.493Z"
   },
   {
    "duration": 28,
    "start_time": "2021-07-07T17:46:16.502Z"
   },
   {
    "duration": 17,
    "start_time": "2021-07-07T17:46:16.532Z"
   },
   {
    "duration": 44,
    "start_time": "2021-07-07T17:46:16.551Z"
   },
   {
    "duration": 6,
    "start_time": "2021-07-07T17:46:16.597Z"
   },
   {
    "duration": 4,
    "start_time": "2021-07-07T17:46:16.605Z"
   },
   {
    "duration": 9,
    "start_time": "2021-07-07T17:46:16.610Z"
   },
   {
    "duration": 9,
    "start_time": "2021-07-07T17:46:16.621Z"
   },
   {
    "duration": 10,
    "start_time": "2021-07-07T17:46:16.632Z"
   },
   {
    "duration": 43,
    "start_time": "2021-07-07T17:46:16.644Z"
   },
   {
    "duration": 26,
    "start_time": "2021-07-07T17:46:16.689Z"
   },
   {
    "duration": 19,
    "start_time": "2021-07-07T17:46:16.718Z"
   },
   {
    "duration": 8,
    "start_time": "2021-07-07T17:46:16.738Z"
   },
   {
    "duration": 43,
    "start_time": "2021-07-07T17:46:16.747Z"
   },
   {
    "duration": 19,
    "start_time": "2021-07-07T17:46:16.791Z"
   },
   {
    "duration": 9,
    "start_time": "2021-07-07T17:46:16.812Z"
   },
   {
    "duration": 60,
    "start_time": "2021-07-07T17:46:16.822Z"
   },
   {
    "duration": -8,
    "start_time": "2021-07-07T17:46:16.892Z"
   },
   {
    "duration": 12,
    "start_time": "2021-07-07T17:48:47.707Z"
   },
   {
    "duration": 553,
    "start_time": "2021-07-07T18:10:09.350Z"
   },
   {
    "duration": 230,
    "start_time": "2021-07-07T18:10:09.905Z"
   },
   {
    "duration": 97,
    "start_time": "2021-07-07T18:10:10.137Z"
   },
   {
    "duration": 5,
    "start_time": "2021-07-07T18:10:10.236Z"
   },
   {
    "duration": 29,
    "start_time": "2021-07-07T18:10:10.242Z"
   },
   {
    "duration": 7,
    "start_time": "2021-07-07T18:10:10.272Z"
   },
   {
    "duration": 15,
    "start_time": "2021-07-07T18:10:10.281Z"
   },
   {
    "duration": 4,
    "start_time": "2021-07-07T18:10:10.299Z"
   },
   {
    "duration": 14,
    "start_time": "2021-07-07T18:10:10.305Z"
   },
   {
    "duration": 8,
    "start_time": "2021-07-07T18:10:10.321Z"
   },
   {
    "duration": 8,
    "start_time": "2021-07-07T18:10:10.331Z"
   },
   {
    "duration": 56,
    "start_time": "2021-07-07T18:10:10.341Z"
   },
   {
    "duration": 19,
    "start_time": "2021-07-07T18:10:10.399Z"
   },
   {
    "duration": 23,
    "start_time": "2021-07-07T18:10:10.419Z"
   },
   {
    "duration": 6,
    "start_time": "2021-07-07T18:10:10.444Z"
   },
   {
    "duration": 9,
    "start_time": "2021-07-07T18:10:10.451Z"
   },
   {
    "duration": 30,
    "start_time": "2021-07-07T18:10:10.462Z"
   },
   {
    "duration": 9,
    "start_time": "2021-07-07T18:10:10.494Z"
   },
   {
    "duration": 14,
    "start_time": "2021-07-07T18:10:10.505Z"
   },
   {
    "duration": 7,
    "start_time": "2021-07-07T18:10:10.521Z"
   },
   {
    "duration": 26,
    "start_time": "2021-07-07T18:10:10.530Z"
   },
   {
    "duration": 44,
    "start_time": "2021-07-07T18:10:10.558Z"
   },
   {
    "duration": 7,
    "start_time": "2021-07-07T18:10:10.605Z"
   },
   {
    "duration": 11,
    "start_time": "2021-07-07T18:10:10.614Z"
   },
   {
    "duration": 19,
    "start_time": "2021-07-07T18:10:10.626Z"
   },
   {
    "duration": 44,
    "start_time": "2021-07-07T18:10:10.646Z"
   },
   {
    "duration": 516,
    "start_time": "2021-07-07T18:14:00.826Z"
   },
   {
    "duration": 230,
    "start_time": "2021-07-07T18:14:01.344Z"
   },
   {
    "duration": 105,
    "start_time": "2021-07-07T18:14:01.576Z"
   },
   {
    "duration": 5,
    "start_time": "2021-07-07T18:14:01.683Z"
   },
   {
    "duration": 46,
    "start_time": "2021-07-07T18:14:01.690Z"
   },
   {
    "duration": 7,
    "start_time": "2021-07-07T18:14:01.738Z"
   },
   {
    "duration": 20,
    "start_time": "2021-07-07T18:14:01.747Z"
   },
   {
    "duration": 16,
    "start_time": "2021-07-07T18:14:01.769Z"
   },
   {
    "duration": 14,
    "start_time": "2021-07-07T18:14:01.787Z"
   },
   {
    "duration": 15,
    "start_time": "2021-07-07T18:14:01.803Z"
   },
   {
    "duration": 12,
    "start_time": "2021-07-07T18:14:01.820Z"
   },
   {
    "duration": 35,
    "start_time": "2021-07-07T18:14:01.833Z"
   },
   {
    "duration": 31,
    "start_time": "2021-07-07T18:14:01.869Z"
   },
   {
    "duration": 37,
    "start_time": "2021-07-07T18:14:01.902Z"
   },
   {
    "duration": 8,
    "start_time": "2021-07-07T18:14:01.942Z"
   },
   {
    "duration": 16,
    "start_time": "2021-07-07T18:14:01.952Z"
   },
   {
    "duration": 13,
    "start_time": "2021-07-07T18:14:01.970Z"
   },
   {
    "duration": 32,
    "start_time": "2021-07-07T18:14:01.985Z"
   },
   {
    "duration": 11,
    "start_time": "2021-07-07T18:14:02.019Z"
   },
   {
    "duration": 22,
    "start_time": "2021-07-07T18:14:02.031Z"
   },
   {
    "duration": 27,
    "start_time": "2021-07-07T18:14:02.055Z"
   },
   {
    "duration": 18,
    "start_time": "2021-07-07T18:14:02.084Z"
   },
   {
    "duration": 18,
    "start_time": "2021-07-07T18:14:02.106Z"
   },
   {
    "duration": 11,
    "start_time": "2021-07-07T18:14:02.126Z"
   },
   {
    "duration": 21,
    "start_time": "2021-07-07T18:14:02.138Z"
   },
   {
    "duration": 32,
    "start_time": "2021-07-07T18:14:02.161Z"
   },
   {
    "duration": 28,
    "start_time": "2021-07-07T18:14:44.295Z"
   },
   {
    "duration": 6,
    "start_time": "2021-07-07T18:15:05.834Z"
   },
   {
    "duration": 511,
    "start_time": "2021-07-07T18:15:41.541Z"
   },
   {
    "duration": 183,
    "start_time": "2021-07-07T18:15:42.054Z"
   },
   {
    "duration": 50,
    "start_time": "2021-07-07T18:15:42.239Z"
   },
   {
    "duration": 5,
    "start_time": "2021-07-07T18:15:42.291Z"
   },
   {
    "duration": 48,
    "start_time": "2021-07-07T18:15:42.297Z"
   },
   {
    "duration": 8,
    "start_time": "2021-07-07T18:15:42.346Z"
   },
   {
    "duration": 17,
    "start_time": "2021-07-07T18:15:42.356Z"
   },
   {
    "duration": 15,
    "start_time": "2021-07-07T18:15:42.375Z"
   },
   {
    "duration": 12,
    "start_time": "2021-07-07T18:15:42.392Z"
   },
   {
    "duration": 7,
    "start_time": "2021-07-07T18:15:42.406Z"
   },
   {
    "duration": 7,
    "start_time": "2021-07-07T18:15:42.415Z"
   },
   {
    "duration": 29,
    "start_time": "2021-07-07T18:15:42.423Z"
   },
   {
    "duration": 43,
    "start_time": "2021-07-07T18:15:42.453Z"
   },
   {
    "duration": 18,
    "start_time": "2021-07-07T18:15:42.497Z"
   },
   {
    "duration": 6,
    "start_time": "2021-07-07T18:15:42.516Z"
   },
   {
    "duration": 3,
    "start_time": "2021-07-07T18:15:42.523Z"
   },
   {
    "duration": 18,
    "start_time": "2021-07-07T18:15:42.528Z"
   },
   {
    "duration": 10,
    "start_time": "2021-07-07T18:15:42.547Z"
   },
   {
    "duration": 36,
    "start_time": "2021-07-07T18:15:42.559Z"
   },
   {
    "duration": 8,
    "start_time": "2021-07-07T18:15:42.597Z"
   },
   {
    "duration": 28,
    "start_time": "2021-07-07T18:15:42.606Z"
   },
   {
    "duration": 52,
    "start_time": "2021-07-07T18:15:42.635Z"
   },
   {
    "duration": 7,
    "start_time": "2021-07-07T18:15:42.690Z"
   },
   {
    "duration": 10,
    "start_time": "2021-07-07T18:15:42.699Z"
   },
   {
    "duration": 19,
    "start_time": "2021-07-07T18:15:42.711Z"
   },
   {
    "duration": 9,
    "start_time": "2021-07-07T18:15:42.732Z"
   },
   {
    "duration": 5,
    "start_time": "2021-07-07T18:15:42.743Z"
   },
   {
    "duration": 1450,
    "start_time": "2021-07-07T18:15:51.984Z"
   },
   {
    "duration": 161,
    "start_time": "2021-07-07T18:15:53.435Z"
   },
   {
    "duration": 124,
    "start_time": "2021-07-07T18:15:53.598Z"
   },
   {
    "duration": 5,
    "start_time": "2021-07-07T18:15:53.724Z"
   },
   {
    "duration": 34,
    "start_time": "2021-07-07T18:15:53.730Z"
   },
   {
    "duration": 7,
    "start_time": "2021-07-07T18:15:53.765Z"
   },
   {
    "duration": 15,
    "start_time": "2021-07-07T18:15:53.773Z"
   },
   {
    "duration": 5,
    "start_time": "2021-07-07T18:15:53.791Z"
   },
   {
    "duration": 19,
    "start_time": "2021-07-07T18:15:53.798Z"
   },
   {
    "duration": 9,
    "start_time": "2021-07-07T18:15:53.818Z"
   },
   {
    "duration": 19,
    "start_time": "2021-07-07T18:15:53.828Z"
   },
   {
    "duration": 27,
    "start_time": "2021-07-07T18:15:53.848Z"
   },
   {
    "duration": 16,
    "start_time": "2021-07-07T18:15:53.884Z"
   },
   {
    "duration": 29,
    "start_time": "2021-07-07T18:15:53.901Z"
   },
   {
    "duration": 5,
    "start_time": "2021-07-07T18:15:53.932Z"
   },
   {
    "duration": 15,
    "start_time": "2021-07-07T18:15:53.939Z"
   },
   {
    "duration": 13,
    "start_time": "2021-07-07T18:15:53.956Z"
   },
   {
    "duration": 20,
    "start_time": "2021-07-07T18:15:53.971Z"
   },
   {
    "duration": 14,
    "start_time": "2021-07-07T18:15:53.992Z"
   },
   {
    "duration": 9,
    "start_time": "2021-07-07T18:15:54.009Z"
   },
   {
    "duration": 28,
    "start_time": "2021-07-07T18:15:54.020Z"
   },
   {
    "duration": 50,
    "start_time": "2021-07-07T18:15:54.051Z"
   },
   {
    "duration": 8,
    "start_time": "2021-07-07T18:15:54.105Z"
   },
   {
    "duration": 11,
    "start_time": "2021-07-07T18:15:54.115Z"
   },
   {
    "duration": 20,
    "start_time": "2021-07-07T18:15:54.128Z"
   },
   {
    "duration": 13,
    "start_time": "2021-07-07T18:15:54.184Z"
   },
   {
    "duration": 7,
    "start_time": "2021-07-07T18:15:54.199Z"
   },
   {
    "duration": 7,
    "start_time": "2021-07-07T18:17:08.042Z"
   },
   {
    "duration": 8,
    "start_time": "2021-07-07T18:17:21.008Z"
   },
   {
    "duration": 7,
    "start_time": "2021-07-07T18:17:29.003Z"
   },
   {
    "duration": 8,
    "start_time": "2021-07-07T18:17:32.492Z"
   },
   {
    "duration": 9,
    "start_time": "2021-07-07T18:17:41.758Z"
   },
   {
    "duration": 255,
    "start_time": "2021-07-07T18:20:20.897Z"
   },
   {
    "duration": 173,
    "start_time": "2021-07-07T18:20:26.636Z"
   },
   {
    "duration": 7,
    "start_time": "2021-07-07T18:21:47.164Z"
   },
   {
    "duration": 254,
    "start_time": "2021-07-07T18:23:08.703Z"
   },
   {
    "duration": 21,
    "start_time": "2021-07-07T18:23:22.506Z"
   },
   {
    "duration": 315,
    "start_time": "2021-07-07T18:25:54.801Z"
   },
   {
    "duration": 34,
    "start_time": "2021-07-07T18:26:51.817Z"
   },
   {
    "duration": 327,
    "start_time": "2021-07-07T18:26:56.147Z"
   },
   {
    "duration": 342,
    "start_time": "2021-07-07T18:27:15.887Z"
   },
   {
    "duration": 302,
    "start_time": "2021-07-07T18:28:18.569Z"
   },
   {
    "duration": 226,
    "start_time": "2021-07-07T18:29:20.879Z"
   },
   {
    "duration": 207,
    "start_time": "2021-07-07T18:29:58.114Z"
   },
   {
    "duration": 140,
    "start_time": "2021-07-07T18:32:04.372Z"
   },
   {
    "duration": 158,
    "start_time": "2021-07-07T18:32:32.508Z"
   },
   {
    "duration": 145,
    "start_time": "2021-07-07T18:32:41.365Z"
   },
   {
    "duration": 132,
    "start_time": "2021-07-07T18:32:45.199Z"
   },
   {
    "duration": 11,
    "start_time": "2021-07-07T18:35:24.679Z"
   },
   {
    "duration": 268,
    "start_time": "2021-07-07T18:36:16.145Z"
   },
   {
    "duration": 227,
    "start_time": "2021-07-07T18:37:04.918Z"
   },
   {
    "duration": 3,
    "start_time": "2021-07-07T18:37:33.012Z"
   },
   {
    "duration": 671,
    "start_time": "2021-07-07T18:37:38.295Z"
   },
   {
    "duration": 54,
    "start_time": "2021-07-07T18:37:53.406Z"
   },
   {
    "duration": 631,
    "start_time": "2021-07-07T18:37:56.463Z"
   },
   {
    "duration": 19,
    "start_time": "2021-07-07T18:39:40.535Z"
   },
   {
    "duration": 20,
    "start_time": "2021-07-07T18:40:12.236Z"
   },
   {
    "duration": 633,
    "start_time": "2021-07-07T18:42:00.398Z"
   },
   {
    "duration": 218,
    "start_time": "2021-07-07T18:42:01.033Z"
   },
   {
    "duration": 49,
    "start_time": "2021-07-07T18:42:01.253Z"
   },
   {
    "duration": 5,
    "start_time": "2021-07-07T18:42:01.303Z"
   },
   {
    "duration": 27,
    "start_time": "2021-07-07T18:42:01.310Z"
   },
   {
    "duration": 8,
    "start_time": "2021-07-07T18:42:01.339Z"
   },
   {
    "duration": 20,
    "start_time": "2021-07-07T18:42:01.348Z"
   },
   {
    "duration": 6,
    "start_time": "2021-07-07T18:42:01.386Z"
   },
   {
    "duration": 16,
    "start_time": "2021-07-07T18:42:01.394Z"
   },
   {
    "duration": 9,
    "start_time": "2021-07-07T18:42:01.411Z"
   },
   {
    "duration": 11,
    "start_time": "2021-07-07T18:42:01.421Z"
   },
   {
    "duration": 31,
    "start_time": "2021-07-07T18:42:01.434Z"
   },
   {
    "duration": 18,
    "start_time": "2021-07-07T18:42:01.485Z"
   },
   {
    "duration": 23,
    "start_time": "2021-07-07T18:42:01.505Z"
   },
   {
    "duration": 6,
    "start_time": "2021-07-07T18:42:01.530Z"
   },
   {
    "duration": 10,
    "start_time": "2021-07-07T18:42:01.538Z"
   },
   {
    "duration": 13,
    "start_time": "2021-07-07T18:42:01.550Z"
   },
   {
    "duration": 24,
    "start_time": "2021-07-07T18:42:01.564Z"
   },
   {
    "duration": 20,
    "start_time": "2021-07-07T18:42:01.590Z"
   },
   {
    "duration": 8,
    "start_time": "2021-07-07T18:42:01.611Z"
   },
   {
    "duration": 31,
    "start_time": "2021-07-07T18:42:01.620Z"
   },
   {
    "duration": 39,
    "start_time": "2021-07-07T18:42:01.653Z"
   },
   {
    "duration": 8,
    "start_time": "2021-07-07T18:42:01.696Z"
   },
   {
    "duration": 13,
    "start_time": "2021-07-07T18:42:01.705Z"
   },
   {
    "duration": 20,
    "start_time": "2021-07-07T18:42:01.720Z"
   },
   {
    "duration": 12,
    "start_time": "2021-07-07T18:42:01.741Z"
   },
   {
    "duration": 35,
    "start_time": "2021-07-07T18:42:01.755Z"
   },
   {
    "duration": 14,
    "start_time": "2021-07-07T18:42:01.792Z"
   },
   {
    "duration": 188,
    "start_time": "2021-07-07T18:42:01.808Z"
   },
   {
    "duration": 19,
    "start_time": "2021-07-07T18:42:01.998Z"
   },
   {
    "duration": 175,
    "start_time": "2021-07-07T18:42:02.019Z"
   },
   {
    "duration": 134,
    "start_time": "2021-07-07T18:42:02.196Z"
   },
   {
    "duration": 10,
    "start_time": "2021-07-07T18:42:02.331Z"
   },
   {
    "duration": 19,
    "start_time": "2021-07-07T18:42:02.343Z"
   },
   {
    "duration": 628,
    "start_time": "2021-07-07T18:46:30.701Z"
   },
   {
    "duration": 183,
    "start_time": "2021-07-07T18:46:31.331Z"
   },
   {
    "duration": 48,
    "start_time": "2021-07-07T18:46:31.516Z"
   },
   {
    "duration": 5,
    "start_time": "2021-07-07T18:46:31.566Z"
   },
   {
    "duration": 28,
    "start_time": "2021-07-07T18:46:31.572Z"
   },
   {
    "duration": 8,
    "start_time": "2021-07-07T18:46:31.602Z"
   },
   {
    "duration": 19,
    "start_time": "2021-07-07T18:46:31.611Z"
   },
   {
    "duration": 6,
    "start_time": "2021-07-07T18:46:31.633Z"
   },
   {
    "duration": 17,
    "start_time": "2021-07-07T18:46:31.642Z"
   },
   {
    "duration": 10,
    "start_time": "2021-07-07T18:46:31.684Z"
   },
   {
    "duration": 9,
    "start_time": "2021-07-07T18:46:31.695Z"
   },
   {
    "duration": 28,
    "start_time": "2021-07-07T18:46:31.705Z"
   },
   {
    "duration": 18,
    "start_time": "2021-07-07T18:46:31.735Z"
   },
   {
    "duration": 48,
    "start_time": "2021-07-07T18:46:31.755Z"
   },
   {
    "duration": 6,
    "start_time": "2021-07-07T18:46:31.804Z"
   },
   {
    "duration": 4,
    "start_time": "2021-07-07T18:46:31.812Z"
   },
   {
    "duration": 9,
    "start_time": "2021-07-07T18:46:31.817Z"
   },
   {
    "duration": 10,
    "start_time": "2021-07-07T18:46:31.827Z"
   },
   {
    "duration": 12,
    "start_time": "2021-07-07T18:46:31.838Z"
   },
   {
    "duration": 39,
    "start_time": "2021-07-07T18:46:31.851Z"
   },
   {
    "duration": 24,
    "start_time": "2021-07-07T18:46:31.892Z"
   },
   {
    "duration": 15,
    "start_time": "2021-07-07T18:46:31.918Z"
   },
   {
    "duration": 7,
    "start_time": "2021-07-07T18:46:31.936Z"
   },
   {
    "duration": 8,
    "start_time": "2021-07-07T18:46:31.944Z"
   },
   {
    "duration": 19,
    "start_time": "2021-07-07T18:46:31.984Z"
   },
   {
    "duration": 10,
    "start_time": "2021-07-07T18:46:32.004Z"
   },
   {
    "duration": 5,
    "start_time": "2021-07-07T18:46:32.016Z"
   },
   {
    "duration": 9,
    "start_time": "2021-07-07T18:46:32.023Z"
   },
   {
    "duration": 199,
    "start_time": "2021-07-07T18:46:32.033Z"
   },
   {
    "duration": 19,
    "start_time": "2021-07-07T18:46:32.234Z"
   },
   {
    "duration": 159,
    "start_time": "2021-07-07T18:46:32.255Z"
   },
   {
    "duration": 134,
    "start_time": "2021-07-07T18:46:32.416Z"
   },
   {
    "duration": 10,
    "start_time": "2021-07-07T18:46:32.552Z"
   },
   {
    "duration": 34,
    "start_time": "2021-07-07T18:46:32.563Z"
   },
   {
    "duration": 1039,
    "start_time": "2021-07-08T08:41:09.419Z"
   },
   {
    "duration": 333,
    "start_time": "2021-07-08T08:41:10.459Z"
   },
   {
    "duration": 173,
    "start_time": "2021-07-08T08:41:10.794Z"
   },
   {
    "duration": 5,
    "start_time": "2021-07-08T08:41:10.968Z"
   },
   {
    "duration": 25,
    "start_time": "2021-07-08T08:41:10.975Z"
   },
   {
    "duration": 9,
    "start_time": "2021-07-08T08:41:11.002Z"
   },
   {
    "duration": 18,
    "start_time": "2021-07-08T08:41:11.013Z"
   },
   {
    "duration": 6,
    "start_time": "2021-07-08T08:41:11.033Z"
   },
   {
    "duration": 44,
    "start_time": "2021-07-08T08:41:11.042Z"
   },
   {
    "duration": 10,
    "start_time": "2021-07-08T08:41:11.088Z"
   },
   {
    "duration": 9,
    "start_time": "2021-07-08T08:41:11.100Z"
   },
   {
    "duration": 27,
    "start_time": "2021-07-08T08:41:11.111Z"
   },
   {
    "duration": 46,
    "start_time": "2021-07-08T08:41:11.140Z"
   },
   {
    "duration": 17,
    "start_time": "2021-07-08T08:41:11.187Z"
   },
   {
    "duration": 6,
    "start_time": "2021-07-08T08:41:11.206Z"
   },
   {
    "duration": 5,
    "start_time": "2021-07-08T08:41:11.213Z"
   },
   {
    "duration": 10,
    "start_time": "2021-07-08T08:41:11.219Z"
   },
   {
    "duration": 9,
    "start_time": "2021-07-08T08:41:11.230Z"
   },
   {
    "duration": 45,
    "start_time": "2021-07-08T08:41:11.241Z"
   },
   {
    "duration": 7,
    "start_time": "2021-07-08T08:41:11.287Z"
   },
   {
    "duration": 24,
    "start_time": "2021-07-08T08:41:11.296Z"
   },
   {
    "duration": 16,
    "start_time": "2021-07-08T08:41:11.322Z"
   },
   {
    "duration": 7,
    "start_time": "2021-07-08T08:41:11.341Z"
   },
   {
    "duration": 41,
    "start_time": "2021-07-08T08:41:11.349Z"
   },
   {
    "duration": 17,
    "start_time": "2021-07-08T08:41:11.391Z"
   },
   {
    "duration": 9,
    "start_time": "2021-07-08T08:41:11.410Z"
   },
   {
    "duration": 5,
    "start_time": "2021-07-08T08:41:11.421Z"
   },
   {
    "duration": 6,
    "start_time": "2021-07-08T08:41:11.428Z"
   },
   {
    "duration": 198,
    "start_time": "2021-07-08T08:41:11.435Z"
   },
   {
    "duration": 18,
    "start_time": "2021-07-08T08:41:11.635Z"
   },
   {
    "duration": 155,
    "start_time": "2021-07-08T08:41:11.655Z"
   },
   {
    "duration": 138,
    "start_time": "2021-07-08T08:41:11.811Z"
   },
   {
    "duration": 10,
    "start_time": "2021-07-08T08:41:11.950Z"
   },
   {
    "duration": 29,
    "start_time": "2021-07-08T08:41:11.961Z"
   },
   {
    "duration": 171,
    "start_time": "2021-07-08T08:47:44.522Z"
   },
   {
    "duration": 124,
    "start_time": "2021-07-08T08:47:46.872Z"
   },
   {
    "duration": 191,
    "start_time": "2021-07-08T08:47:58.148Z"
   },
   {
    "duration": 191,
    "start_time": "2021-07-08T08:48:07.412Z"
   },
   {
    "duration": 261,
    "start_time": "2021-07-08T08:48:10.385Z"
   },
   {
    "duration": 255,
    "start_time": "2021-07-08T08:48:14.494Z"
   },
   {
    "duration": 219,
    "start_time": "2021-07-08T08:48:22.752Z"
   },
   {
    "duration": 173,
    "start_time": "2021-07-08T08:49:06.395Z"
   },
   {
    "duration": 180,
    "start_time": "2021-07-08T08:49:21.011Z"
   },
   {
    "duration": 6,
    "start_time": "2021-07-08T08:50:31.697Z"
   },
   {
    "duration": 10,
    "start_time": "2021-07-08T08:50:47.394Z"
   },
   {
    "duration": 11,
    "start_time": "2021-07-08T08:53:49.332Z"
   },
   {
    "duration": 171,
    "start_time": "2021-07-08T08:54:28.408Z"
   },
   {
    "duration": 636,
    "start_time": "2021-07-08T09:02:48.385Z"
   },
   {
    "duration": 227,
    "start_time": "2021-07-08T09:02:49.023Z"
   },
   {
    "duration": 104,
    "start_time": "2021-07-08T09:02:49.252Z"
   },
   {
    "duration": 5,
    "start_time": "2021-07-08T09:02:49.358Z"
   },
   {
    "duration": 27,
    "start_time": "2021-07-08T09:02:49.365Z"
   },
   {
    "duration": 8,
    "start_time": "2021-07-08T09:02:49.394Z"
   },
   {
    "duration": 18,
    "start_time": "2021-07-08T09:02:49.404Z"
   },
   {
    "duration": 6,
    "start_time": "2021-07-08T09:02:49.424Z"
   },
   {
    "duration": 11,
    "start_time": "2021-07-08T09:02:49.433Z"
   },
   {
    "duration": 13,
    "start_time": "2021-07-08T09:02:49.485Z"
   },
   {
    "duration": 9,
    "start_time": "2021-07-08T09:02:49.500Z"
   },
   {
    "duration": 38,
    "start_time": "2021-07-08T09:02:49.511Z"
   },
   {
    "duration": 42,
    "start_time": "2021-07-08T09:02:49.551Z"
   },
   {
    "duration": 21,
    "start_time": "2021-07-08T09:02:49.594Z"
   },
   {
    "duration": 6,
    "start_time": "2021-07-08T09:02:49.616Z"
   },
   {
    "duration": 3,
    "start_time": "2021-07-08T09:02:49.623Z"
   },
   {
    "duration": 9,
    "start_time": "2021-07-08T09:02:49.628Z"
   },
   {
    "duration": 52,
    "start_time": "2021-07-08T09:02:49.638Z"
   },
   {
    "duration": 11,
    "start_time": "2021-07-08T09:02:49.692Z"
   },
   {
    "duration": 8,
    "start_time": "2021-07-08T09:02:49.704Z"
   },
   {
    "duration": 27,
    "start_time": "2021-07-08T09:02:49.713Z"
   },
   {
    "duration": 59,
    "start_time": "2021-07-08T09:02:49.741Z"
   },
   {
    "duration": 8,
    "start_time": "2021-07-08T09:02:49.803Z"
   },
   {
    "duration": 14,
    "start_time": "2021-07-08T09:02:49.813Z"
   },
   {
    "duration": 20,
    "start_time": "2021-07-08T09:02:49.829Z"
   },
   {
    "duration": 44,
    "start_time": "2021-07-08T09:02:49.851Z"
   },
   {
    "duration": 14,
    "start_time": "2021-07-08T09:02:49.896Z"
   },
   {
    "duration": 221,
    "start_time": "2021-07-08T09:02:49.912Z"
   },
   {
    "duration": 6,
    "start_time": "2021-07-08T09:02:50.134Z"
   },
   {
    "duration": 206,
    "start_time": "2021-07-08T09:02:50.142Z"
   },
   {
    "duration": 19,
    "start_time": "2021-07-08T09:02:50.350Z"
   },
   {
    "duration": 21,
    "start_time": "2021-07-08T09:02:50.370Z"
   },
   {
    "duration": 20,
    "start_time": "2021-07-08T09:02:50.393Z"
   },
   {
    "duration": 5,
    "start_time": "2021-07-08T09:02:50.414Z"
   },
   {
    "duration": 5,
    "start_time": "2021-07-08T09:03:34.173Z"
   },
   {
    "duration": 6,
    "start_time": "2021-07-08T09:04:49.062Z"
   },
   {
    "duration": 9,
    "start_time": "2021-07-08T09:04:50.118Z"
   },
   {
    "duration": 14,
    "start_time": "2021-07-08T09:04:58.512Z"
   },
   {
    "duration": 9,
    "start_time": "2021-07-08T09:05:10.988Z"
   },
   {
    "duration": 11,
    "start_time": "2021-07-08T09:05:11.743Z"
   },
   {
    "duration": 7,
    "start_time": "2021-07-08T09:05:25.677Z"
   },
   {
    "duration": 13,
    "start_time": "2021-07-08T09:05:47.189Z"
   },
   {
    "duration": 13,
    "start_time": "2021-07-08T09:05:54.755Z"
   },
   {
    "duration": 4,
    "start_time": "2021-07-08T09:06:29.189Z"
   },
   {
    "duration": 244,
    "start_time": "2021-07-08T09:06:29.195Z"
   },
   {
    "duration": 91,
    "start_time": "2021-07-08T09:06:29.441Z"
   },
   {
    "duration": 4,
    "start_time": "2021-07-08T09:06:29.534Z"
   },
   {
    "duration": 28,
    "start_time": "2021-07-08T09:06:29.540Z"
   },
   {
    "duration": 6,
    "start_time": "2021-07-08T09:06:29.570Z"
   },
   {
    "duration": 18,
    "start_time": "2021-07-08T09:06:29.578Z"
   },
   {
    "duration": 5,
    "start_time": "2021-07-08T09:06:29.597Z"
   },
   {
    "duration": 13,
    "start_time": "2021-07-08T09:06:29.605Z"
   },
   {
    "duration": 8,
    "start_time": "2021-07-08T09:06:29.620Z"
   },
   {
    "duration": 7,
    "start_time": "2021-07-08T09:06:29.630Z"
   },
   {
    "duration": 63,
    "start_time": "2021-07-08T09:06:29.639Z"
   },
   {
    "duration": 17,
    "start_time": "2021-07-08T09:06:29.704Z"
   },
   {
    "duration": 20,
    "start_time": "2021-07-08T09:06:29.723Z"
   },
   {
    "duration": 6,
    "start_time": "2021-07-08T09:06:29.745Z"
   },
   {
    "duration": 3,
    "start_time": "2021-07-08T09:06:29.752Z"
   },
   {
    "duration": 7,
    "start_time": "2021-07-08T09:06:29.785Z"
   },
   {
    "duration": 11,
    "start_time": "2021-07-08T09:06:29.794Z"
   },
   {
    "duration": 15,
    "start_time": "2021-07-08T09:06:29.807Z"
   },
   {
    "duration": 8,
    "start_time": "2021-07-08T09:06:29.823Z"
   },
   {
    "duration": 70,
    "start_time": "2021-07-08T09:06:29.832Z"
   },
   {
    "duration": 17,
    "start_time": "2021-07-08T09:06:29.903Z"
   },
   {
    "duration": 9,
    "start_time": "2021-07-08T09:06:29.921Z"
   },
   {
    "duration": 9,
    "start_time": "2021-07-08T09:06:29.932Z"
   },
   {
    "duration": 57,
    "start_time": "2021-07-08T09:06:29.942Z"
   },
   {
    "duration": 11,
    "start_time": "2021-07-08T09:06:30.001Z"
   },
   {
    "duration": 19,
    "start_time": "2021-07-08T09:06:30.016Z"
   },
   {
    "duration": 217,
    "start_time": "2021-07-08T09:06:30.037Z"
   },
   {
    "duration": 6,
    "start_time": "2021-07-08T09:06:30.255Z"
   },
   {
    "duration": 205,
    "start_time": "2021-07-08T09:06:30.263Z"
   },
   {
    "duration": 27,
    "start_time": "2021-07-08T09:06:30.470Z"
   },
   {
    "duration": 11,
    "start_time": "2021-07-08T09:06:30.500Z"
   },
   {
    "duration": 31,
    "start_time": "2021-07-08T09:06:30.513Z"
   },
   {
    "duration": 18,
    "start_time": "2021-07-08T09:06:30.546Z"
   },
   {
    "duration": 11,
    "start_time": "2021-07-08T09:06:30.566Z"
   },
   {
    "duration": 19,
    "start_time": "2021-07-08T09:06:30.579Z"
   },
   {
    "duration": 20,
    "start_time": "2021-07-08T09:06:49.466Z"
   },
   {
    "duration": 9,
    "start_time": "2021-07-08T09:06:51.994Z"
   },
   {
    "duration": 20,
    "start_time": "2021-07-08T09:06:52.273Z"
   },
   {
    "duration": 246,
    "start_time": "2021-07-08T09:10:21.272Z"
   },
   {
    "duration": 84,
    "start_time": "2021-07-08T09:10:21.436Z"
   },
   {
    "duration": 7,
    "start_time": "2021-07-08T09:10:37.608Z"
   },
   {
    "duration": 189,
    "start_time": "2021-07-08T09:10:38.573Z"
   },
   {
    "duration": 185,
    "start_time": "2021-07-08T09:10:53.181Z"
   },
   {
    "duration": 11,
    "start_time": "2021-07-08T09:10:59.549Z"
   },
   {
    "duration": 42,
    "start_time": "2021-07-08T09:10:59.709Z"
   },
   {
    "duration": 12,
    "start_time": "2021-07-08T09:11:02.857Z"
   },
   {
    "duration": 28,
    "start_time": "2021-07-08T09:11:10.062Z"
   },
   {
    "duration": 249,
    "start_time": "2021-07-08T09:11:37.388Z"
   },
   {
    "duration": 232,
    "start_time": "2021-07-08T09:11:49.485Z"
   },
   {
    "duration": 453,
    "start_time": "2021-07-08T09:12:01.546Z"
   },
   {
    "duration": 440,
    "start_time": "2021-07-08T09:12:12.347Z"
   },
   {
    "duration": 213,
    "start_time": "2021-07-08T09:13:32.196Z"
   },
   {
    "duration": 172,
    "start_time": "2021-07-08T09:14:07.400Z"
   },
   {
    "duration": 185,
    "start_time": "2021-07-08T09:14:14.905Z"
   },
   {
    "duration": 209,
    "start_time": "2021-07-08T09:14:40.109Z"
   },
   {
    "duration": 201,
    "start_time": "2021-07-08T09:14:54.506Z"
   },
   {
    "duration": 622,
    "start_time": "2021-07-08T09:18:14.497Z"
   },
   {
    "duration": 220,
    "start_time": "2021-07-08T09:18:15.121Z"
   },
   {
    "duration": 79,
    "start_time": "2021-07-08T09:18:15.343Z"
   },
   {
    "duration": 4,
    "start_time": "2021-07-08T09:18:15.425Z"
   },
   {
    "duration": 24,
    "start_time": "2021-07-08T09:18:15.431Z"
   },
   {
    "duration": 8,
    "start_time": "2021-07-08T09:18:15.457Z"
   },
   {
    "duration": 16,
    "start_time": "2021-07-08T09:18:15.466Z"
   },
   {
    "duration": 5,
    "start_time": "2021-07-08T09:18:15.484Z"
   },
   {
    "duration": 10,
    "start_time": "2021-07-08T09:18:15.493Z"
   },
   {
    "duration": 8,
    "start_time": "2021-07-08T09:18:15.504Z"
   },
   {
    "duration": 7,
    "start_time": "2021-07-08T09:18:15.513Z"
   },
   {
    "duration": 26,
    "start_time": "2021-07-08T09:18:15.522Z"
   },
   {
    "duration": 49,
    "start_time": "2021-07-08T09:18:15.550Z"
   },
   {
    "duration": 21,
    "start_time": "2021-07-08T09:18:15.601Z"
   },
   {
    "duration": 8,
    "start_time": "2021-07-08T09:18:15.624Z"
   },
   {
    "duration": 3,
    "start_time": "2021-07-08T09:18:15.634Z"
   },
   {
    "duration": 8,
    "start_time": "2021-07-08T09:18:15.639Z"
   },
   {
    "duration": 45,
    "start_time": "2021-07-08T09:18:15.649Z"
   },
   {
    "duration": 13,
    "start_time": "2021-07-08T09:18:15.696Z"
   },
   {
    "duration": 10,
    "start_time": "2021-07-08T09:18:15.711Z"
   },
   {
    "duration": 64,
    "start_time": "2021-07-08T09:18:15.722Z"
   },
   {
    "duration": 19,
    "start_time": "2021-07-08T09:18:15.788Z"
   },
   {
    "duration": 9,
    "start_time": "2021-07-08T09:18:15.809Z"
   },
   {
    "duration": 9,
    "start_time": "2021-07-08T09:18:15.820Z"
   },
   {
    "duration": 18,
    "start_time": "2021-07-08T09:18:15.831Z"
   },
   {
    "duration": 43,
    "start_time": "2021-07-08T09:18:15.851Z"
   },
   {
    "duration": 12,
    "start_time": "2021-07-08T09:18:15.897Z"
   },
   {
    "duration": 219,
    "start_time": "2021-07-08T09:18:15.911Z"
   },
   {
    "duration": 8,
    "start_time": "2021-07-08T09:18:16.132Z"
   },
   {
    "duration": 199,
    "start_time": "2021-07-08T09:18:16.141Z"
   },
   {
    "duration": 18,
    "start_time": "2021-07-08T09:18:16.341Z"
   },
   {
    "duration": 24,
    "start_time": "2021-07-08T09:18:16.361Z"
   },
   {
    "duration": 24,
    "start_time": "2021-07-08T09:18:16.387Z"
   },
   {
    "duration": 211,
    "start_time": "2021-07-08T09:18:16.413Z"
   },
   {
    "duration": 18,
    "start_time": "2021-07-08T09:18:16.626Z"
   },
   {
    "duration": 596,
    "start_time": "2021-07-08T10:06:33.623Z"
   },
   {
    "duration": 181,
    "start_time": "2021-07-08T10:06:34.221Z"
   },
   {
    "duration": 176,
    "start_time": "2021-07-08T10:06:34.635Z"
   },
   {
    "duration": 239,
    "start_time": "2021-07-08T10:06:55.572Z"
   },
   {
    "duration": 6,
    "start_time": "2021-07-08T10:06:57.687Z"
   },
   {
    "duration": 4,
    "start_time": "2021-07-08T10:07:03.956Z"
   },
   {
    "duration": 4,
    "start_time": "2021-07-08T10:07:10.376Z"
   },
   {
    "duration": 4,
    "start_time": "2021-07-08T10:17:19.889Z"
   },
   {
    "duration": 3,
    "start_time": "2021-07-08T10:19:19.407Z"
   },
   {
    "duration": 197,
    "start_time": "2021-07-08T10:19:19.412Z"
   },
   {
    "duration": 127,
    "start_time": "2021-07-08T10:19:19.611Z"
   },
   {
    "duration": 4,
    "start_time": "2021-07-08T10:19:19.740Z"
   },
   {
    "duration": 27,
    "start_time": "2021-07-08T10:19:19.746Z"
   },
   {
    "duration": 7,
    "start_time": "2021-07-08T10:19:19.775Z"
   },
   {
    "duration": 30,
    "start_time": "2021-07-08T10:19:19.784Z"
   },
   {
    "duration": 7,
    "start_time": "2021-07-08T10:19:19.817Z"
   },
   {
    "duration": 26,
    "start_time": "2021-07-08T10:19:19.826Z"
   },
   {
    "duration": 18,
    "start_time": "2021-07-08T10:19:19.854Z"
   },
   {
    "duration": 14,
    "start_time": "2021-07-08T10:19:19.874Z"
   },
   {
    "duration": 48,
    "start_time": "2021-07-08T10:19:19.890Z"
   },
   {
    "duration": 17,
    "start_time": "2021-07-08T10:19:19.940Z"
   },
   {
    "duration": 38,
    "start_time": "2021-07-08T10:19:19.959Z"
   },
   {
    "duration": 8,
    "start_time": "2021-07-08T10:19:19.999Z"
   },
   {
    "duration": 15,
    "start_time": "2021-07-08T10:19:20.009Z"
   },
   {
    "duration": 22,
    "start_time": "2021-07-08T10:19:20.026Z"
   },
   {
    "duration": 10,
    "start_time": "2021-07-08T10:19:20.050Z"
   },
   {
    "duration": 10,
    "start_time": "2021-07-08T10:19:20.062Z"
   },
   {
    "duration": 20,
    "start_time": "2021-07-08T10:19:20.073Z"
   },
   {
    "duration": 29,
    "start_time": "2021-07-08T10:19:20.095Z"
   },
   {
    "duration": 17,
    "start_time": "2021-07-08T10:19:20.126Z"
   },
   {
    "duration": 40,
    "start_time": "2021-07-08T10:19:20.146Z"
   },
   {
    "duration": 15,
    "start_time": "2021-07-08T10:19:20.189Z"
   },
   {
    "duration": 19,
    "start_time": "2021-07-08T10:19:20.206Z"
   },
   {
    "duration": 10,
    "start_time": "2021-07-08T10:19:20.226Z"
   },
   {
    "duration": 11,
    "start_time": "2021-07-08T10:19:20.238Z"
   },
   {
    "duration": 297,
    "start_time": "2021-07-08T10:19:20.250Z"
   },
   {
    "duration": 6,
    "start_time": "2021-07-08T10:19:20.549Z"
   },
   {
    "duration": 191,
    "start_time": "2021-07-08T10:19:20.557Z"
   },
   {
    "duration": 19,
    "start_time": "2021-07-08T10:19:20.750Z"
   },
   {
    "duration": 20,
    "start_time": "2021-07-08T10:19:20.771Z"
   },
   {
    "duration": 15,
    "start_time": "2021-07-08T10:19:20.793Z"
   },
   {
    "duration": 222,
    "start_time": "2021-07-08T10:19:20.809Z"
   },
   {
    "duration": 20,
    "start_time": "2021-07-08T10:19:21.033Z"
   },
   {
    "duration": 27,
    "start_time": "2021-07-08T10:45:04.055Z"
   },
   {
    "duration": 8,
    "start_time": "2021-07-08T10:45:08.478Z"
   },
   {
    "duration": 8,
    "start_time": "2021-07-08T10:45:31.982Z"
   },
   {
    "duration": 10,
    "start_time": "2021-07-08T10:46:01.221Z"
   },
   {
    "duration": 17,
    "start_time": "2021-07-08T10:46:40.011Z"
   },
   {
    "duration": 193,
    "start_time": "2021-07-08T10:48:19.471Z"
   },
   {
    "duration": 225,
    "start_time": "2021-07-08T10:49:26.480Z"
   },
   {
    "duration": 204,
    "start_time": "2021-07-08T10:49:59.992Z"
   },
   {
    "duration": 435,
    "start_time": "2021-07-08T10:50:06.779Z"
   },
   {
    "duration": 199,
    "start_time": "2021-07-08T10:50:14.891Z"
   },
   {
    "duration": 204,
    "start_time": "2021-07-08T10:50:18.501Z"
   },
   {
    "duration": 244,
    "start_time": "2021-07-08T10:50:23.359Z"
   },
   {
    "duration": 192,
    "start_time": "2021-07-08T10:50:29.135Z"
   },
   {
    "duration": 218,
    "start_time": "2021-07-08T10:50:33.092Z"
   },
   {
    "duration": 207,
    "start_time": "2021-07-08T10:52:45.381Z"
   },
   {
    "duration": 5,
    "start_time": "2021-07-08T10:53:34.641Z"
   },
   {
    "duration": 196,
    "start_time": "2021-07-08T10:53:41.478Z"
   },
   {
    "duration": 43,
    "start_time": "2021-07-08T10:53:50.335Z"
   },
   {
    "duration": 32,
    "start_time": "2021-07-08T10:53:55.294Z"
   },
   {
    "duration": 55,
    "start_time": "2021-07-08T10:54:09.675Z"
   },
   {
    "duration": 16,
    "start_time": "2021-07-08T10:54:12.260Z"
   },
   {
    "duration": 15,
    "start_time": "2021-07-08T10:54:49.150Z"
   },
   {
    "duration": 20,
    "start_time": "2021-07-08T10:56:07.596Z"
   },
   {
    "duration": 16,
    "start_time": "2021-07-08T10:58:26.276Z"
   },
   {
    "duration": 22,
    "start_time": "2021-07-08T10:59:00.486Z"
   },
   {
    "duration": 18,
    "start_time": "2021-07-08T11:02:09.653Z"
   },
   {
    "duration": 10,
    "start_time": "2021-07-08T11:03:44.331Z"
   },
   {
    "duration": 10,
    "start_time": "2021-07-08T11:03:54.055Z"
   },
   {
    "duration": 12,
    "start_time": "2021-07-08T11:04:41.967Z"
   },
   {
    "duration": 24,
    "start_time": "2021-07-08T11:07:30.732Z"
   },
   {
    "duration": 6,
    "start_time": "2021-07-08T11:07:37.364Z"
   },
   {
    "duration": 16,
    "start_time": "2021-07-08T11:08:01.819Z"
   },
   {
    "duration": 17,
    "start_time": "2021-07-08T11:09:47.488Z"
   },
   {
    "duration": 246,
    "start_time": "2021-07-08T11:10:00.830Z"
   },
   {
    "duration": 18,
    "start_time": "2021-07-08T11:13:55.195Z"
   },
   {
    "duration": 204,
    "start_time": "2021-07-08T11:14:04.951Z"
   },
   {
    "duration": 19,
    "start_time": "2021-07-08T11:15:10.613Z"
   },
   {
    "duration": 680,
    "start_time": "2021-07-08T11:16:25.793Z"
   },
   {
    "duration": 451,
    "start_time": "2021-07-08T11:16:40.313Z"
   },
   {
    "duration": 469,
    "start_time": "2021-07-08T11:17:21.286Z"
   },
   {
    "duration": 20,
    "start_time": "2021-07-08T11:19:12.554Z"
   },
   {
    "duration": 35,
    "start_time": "2021-07-08T11:20:05.484Z"
   },
   {
    "duration": 53,
    "start_time": "2021-07-08T11:21:40.050Z"
   },
   {
    "duration": 13,
    "start_time": "2021-07-08T11:22:26.059Z"
   },
   {
    "duration": 19,
    "start_time": "2021-07-08T11:22:47.419Z"
   },
   {
    "duration": 25,
    "start_time": "2021-07-08T11:23:19.958Z"
   },
   {
    "duration": 29,
    "start_time": "2021-07-08T11:23:25.415Z"
   },
   {
    "duration": 10,
    "start_time": "2021-07-08T11:24:45.138Z"
   },
   {
    "duration": 19,
    "start_time": "2021-07-08T11:24:54.498Z"
   },
   {
    "duration": 12,
    "start_time": "2021-07-08T11:25:32.225Z"
   },
   {
    "duration": 19,
    "start_time": "2021-07-08T11:25:37.092Z"
   },
   {
    "duration": 17,
    "start_time": "2021-07-08T11:25:58.116Z"
   },
   {
    "duration": 15,
    "start_time": "2021-07-08T11:26:02.258Z"
   },
   {
    "duration": 8,
    "start_time": "2021-07-08T11:26:59.682Z"
   },
   {
    "duration": 184,
    "start_time": "2021-07-08T11:27:21.894Z"
   },
   {
    "duration": 8,
    "start_time": "2021-07-08T11:27:23.824Z"
   },
   {
    "duration": 202,
    "start_time": "2021-07-08T11:27:23.962Z"
   },
   {
    "duration": 360,
    "start_time": "2021-07-08T11:28:33.215Z"
   },
   {
    "duration": 231,
    "start_time": "2021-07-08T11:32:05.542Z"
   },
   {
    "duration": 607,
    "start_time": "2021-07-08T11:36:27.854Z"
   },
   {
    "duration": 241,
    "start_time": "2021-07-08T11:36:28.463Z"
   },
   {
    "duration": 67,
    "start_time": "2021-07-08T11:36:28.709Z"
   },
   {
    "duration": 5,
    "start_time": "2021-07-08T11:36:28.778Z"
   },
   {
    "duration": 32,
    "start_time": "2021-07-08T11:36:28.784Z"
   },
   {
    "duration": 11,
    "start_time": "2021-07-08T11:36:28.819Z"
   },
   {
    "duration": 20,
    "start_time": "2021-07-08T11:36:28.834Z"
   },
   {
    "duration": 36,
    "start_time": "2021-07-08T11:36:28.857Z"
   },
   {
    "duration": 16,
    "start_time": "2021-07-08T11:36:28.895Z"
   },
   {
    "duration": 14,
    "start_time": "2021-07-08T11:36:28.913Z"
   },
   {
    "duration": 9,
    "start_time": "2021-07-08T11:36:28.930Z"
   },
   {
    "duration": 55,
    "start_time": "2021-07-08T11:36:28.941Z"
   },
   {
    "duration": 27,
    "start_time": "2021-07-08T11:36:28.999Z"
   },
   {
    "duration": 30,
    "start_time": "2021-07-08T11:36:29.028Z"
   },
   {
    "duration": 31,
    "start_time": "2021-07-08T11:36:29.060Z"
   },
   {
    "duration": 3,
    "start_time": "2021-07-08T11:36:29.093Z"
   },
   {
    "duration": 12,
    "start_time": "2021-07-08T11:36:29.099Z"
   },
   {
    "duration": 11,
    "start_time": "2021-07-08T11:36:29.112Z"
   },
   {
    "duration": 12,
    "start_time": "2021-07-08T11:36:29.125Z"
   },
   {
    "duration": 9,
    "start_time": "2021-07-08T11:36:29.139Z"
   },
   {
    "duration": 31,
    "start_time": "2021-07-08T11:36:29.191Z"
   },
   {
    "duration": 17,
    "start_time": "2021-07-08T11:36:29.226Z"
   },
   {
    "duration": 7,
    "start_time": "2021-07-08T11:36:29.245Z"
   },
   {
    "duration": 10,
    "start_time": "2021-07-08T11:36:29.254Z"
   },
   {
    "duration": 30,
    "start_time": "2021-07-08T11:36:29.292Z"
   },
   {
    "duration": 11,
    "start_time": "2021-07-08T11:36:29.324Z"
   },
   {
    "duration": 11,
    "start_time": "2021-07-08T11:36:29.337Z"
   },
   {
    "duration": 230,
    "start_time": "2021-07-08T11:36:29.349Z"
   },
   {
    "duration": 13,
    "start_time": "2021-07-08T11:36:29.588Z"
   },
   {
    "duration": 205,
    "start_time": "2021-07-08T11:36:29.603Z"
   },
   {
    "duration": 20,
    "start_time": "2021-07-08T11:36:29.810Z"
   },
   {
    "duration": 9,
    "start_time": "2021-07-08T11:36:29.832Z"
   },
   {
    "duration": 16,
    "start_time": "2021-07-08T11:36:29.843Z"
   },
   {
    "duration": 283,
    "start_time": "2021-07-08T11:36:29.861Z"
   },
   {
    "duration": 50,
    "start_time": "2021-07-08T11:36:30.146Z"
   },
   {
    "duration": 14,
    "start_time": "2021-07-08T11:36:30.198Z"
   },
   {
    "duration": 11,
    "start_time": "2021-07-08T11:36:30.214Z"
   },
   {
    "duration": 245,
    "start_time": "2021-07-08T11:36:30.227Z"
   },
   {
    "duration": 439,
    "start_time": "2021-07-08T11:36:30.474Z"
   },
   {
    "duration": 210,
    "start_time": "2021-07-08T11:36:30.915Z"
   },
   {
    "duration": 15,
    "start_time": "2021-07-08T11:36:31.127Z"
   },
   {
    "duration": 17,
    "start_time": "2021-07-08T11:38:20.451Z"
   },
   {
    "duration": 642,
    "start_time": "2021-07-08T11:46:17.881Z"
   },
   {
    "duration": 210,
    "start_time": "2021-07-08T11:46:18.525Z"
   },
   {
    "duration": 104,
    "start_time": "2021-07-08T11:46:18.741Z"
   },
   {
    "duration": 8,
    "start_time": "2021-07-08T11:46:18.847Z"
   },
   {
    "duration": 25,
    "start_time": "2021-07-08T11:46:18.857Z"
   },
   {
    "duration": 14,
    "start_time": "2021-07-08T11:46:18.884Z"
   },
   {
    "duration": 22,
    "start_time": "2021-07-08T11:46:18.900Z"
   },
   {
    "duration": 5,
    "start_time": "2021-07-08T11:46:18.924Z"
   },
   {
    "duration": 13,
    "start_time": "2021-07-08T11:46:18.931Z"
   },
   {
    "duration": 45,
    "start_time": "2021-07-08T11:46:18.946Z"
   },
   {
    "duration": 12,
    "start_time": "2021-07-08T11:46:18.993Z"
   },
   {
    "duration": 38,
    "start_time": "2021-07-08T11:46:19.006Z"
   },
   {
    "duration": 50,
    "start_time": "2021-07-08T11:46:19.046Z"
   },
   {
    "duration": 29,
    "start_time": "2021-07-08T11:46:19.099Z"
   },
   {
    "duration": 7,
    "start_time": "2021-07-08T11:46:19.130Z"
   },
   {
    "duration": 3,
    "start_time": "2021-07-08T11:46:19.139Z"
   },
   {
    "duration": 11,
    "start_time": "2021-07-08T11:46:19.144Z"
   },
   {
    "duration": 40,
    "start_time": "2021-07-08T11:46:19.157Z"
   },
   {
    "duration": 15,
    "start_time": "2021-07-08T11:46:19.199Z"
   },
   {
    "duration": 10,
    "start_time": "2021-07-08T11:46:19.217Z"
   },
   {
    "duration": 68,
    "start_time": "2021-07-08T11:46:19.230Z"
   },
   {
    "duration": 17,
    "start_time": "2021-07-08T11:46:19.301Z"
   },
   {
    "duration": 7,
    "start_time": "2021-07-08T11:46:19.321Z"
   },
   {
    "duration": 11,
    "start_time": "2021-07-08T11:46:19.330Z"
   },
   {
    "duration": 59,
    "start_time": "2021-07-08T11:46:19.343Z"
   },
   {
    "duration": 17,
    "start_time": "2021-07-08T11:46:19.405Z"
   },
   {
    "duration": 16,
    "start_time": "2021-07-08T11:46:19.424Z"
   },
   {
    "duration": 252,
    "start_time": "2021-07-08T11:46:19.443Z"
   },
   {
    "duration": 9,
    "start_time": "2021-07-08T11:46:19.697Z"
   },
   {
    "duration": 224,
    "start_time": "2021-07-08T11:46:19.708Z"
   },
   {
    "duration": 21,
    "start_time": "2021-07-08T11:46:19.934Z"
   },
   {
    "duration": 9,
    "start_time": "2021-07-08T11:46:19.956Z"
   },
   {
    "duration": 32,
    "start_time": "2021-07-08T11:46:19.967Z"
   },
   {
    "duration": 288,
    "start_time": "2021-07-08T11:46:20.004Z"
   },
   {
    "duration": 23,
    "start_time": "2021-07-08T11:46:20.300Z"
   },
   {
    "duration": 11,
    "start_time": "2021-07-08T11:46:20.325Z"
   },
   {
    "duration": 11,
    "start_time": "2021-07-08T11:46:20.339Z"
   },
   {
    "duration": 259,
    "start_time": "2021-07-08T11:46:20.352Z"
   },
   {
    "duration": 438,
    "start_time": "2021-07-08T11:46:20.613Z"
   },
   {
    "duration": 207,
    "start_time": "2021-07-08T11:46:21.054Z"
   },
   {
    "duration": 27,
    "start_time": "2021-07-08T11:46:21.262Z"
   },
   {
    "duration": 19,
    "start_time": "2021-07-08T11:46:21.291Z"
   },
   {
    "duration": 820,
    "start_time": "2021-07-08T11:49:01.655Z"
   },
   {
    "duration": 372,
    "start_time": "2021-07-08T11:49:02.478Z"
   },
   {
    "duration": 98,
    "start_time": "2021-07-08T11:49:02.853Z"
   },
   {
    "duration": 6,
    "start_time": "2021-07-08T11:49:02.953Z"
   },
   {
    "duration": 39,
    "start_time": "2021-07-08T11:49:02.960Z"
   },
   {
    "duration": 9,
    "start_time": "2021-07-08T11:49:03.003Z"
   },
   {
    "duration": 23,
    "start_time": "2021-07-08T11:49:03.014Z"
   },
   {
    "duration": 6,
    "start_time": "2021-07-08T11:49:03.041Z"
   },
   {
    "duration": 20,
    "start_time": "2021-07-08T11:49:03.049Z"
   },
   {
    "duration": 18,
    "start_time": "2021-07-08T11:49:03.084Z"
   },
   {
    "duration": 14,
    "start_time": "2021-07-08T11:49:03.104Z"
   },
   {
    "duration": 39,
    "start_time": "2021-07-08T11:49:03.119Z"
   },
   {
    "duration": 38,
    "start_time": "2021-07-08T11:49:03.160Z"
   },
   {
    "duration": 26,
    "start_time": "2021-07-08T11:49:03.200Z"
   },
   {
    "duration": 7,
    "start_time": "2021-07-08T11:49:03.227Z"
   },
   {
    "duration": 4,
    "start_time": "2021-07-08T11:49:03.236Z"
   },
   {
    "duration": 15,
    "start_time": "2021-07-08T11:49:03.243Z"
   },
   {
    "duration": 21,
    "start_time": "2021-07-08T11:49:03.285Z"
   },
   {
    "duration": 17,
    "start_time": "2021-07-08T11:49:03.309Z"
   },
   {
    "duration": 10,
    "start_time": "2021-07-08T11:49:03.328Z"
   },
   {
    "duration": 65,
    "start_time": "2021-07-08T11:49:03.340Z"
   },
   {
    "duration": 18,
    "start_time": "2021-07-08T11:49:03.407Z"
   },
   {
    "duration": 8,
    "start_time": "2021-07-08T11:49:03.428Z"
   },
   {
    "duration": 15,
    "start_time": "2021-07-08T11:49:03.438Z"
   },
   {
    "duration": 40,
    "start_time": "2021-07-08T11:49:03.455Z"
   },
   {
    "duration": 12,
    "start_time": "2021-07-08T11:49:03.497Z"
   },
   {
    "duration": 29,
    "start_time": "2021-07-08T11:49:03.511Z"
   },
   {
    "duration": 285,
    "start_time": "2021-07-08T11:49:03.542Z"
   },
   {
    "duration": 8,
    "start_time": "2021-07-08T11:49:03.829Z"
   },
   {
    "duration": 227,
    "start_time": "2021-07-08T11:49:03.838Z"
   },
   {
    "duration": 40,
    "start_time": "2021-07-08T11:49:04.066Z"
   },
   {
    "duration": 10,
    "start_time": "2021-07-08T11:49:04.108Z"
   },
   {
    "duration": 26,
    "start_time": "2021-07-08T11:49:04.121Z"
   },
   {
    "duration": 290,
    "start_time": "2021-07-08T11:49:04.149Z"
   },
   {
    "duration": 26,
    "start_time": "2021-07-08T11:49:04.441Z"
   },
   {
    "duration": 31,
    "start_time": "2021-07-08T11:49:04.470Z"
   },
   {
    "duration": 14,
    "start_time": "2021-07-08T11:49:04.503Z"
   },
   {
    "duration": 259,
    "start_time": "2021-07-08T11:49:04.521Z"
   },
   {
    "duration": 480,
    "start_time": "2021-07-08T11:49:04.782Z"
   },
   {
    "duration": 225,
    "start_time": "2021-07-08T11:49:05.264Z"
   },
   {
    "duration": 22,
    "start_time": "2021-07-08T11:49:05.491Z"
   },
   {
    "duration": 24,
    "start_time": "2021-07-08T11:49:05.515Z"
   },
   {
    "duration": 634,
    "start_time": "2021-07-08T11:52:24.960Z"
   },
   {
    "duration": 199,
    "start_time": "2021-07-08T11:52:25.599Z"
   },
   {
    "duration": 106,
    "start_time": "2021-07-08T11:52:25.803Z"
   },
   {
    "duration": 7,
    "start_time": "2021-07-08T11:52:25.911Z"
   },
   {
    "duration": 29,
    "start_time": "2021-07-08T11:52:25.920Z"
   },
   {
    "duration": 7,
    "start_time": "2021-07-08T11:52:25.951Z"
   },
   {
    "duration": 26,
    "start_time": "2021-07-08T11:52:25.961Z"
   },
   {
    "duration": 11,
    "start_time": "2021-07-08T11:52:25.990Z"
   },
   {
    "duration": 29,
    "start_time": "2021-07-08T11:52:26.005Z"
   },
   {
    "duration": 9,
    "start_time": "2021-07-08T11:52:26.036Z"
   },
   {
    "duration": 8,
    "start_time": "2021-07-08T11:52:26.047Z"
   },
   {
    "duration": 63,
    "start_time": "2021-07-08T11:52:26.057Z"
   },
   {
    "duration": 17,
    "start_time": "2021-07-08T11:52:26.122Z"
   },
   {
    "duration": 43,
    "start_time": "2021-07-08T11:52:26.142Z"
   },
   {
    "duration": 17,
    "start_time": "2021-07-08T11:52:26.187Z"
   },
   {
    "duration": 5,
    "start_time": "2021-07-08T11:52:26.206Z"
   },
   {
    "duration": 12,
    "start_time": "2021-07-08T11:52:26.212Z"
   },
   {
    "duration": 11,
    "start_time": "2021-07-08T11:52:26.226Z"
   },
   {
    "duration": 12,
    "start_time": "2021-07-08T11:52:26.238Z"
   },
   {
    "duration": 38,
    "start_time": "2021-07-08T11:52:26.252Z"
   },
   {
    "duration": 40,
    "start_time": "2021-07-08T11:52:26.292Z"
   },
   {
    "duration": 17,
    "start_time": "2021-07-08T11:52:26.336Z"
   },
   {
    "duration": 39,
    "start_time": "2021-07-08T11:52:26.355Z"
   },
   {
    "duration": 11,
    "start_time": "2021-07-08T11:52:26.395Z"
   },
   {
    "duration": 23,
    "start_time": "2021-07-08T11:52:26.408Z"
   },
   {
    "duration": 12,
    "start_time": "2021-07-08T11:52:26.432Z"
   },
   {
    "duration": 41,
    "start_time": "2021-07-08T11:52:26.446Z"
   },
   {
    "duration": 215,
    "start_time": "2021-07-08T11:52:26.493Z"
   },
   {
    "duration": 8,
    "start_time": "2021-07-08T11:52:26.710Z"
   },
   {
    "duration": 228,
    "start_time": "2021-07-08T11:52:26.720Z"
   },
   {
    "duration": 18,
    "start_time": "2021-07-08T11:52:26.950Z"
   },
   {
    "duration": 35,
    "start_time": "2021-07-08T11:52:26.969Z"
   },
   {
    "duration": 23,
    "start_time": "2021-07-08T11:52:27.006Z"
   },
   {
    "duration": 258,
    "start_time": "2021-07-08T11:52:27.030Z"
   },
   {
    "duration": 24,
    "start_time": "2021-07-08T11:52:27.290Z"
   },
   {
    "duration": 12,
    "start_time": "2021-07-08T11:52:27.316Z"
   },
   {
    "duration": 10,
    "start_time": "2021-07-08T11:52:27.329Z"
   },
   {
    "duration": 298,
    "start_time": "2021-07-08T11:52:27.341Z"
   },
   {
    "duration": 436,
    "start_time": "2021-07-08T11:52:27.641Z"
   },
   {
    "duration": 216,
    "start_time": "2021-07-08T11:52:28.079Z"
   },
   {
    "duration": 20,
    "start_time": "2021-07-08T11:52:28.297Z"
   },
   {
    "duration": 17,
    "start_time": "2021-07-08T11:52:28.319Z"
   },
   {
    "duration": 488,
    "start_time": "2023-06-11T16:10:43.249Z"
   },
   {
    "duration": 0,
    "start_time": "2023-06-11T16:10:43.749Z"
   },
   {
    "duration": 0,
    "start_time": "2023-06-11T16:10:43.750Z"
   },
   {
    "duration": 0,
    "start_time": "2023-06-11T16:10:43.751Z"
   },
   {
    "duration": 0,
    "start_time": "2023-06-11T16:10:43.751Z"
   },
   {
    "duration": 0,
    "start_time": "2023-06-11T16:10:43.752Z"
   },
   {
    "duration": 0,
    "start_time": "2023-06-11T16:10:43.752Z"
   },
   {
    "duration": 0,
    "start_time": "2023-06-11T16:10:43.753Z"
   },
   {
    "duration": 0,
    "start_time": "2023-06-11T16:10:43.754Z"
   },
   {
    "duration": 0,
    "start_time": "2023-06-11T16:10:43.754Z"
   },
   {
    "duration": 0,
    "start_time": "2023-06-11T16:10:43.755Z"
   },
   {
    "duration": 0,
    "start_time": "2023-06-11T16:10:43.755Z"
   },
   {
    "duration": 0,
    "start_time": "2023-06-11T16:10:43.756Z"
   },
   {
    "duration": 0,
    "start_time": "2023-06-11T16:10:43.756Z"
   },
   {
    "duration": 0,
    "start_time": "2023-06-11T16:10:43.757Z"
   },
   {
    "duration": 0,
    "start_time": "2023-06-11T16:10:43.758Z"
   },
   {
    "duration": 0,
    "start_time": "2023-06-11T16:10:43.758Z"
   },
   {
    "duration": 0,
    "start_time": "2023-06-11T16:10:43.759Z"
   },
   {
    "duration": 0,
    "start_time": "2023-06-11T16:10:43.759Z"
   },
   {
    "duration": 0,
    "start_time": "2023-06-11T16:10:43.760Z"
   },
   {
    "duration": 0,
    "start_time": "2023-06-11T16:10:43.761Z"
   },
   {
    "duration": 0,
    "start_time": "2023-06-11T16:10:43.762Z"
   },
   {
    "duration": 0,
    "start_time": "2023-06-11T16:10:43.762Z"
   },
   {
    "duration": 0,
    "start_time": "2023-06-11T16:10:43.763Z"
   },
   {
    "duration": 0,
    "start_time": "2023-06-11T16:10:43.764Z"
   },
   {
    "duration": 0,
    "start_time": "2023-06-11T16:10:43.764Z"
   },
   {
    "duration": 0,
    "start_time": "2023-06-11T16:10:43.765Z"
   },
   {
    "duration": 0,
    "start_time": "2023-06-11T16:10:43.766Z"
   },
   {
    "duration": 0,
    "start_time": "2023-06-11T16:10:43.767Z"
   },
   {
    "duration": 0,
    "start_time": "2023-06-11T16:10:43.768Z"
   },
   {
    "duration": 0,
    "start_time": "2023-06-11T16:10:43.768Z"
   },
   {
    "duration": 1,
    "start_time": "2023-06-11T16:10:43.769Z"
   },
   {
    "duration": 0,
    "start_time": "2023-06-11T16:10:43.770Z"
   },
   {
    "duration": 0,
    "start_time": "2023-06-11T16:10:43.771Z"
   },
   {
    "duration": 0,
    "start_time": "2023-06-11T16:10:43.772Z"
   },
   {
    "duration": 0,
    "start_time": "2023-06-11T16:10:43.773Z"
   },
   {
    "duration": 0,
    "start_time": "2023-06-11T16:10:43.774Z"
   },
   {
    "duration": 0,
    "start_time": "2023-06-11T16:10:43.775Z"
   },
   {
    "duration": 0,
    "start_time": "2023-06-11T16:10:43.776Z"
   },
   {
    "duration": 0,
    "start_time": "2023-06-11T16:10:43.776Z"
   },
   {
    "duration": 0,
    "start_time": "2023-06-11T16:10:43.778Z"
   },
   {
    "duration": 0,
    "start_time": "2023-06-11T16:10:43.778Z"
   },
   {
    "duration": 0,
    "start_time": "2023-06-11T16:10:43.779Z"
   },
   {
    "duration": 0,
    "start_time": "2023-06-11T16:10:43.780Z"
   },
   {
    "duration": 0,
    "start_time": "2023-06-11T16:10:43.782Z"
   },
   {
    "duration": 0,
    "start_time": "2023-06-11T16:10:43.829Z"
   },
   {
    "duration": 0,
    "start_time": "2023-06-11T16:10:43.830Z"
   },
   {
    "duration": 0,
    "start_time": "2023-06-11T16:10:43.830Z"
   },
   {
    "duration": 0,
    "start_time": "2023-06-11T16:10:43.831Z"
   },
   {
    "duration": 0,
    "start_time": "2023-06-11T16:10:43.831Z"
   },
   {
    "duration": 0,
    "start_time": "2023-06-11T16:10:43.832Z"
   },
   {
    "duration": 0,
    "start_time": "2023-06-11T16:10:43.832Z"
   },
   {
    "duration": 0,
    "start_time": "2023-06-11T16:10:43.838Z"
   },
   {
    "duration": 0,
    "start_time": "2023-06-11T16:10:43.839Z"
   },
   {
    "duration": 0,
    "start_time": "2023-06-11T16:10:43.839Z"
   },
   {
    "duration": 0,
    "start_time": "2023-06-11T16:10:43.840Z"
   },
   {
    "duration": 0,
    "start_time": "2023-06-11T16:10:43.840Z"
   },
   {
    "duration": 0,
    "start_time": "2023-06-11T16:10:43.841Z"
   },
   {
    "duration": 0,
    "start_time": "2023-06-11T16:10:43.842Z"
   },
   {
    "duration": 0,
    "start_time": "2023-06-11T16:10:43.842Z"
   },
   {
    "duration": 0,
    "start_time": "2023-06-11T16:10:43.843Z"
   },
   {
    "duration": 289,
    "start_time": "2023-06-11T16:11:10.463Z"
   },
   {
    "duration": 654,
    "start_time": "2023-06-11T16:11:14.379Z"
   },
   {
    "duration": 152,
    "start_time": "2023-06-11T16:11:15.056Z"
   },
   {
    "duration": 0,
    "start_time": "2023-06-11T16:11:15.211Z"
   },
   {
    "duration": 0,
    "start_time": "2023-06-11T16:11:15.212Z"
   },
   {
    "duration": 0,
    "start_time": "2023-06-11T16:11:15.213Z"
   },
   {
    "duration": 1,
    "start_time": "2023-06-11T16:11:15.214Z"
   },
   {
    "duration": 0,
    "start_time": "2023-06-11T16:11:15.215Z"
   },
   {
    "duration": 0,
    "start_time": "2023-06-11T16:11:15.216Z"
   },
   {
    "duration": 0,
    "start_time": "2023-06-11T16:11:15.216Z"
   },
   {
    "duration": 1,
    "start_time": "2023-06-11T16:11:15.216Z"
   },
   {
    "duration": 0,
    "start_time": "2023-06-11T16:11:15.217Z"
   },
   {
    "duration": 0,
    "start_time": "2023-06-11T16:11:15.218Z"
   },
   {
    "duration": 0,
    "start_time": "2023-06-11T16:11:15.218Z"
   },
   {
    "duration": 0,
    "start_time": "2023-06-11T16:11:15.218Z"
   },
   {
    "duration": 0,
    "start_time": "2023-06-11T16:11:15.225Z"
   },
   {
    "duration": 0,
    "start_time": "2023-06-11T16:11:15.226Z"
   },
   {
    "duration": 0,
    "start_time": "2023-06-11T16:11:15.231Z"
   },
   {
    "duration": 0,
    "start_time": "2023-06-11T16:11:15.231Z"
   },
   {
    "duration": 0,
    "start_time": "2023-06-11T16:11:15.232Z"
   },
   {
    "duration": 0,
    "start_time": "2023-06-11T16:11:15.232Z"
   },
   {
    "duration": 0,
    "start_time": "2023-06-11T16:11:15.233Z"
   },
   {
    "duration": 0,
    "start_time": "2023-06-11T16:11:15.233Z"
   },
   {
    "duration": 0,
    "start_time": "2023-06-11T16:11:15.234Z"
   },
   {
    "duration": 1,
    "start_time": "2023-06-11T16:11:15.234Z"
   },
   {
    "duration": 0,
    "start_time": "2023-06-11T16:11:15.241Z"
   },
   {
    "duration": 0,
    "start_time": "2023-06-11T16:11:15.242Z"
   },
   {
    "duration": 0,
    "start_time": "2023-06-11T16:11:15.242Z"
   },
   {
    "duration": 0,
    "start_time": "2023-06-11T16:11:15.243Z"
   },
   {
    "duration": 0,
    "start_time": "2023-06-11T16:11:15.243Z"
   },
   {
    "duration": 0,
    "start_time": "2023-06-11T16:11:15.244Z"
   },
   {
    "duration": 0,
    "start_time": "2023-06-11T16:11:15.244Z"
   },
   {
    "duration": 0,
    "start_time": "2023-06-11T16:11:15.250Z"
   },
   {
    "duration": 0,
    "start_time": "2023-06-11T16:11:15.251Z"
   },
   {
    "duration": 0,
    "start_time": "2023-06-11T16:11:15.252Z"
   },
   {
    "duration": 0,
    "start_time": "2023-06-11T16:11:15.253Z"
   },
   {
    "duration": 0,
    "start_time": "2023-06-11T16:11:15.254Z"
   },
   {
    "duration": 0,
    "start_time": "2023-06-11T16:11:15.255Z"
   },
   {
    "duration": 0,
    "start_time": "2023-06-11T16:11:15.256Z"
   },
   {
    "duration": 0,
    "start_time": "2023-06-11T16:11:15.258Z"
   },
   {
    "duration": 0,
    "start_time": "2023-06-11T16:11:15.259Z"
   },
   {
    "duration": 0,
    "start_time": "2023-06-11T16:11:15.260Z"
   },
   {
    "duration": 0,
    "start_time": "2023-06-11T16:11:15.263Z"
   },
   {
    "duration": 0,
    "start_time": "2023-06-11T16:11:15.264Z"
   },
   {
    "duration": 0,
    "start_time": "2023-06-11T16:11:15.265Z"
   },
   {
    "duration": 0,
    "start_time": "2023-06-11T16:11:15.267Z"
   },
   {
    "duration": 0,
    "start_time": "2023-06-11T16:11:15.269Z"
   },
   {
    "duration": 0,
    "start_time": "2023-06-11T16:11:15.271Z"
   },
   {
    "duration": 0,
    "start_time": "2023-06-11T16:11:15.272Z"
   },
   {
    "duration": 0,
    "start_time": "2023-06-11T16:11:15.273Z"
   },
   {
    "duration": 0,
    "start_time": "2023-06-11T16:11:15.274Z"
   },
   {
    "duration": 0,
    "start_time": "2023-06-11T16:11:15.276Z"
   },
   {
    "duration": 0,
    "start_time": "2023-06-11T16:11:15.277Z"
   },
   {
    "duration": 0,
    "start_time": "2023-06-11T16:11:15.279Z"
   },
   {
    "duration": 0,
    "start_time": "2023-06-11T16:11:15.279Z"
   },
   {
    "duration": 0,
    "start_time": "2023-06-11T16:11:15.281Z"
   },
   {
    "duration": 0,
    "start_time": "2023-06-11T16:11:15.282Z"
   },
   {
    "duration": 0,
    "start_time": "2023-06-11T16:11:15.283Z"
   },
   {
    "duration": 0,
    "start_time": "2023-06-11T16:11:15.284Z"
   },
   {
    "duration": 0,
    "start_time": "2023-06-11T16:11:15.332Z"
   },
   {
    "duration": 0,
    "start_time": "2023-06-11T16:11:15.337Z"
   },
   {
    "duration": 0,
    "start_time": "2023-06-11T16:11:15.338Z"
   },
   {
    "duration": 461,
    "start_time": "2023-06-12T06:14:27.193Z"
   },
   {
    "duration": 0,
    "start_time": "2023-06-12T06:14:27.656Z"
   },
   {
    "duration": 0,
    "start_time": "2023-06-12T06:14:27.657Z"
   },
   {
    "duration": 0,
    "start_time": "2023-06-12T06:14:27.658Z"
   },
   {
    "duration": 0,
    "start_time": "2023-06-12T06:14:27.659Z"
   },
   {
    "duration": 0,
    "start_time": "2023-06-12T06:14:27.660Z"
   },
   {
    "duration": 0,
    "start_time": "2023-06-12T06:14:27.661Z"
   },
   {
    "duration": 0,
    "start_time": "2023-06-12T06:14:27.663Z"
   },
   {
    "duration": 0,
    "start_time": "2023-06-12T06:14:27.671Z"
   },
   {
    "duration": 0,
    "start_time": "2023-06-12T06:14:27.672Z"
   },
   {
    "duration": 0,
    "start_time": "2023-06-12T06:14:27.673Z"
   },
   {
    "duration": 0,
    "start_time": "2023-06-12T06:14:27.674Z"
   },
   {
    "duration": 0,
    "start_time": "2023-06-12T06:14:27.674Z"
   },
   {
    "duration": 0,
    "start_time": "2023-06-12T06:14:27.677Z"
   },
   {
    "duration": 0,
    "start_time": "2023-06-12T06:14:27.678Z"
   },
   {
    "duration": 0,
    "start_time": "2023-06-12T06:14:27.679Z"
   },
   {
    "duration": 0,
    "start_time": "2023-06-12T06:14:27.680Z"
   },
   {
    "duration": 0,
    "start_time": "2023-06-12T06:14:27.681Z"
   },
   {
    "duration": 0,
    "start_time": "2023-06-12T06:14:27.683Z"
   },
   {
    "duration": 0,
    "start_time": "2023-06-12T06:14:27.684Z"
   },
   {
    "duration": 9,
    "start_time": "2023-06-12T06:14:27.706Z"
   },
   {
    "duration": 6,
    "start_time": "2023-06-12T06:14:27.724Z"
   },
   {
    "duration": 25,
    "start_time": "2023-06-12T06:14:27.751Z"
   },
   {
    "duration": 7,
    "start_time": "2023-06-12T06:14:27.830Z"
   },
   {
    "duration": 7,
    "start_time": "2023-06-12T06:14:27.896Z"
   },
   {
    "duration": 0,
    "start_time": "2023-06-12T06:14:27.904Z"
   },
   {
    "duration": 7,
    "start_time": "2023-06-12T06:14:27.997Z"
   },
   {
    "duration": 6,
    "start_time": "2023-06-12T06:14:28.033Z"
   },
   {
    "duration": 6,
    "start_time": "2023-06-12T06:14:28.058Z"
   },
   {
    "duration": 8,
    "start_time": "2023-06-12T06:14:28.092Z"
   },
   {
    "duration": 7,
    "start_time": "2023-06-12T06:14:28.103Z"
   },
   {
    "duration": 7,
    "start_time": "2023-06-12T06:14:28.177Z"
   },
   {
    "duration": 14,
    "start_time": "2023-06-12T06:14:28.196Z"
   },
   {
    "duration": 0,
    "start_time": "2023-06-12T06:14:28.211Z"
   },
   {
    "duration": 7,
    "start_time": "2023-06-12T06:14:28.213Z"
   },
   {
    "duration": 6,
    "start_time": "2023-06-12T06:14:28.235Z"
   },
   {
    "duration": 8,
    "start_time": "2023-06-12T06:14:28.315Z"
   },
   {
    "duration": 8,
    "start_time": "2023-06-12T06:14:28.324Z"
   },
   {
    "duration": 6,
    "start_time": "2023-06-12T06:14:28.337Z"
   },
   {
    "duration": 7,
    "start_time": "2023-06-12T06:14:28.346Z"
   },
   {
    "duration": 19,
    "start_time": "2023-06-12T06:14:28.388Z"
   },
   {
    "duration": 0,
    "start_time": "2023-06-12T06:14:28.409Z"
   },
   {
    "duration": 0,
    "start_time": "2023-06-12T06:14:28.410Z"
   },
   {
    "duration": 7,
    "start_time": "2023-06-12T06:14:28.424Z"
   },
   {
    "duration": 6,
    "start_time": "2023-06-12T06:14:28.445Z"
   },
   {
    "duration": 6,
    "start_time": "2023-06-12T06:14:28.454Z"
   },
   {
    "duration": 12,
    "start_time": "2023-06-12T06:14:28.469Z"
   },
   {
    "duration": 17,
    "start_time": "2023-06-12T06:14:28.497Z"
   },
   {
    "duration": 0,
    "start_time": "2023-06-12T06:14:28.516Z"
   },
   {
    "duration": 0,
    "start_time": "2023-06-12T06:14:28.517Z"
   },
   {
    "duration": 0,
    "start_time": "2023-06-12T06:14:28.519Z"
   },
   {
    "duration": 8,
    "start_time": "2023-06-12T06:14:28.524Z"
   },
   {
    "duration": 0,
    "start_time": "2023-06-12T06:14:28.533Z"
   },
   {
    "duration": 11,
    "start_time": "2023-06-12T06:14:28.539Z"
   },
   {
    "duration": 0,
    "start_time": "2023-06-12T06:14:28.552Z"
   },
   {
    "duration": 6,
    "start_time": "2023-06-12T06:14:28.557Z"
   },
   {
    "duration": 41,
    "start_time": "2023-06-12T06:14:28.565Z"
   },
   {
    "duration": 0,
    "start_time": "2023-06-12T06:14:28.608Z"
   },
   {
    "duration": 0,
    "start_time": "2023-06-12T06:14:28.610Z"
   },
   {
    "duration": 0,
    "start_time": "2023-06-12T06:14:28.611Z"
   },
   {
    "duration": 6,
    "start_time": "2023-06-12T06:14:28.613Z"
   },
   {
    "duration": 798,
    "start_time": "2023-06-12T06:14:53.343Z"
   },
   {
    "duration": 322,
    "start_time": "2023-06-12T06:14:54.143Z"
   },
   {
    "duration": 210,
    "start_time": "2023-06-12T06:14:54.467Z"
   },
   {
    "duration": 22,
    "start_time": "2023-06-12T06:14:54.680Z"
   },
   {
    "duration": 10,
    "start_time": "2023-06-12T06:14:54.704Z"
   },
   {
    "duration": 14,
    "start_time": "2023-06-12T06:14:54.716Z"
   },
   {
    "duration": 4,
    "start_time": "2023-06-12T06:14:54.732Z"
   },
   {
    "duration": 115,
    "start_time": "2023-06-12T06:14:54.738Z"
   },
   {
    "duration": 0,
    "start_time": "2023-06-12T06:14:54.857Z"
   },
   {
    "duration": 0,
    "start_time": "2023-06-12T06:14:54.858Z"
   },
   {
    "duration": 0,
    "start_time": "2023-06-12T06:14:54.859Z"
   },
   {
    "duration": 0,
    "start_time": "2023-06-12T06:14:54.860Z"
   },
   {
    "duration": 0,
    "start_time": "2023-06-12T06:14:54.861Z"
   },
   {
    "duration": 0,
    "start_time": "2023-06-12T06:14:54.874Z"
   },
   {
    "duration": 0,
    "start_time": "2023-06-12T06:14:54.875Z"
   },
   {
    "duration": 0,
    "start_time": "2023-06-12T06:14:54.876Z"
   },
   {
    "duration": 0,
    "start_time": "2023-06-12T06:14:54.877Z"
   },
   {
    "duration": 0,
    "start_time": "2023-06-12T06:14:54.879Z"
   },
   {
    "duration": 0,
    "start_time": "2023-06-12T06:14:54.881Z"
   },
   {
    "duration": 0,
    "start_time": "2023-06-12T06:14:54.882Z"
   },
   {
    "duration": 0,
    "start_time": "2023-06-12T06:14:54.885Z"
   },
   {
    "duration": 0,
    "start_time": "2023-06-12T06:14:54.886Z"
   },
   {
    "duration": 0,
    "start_time": "2023-06-12T06:14:54.889Z"
   },
   {
    "duration": 0,
    "start_time": "2023-06-12T06:14:54.890Z"
   },
   {
    "duration": 0,
    "start_time": "2023-06-12T06:14:54.891Z"
   },
   {
    "duration": 0,
    "start_time": "2023-06-12T06:14:54.895Z"
   },
   {
    "duration": 0,
    "start_time": "2023-06-12T06:14:54.899Z"
   },
   {
    "duration": 0,
    "start_time": "2023-06-12T06:14:54.901Z"
   },
   {
    "duration": 0,
    "start_time": "2023-06-12T06:14:54.902Z"
   },
   {
    "duration": 0,
    "start_time": "2023-06-12T06:14:54.903Z"
   },
   {
    "duration": 0,
    "start_time": "2023-06-12T06:14:54.904Z"
   },
   {
    "duration": 0,
    "start_time": "2023-06-12T06:14:54.905Z"
   },
   {
    "duration": 0,
    "start_time": "2023-06-12T06:14:54.906Z"
   },
   {
    "duration": 0,
    "start_time": "2023-06-12T06:14:54.907Z"
   },
   {
    "duration": 0,
    "start_time": "2023-06-12T06:14:54.908Z"
   },
   {
    "duration": 0,
    "start_time": "2023-06-12T06:14:54.909Z"
   },
   {
    "duration": 0,
    "start_time": "2023-06-12T06:14:54.910Z"
   },
   {
    "duration": 0,
    "start_time": "2023-06-12T06:14:54.911Z"
   },
   {
    "duration": 0,
    "start_time": "2023-06-12T06:14:54.912Z"
   },
   {
    "duration": 0,
    "start_time": "2023-06-12T06:14:54.913Z"
   },
   {
    "duration": 0,
    "start_time": "2023-06-12T06:14:54.914Z"
   },
   {
    "duration": 0,
    "start_time": "2023-06-12T06:14:54.915Z"
   },
   {
    "duration": 0,
    "start_time": "2023-06-12T06:14:54.916Z"
   },
   {
    "duration": 0,
    "start_time": "2023-06-12T06:14:54.917Z"
   },
   {
    "duration": 0,
    "start_time": "2023-06-12T06:14:54.918Z"
   },
   {
    "duration": 0,
    "start_time": "2023-06-12T06:14:54.919Z"
   },
   {
    "duration": 0,
    "start_time": "2023-06-12T06:14:54.920Z"
   },
   {
    "duration": 0,
    "start_time": "2023-06-12T06:14:54.921Z"
   },
   {
    "duration": 0,
    "start_time": "2023-06-12T06:14:54.922Z"
   },
   {
    "duration": 0,
    "start_time": "2023-06-12T06:14:54.979Z"
   },
   {
    "duration": 0,
    "start_time": "2023-06-12T06:14:54.981Z"
   },
   {
    "duration": 0,
    "start_time": "2023-06-12T06:14:54.982Z"
   },
   {
    "duration": 0,
    "start_time": "2023-06-12T06:14:54.983Z"
   },
   {
    "duration": 0,
    "start_time": "2023-06-12T06:14:54.985Z"
   },
   {
    "duration": 0,
    "start_time": "2023-06-12T06:14:54.986Z"
   },
   {
    "duration": 0,
    "start_time": "2023-06-12T06:14:54.987Z"
   },
   {
    "duration": 0,
    "start_time": "2023-06-12T06:14:54.988Z"
   },
   {
    "duration": 0,
    "start_time": "2023-06-12T06:14:54.989Z"
   },
   {
    "duration": 0,
    "start_time": "2023-06-12T06:14:54.991Z"
   },
   {
    "duration": 0,
    "start_time": "2023-06-12T06:14:54.993Z"
   },
   {
    "duration": 0,
    "start_time": "2023-06-12T06:14:54.994Z"
   },
   {
    "duration": 3062,
    "start_time": "2023-06-12T06:16:59.593Z"
   },
   {
    "duration": 568,
    "start_time": "2023-06-12T06:17:13.670Z"
   },
   {
    "duration": 2083,
    "start_time": "2023-06-12T06:17:17.694Z"
   },
   {
    "duration": 1178,
    "start_time": "2023-06-12T06:17:19.779Z"
   },
   {
    "duration": 163,
    "start_time": "2023-06-12T06:17:20.959Z"
   },
   {
    "duration": 118,
    "start_time": "2023-06-12T06:17:21.123Z"
   },
   {
    "duration": 16,
    "start_time": "2023-06-12T06:17:21.243Z"
   },
   {
    "duration": 58,
    "start_time": "2023-06-12T06:17:21.261Z"
   },
   {
    "duration": 28,
    "start_time": "2023-06-12T06:17:21.321Z"
   },
   {
    "duration": 10,
    "start_time": "2023-06-12T06:17:21.351Z"
   },
   {
    "duration": 143,
    "start_time": "2023-06-12T06:17:21.362Z"
   },
   {
    "duration": 0,
    "start_time": "2023-06-12T06:17:21.509Z"
   },
   {
    "duration": 0,
    "start_time": "2023-06-12T06:17:21.510Z"
   },
   {
    "duration": 0,
    "start_time": "2023-06-12T06:17:21.511Z"
   },
   {
    "duration": 0,
    "start_time": "2023-06-12T06:17:21.512Z"
   },
   {
    "duration": 0,
    "start_time": "2023-06-12T06:17:21.513Z"
   },
   {
    "duration": 0,
    "start_time": "2023-06-12T06:17:21.514Z"
   },
   {
    "duration": 0,
    "start_time": "2023-06-12T06:17:21.515Z"
   },
   {
    "duration": 0,
    "start_time": "2023-06-12T06:17:21.516Z"
   },
   {
    "duration": 0,
    "start_time": "2023-06-12T06:17:21.517Z"
   },
   {
    "duration": 0,
    "start_time": "2023-06-12T06:17:21.518Z"
   },
   {
    "duration": 0,
    "start_time": "2023-06-12T06:17:21.519Z"
   },
   {
    "duration": 0,
    "start_time": "2023-06-12T06:17:21.520Z"
   },
   {
    "duration": 0,
    "start_time": "2023-06-12T06:17:21.521Z"
   },
   {
    "duration": 0,
    "start_time": "2023-06-12T06:17:21.523Z"
   },
   {
    "duration": 0,
    "start_time": "2023-06-12T06:17:21.523Z"
   },
   {
    "duration": 0,
    "start_time": "2023-06-12T06:17:21.524Z"
   },
   {
    "duration": 0,
    "start_time": "2023-06-12T06:17:21.525Z"
   },
   {
    "duration": 0,
    "start_time": "2023-06-12T06:17:21.526Z"
   },
   {
    "duration": 0,
    "start_time": "2023-06-12T06:17:21.527Z"
   },
   {
    "duration": 0,
    "start_time": "2023-06-12T06:17:21.528Z"
   },
   {
    "duration": 0,
    "start_time": "2023-06-12T06:17:21.529Z"
   },
   {
    "duration": 0,
    "start_time": "2023-06-12T06:17:21.530Z"
   },
   {
    "duration": 0,
    "start_time": "2023-06-12T06:17:21.531Z"
   },
   {
    "duration": 0,
    "start_time": "2023-06-12T06:17:21.532Z"
   },
   {
    "duration": 0,
    "start_time": "2023-06-12T06:17:21.533Z"
   },
   {
    "duration": 0,
    "start_time": "2023-06-12T06:17:21.534Z"
   },
   {
    "duration": 0,
    "start_time": "2023-06-12T06:17:21.535Z"
   },
   {
    "duration": 0,
    "start_time": "2023-06-12T06:17:21.536Z"
   },
   {
    "duration": 0,
    "start_time": "2023-06-12T06:17:21.572Z"
   },
   {
    "duration": 0,
    "start_time": "2023-06-12T06:17:21.574Z"
   },
   {
    "duration": 0,
    "start_time": "2023-06-12T06:17:21.575Z"
   },
   {
    "duration": 0,
    "start_time": "2023-06-12T06:17:21.578Z"
   },
   {
    "duration": 1,
    "start_time": "2023-06-12T06:17:21.578Z"
   },
   {
    "duration": 0,
    "start_time": "2023-06-12T06:17:21.580Z"
   },
   {
    "duration": 0,
    "start_time": "2023-06-12T06:17:21.580Z"
   },
   {
    "duration": 0,
    "start_time": "2023-06-12T06:17:21.582Z"
   },
   {
    "duration": 0,
    "start_time": "2023-06-12T06:17:21.582Z"
   },
   {
    "duration": 0,
    "start_time": "2023-06-12T06:17:21.583Z"
   },
   {
    "duration": 0,
    "start_time": "2023-06-12T06:17:21.584Z"
   },
   {
    "duration": 0,
    "start_time": "2023-06-12T06:17:21.587Z"
   },
   {
    "duration": 0,
    "start_time": "2023-06-12T06:17:21.587Z"
   },
   {
    "duration": 0,
    "start_time": "2023-06-12T06:17:21.588Z"
   },
   {
    "duration": 0,
    "start_time": "2023-06-12T06:17:21.588Z"
   },
   {
    "duration": 0,
    "start_time": "2023-06-12T06:17:21.589Z"
   },
   {
    "duration": 0,
    "start_time": "2023-06-12T06:17:21.589Z"
   },
   {
    "duration": 0,
    "start_time": "2023-06-12T06:17:21.592Z"
   },
   {
    "duration": 0,
    "start_time": "2023-06-12T06:17:21.592Z"
   },
   {
    "duration": 0,
    "start_time": "2023-06-12T06:17:21.593Z"
   },
   {
    "duration": 0,
    "start_time": "2023-06-12T06:17:21.594Z"
   },
   {
    "duration": 0,
    "start_time": "2023-06-12T06:17:21.595Z"
   },
   {
    "duration": 0,
    "start_time": "2023-06-12T06:17:21.596Z"
   },
   {
    "duration": 0,
    "start_time": "2023-06-12T06:17:21.596Z"
   },
   {
    "duration": 0,
    "start_time": "2023-06-12T06:17:21.598Z"
   },
   {
    "duration": 27,
    "start_time": "2023-06-12T06:18:48.093Z"
   },
   {
    "duration": 8,
    "start_time": "2023-06-12T06:18:51.368Z"
   },
   {
    "duration": 17,
    "start_time": "2023-06-12T06:19:55.415Z"
   },
   {
    "duration": 8,
    "start_time": "2023-06-12T06:20:03.658Z"
   },
   {
    "duration": 8,
    "start_time": "2023-06-12T06:20:04.146Z"
   },
   {
    "duration": 1800,
    "start_time": "2023-06-12T06:20:38.751Z"
   },
   {
    "duration": 21,
    "start_time": "2023-06-12T06:20:47.484Z"
   },
   {
    "duration": 1389,
    "start_time": "2023-06-12T06:20:55.771Z"
   },
   {
    "duration": 8,
    "start_time": "2023-06-12T06:21:46.138Z"
   },
   {
    "duration": 23,
    "start_time": "2023-06-12T06:22:02.421Z"
   },
   {
    "duration": 8,
    "start_time": "2023-06-12T06:22:02.656Z"
   },
   {
    "duration": 22,
    "start_time": "2023-06-12T06:22:03.120Z"
   },
   {
    "duration": 6,
    "start_time": "2023-06-12T06:23:20.543Z"
   },
   {
    "duration": 6,
    "start_time": "2023-06-12T06:23:21.986Z"
   },
   {
    "duration": 9,
    "start_time": "2023-06-12T06:23:23.393Z"
   },
   {
    "duration": 15,
    "start_time": "2023-06-12T06:23:23.901Z"
   },
   {
    "duration": 22,
    "start_time": "2023-06-12T06:23:25.594Z"
   },
   {
    "duration": 32,
    "start_time": "2023-06-12T06:24:04.250Z"
   },
   {
    "duration": 852,
    "start_time": "2023-06-12T06:24:04.640Z"
   },
   {
    "duration": 128,
    "start_time": "2023-06-12T06:24:34.420Z"
   },
   {
    "duration": 252,
    "start_time": "2023-06-12T06:24:40.823Z"
   },
   {
    "duration": 8,
    "start_time": "2023-06-12T06:24:47.789Z"
   },
   {
    "duration": 22,
    "start_time": "2023-06-12T06:24:48.441Z"
   },
   {
    "duration": 5,
    "start_time": "2023-06-12T06:26:01.659Z"
   },
   {
    "duration": 3,
    "start_time": "2023-06-12T06:26:03.920Z"
   },
   {
    "duration": 6,
    "start_time": "2023-06-12T06:26:07.251Z"
   },
   {
    "duration": 7,
    "start_time": "2023-06-12T06:26:07.885Z"
   },
   {
    "duration": 16,
    "start_time": "2023-06-12T06:26:08.988Z"
   },
   {
    "duration": 6,
    "start_time": "2023-06-12T06:26:15.185Z"
   },
   {
    "duration": 129,
    "start_time": "2023-06-12T06:26:16.217Z"
   },
   {
    "duration": 37,
    "start_time": "2023-06-12T06:26:55.754Z"
   },
   {
    "duration": 260,
    "start_time": "2023-06-12T06:26:58.457Z"
   },
   {
    "duration": 10,
    "start_time": "2023-06-12T06:26:59.703Z"
   },
   {
    "duration": 158,
    "start_time": "2023-06-12T06:27:00.232Z"
   },
   {
    "duration": 71,
    "start_time": "2023-06-12T06:27:01.421Z"
   },
   {
    "duration": 21,
    "start_time": "2023-06-12T06:27:04.102Z"
   },
   {
    "duration": 169,
    "start_time": "2023-06-12T06:27:07.070Z"
   },
   {
    "duration": 707,
    "start_time": "2023-06-12T06:27:08.217Z"
   },
   {
    "duration": 22,
    "start_time": "2023-06-12T06:35:37.863Z"
   },
   {
    "duration": 31,
    "start_time": "2023-06-12T06:35:38.153Z"
   },
   {
    "duration": 9,
    "start_time": "2023-06-12T06:35:38.602Z"
   },
   {
    "duration": 5,
    "start_time": "2023-06-12T06:35:38.765Z"
   },
   {
    "duration": 12,
    "start_time": "2023-06-12T06:35:39.091Z"
   },
   {
    "duration": 166,
    "start_time": "2023-06-12T06:35:39.267Z"
   },
   {
    "duration": 21,
    "start_time": "2023-06-12T06:35:39.720Z"
   },
   {
    "duration": 253,
    "start_time": "2023-06-12T06:35:39.870Z"
   },
   {
    "duration": 8,
    "start_time": "2023-06-12T06:35:40.125Z"
   },
   {
    "duration": 126,
    "start_time": "2023-06-12T06:35:40.237Z"
   },
   {
    "duration": 11,
    "start_time": "2023-06-12T06:35:40.402Z"
   },
   {
    "duration": 134,
    "start_time": "2023-06-12T06:35:40.603Z"
   },
   {
    "duration": 114,
    "start_time": "2023-06-12T06:35:41.100Z"
   },
   {
    "duration": 119,
    "start_time": "2023-06-12T06:35:41.370Z"
   },
   {
    "duration": 232,
    "start_time": "2023-06-12T06:35:41.809Z"
   },
   {
    "duration": 292,
    "start_time": "2023-06-12T06:35:42.042Z"
   },
   {
    "duration": 6,
    "start_time": "2023-06-12T06:35:42.338Z"
   },
   {
    "duration": 14,
    "start_time": "2023-06-12T06:36:02.359Z"
   },
   {
    "duration": 3248,
    "start_time": "2023-06-12T12:55:54.212Z"
   },
   {
    "duration": 1389,
    "start_time": "2023-06-12T12:55:57.463Z"
   },
   {
    "duration": 482,
    "start_time": "2023-06-12T12:56:01.865Z"
   },
   {
    "duration": 154,
    "start_time": "2023-06-12T12:56:03.815Z"
   },
   {
    "duration": 26,
    "start_time": "2023-06-12T12:56:05.815Z"
   },
   {
    "duration": 15,
    "start_time": "2023-06-12T12:56:08.199Z"
   },
   {
    "duration": 12,
    "start_time": "2023-06-12T12:56:08.910Z"
   },
   {
    "duration": 11,
    "start_time": "2023-06-12T12:56:09.760Z"
   },
   {
    "duration": 132,
    "start_time": "2023-06-12T12:56:10.551Z"
   },
   {
    "duration": 12,
    "start_time": "2023-06-12T12:58:46.269Z"
   },
   {
    "duration": 16,
    "start_time": "2023-06-12T12:58:49.073Z"
   },
   {
    "duration": 15,
    "start_time": "2023-06-12T13:03:33.552Z"
   },
   {
    "duration": 22,
    "start_time": "2023-06-12T13:03:35.187Z"
   },
   {
    "duration": 3086,
    "start_time": "2023-06-12T21:30:30.453Z"
   },
   {
    "duration": 1360,
    "start_time": "2023-06-12T21:30:33.541Z"
   },
   {
    "duration": 503,
    "start_time": "2023-06-12T21:30:34.903Z"
   },
   {
    "duration": 241,
    "start_time": "2023-06-12T21:30:35.408Z"
   },
   {
    "duration": 15,
    "start_time": "2023-06-12T21:30:35.650Z"
   },
   {
    "duration": 14,
    "start_time": "2023-06-12T21:30:35.666Z"
   },
   {
    "duration": 36,
    "start_time": "2023-06-12T21:30:35.682Z"
   },
   {
    "duration": 8,
    "start_time": "2023-06-12T21:30:35.720Z"
   },
   {
    "duration": 19,
    "start_time": "2023-06-12T21:30:35.730Z"
   },
   {
    "duration": 14,
    "start_time": "2023-06-12T21:30:35.752Z"
   },
   {
    "duration": 34,
    "start_time": "2023-06-12T21:30:35.768Z"
   },
   {
    "duration": 8,
    "start_time": "2023-06-12T21:30:35.804Z"
   },
   {
    "duration": 14,
    "start_time": "2023-06-12T21:30:35.813Z"
   },
   {
    "duration": 21,
    "start_time": "2023-06-12T21:30:35.829Z"
   },
   {
    "duration": 18,
    "start_time": "2023-06-12T21:30:35.852Z"
   },
   {
    "duration": 33,
    "start_time": "2023-06-12T21:30:35.873Z"
   },
   {
    "duration": 1200,
    "start_time": "2023-06-12T21:30:35.909Z"
   },
   {
    "duration": 12,
    "start_time": "2023-06-12T21:30:37.111Z"
   },
   {
    "duration": 33,
    "start_time": "2023-06-12T21:30:37.125Z"
   },
   {
    "duration": 5,
    "start_time": "2023-06-12T21:30:37.160Z"
   },
   {
    "duration": 33,
    "start_time": "2023-06-12T21:30:37.167Z"
   },
   {
    "duration": 9,
    "start_time": "2023-06-12T21:30:37.204Z"
   },
   {
    "duration": 9,
    "start_time": "2023-06-12T21:30:37.214Z"
   },
   {
    "duration": 10,
    "start_time": "2023-06-12T21:30:37.224Z"
   },
   {
    "duration": 9,
    "start_time": "2023-06-12T21:30:37.236Z"
   },
   {
    "duration": 28,
    "start_time": "2023-06-12T21:30:37.246Z"
   },
   {
    "duration": 40,
    "start_time": "2023-06-12T21:30:37.275Z"
   },
   {
    "duration": 6,
    "start_time": "2023-06-12T21:30:37.320Z"
   },
   {
    "duration": 10,
    "start_time": "2023-06-12T21:30:37.328Z"
   },
   {
    "duration": 5,
    "start_time": "2023-06-12T21:30:37.339Z"
   },
   {
    "duration": 30,
    "start_time": "2023-06-12T21:30:37.346Z"
   },
   {
    "duration": 1244,
    "start_time": "2023-06-12T21:30:37.379Z"
   },
   {
    "duration": 254,
    "start_time": "2023-06-12T21:30:38.626Z"
   },
   {
    "duration": 157,
    "start_time": "2023-06-12T21:30:38.882Z"
   },
   {
    "duration": 7,
    "start_time": "2023-06-12T21:30:39.041Z"
   },
   {
    "duration": 41,
    "start_time": "2023-06-12T21:30:39.049Z"
   },
   {
    "duration": 11,
    "start_time": "2023-06-12T21:30:39.092Z"
   },
   {
    "duration": 19,
    "start_time": "2023-06-12T21:30:39.105Z"
   },
   {
    "duration": 14,
    "start_time": "2023-06-12T21:30:39.126Z"
   },
   {
    "duration": 9,
    "start_time": "2023-06-12T21:30:39.141Z"
   },
   {
    "duration": 21,
    "start_time": "2023-06-12T21:30:39.152Z"
   },
   {
    "duration": 33,
    "start_time": "2023-06-12T21:30:39.177Z"
   },
   {
    "duration": 155,
    "start_time": "2023-06-12T21:30:39.212Z"
   },
   {
    "duration": 23,
    "start_time": "2023-06-12T21:30:39.377Z"
   },
   {
    "duration": 240,
    "start_time": "2023-06-12T21:30:39.406Z"
   },
   {
    "duration": 192,
    "start_time": "2023-06-12T21:30:39.648Z"
   },
   {
    "duration": 13,
    "start_time": "2023-06-12T21:30:39.842Z"
   },
   {
    "duration": 200,
    "start_time": "2023-06-12T21:30:39.857Z"
   },
   {
    "duration": 57,
    "start_time": "2023-06-12T21:30:40.058Z"
   },
   {
    "duration": 20,
    "start_time": "2023-06-12T21:30:40.117Z"
   },
   {
    "duration": 199,
    "start_time": "2023-06-12T21:30:40.138Z"
   },
   {
    "duration": 918,
    "start_time": "2023-06-12T21:30:40.338Z"
   },
   {
    "duration": 52,
    "start_time": "2023-06-12T21:30:41.258Z"
   },
   {
    "duration": 35,
    "start_time": "2023-06-12T21:30:41.312Z"
   },
   {
    "duration": 11,
    "start_time": "2023-06-12T21:30:41.350Z"
   },
   {
    "duration": 22,
    "start_time": "2023-06-12T21:30:41.363Z"
   },
   {
    "duration": 23,
    "start_time": "2023-06-12T21:30:41.392Z"
   },
   {
    "duration": 143,
    "start_time": "2023-06-12T21:30:41.418Z"
   },
   {
    "duration": 139,
    "start_time": "2023-06-12T21:30:41.562Z"
   },
   {
    "duration": 110,
    "start_time": "2023-06-12T21:30:41.702Z"
   },
   {
    "duration": 22,
    "start_time": "2023-06-12T21:30:41.814Z"
   },
   {
    "duration": 166,
    "start_time": "2023-06-12T21:30:41.838Z"
   },
   {
    "duration": 8,
    "start_time": "2023-06-12T21:30:42.006Z"
   },
   {
    "duration": 143,
    "start_time": "2023-06-12T21:30:42.016Z"
   },
   {
    "duration": 30,
    "start_time": "2023-06-12T21:30:42.160Z"
   },
   {
    "duration": 119,
    "start_time": "2023-06-12T21:30:42.197Z"
   },
   {
    "duration": 123,
    "start_time": "2023-06-12T21:30:42.317Z"
   },
   {
    "duration": 129,
    "start_time": "2023-06-12T21:30:42.442Z"
   },
   {
    "duration": 224,
    "start_time": "2023-06-12T21:30:42.573Z"
   },
   {
    "duration": 262,
    "start_time": "2023-06-12T21:30:42.803Z"
   },
   {
    "duration": 18,
    "start_time": "2023-06-12T21:30:43.067Z"
   }
  ],
  "colab": {
   "name": "DA+. Сборный проект 1. Шаблон (1).ipynb",
   "provenance": []
  },
  "kernelspec": {
   "display_name": "Python 3 (ipykernel)",
   "language": "python",
   "name": "python3"
  },
  "language_info": {
   "codemirror_mode": {
    "name": "ipython",
    "version": 3
   },
   "file_extension": ".py",
   "mimetype": "text/x-python",
   "name": "python",
   "nbconvert_exporter": "python",
   "pygments_lexer": "ipython3",
   "version": "3.9.17"
  },
  "toc": {
   "base_numbering": 1,
   "nav_menu": {},
   "number_sections": true,
   "sideBar": true,
   "skip_h1_title": true,
   "title_cell": "Table of Contents",
   "title_sidebar": "Contents",
   "toc_cell": false,
   "toc_position": {
    "height": "calc(100% - 180px)",
    "left": "10px",
    "top": "150px",
    "width": "375.391px"
   },
   "toc_section_display": true,
   "toc_window_display": false
  }
 },
 "nbformat": 4,
 "nbformat_minor": 1
}
