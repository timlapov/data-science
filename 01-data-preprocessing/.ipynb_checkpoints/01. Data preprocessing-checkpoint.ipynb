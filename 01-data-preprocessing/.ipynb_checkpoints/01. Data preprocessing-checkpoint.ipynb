{
 "cells": [
  {
   "cell_type": "markdown",
   "id": "5dc65cdd",
   "metadata": {},
   "source": [
    "## Borrowers reliability research\n",
    "\n",
    "**Client** – bank credit department.\n",
    "\n",
    "**Input data** – customers solvency statistics.\n",
    "\n",
    "**Target** – determine whether the marital status and number of children of the customer affects the fact of repayment of the loan on time."
   ]
  },
  {
   "cell_type": "code",
   "execution_count": null,
   "id": "c138a364",
   "metadata": {},
   "outputs": [],
   "source": [
    "**Task 1: Import the pandas library. Read data from the csv file into a dataframe and save it to the `data` variable.**"
   ]
  },
  {
   "cell_type": "code",
   "execution_count": null,
   "id": "ec37c898",
   "metadata": {},
   "outputs": [],
   "source": []
  },
  {
   "cell_type": "code",
   "execution_count": null,
   "id": "47136a7a",
   "metadata": {},
   "outputs": [],
   "source": []
  },
  {
   "cell_type": "code",
   "execution_count": null,
   "id": "f3706e71",
   "metadata": {},
   "outputs": [],
   "source": []
  },
  {
   "cell_type": "code",
   "execution_count": null,
   "id": "45c28b3c",
   "metadata": {},
   "outputs": [],
   "source": []
  },
  {
   "cell_type": "code",
   "execution_count": null,
   "id": "9eb5c662",
   "metadata": {},
   "outputs": [],
   "source": []
  },
  {
   "cell_type": "code",
   "execution_count": null,
   "id": "a94fbbdf",
   "metadata": {},
   "outputs": [],
   "source": []
  },
  {
   "cell_type": "code",
   "execution_count": null,
   "id": "f508d0ad",
   "metadata": {},
   "outputs": [],
   "source": []
  },
  {
   "cell_type": "code",
   "execution_count": null,
   "id": "a8004181",
   "metadata": {},
   "outputs": [],
   "source": []
  }
 ],
 "metadata": {
  "kernelspec": {
   "display_name": "Python 3 (ipykernel)",
   "language": "python",
   "name": "python3"
  },
  "language_info": {
   "codemirror_mode": {
    "name": "ipython",
    "version": 3
   },
   "file_extension": ".py",
   "mimetype": "text/x-python",
   "name": "python",
   "nbconvert_exporter": "python",
   "pygments_lexer": "ipython3",
   "version": "3.11.5"
  }
 },
 "nbformat": 4,
 "nbformat_minor": 5
}
